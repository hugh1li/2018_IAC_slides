{
  "cells": [
    {
      "cell_type": "markdown",
      "metadata": {
        "id": "5ut4zxNGYkLL"
      },
      "source": [
        "<div class=\"alert alert-block alert-info\" style=\"background-color: #301E40; border: 0px; -moz-border-radius: 10px; -webkit-border-radius: 10px;\">\n",
        "<br/><br/>\n",
        "<h1 style=\"font-size: 45px; color: white; align: center;\"><center>\n",
        "<img src=\"https://raw.githubusercontent.com/HumbleData/beginners-data-workshop/master/media/humble-data-logo-white-transparent.png\" width=\"250px\" /><br/><br/>\n",
        "More pandas\n",
        "</center></h1>\n",
        "</div>"
      ]
    },
    {
      "cell_type": "code",
      "source": [
        "!git clone https://github.com/HumbleData/beginners-data-workshop.git\n",
        "!cp -r beginners-data-workshop/media/ .\n",
        "!cp -r beginners-data-workshop/data/ .\n",
        "!cp -r beginners-data-workshop/solutions/ .\n",
        "!rm -r beginners-data-workshop/"
      ],
      "metadata": {
        "id": "-fzH1ZXkYnH2",
        "outputId": "38ca7e5a-fe52-49b6-9ac8-8545eaa6bd90",
        "colab": {
          "base_uri": "https://localhost:8080/"
        }
      },
      "execution_count": 1,
      "outputs": [
        {
          "output_type": "stream",
          "name": "stdout",
          "text": [
            "Cloning into 'beginners-data-workshop'...\n",
            "remote: Enumerating objects: 951, done.\u001b[K\n",
            "remote: Counting objects: 100% (943/943), done.\u001b[K\n",
            "remote: Compressing objects: 100% (372/372), done.\u001b[K\n",
            "remote: Total 951 (delta 434), reused 871 (delta 391), pack-reused 8 (from 1)\u001b[K\n",
            "Receiving objects: 100% (951/951), 4.58 MiB | 8.41 MiB/s, done.\n",
            "Resolving deltas: 100% (434/434), done.\n"
          ]
        }
      ]
    },
    {
      "cell_type": "markdown",
      "metadata": {
        "id": "n6vwh-LRYkLN"
      },
      "source": [
        "***Note***: this notebook contains cell with ***a*** solution. Remember there is not only one solution to a problem!  \n",
        "\n",
        "You will recognise these cells as they start with **# %**.  \n",
        "\n",
        "If you would like to see the solution, you will have to remove the **#** (which can be done by using **Ctrl** and **?**) and run the cell. If you want to run the solution code, you will have to run the cell again."
      ]
    },
    {
      "cell_type": "markdown",
      "metadata": {
        "id": "q969aLxWYkLN"
      },
      "source": [
        "---\n",
        "\n",
        "<div class=\"alert alert-block alert-warning\" style=\"padding: 0px; padding-left: 20px; padding-top: 5px;\"><h2 style=\"color: #301E40\">\n",
        "Exercise\n",
        "</h2><br>\n",
        "</div>"
      ]
    },
    {
      "cell_type": "markdown",
      "metadata": {
        "id": "uduw4B9gYkLN"
      },
      "source": [
        "\n",
        "> 1. Import pandas (with the mostly used convention seen in notebook 2).  \n",
        "> 2. Import datetime.  \n",
        "> 3. Import matplotlib (as shown in notebook 3.1).  \n",
        "> 4. Add the magic command to show the plot in Jupyter."
      ]
    },
    {
      "cell_type": "code",
      "execution_count": 2,
      "metadata": {
        "jupyter": {
          "outputs_hidden": false
        },
        "id": "k9fy0UnuYkLN"
      },
      "outputs": [],
      "source": [
        "import pandas as pd\n",
        "import datetime\n",
        "import matplotlib.pyplot as plt\n",
        "\n",
        "%matplotlib inline\n"
      ]
    },
    {
      "cell_type": "code",
      "execution_count": 3,
      "metadata": {
        "jupyter": {
          "outputs_hidden": false
        },
        "id": "quawWLjeYkLO",
        "outputId": "4fa3a03c-42fb-436b-9a10-915973bbce1d",
        "colab": {
          "base_uri": "https://localhost:8080/"
        }
      },
      "outputs": [
        {
          "output_type": "stream",
          "name": "stdout",
          "text": [
            "import datetime\n",
            "\n",
            "import matplotlib.pyplot as plt\n",
            "import pandas as pd\n",
            "\n",
            "%matplotlib inline"
          ]
        }
      ],
      "source": [
        " !cat solutions/05_01.py"
      ]
    },
    {
      "cell_type": "markdown",
      "metadata": {
        "id": "9PV618kBYkLO"
      },
      "source": [
        "In this notebook, we are going to use data provided by the [UK government](https://data.gov.uk/dataset/a59198d9-2e24-4816-be1b-c3a1efa02dda/better-training-for-safer-food). It is provided under the [Open Government Licence](http://www.nationalarchives.gov.uk/doc/open-government-licence/version/3/)."
      ]
    },
    {
      "cell_type": "markdown",
      "metadata": {
        "id": "DZ5B6vxkYkLO"
      },
      "source": [
        ">Load the data of the year 2014 and assign it to df_2014 (path: 'data/food_training/training_2014.csv')"
      ]
    },
    {
      "cell_type": "code",
      "execution_count": 7,
      "metadata": {
        "jupyter": {
          "outputs_hidden": false
        },
        "id": "yJnExtHUYkLO"
      },
      "outputs": [],
      "source": [
        "df_2014 = pd.read_csv('data/food_training/training_2014.csv')"
      ]
    },
    {
      "cell_type": "code",
      "execution_count": 8,
      "metadata": {
        "jupyter": {
          "outputs_hidden": false
        },
        "id": "jWzaVU7DYkLO",
        "outputId": "9bb60aa9-8db5-4b3d-bec5-9882a19d45a6",
        "colab": {
          "base_uri": "https://localhost:8080/"
        }
      },
      "outputs": [
        {
          "output_type": "stream",
          "name": "stdout",
          "text": [
            "df_2014 = pd.read_csv(\"../data/food_training/training_2014.csv\")"
          ]
        }
      ],
      "source": [
        " !cat solutions/05_02.py"
      ]
    },
    {
      "cell_type": "markdown",
      "metadata": {
        "id": "ujAbX6tsYkLO"
      },
      "source": [
        ">Have a look at the first rows of df_2014"
      ]
    },
    {
      "cell_type": "code",
      "execution_count": 10,
      "metadata": {
        "jupyter": {
          "outputs_hidden": false
        },
        "id": "2zVWSDKbYkLP",
        "outputId": "bd5e846f-5832-4715-a20c-161a180ed957",
        "colab": {
          "base_uri": "https://localhost:8080/",
          "height": 81
        }
      },
      "outputs": [
        {
          "output_type": "execute_result",
          "data": {
            "text/plain": [
              "   Unnamed: 0 Unnamed: 1 Unnamed: 2 Unnamed: 3 Unnamed: 4  Unnamed: 5  \\\n",
              "0  CourseName   Location   DateFrom     DateTo  Attendees         NaN   \n",
              "\n",
              "   Unnamed: 6  \n",
              "0         NaN  "
            ],
            "text/html": [
              "\n",
              "  <div id=\"df-7e8ae6db-9941-4378-93b1-2898720441b3\" class=\"colab-df-container\">\n",
              "    <div>\n",
              "<style scoped>\n",
              "    .dataframe tbody tr th:only-of-type {\n",
              "        vertical-align: middle;\n",
              "    }\n",
              "\n",
              "    .dataframe tbody tr th {\n",
              "        vertical-align: top;\n",
              "    }\n",
              "\n",
              "    .dataframe thead th {\n",
              "        text-align: right;\n",
              "    }\n",
              "</style>\n",
              "<table border=\"1\" class=\"dataframe\">\n",
              "  <thead>\n",
              "    <tr style=\"text-align: right;\">\n",
              "      <th></th>\n",
              "      <th>Unnamed: 0</th>\n",
              "      <th>Unnamed: 1</th>\n",
              "      <th>Unnamed: 2</th>\n",
              "      <th>Unnamed: 3</th>\n",
              "      <th>Unnamed: 4</th>\n",
              "      <th>Unnamed: 5</th>\n",
              "      <th>Unnamed: 6</th>\n",
              "    </tr>\n",
              "  </thead>\n",
              "  <tbody>\n",
              "    <tr>\n",
              "      <th>0</th>\n",
              "      <td>CourseName</td>\n",
              "      <td>Location</td>\n",
              "      <td>DateFrom</td>\n",
              "      <td>DateTo</td>\n",
              "      <td>Attendees</td>\n",
              "      <td>NaN</td>\n",
              "      <td>NaN</td>\n",
              "    </tr>\n",
              "  </tbody>\n",
              "</table>\n",
              "</div>\n",
              "    <div class=\"colab-df-buttons\">\n",
              "\n",
              "  <div class=\"colab-df-container\">\n",
              "    <button class=\"colab-df-convert\" onclick=\"convertToInteractive('df-7e8ae6db-9941-4378-93b1-2898720441b3')\"\n",
              "            title=\"Convert this dataframe to an interactive table.\"\n",
              "            style=\"display:none;\">\n",
              "\n",
              "  <svg xmlns=\"http://www.w3.org/2000/svg\" height=\"24px\" viewBox=\"0 -960 960 960\">\n",
              "    <path d=\"M120-120v-720h720v720H120Zm60-500h600v-160H180v160Zm220 220h160v-160H400v160Zm0 220h160v-160H400v160ZM180-400h160v-160H180v160Zm440 0h160v-160H620v160ZM180-180h160v-160H180v160Zm440 0h160v-160H620v160Z\"/>\n",
              "  </svg>\n",
              "    </button>\n",
              "\n",
              "  <style>\n",
              "    .colab-df-container {\n",
              "      display:flex;\n",
              "      gap: 12px;\n",
              "    }\n",
              "\n",
              "    .colab-df-convert {\n",
              "      background-color: #E8F0FE;\n",
              "      border: none;\n",
              "      border-radius: 50%;\n",
              "      cursor: pointer;\n",
              "      display: none;\n",
              "      fill: #1967D2;\n",
              "      height: 32px;\n",
              "      padding: 0 0 0 0;\n",
              "      width: 32px;\n",
              "    }\n",
              "\n",
              "    .colab-df-convert:hover {\n",
              "      background-color: #E2EBFA;\n",
              "      box-shadow: 0px 1px 2px rgba(60, 64, 67, 0.3), 0px 1px 3px 1px rgba(60, 64, 67, 0.15);\n",
              "      fill: #174EA6;\n",
              "    }\n",
              "\n",
              "    .colab-df-buttons div {\n",
              "      margin-bottom: 4px;\n",
              "    }\n",
              "\n",
              "    [theme=dark] .colab-df-convert {\n",
              "      background-color: #3B4455;\n",
              "      fill: #D2E3FC;\n",
              "    }\n",
              "\n",
              "    [theme=dark] .colab-df-convert:hover {\n",
              "      background-color: #434B5C;\n",
              "      box-shadow: 0px 1px 3px 1px rgba(0, 0, 0, 0.15);\n",
              "      filter: drop-shadow(0px 1px 2px rgba(0, 0, 0, 0.3));\n",
              "      fill: #FFFFFF;\n",
              "    }\n",
              "  </style>\n",
              "\n",
              "    <script>\n",
              "      const buttonEl =\n",
              "        document.querySelector('#df-7e8ae6db-9941-4378-93b1-2898720441b3 button.colab-df-convert');\n",
              "      buttonEl.style.display =\n",
              "        google.colab.kernel.accessAllowed ? 'block' : 'none';\n",
              "\n",
              "      async function convertToInteractive(key) {\n",
              "        const element = document.querySelector('#df-7e8ae6db-9941-4378-93b1-2898720441b3');\n",
              "        const dataTable =\n",
              "          await google.colab.kernel.invokeFunction('convertToInteractive',\n",
              "                                                    [key], {});\n",
              "        if (!dataTable) return;\n",
              "\n",
              "        const docLinkHtml = 'Like what you see? Visit the ' +\n",
              "          '<a target=\"_blank\" href=https://colab.research.google.com/notebooks/data_table.ipynb>data table notebook</a>'\n",
              "          + ' to learn more about interactive tables.';\n",
              "        element.innerHTML = '';\n",
              "        dataTable['output_type'] = 'display_data';\n",
              "        await google.colab.output.renderOutput(dataTable, element);\n",
              "        const docLink = document.createElement('div');\n",
              "        docLink.innerHTML = docLinkHtml;\n",
              "        element.appendChild(docLink);\n",
              "      }\n",
              "    </script>\n",
              "  </div>\n",
              "\n",
              "\n",
              "    </div>\n",
              "  </div>\n"
            ],
            "application/vnd.google.colaboratory.intrinsic+json": {
              "type": "dataframe",
              "variable_name": "df_2014",
              "summary": "{\n  \"name\": \"df_2014\",\n  \"rows\": 29,\n  \"fields\": [\n    {\n      \"column\": \"Unnamed: 0\",\n      \"properties\": {\n        \"dtype\": \"string\",\n        \"num_unique_values\": 25,\n        \"samples\": [\n          \"Plant Health Risks\",\n          \"Animal identification registration and traceability\",\n          \"CourseName\"\n        ],\n        \"semantic_type\": \"\",\n        \"description\": \"\"\n      }\n    },\n    {\n      \"column\": \"Unnamed: 1\",\n      \"properties\": {\n        \"dtype\": \"string\",\n        \"num_unique_values\": 21,\n        \"samples\": [\n          \"Location\",\n          \"Graz\",\n          \"Lyon\"\n        ],\n        \"semantic_type\": \"\",\n        \"description\": \"\"\n      }\n    },\n    {\n      \"column\": \"Unnamed: 2\",\n      \"properties\": {\n        \"dtype\": \"string\",\n        \"num_unique_values\": 16,\n        \"samples\": [\n          \"DateFrom\",\n          \"2015-01-12\",\n          \"2015-02-02\"\n        ],\n        \"semantic_type\": \"\",\n        \"description\": \"\"\n      }\n    },\n    {\n      \"column\": \"Unnamed: 3\",\n      \"properties\": {\n        \"dtype\": \"string\",\n        \"num_unique_values\": 17,\n        \"samples\": [\n          \"DateTo\",\n          \"2015-01-16\",\n          \"2015-02-06\"\n        ],\n        \"semantic_type\": \"\",\n        \"description\": \"\"\n      }\n    },\n    {\n      \"column\": \"Unnamed: 4\",\n      \"properties\": {\n        \"dtype\": \"category\",\n        \"num_unique_values\": 5,\n        \"samples\": [\n          \"1\",\n          \"3\",\n          \"2\"\n        ],\n        \"semantic_type\": \"\",\n        \"description\": \"\"\n      }\n    },\n    {\n      \"column\": \"Unnamed: 5\",\n      \"properties\": {\n        \"dtype\": \"number\",\n        \"std\": null,\n        \"min\": null,\n        \"max\": null,\n        \"num_unique_values\": 0,\n        \"samples\": [],\n        \"semantic_type\": \"\",\n        \"description\": \"\"\n      }\n    },\n    {\n      \"column\": \"Unnamed: 6\",\n      \"properties\": {\n        \"dtype\": \"number\",\n        \"std\": null,\n        \"min\": null,\n        \"max\": null,\n        \"num_unique_values\": 0,\n        \"samples\": [],\n        \"semantic_type\": \"\",\n        \"description\": \"\"\n      }\n    }\n  ]\n}"
            }
          },
          "metadata": {},
          "execution_count": 10
        }
      ],
      "source": [
        "df_2014.head(1)"
      ]
    },
    {
      "cell_type": "code",
      "execution_count": null,
      "metadata": {
        "jupyter": {
          "outputs_hidden": false
        },
        "id": "S2qFc-F4YkLP"
      },
      "outputs": [],
      "source": [
        "# !cat solutions/05_03.py"
      ]
    },
    {
      "cell_type": "markdown",
      "metadata": {
        "id": "PWPl6fa5YkLP"
      },
      "source": [
        "You can see that the header are not at the right place.  \n",
        "If you have a look at the documentation, you will see that the *header* parameter of the read_csv method is set to *infer*. It will infer the header using the first row (which has the index *0*)."
      ]
    },
    {
      "cell_type": "markdown",
      "metadata": {
        "id": "QDTLSQ_rYkLP"
      },
      "source": [
        ">Load the data of the year 2104 using the header parameter and assign it to df_2014 (it will be overwritten)"
      ]
    },
    {
      "cell_type": "code",
      "execution_count": 17,
      "metadata": {
        "jupyter": {
          "outputs_hidden": false
        },
        "id": "SwzaJAKAYkLP"
      },
      "outputs": [],
      "source": [
        "df_2014 = pd.read_csv('data/food_training/training_2014.csv', header = 1)"
      ]
    },
    {
      "cell_type": "code",
      "execution_count": 19,
      "metadata": {
        "jupyter": {
          "outputs_hidden": false
        },
        "id": "oVx2pXylYkLP",
        "outputId": "1a26d019-1518-49b6-cdb3-33e16f6116ab",
        "colab": {
          "base_uri": "https://localhost:8080/"
        }
      },
      "outputs": [
        {
          "output_type": "stream",
          "name": "stdout",
          "text": [
            "df_2014 = pd.read_csv(\"../data/food_training/training_2014.csv\", header=1)"
          ]
        }
      ],
      "source": [
        "!cat solutions/05_04.py"
      ]
    },
    {
      "cell_type": "markdown",
      "metadata": {
        "id": "c8O74cyeYkLP"
      },
      "source": [
        ">Have a look at the first rows of df_2014. Looks better, isn't it?"
      ]
    },
    {
      "cell_type": "code",
      "execution_count": 22,
      "metadata": {
        "jupyter": {
          "outputs_hidden": false
        },
        "id": "vYh1TU-5YkLP",
        "outputId": "58e9278c-812b-4aff-ce81-29fd668ddeb0",
        "colab": {
          "base_uri": "https://localhost:8080/",
          "height": 310
        }
      },
      "outputs": [
        {
          "output_type": "execute_result",
          "data": {
            "text/plain": [
              "                                          CourseName            Location  \\\n",
              "0                             Risk Assessment (Pest)     lisbon;Portugal   \n",
              "1                                    Organic Farming             Bristol   \n",
              "2  Prevention Control and Eradication of Transmis...  Ljubljana;Slovenia   \n",
              "3                               Contingency Planning               Padua   \n",
              "4                                              HACCP                Rome   \n",
              "\n",
              "     DateFrom      DateTo  Attendees  Unnamed: 5  Unnamed: 6  \n",
              "0  2015-01-12  2015-01-16          1         NaN         NaN  \n",
              "1  2015-01-19  2015-01-22          2         NaN         NaN  \n",
              "2  2015-01-20  2015-01-23          2         NaN         NaN  \n",
              "3  2015-01-26  2015-01-30          2         NaN         NaN  \n",
              "4  2015-02-02  2015-02-06          2         NaN         NaN  "
            ],
            "text/html": [
              "\n",
              "  <div id=\"df-02dbf05e-95b6-4d47-95f3-04f97726b060\" class=\"colab-df-container\">\n",
              "    <div>\n",
              "<style scoped>\n",
              "    .dataframe tbody tr th:only-of-type {\n",
              "        vertical-align: middle;\n",
              "    }\n",
              "\n",
              "    .dataframe tbody tr th {\n",
              "        vertical-align: top;\n",
              "    }\n",
              "\n",
              "    .dataframe thead th {\n",
              "        text-align: right;\n",
              "    }\n",
              "</style>\n",
              "<table border=\"1\" class=\"dataframe\">\n",
              "  <thead>\n",
              "    <tr style=\"text-align: right;\">\n",
              "      <th></th>\n",
              "      <th>CourseName</th>\n",
              "      <th>Location</th>\n",
              "      <th>DateFrom</th>\n",
              "      <th>DateTo</th>\n",
              "      <th>Attendees</th>\n",
              "      <th>Unnamed: 5</th>\n",
              "      <th>Unnamed: 6</th>\n",
              "    </tr>\n",
              "  </thead>\n",
              "  <tbody>\n",
              "    <tr>\n",
              "      <th>0</th>\n",
              "      <td>Risk Assessment (Pest)</td>\n",
              "      <td>lisbon;Portugal</td>\n",
              "      <td>2015-01-12</td>\n",
              "      <td>2015-01-16</td>\n",
              "      <td>1</td>\n",
              "      <td>NaN</td>\n",
              "      <td>NaN</td>\n",
              "    </tr>\n",
              "    <tr>\n",
              "      <th>1</th>\n",
              "      <td>Organic Farming</td>\n",
              "      <td>Bristol</td>\n",
              "      <td>2015-01-19</td>\n",
              "      <td>2015-01-22</td>\n",
              "      <td>2</td>\n",
              "      <td>NaN</td>\n",
              "      <td>NaN</td>\n",
              "    </tr>\n",
              "    <tr>\n",
              "      <th>2</th>\n",
              "      <td>Prevention Control and Eradication of Transmis...</td>\n",
              "      <td>Ljubljana;Slovenia</td>\n",
              "      <td>2015-01-20</td>\n",
              "      <td>2015-01-23</td>\n",
              "      <td>2</td>\n",
              "      <td>NaN</td>\n",
              "      <td>NaN</td>\n",
              "    </tr>\n",
              "    <tr>\n",
              "      <th>3</th>\n",
              "      <td>Contingency Planning</td>\n",
              "      <td>Padua</td>\n",
              "      <td>2015-01-26</td>\n",
              "      <td>2015-01-30</td>\n",
              "      <td>2</td>\n",
              "      <td>NaN</td>\n",
              "      <td>NaN</td>\n",
              "    </tr>\n",
              "    <tr>\n",
              "      <th>4</th>\n",
              "      <td>HACCP</td>\n",
              "      <td>Rome</td>\n",
              "      <td>2015-02-02</td>\n",
              "      <td>2015-02-06</td>\n",
              "      <td>2</td>\n",
              "      <td>NaN</td>\n",
              "      <td>NaN</td>\n",
              "    </tr>\n",
              "  </tbody>\n",
              "</table>\n",
              "</div>\n",
              "    <div class=\"colab-df-buttons\">\n",
              "\n",
              "  <div class=\"colab-df-container\">\n",
              "    <button class=\"colab-df-convert\" onclick=\"convertToInteractive('df-02dbf05e-95b6-4d47-95f3-04f97726b060')\"\n",
              "            title=\"Convert this dataframe to an interactive table.\"\n",
              "            style=\"display:none;\">\n",
              "\n",
              "  <svg xmlns=\"http://www.w3.org/2000/svg\" height=\"24px\" viewBox=\"0 -960 960 960\">\n",
              "    <path d=\"M120-120v-720h720v720H120Zm60-500h600v-160H180v160Zm220 220h160v-160H400v160Zm0 220h160v-160H400v160ZM180-400h160v-160H180v160Zm440 0h160v-160H620v160ZM180-180h160v-160H180v160Zm440 0h160v-160H620v160Z\"/>\n",
              "  </svg>\n",
              "    </button>\n",
              "\n",
              "  <style>\n",
              "    .colab-df-container {\n",
              "      display:flex;\n",
              "      gap: 12px;\n",
              "    }\n",
              "\n",
              "    .colab-df-convert {\n",
              "      background-color: #E8F0FE;\n",
              "      border: none;\n",
              "      border-radius: 50%;\n",
              "      cursor: pointer;\n",
              "      display: none;\n",
              "      fill: #1967D2;\n",
              "      height: 32px;\n",
              "      padding: 0 0 0 0;\n",
              "      width: 32px;\n",
              "    }\n",
              "\n",
              "    .colab-df-convert:hover {\n",
              "      background-color: #E2EBFA;\n",
              "      box-shadow: 0px 1px 2px rgba(60, 64, 67, 0.3), 0px 1px 3px 1px rgba(60, 64, 67, 0.15);\n",
              "      fill: #174EA6;\n",
              "    }\n",
              "\n",
              "    .colab-df-buttons div {\n",
              "      margin-bottom: 4px;\n",
              "    }\n",
              "\n",
              "    [theme=dark] .colab-df-convert {\n",
              "      background-color: #3B4455;\n",
              "      fill: #D2E3FC;\n",
              "    }\n",
              "\n",
              "    [theme=dark] .colab-df-convert:hover {\n",
              "      background-color: #434B5C;\n",
              "      box-shadow: 0px 1px 3px 1px rgba(0, 0, 0, 0.15);\n",
              "      filter: drop-shadow(0px 1px 2px rgba(0, 0, 0, 0.3));\n",
              "      fill: #FFFFFF;\n",
              "    }\n",
              "  </style>\n",
              "\n",
              "    <script>\n",
              "      const buttonEl =\n",
              "        document.querySelector('#df-02dbf05e-95b6-4d47-95f3-04f97726b060 button.colab-df-convert');\n",
              "      buttonEl.style.display =\n",
              "        google.colab.kernel.accessAllowed ? 'block' : 'none';\n",
              "\n",
              "      async function convertToInteractive(key) {\n",
              "        const element = document.querySelector('#df-02dbf05e-95b6-4d47-95f3-04f97726b060');\n",
              "        const dataTable =\n",
              "          await google.colab.kernel.invokeFunction('convertToInteractive',\n",
              "                                                    [key], {});\n",
              "        if (!dataTable) return;\n",
              "\n",
              "        const docLinkHtml = 'Like what you see? Visit the ' +\n",
              "          '<a target=\"_blank\" href=https://colab.research.google.com/notebooks/data_table.ipynb>data table notebook</a>'\n",
              "          + ' to learn more about interactive tables.';\n",
              "        element.innerHTML = '';\n",
              "        dataTable['output_type'] = 'display_data';\n",
              "        await google.colab.output.renderOutput(dataTable, element);\n",
              "        const docLink = document.createElement('div');\n",
              "        docLink.innerHTML = docLinkHtml;\n",
              "        element.appendChild(docLink);\n",
              "      }\n",
              "    </script>\n",
              "  </div>\n",
              "\n",
              "\n",
              "    <div id=\"df-578c5656-68c5-4d2f-8abc-a4d3056a4a93\">\n",
              "      <button class=\"colab-df-quickchart\" onclick=\"quickchart('df-578c5656-68c5-4d2f-8abc-a4d3056a4a93')\"\n",
              "                title=\"Suggest charts\"\n",
              "                style=\"display:none;\">\n",
              "\n",
              "<svg xmlns=\"http://www.w3.org/2000/svg\" height=\"24px\"viewBox=\"0 0 24 24\"\n",
              "     width=\"24px\">\n",
              "    <g>\n",
              "        <path d=\"M19 3H5c-1.1 0-2 .9-2 2v14c0 1.1.9 2 2 2h14c1.1 0 2-.9 2-2V5c0-1.1-.9-2-2-2zM9 17H7v-7h2v7zm4 0h-2V7h2v10zm4 0h-2v-4h2v4z\"/>\n",
              "    </g>\n",
              "</svg>\n",
              "      </button>\n",
              "\n",
              "<style>\n",
              "  .colab-df-quickchart {\n",
              "      --bg-color: #E8F0FE;\n",
              "      --fill-color: #1967D2;\n",
              "      --hover-bg-color: #E2EBFA;\n",
              "      --hover-fill-color: #174EA6;\n",
              "      --disabled-fill-color: #AAA;\n",
              "      --disabled-bg-color: #DDD;\n",
              "  }\n",
              "\n",
              "  [theme=dark] .colab-df-quickchart {\n",
              "      --bg-color: #3B4455;\n",
              "      --fill-color: #D2E3FC;\n",
              "      --hover-bg-color: #434B5C;\n",
              "      --hover-fill-color: #FFFFFF;\n",
              "      --disabled-bg-color: #3B4455;\n",
              "      --disabled-fill-color: #666;\n",
              "  }\n",
              "\n",
              "  .colab-df-quickchart {\n",
              "    background-color: var(--bg-color);\n",
              "    border: none;\n",
              "    border-radius: 50%;\n",
              "    cursor: pointer;\n",
              "    display: none;\n",
              "    fill: var(--fill-color);\n",
              "    height: 32px;\n",
              "    padding: 0;\n",
              "    width: 32px;\n",
              "  }\n",
              "\n",
              "  .colab-df-quickchart:hover {\n",
              "    background-color: var(--hover-bg-color);\n",
              "    box-shadow: 0 1px 2px rgba(60, 64, 67, 0.3), 0 1px 3px 1px rgba(60, 64, 67, 0.15);\n",
              "    fill: var(--button-hover-fill-color);\n",
              "  }\n",
              "\n",
              "  .colab-df-quickchart-complete:disabled,\n",
              "  .colab-df-quickchart-complete:disabled:hover {\n",
              "    background-color: var(--disabled-bg-color);\n",
              "    fill: var(--disabled-fill-color);\n",
              "    box-shadow: none;\n",
              "  }\n",
              "\n",
              "  .colab-df-spinner {\n",
              "    border: 2px solid var(--fill-color);\n",
              "    border-color: transparent;\n",
              "    border-bottom-color: var(--fill-color);\n",
              "    animation:\n",
              "      spin 1s steps(1) infinite;\n",
              "  }\n",
              "\n",
              "  @keyframes spin {\n",
              "    0% {\n",
              "      border-color: transparent;\n",
              "      border-bottom-color: var(--fill-color);\n",
              "      border-left-color: var(--fill-color);\n",
              "    }\n",
              "    20% {\n",
              "      border-color: transparent;\n",
              "      border-left-color: var(--fill-color);\n",
              "      border-top-color: var(--fill-color);\n",
              "    }\n",
              "    30% {\n",
              "      border-color: transparent;\n",
              "      border-left-color: var(--fill-color);\n",
              "      border-top-color: var(--fill-color);\n",
              "      border-right-color: var(--fill-color);\n",
              "    }\n",
              "    40% {\n",
              "      border-color: transparent;\n",
              "      border-right-color: var(--fill-color);\n",
              "      border-top-color: var(--fill-color);\n",
              "    }\n",
              "    60% {\n",
              "      border-color: transparent;\n",
              "      border-right-color: var(--fill-color);\n",
              "    }\n",
              "    80% {\n",
              "      border-color: transparent;\n",
              "      border-right-color: var(--fill-color);\n",
              "      border-bottom-color: var(--fill-color);\n",
              "    }\n",
              "    90% {\n",
              "      border-color: transparent;\n",
              "      border-bottom-color: var(--fill-color);\n",
              "    }\n",
              "  }\n",
              "</style>\n",
              "\n",
              "      <script>\n",
              "        async function quickchart(key) {\n",
              "          const quickchartButtonEl =\n",
              "            document.querySelector('#' + key + ' button');\n",
              "          quickchartButtonEl.disabled = true;  // To prevent multiple clicks.\n",
              "          quickchartButtonEl.classList.add('colab-df-spinner');\n",
              "          try {\n",
              "            const charts = await google.colab.kernel.invokeFunction(\n",
              "                'suggestCharts', [key], {});\n",
              "          } catch (error) {\n",
              "            console.error('Error during call to suggestCharts:', error);\n",
              "          }\n",
              "          quickchartButtonEl.classList.remove('colab-df-spinner');\n",
              "          quickchartButtonEl.classList.add('colab-df-quickchart-complete');\n",
              "        }\n",
              "        (() => {\n",
              "          let quickchartButtonEl =\n",
              "            document.querySelector('#df-578c5656-68c5-4d2f-8abc-a4d3056a4a93 button');\n",
              "          quickchartButtonEl.style.display =\n",
              "            google.colab.kernel.accessAllowed ? 'block' : 'none';\n",
              "        })();\n",
              "      </script>\n",
              "    </div>\n",
              "\n",
              "    </div>\n",
              "  </div>\n"
            ],
            "application/vnd.google.colaboratory.intrinsic+json": {
              "type": "dataframe",
              "variable_name": "df_2014",
              "summary": "{\n  \"name\": \"df_2014\",\n  \"rows\": 28,\n  \"fields\": [\n    {\n      \"column\": \"CourseName\",\n      \"properties\": {\n        \"dtype\": \"string\",\n        \"num_unique_values\": 24,\n        \"samples\": [\n          \"Plant Protection Products\",\n          \"Animal Health and Disease Prevention for Bees and Zoo Animals\",\n          \"Risk Assessment (Pest)\"\n        ],\n        \"semantic_type\": \"\",\n        \"description\": \"\"\n      }\n    },\n    {\n      \"column\": \"Location\",\n      \"properties\": {\n        \"dtype\": \"string\",\n        \"num_unique_values\": 20,\n        \"samples\": [\n          \"lisbon;Portugal\",\n          \"Barcelona\",\n          \"Antwerp\"\n        ],\n        \"semantic_type\": \"\",\n        \"description\": \"\"\n      }\n    },\n    {\n      \"column\": \"DateFrom\",\n      \"properties\": {\n        \"dtype\": \"object\",\n        \"num_unique_values\": 15,\n        \"samples\": [\n          \"2015-03-02\",\n          \"2015-03-09\",\n          \"2015-01-12\"\n        ],\n        \"semantic_type\": \"\",\n        \"description\": \"\"\n      }\n    },\n    {\n      \"column\": \"DateTo\",\n      \"properties\": {\n        \"dtype\": \"object\",\n        \"num_unique_values\": 16,\n        \"samples\": [\n          \"2015-01-16\",\n          \"2015-01-22\",\n          \"2015-02-13\"\n        ],\n        \"semantic_type\": \"\",\n        \"description\": \"\"\n      }\n    },\n    {\n      \"column\": \"Attendees\",\n      \"properties\": {\n        \"dtype\": \"number\",\n        \"std\": 0,\n        \"min\": 1,\n        \"max\": 4,\n        \"num_unique_values\": 4,\n        \"samples\": [\n          2,\n          3,\n          1\n        ],\n        \"semantic_type\": \"\",\n        \"description\": \"\"\n      }\n    },\n    {\n      \"column\": \"Unnamed: 5\",\n      \"properties\": {\n        \"dtype\": \"number\",\n        \"std\": null,\n        \"min\": null,\n        \"max\": null,\n        \"num_unique_values\": 0,\n        \"samples\": [],\n        \"semantic_type\": \"\",\n        \"description\": \"\"\n      }\n    },\n    {\n      \"column\": \"Unnamed: 6\",\n      \"properties\": {\n        \"dtype\": \"number\",\n        \"std\": null,\n        \"min\": null,\n        \"max\": null,\n        \"num_unique_values\": 0,\n        \"samples\": [],\n        \"semantic_type\": \"\",\n        \"description\": \"\"\n      }\n    }\n  ]\n}"
            }
          },
          "metadata": {},
          "execution_count": 22
        }
      ],
      "source": [
        "df_2014.head()"
      ]
    },
    {
      "cell_type": "code",
      "execution_count": 20,
      "metadata": {
        "jupyter": {
          "outputs_hidden": false
        },
        "id": "PnDNHHeXYkLP",
        "outputId": "f79eda11-c1cd-437c-e3d3-e069b4eb5ad1",
        "colab": {
          "base_uri": "https://localhost:8080/"
        }
      },
      "outputs": [
        {
          "output_type": "stream",
          "name": "stdout",
          "text": [
            "df_2014.head()"
          ]
        }
      ],
      "source": [
        "!cat solutions/05_05.py"
      ]
    },
    {
      "cell_type": "markdown",
      "metadata": {
        "id": "g_P9vViYYkLP"
      },
      "source": [
        ">Load the data for the years 2015 and 2016 and assign them to df_2015 and df_2016 (don't forget the parameter!)"
      ]
    },
    {
      "cell_type": "code",
      "execution_count": 23,
      "metadata": {
        "jupyter": {
          "outputs_hidden": false
        },
        "id": "XCzHXQZkYkLP"
      },
      "outputs": [],
      "source": [
        "df_2015 = pd.read_csv('data/food_training/training_2015.csv', header = 1)\n",
        "df_2016 = pd.read_csv('data/food_training/training_2016.csv', header = 1)"
      ]
    },
    {
      "cell_type": "code",
      "execution_count": 24,
      "metadata": {
        "jupyter": {
          "outputs_hidden": false
        },
        "id": "qb2aCKFcYkLP",
        "outputId": "c0c102cf-67bf-41ae-81ba-500c8de05496",
        "colab": {
          "base_uri": "https://localhost:8080/"
        }
      },
      "outputs": [
        {
          "output_type": "stream",
          "name": "stdout",
          "text": [
            "df_2015 = pd.read_csv(\"../data/food_training/training_2015.csv\", header=1)\n",
            "df_2016 = pd.read_csv(\"../data/food_training/training_2016.csv\", header=1)"
          ]
        }
      ],
      "source": [
        " !cat solutions/05_06.py"
      ]
    },
    {
      "cell_type": "code",
      "source": [
        "df_2015.head()"
      ],
      "metadata": {
        "id": "GLCfFv7ocX0J",
        "outputId": "4b997c99-e99a-4bda-d570-ae9c5c857a12",
        "colab": {
          "base_uri": "https://localhost:8080/",
          "height": 206
        }
      },
      "execution_count": 25,
      "outputs": [
        {
          "output_type": "execute_result",
          "data": {
            "text/plain": [
              "                                    CourseName     Location    DateFrom  \\\n",
              "0                 Food Hygiene and Flexibility      Vilnius  2015-04-12   \n",
              "1                           Plant Health Risks  Milan;Italy  2015-04-13   \n",
              "2                 New Investigative Techniques       Madrid  2015-04-13   \n",
              "3           Foodborne Outbreaks Investigations       Lisbon  2015-04-13   \n",
              "4  Food Hygiene at Primary Production (Plants)     Budapest  2015-04-13   \n",
              "\n",
              "       DateTo  Attendees  Unnamed: 5  Unnamed: 6  \n",
              "0  2015-04-17          2         NaN         NaN  \n",
              "1  2015-04-16          1         NaN         NaN  \n",
              "2  2015-04-16          2         NaN         NaN  \n",
              "3  2015-04-17          2         NaN         NaN  \n",
              "4  2015-04-17          2         NaN         NaN  "
            ],
            "text/html": [
              "\n",
              "  <div id=\"df-440ded0d-ac59-4d39-9bff-68ae0c96d7fb\" class=\"colab-df-container\">\n",
              "    <div>\n",
              "<style scoped>\n",
              "    .dataframe tbody tr th:only-of-type {\n",
              "        vertical-align: middle;\n",
              "    }\n",
              "\n",
              "    .dataframe tbody tr th {\n",
              "        vertical-align: top;\n",
              "    }\n",
              "\n",
              "    .dataframe thead th {\n",
              "        text-align: right;\n",
              "    }\n",
              "</style>\n",
              "<table border=\"1\" class=\"dataframe\">\n",
              "  <thead>\n",
              "    <tr style=\"text-align: right;\">\n",
              "      <th></th>\n",
              "      <th>CourseName</th>\n",
              "      <th>Location</th>\n",
              "      <th>DateFrom</th>\n",
              "      <th>DateTo</th>\n",
              "      <th>Attendees</th>\n",
              "      <th>Unnamed: 5</th>\n",
              "      <th>Unnamed: 6</th>\n",
              "    </tr>\n",
              "  </thead>\n",
              "  <tbody>\n",
              "    <tr>\n",
              "      <th>0</th>\n",
              "      <td>Food Hygiene and Flexibility</td>\n",
              "      <td>Vilnius</td>\n",
              "      <td>2015-04-12</td>\n",
              "      <td>2015-04-17</td>\n",
              "      <td>2</td>\n",
              "      <td>NaN</td>\n",
              "      <td>NaN</td>\n",
              "    </tr>\n",
              "    <tr>\n",
              "      <th>1</th>\n",
              "      <td>Plant Health Risks</td>\n",
              "      <td>Milan;Italy</td>\n",
              "      <td>2015-04-13</td>\n",
              "      <td>2015-04-16</td>\n",
              "      <td>1</td>\n",
              "      <td>NaN</td>\n",
              "      <td>NaN</td>\n",
              "    </tr>\n",
              "    <tr>\n",
              "      <th>2</th>\n",
              "      <td>New Investigative Techniques</td>\n",
              "      <td>Madrid</td>\n",
              "      <td>2015-04-13</td>\n",
              "      <td>2015-04-16</td>\n",
              "      <td>2</td>\n",
              "      <td>NaN</td>\n",
              "      <td>NaN</td>\n",
              "    </tr>\n",
              "    <tr>\n",
              "      <th>3</th>\n",
              "      <td>Foodborne Outbreaks Investigations</td>\n",
              "      <td>Lisbon</td>\n",
              "      <td>2015-04-13</td>\n",
              "      <td>2015-04-17</td>\n",
              "      <td>2</td>\n",
              "      <td>NaN</td>\n",
              "      <td>NaN</td>\n",
              "    </tr>\n",
              "    <tr>\n",
              "      <th>4</th>\n",
              "      <td>Food Hygiene at Primary Production (Plants)</td>\n",
              "      <td>Budapest</td>\n",
              "      <td>2015-04-13</td>\n",
              "      <td>2015-04-17</td>\n",
              "      <td>2</td>\n",
              "      <td>NaN</td>\n",
              "      <td>NaN</td>\n",
              "    </tr>\n",
              "  </tbody>\n",
              "</table>\n",
              "</div>\n",
              "    <div class=\"colab-df-buttons\">\n",
              "\n",
              "  <div class=\"colab-df-container\">\n",
              "    <button class=\"colab-df-convert\" onclick=\"convertToInteractive('df-440ded0d-ac59-4d39-9bff-68ae0c96d7fb')\"\n",
              "            title=\"Convert this dataframe to an interactive table.\"\n",
              "            style=\"display:none;\">\n",
              "\n",
              "  <svg xmlns=\"http://www.w3.org/2000/svg\" height=\"24px\" viewBox=\"0 -960 960 960\">\n",
              "    <path d=\"M120-120v-720h720v720H120Zm60-500h600v-160H180v160Zm220 220h160v-160H400v160Zm0 220h160v-160H400v160ZM180-400h160v-160H180v160Zm440 0h160v-160H620v160ZM180-180h160v-160H180v160Zm440 0h160v-160H620v160Z\"/>\n",
              "  </svg>\n",
              "    </button>\n",
              "\n",
              "  <style>\n",
              "    .colab-df-container {\n",
              "      display:flex;\n",
              "      gap: 12px;\n",
              "    }\n",
              "\n",
              "    .colab-df-convert {\n",
              "      background-color: #E8F0FE;\n",
              "      border: none;\n",
              "      border-radius: 50%;\n",
              "      cursor: pointer;\n",
              "      display: none;\n",
              "      fill: #1967D2;\n",
              "      height: 32px;\n",
              "      padding: 0 0 0 0;\n",
              "      width: 32px;\n",
              "    }\n",
              "\n",
              "    .colab-df-convert:hover {\n",
              "      background-color: #E2EBFA;\n",
              "      box-shadow: 0px 1px 2px rgba(60, 64, 67, 0.3), 0px 1px 3px 1px rgba(60, 64, 67, 0.15);\n",
              "      fill: #174EA6;\n",
              "    }\n",
              "\n",
              "    .colab-df-buttons div {\n",
              "      margin-bottom: 4px;\n",
              "    }\n",
              "\n",
              "    [theme=dark] .colab-df-convert {\n",
              "      background-color: #3B4455;\n",
              "      fill: #D2E3FC;\n",
              "    }\n",
              "\n",
              "    [theme=dark] .colab-df-convert:hover {\n",
              "      background-color: #434B5C;\n",
              "      box-shadow: 0px 1px 3px 1px rgba(0, 0, 0, 0.15);\n",
              "      filter: drop-shadow(0px 1px 2px rgba(0, 0, 0, 0.3));\n",
              "      fill: #FFFFFF;\n",
              "    }\n",
              "  </style>\n",
              "\n",
              "    <script>\n",
              "      const buttonEl =\n",
              "        document.querySelector('#df-440ded0d-ac59-4d39-9bff-68ae0c96d7fb button.colab-df-convert');\n",
              "      buttonEl.style.display =\n",
              "        google.colab.kernel.accessAllowed ? 'block' : 'none';\n",
              "\n",
              "      async function convertToInteractive(key) {\n",
              "        const element = document.querySelector('#df-440ded0d-ac59-4d39-9bff-68ae0c96d7fb');\n",
              "        const dataTable =\n",
              "          await google.colab.kernel.invokeFunction('convertToInteractive',\n",
              "                                                    [key], {});\n",
              "        if (!dataTable) return;\n",
              "\n",
              "        const docLinkHtml = 'Like what you see? Visit the ' +\n",
              "          '<a target=\"_blank\" href=https://colab.research.google.com/notebooks/data_table.ipynb>data table notebook</a>'\n",
              "          + ' to learn more about interactive tables.';\n",
              "        element.innerHTML = '';\n",
              "        dataTable['output_type'] = 'display_data';\n",
              "        await google.colab.output.renderOutput(dataTable, element);\n",
              "        const docLink = document.createElement('div');\n",
              "        docLink.innerHTML = docLinkHtml;\n",
              "        element.appendChild(docLink);\n",
              "      }\n",
              "    </script>\n",
              "  </div>\n",
              "\n",
              "\n",
              "    <div id=\"df-13603f84-e516-4874-acc1-8be0b9470d1c\">\n",
              "      <button class=\"colab-df-quickchart\" onclick=\"quickchart('df-13603f84-e516-4874-acc1-8be0b9470d1c')\"\n",
              "                title=\"Suggest charts\"\n",
              "                style=\"display:none;\">\n",
              "\n",
              "<svg xmlns=\"http://www.w3.org/2000/svg\" height=\"24px\"viewBox=\"0 0 24 24\"\n",
              "     width=\"24px\">\n",
              "    <g>\n",
              "        <path d=\"M19 3H5c-1.1 0-2 .9-2 2v14c0 1.1.9 2 2 2h14c1.1 0 2-.9 2-2V5c0-1.1-.9-2-2-2zM9 17H7v-7h2v7zm4 0h-2V7h2v10zm4 0h-2v-4h2v4z\"/>\n",
              "    </g>\n",
              "</svg>\n",
              "      </button>\n",
              "\n",
              "<style>\n",
              "  .colab-df-quickchart {\n",
              "      --bg-color: #E8F0FE;\n",
              "      --fill-color: #1967D2;\n",
              "      --hover-bg-color: #E2EBFA;\n",
              "      --hover-fill-color: #174EA6;\n",
              "      --disabled-fill-color: #AAA;\n",
              "      --disabled-bg-color: #DDD;\n",
              "  }\n",
              "\n",
              "  [theme=dark] .colab-df-quickchart {\n",
              "      --bg-color: #3B4455;\n",
              "      --fill-color: #D2E3FC;\n",
              "      --hover-bg-color: #434B5C;\n",
              "      --hover-fill-color: #FFFFFF;\n",
              "      --disabled-bg-color: #3B4455;\n",
              "      --disabled-fill-color: #666;\n",
              "  }\n",
              "\n",
              "  .colab-df-quickchart {\n",
              "    background-color: var(--bg-color);\n",
              "    border: none;\n",
              "    border-radius: 50%;\n",
              "    cursor: pointer;\n",
              "    display: none;\n",
              "    fill: var(--fill-color);\n",
              "    height: 32px;\n",
              "    padding: 0;\n",
              "    width: 32px;\n",
              "  }\n",
              "\n",
              "  .colab-df-quickchart:hover {\n",
              "    background-color: var(--hover-bg-color);\n",
              "    box-shadow: 0 1px 2px rgba(60, 64, 67, 0.3), 0 1px 3px 1px rgba(60, 64, 67, 0.15);\n",
              "    fill: var(--button-hover-fill-color);\n",
              "  }\n",
              "\n",
              "  .colab-df-quickchart-complete:disabled,\n",
              "  .colab-df-quickchart-complete:disabled:hover {\n",
              "    background-color: var(--disabled-bg-color);\n",
              "    fill: var(--disabled-fill-color);\n",
              "    box-shadow: none;\n",
              "  }\n",
              "\n",
              "  .colab-df-spinner {\n",
              "    border: 2px solid var(--fill-color);\n",
              "    border-color: transparent;\n",
              "    border-bottom-color: var(--fill-color);\n",
              "    animation:\n",
              "      spin 1s steps(1) infinite;\n",
              "  }\n",
              "\n",
              "  @keyframes spin {\n",
              "    0% {\n",
              "      border-color: transparent;\n",
              "      border-bottom-color: var(--fill-color);\n",
              "      border-left-color: var(--fill-color);\n",
              "    }\n",
              "    20% {\n",
              "      border-color: transparent;\n",
              "      border-left-color: var(--fill-color);\n",
              "      border-top-color: var(--fill-color);\n",
              "    }\n",
              "    30% {\n",
              "      border-color: transparent;\n",
              "      border-left-color: var(--fill-color);\n",
              "      border-top-color: var(--fill-color);\n",
              "      border-right-color: var(--fill-color);\n",
              "    }\n",
              "    40% {\n",
              "      border-color: transparent;\n",
              "      border-right-color: var(--fill-color);\n",
              "      border-top-color: var(--fill-color);\n",
              "    }\n",
              "    60% {\n",
              "      border-color: transparent;\n",
              "      border-right-color: var(--fill-color);\n",
              "    }\n",
              "    80% {\n",
              "      border-color: transparent;\n",
              "      border-right-color: var(--fill-color);\n",
              "      border-bottom-color: var(--fill-color);\n",
              "    }\n",
              "    90% {\n",
              "      border-color: transparent;\n",
              "      border-bottom-color: var(--fill-color);\n",
              "    }\n",
              "  }\n",
              "</style>\n",
              "\n",
              "      <script>\n",
              "        async function quickchart(key) {\n",
              "          const quickchartButtonEl =\n",
              "            document.querySelector('#' + key + ' button');\n",
              "          quickchartButtonEl.disabled = true;  // To prevent multiple clicks.\n",
              "          quickchartButtonEl.classList.add('colab-df-spinner');\n",
              "          try {\n",
              "            const charts = await google.colab.kernel.invokeFunction(\n",
              "                'suggestCharts', [key], {});\n",
              "          } catch (error) {\n",
              "            console.error('Error during call to suggestCharts:', error);\n",
              "          }\n",
              "          quickchartButtonEl.classList.remove('colab-df-spinner');\n",
              "          quickchartButtonEl.classList.add('colab-df-quickchart-complete');\n",
              "        }\n",
              "        (() => {\n",
              "          let quickchartButtonEl =\n",
              "            document.querySelector('#df-13603f84-e516-4874-acc1-8be0b9470d1c button');\n",
              "          quickchartButtonEl.style.display =\n",
              "            google.colab.kernel.accessAllowed ? 'block' : 'none';\n",
              "        })();\n",
              "      </script>\n",
              "    </div>\n",
              "\n",
              "    </div>\n",
              "  </div>\n"
            ],
            "application/vnd.google.colaboratory.intrinsic+json": {
              "type": "dataframe",
              "variable_name": "df_2015",
              "summary": "{\n  \"name\": \"df_2015\",\n  \"rows\": 122,\n  \"fields\": [\n    {\n      \"column\": \"CourseName\",\n      \"properties\": {\n        \"dtype\": \"category\",\n        \"num_unique_values\": 50,\n        \"samples\": [\n          \"Risk Assessment (Microbiological)\",\n          \"Animal Welfare (Killing For Disease Control)\",\n          \"Animal by Products (Advanced Level)\"\n        ],\n        \"semantic_type\": \"\",\n        \"description\": \"\"\n      }\n    },\n    {\n      \"column\": \"Location\",\n      \"properties\": {\n        \"dtype\": \"string\",\n        \"num_unique_values\": 78,\n        \"samples\": [\n          \"Barcelona\",\n          \"Vilnius\",\n          \"Dusseldorf;Germany\"\n        ],\n        \"semantic_type\": \"\",\n        \"description\": \"\"\n      }\n    },\n    {\n      \"column\": \"DateFrom\",\n      \"properties\": {\n        \"dtype\": \"object\",\n        \"num_unique_values\": 66,\n        \"samples\": [\n          \"2016-03-08\",\n          \"2016-02-29\",\n          \"2015-04-12\"\n        ],\n        \"semantic_type\": \"\",\n        \"description\": \"\"\n      }\n    },\n    {\n      \"column\": \"DateTo\",\n      \"properties\": {\n        \"dtype\": \"object\",\n        \"num_unique_values\": 54,\n        \"samples\": [\n          \"2015-07-03\",\n          \"2016-02-25\",\n          \"2016-02-18\"\n        ],\n        \"semantic_type\": \"\",\n        \"description\": \"\"\n      }\n    },\n    {\n      \"column\": \"Attendees\",\n      \"properties\": {\n        \"dtype\": \"number\",\n        \"std\": 0,\n        \"min\": 1,\n        \"max\": 4,\n        \"num_unique_values\": 4,\n        \"samples\": [\n          1,\n          4,\n          2\n        ],\n        \"semantic_type\": \"\",\n        \"description\": \"\"\n      }\n    },\n    {\n      \"column\": \"Unnamed: 5\",\n      \"properties\": {\n        \"dtype\": \"number\",\n        \"std\": null,\n        \"min\": null,\n        \"max\": null,\n        \"num_unique_values\": 0,\n        \"samples\": [],\n        \"semantic_type\": \"\",\n        \"description\": \"\"\n      }\n    },\n    {\n      \"column\": \"Unnamed: 6\",\n      \"properties\": {\n        \"dtype\": \"number\",\n        \"std\": null,\n        \"min\": null,\n        \"max\": null,\n        \"num_unique_values\": 0,\n        \"samples\": [],\n        \"semantic_type\": \"\",\n        \"description\": \"\"\n      }\n    }\n  ]\n}"
            }
          },
          "metadata": {},
          "execution_count": 25
        }
      ]
    },
    {
      "cell_type": "code",
      "source": [
        "df_2016.head()"
      ],
      "metadata": {
        "id": "PJxjtbUYcZX-",
        "outputId": "b8c642d6-7be6-4f0e-d4b6-e8a8cb22346e",
        "colab": {
          "base_uri": "https://localhost:8080/",
          "height": 310
        }
      },
      "execution_count": 26,
      "outputs": [
        {
          "output_type": "execute_result",
          "data": {
            "text/plain": [
              "                                          CourseName           Location  \\\n",
              "0                   Food Composition and Information     Valencia;Spain   \n",
              "1                                              HACCP     Dublin;Ireland   \n",
              "2                       Food Hygiene and Flexibility  Vilnius;Lithuania   \n",
              "3                 Foodborne Outbreaks Investigations             Berlin   \n",
              "4  Traces (USE AT IMPORT OF LIVE ANIMALS AND PROD...     Alicante;Spain   \n",
              "\n",
              "     DateFrom      DateTo  Attendees  Unnamed: 5  Unnamed: 6  \n",
              "0  2016-04-04  2016-04-08          2         NaN         NaN  \n",
              "1  2016-04-04  2016-04-08          3         NaN         NaN  \n",
              "2  2016-04-04  2016-04-08          2         NaN         NaN  \n",
              "3  2016-04-04  2016-04-08          2         NaN         NaN  \n",
              "4  2016-04-05  2016-04-08          1         NaN         NaN  "
            ],
            "text/html": [
              "\n",
              "  <div id=\"df-37ef497f-1f51-48c9-a1a6-7692271b8180\" class=\"colab-df-container\">\n",
              "    <div>\n",
              "<style scoped>\n",
              "    .dataframe tbody tr th:only-of-type {\n",
              "        vertical-align: middle;\n",
              "    }\n",
              "\n",
              "    .dataframe tbody tr th {\n",
              "        vertical-align: top;\n",
              "    }\n",
              "\n",
              "    .dataframe thead th {\n",
              "        text-align: right;\n",
              "    }\n",
              "</style>\n",
              "<table border=\"1\" class=\"dataframe\">\n",
              "  <thead>\n",
              "    <tr style=\"text-align: right;\">\n",
              "      <th></th>\n",
              "      <th>CourseName</th>\n",
              "      <th>Location</th>\n",
              "      <th>DateFrom</th>\n",
              "      <th>DateTo</th>\n",
              "      <th>Attendees</th>\n",
              "      <th>Unnamed: 5</th>\n",
              "      <th>Unnamed: 6</th>\n",
              "    </tr>\n",
              "  </thead>\n",
              "  <tbody>\n",
              "    <tr>\n",
              "      <th>0</th>\n",
              "      <td>Food Composition and Information</td>\n",
              "      <td>Valencia;Spain</td>\n",
              "      <td>2016-04-04</td>\n",
              "      <td>2016-04-08</td>\n",
              "      <td>2</td>\n",
              "      <td>NaN</td>\n",
              "      <td>NaN</td>\n",
              "    </tr>\n",
              "    <tr>\n",
              "      <th>1</th>\n",
              "      <td>HACCP</td>\n",
              "      <td>Dublin;Ireland</td>\n",
              "      <td>2016-04-04</td>\n",
              "      <td>2016-04-08</td>\n",
              "      <td>3</td>\n",
              "      <td>NaN</td>\n",
              "      <td>NaN</td>\n",
              "    </tr>\n",
              "    <tr>\n",
              "      <th>2</th>\n",
              "      <td>Food Hygiene and Flexibility</td>\n",
              "      <td>Vilnius;Lithuania</td>\n",
              "      <td>2016-04-04</td>\n",
              "      <td>2016-04-08</td>\n",
              "      <td>2</td>\n",
              "      <td>NaN</td>\n",
              "      <td>NaN</td>\n",
              "    </tr>\n",
              "    <tr>\n",
              "      <th>3</th>\n",
              "      <td>Foodborne Outbreaks Investigations</td>\n",
              "      <td>Berlin</td>\n",
              "      <td>2016-04-04</td>\n",
              "      <td>2016-04-08</td>\n",
              "      <td>2</td>\n",
              "      <td>NaN</td>\n",
              "      <td>NaN</td>\n",
              "    </tr>\n",
              "    <tr>\n",
              "      <th>4</th>\n",
              "      <td>Traces (USE AT IMPORT OF LIVE ANIMALS AND PROD...</td>\n",
              "      <td>Alicante;Spain</td>\n",
              "      <td>2016-04-05</td>\n",
              "      <td>2016-04-08</td>\n",
              "      <td>1</td>\n",
              "      <td>NaN</td>\n",
              "      <td>NaN</td>\n",
              "    </tr>\n",
              "  </tbody>\n",
              "</table>\n",
              "</div>\n",
              "    <div class=\"colab-df-buttons\">\n",
              "\n",
              "  <div class=\"colab-df-container\">\n",
              "    <button class=\"colab-df-convert\" onclick=\"convertToInteractive('df-37ef497f-1f51-48c9-a1a6-7692271b8180')\"\n",
              "            title=\"Convert this dataframe to an interactive table.\"\n",
              "            style=\"display:none;\">\n",
              "\n",
              "  <svg xmlns=\"http://www.w3.org/2000/svg\" height=\"24px\" viewBox=\"0 -960 960 960\">\n",
              "    <path d=\"M120-120v-720h720v720H120Zm60-500h600v-160H180v160Zm220 220h160v-160H400v160Zm0 220h160v-160H400v160ZM180-400h160v-160H180v160Zm440 0h160v-160H620v160ZM180-180h160v-160H180v160Zm440 0h160v-160H620v160Z\"/>\n",
              "  </svg>\n",
              "    </button>\n",
              "\n",
              "  <style>\n",
              "    .colab-df-container {\n",
              "      display:flex;\n",
              "      gap: 12px;\n",
              "    }\n",
              "\n",
              "    .colab-df-convert {\n",
              "      background-color: #E8F0FE;\n",
              "      border: none;\n",
              "      border-radius: 50%;\n",
              "      cursor: pointer;\n",
              "      display: none;\n",
              "      fill: #1967D2;\n",
              "      height: 32px;\n",
              "      padding: 0 0 0 0;\n",
              "      width: 32px;\n",
              "    }\n",
              "\n",
              "    .colab-df-convert:hover {\n",
              "      background-color: #E2EBFA;\n",
              "      box-shadow: 0px 1px 2px rgba(60, 64, 67, 0.3), 0px 1px 3px 1px rgba(60, 64, 67, 0.15);\n",
              "      fill: #174EA6;\n",
              "    }\n",
              "\n",
              "    .colab-df-buttons div {\n",
              "      margin-bottom: 4px;\n",
              "    }\n",
              "\n",
              "    [theme=dark] .colab-df-convert {\n",
              "      background-color: #3B4455;\n",
              "      fill: #D2E3FC;\n",
              "    }\n",
              "\n",
              "    [theme=dark] .colab-df-convert:hover {\n",
              "      background-color: #434B5C;\n",
              "      box-shadow: 0px 1px 3px 1px rgba(0, 0, 0, 0.15);\n",
              "      filter: drop-shadow(0px 1px 2px rgba(0, 0, 0, 0.3));\n",
              "      fill: #FFFFFF;\n",
              "    }\n",
              "  </style>\n",
              "\n",
              "    <script>\n",
              "      const buttonEl =\n",
              "        document.querySelector('#df-37ef497f-1f51-48c9-a1a6-7692271b8180 button.colab-df-convert');\n",
              "      buttonEl.style.display =\n",
              "        google.colab.kernel.accessAllowed ? 'block' : 'none';\n",
              "\n",
              "      async function convertToInteractive(key) {\n",
              "        const element = document.querySelector('#df-37ef497f-1f51-48c9-a1a6-7692271b8180');\n",
              "        const dataTable =\n",
              "          await google.colab.kernel.invokeFunction('convertToInteractive',\n",
              "                                                    [key], {});\n",
              "        if (!dataTable) return;\n",
              "\n",
              "        const docLinkHtml = 'Like what you see? Visit the ' +\n",
              "          '<a target=\"_blank\" href=https://colab.research.google.com/notebooks/data_table.ipynb>data table notebook</a>'\n",
              "          + ' to learn more about interactive tables.';\n",
              "        element.innerHTML = '';\n",
              "        dataTable['output_type'] = 'display_data';\n",
              "        await google.colab.output.renderOutput(dataTable, element);\n",
              "        const docLink = document.createElement('div');\n",
              "        docLink.innerHTML = docLinkHtml;\n",
              "        element.appendChild(docLink);\n",
              "      }\n",
              "    </script>\n",
              "  </div>\n",
              "\n",
              "\n",
              "    <div id=\"df-03d66354-cd4c-49a5-a094-a171cbb31e18\">\n",
              "      <button class=\"colab-df-quickchart\" onclick=\"quickchart('df-03d66354-cd4c-49a5-a094-a171cbb31e18')\"\n",
              "                title=\"Suggest charts\"\n",
              "                style=\"display:none;\">\n",
              "\n",
              "<svg xmlns=\"http://www.w3.org/2000/svg\" height=\"24px\"viewBox=\"0 0 24 24\"\n",
              "     width=\"24px\">\n",
              "    <g>\n",
              "        <path d=\"M19 3H5c-1.1 0-2 .9-2 2v14c0 1.1.9 2 2 2h14c1.1 0 2-.9 2-2V5c0-1.1-.9-2-2-2zM9 17H7v-7h2v7zm4 0h-2V7h2v10zm4 0h-2v-4h2v4z\"/>\n",
              "    </g>\n",
              "</svg>\n",
              "      </button>\n",
              "\n",
              "<style>\n",
              "  .colab-df-quickchart {\n",
              "      --bg-color: #E8F0FE;\n",
              "      --fill-color: #1967D2;\n",
              "      --hover-bg-color: #E2EBFA;\n",
              "      --hover-fill-color: #174EA6;\n",
              "      --disabled-fill-color: #AAA;\n",
              "      --disabled-bg-color: #DDD;\n",
              "  }\n",
              "\n",
              "  [theme=dark] .colab-df-quickchart {\n",
              "      --bg-color: #3B4455;\n",
              "      --fill-color: #D2E3FC;\n",
              "      --hover-bg-color: #434B5C;\n",
              "      --hover-fill-color: #FFFFFF;\n",
              "      --disabled-bg-color: #3B4455;\n",
              "      --disabled-fill-color: #666;\n",
              "  }\n",
              "\n",
              "  .colab-df-quickchart {\n",
              "    background-color: var(--bg-color);\n",
              "    border: none;\n",
              "    border-radius: 50%;\n",
              "    cursor: pointer;\n",
              "    display: none;\n",
              "    fill: var(--fill-color);\n",
              "    height: 32px;\n",
              "    padding: 0;\n",
              "    width: 32px;\n",
              "  }\n",
              "\n",
              "  .colab-df-quickchart:hover {\n",
              "    background-color: var(--hover-bg-color);\n",
              "    box-shadow: 0 1px 2px rgba(60, 64, 67, 0.3), 0 1px 3px 1px rgba(60, 64, 67, 0.15);\n",
              "    fill: var(--button-hover-fill-color);\n",
              "  }\n",
              "\n",
              "  .colab-df-quickchart-complete:disabled,\n",
              "  .colab-df-quickchart-complete:disabled:hover {\n",
              "    background-color: var(--disabled-bg-color);\n",
              "    fill: var(--disabled-fill-color);\n",
              "    box-shadow: none;\n",
              "  }\n",
              "\n",
              "  .colab-df-spinner {\n",
              "    border: 2px solid var(--fill-color);\n",
              "    border-color: transparent;\n",
              "    border-bottom-color: var(--fill-color);\n",
              "    animation:\n",
              "      spin 1s steps(1) infinite;\n",
              "  }\n",
              "\n",
              "  @keyframes spin {\n",
              "    0% {\n",
              "      border-color: transparent;\n",
              "      border-bottom-color: var(--fill-color);\n",
              "      border-left-color: var(--fill-color);\n",
              "    }\n",
              "    20% {\n",
              "      border-color: transparent;\n",
              "      border-left-color: var(--fill-color);\n",
              "      border-top-color: var(--fill-color);\n",
              "    }\n",
              "    30% {\n",
              "      border-color: transparent;\n",
              "      border-left-color: var(--fill-color);\n",
              "      border-top-color: var(--fill-color);\n",
              "      border-right-color: var(--fill-color);\n",
              "    }\n",
              "    40% {\n",
              "      border-color: transparent;\n",
              "      border-right-color: var(--fill-color);\n",
              "      border-top-color: var(--fill-color);\n",
              "    }\n",
              "    60% {\n",
              "      border-color: transparent;\n",
              "      border-right-color: var(--fill-color);\n",
              "    }\n",
              "    80% {\n",
              "      border-color: transparent;\n",
              "      border-right-color: var(--fill-color);\n",
              "      border-bottom-color: var(--fill-color);\n",
              "    }\n",
              "    90% {\n",
              "      border-color: transparent;\n",
              "      border-bottom-color: var(--fill-color);\n",
              "    }\n",
              "  }\n",
              "</style>\n",
              "\n",
              "      <script>\n",
              "        async function quickchart(key) {\n",
              "          const quickchartButtonEl =\n",
              "            document.querySelector('#' + key + ' button');\n",
              "          quickchartButtonEl.disabled = true;  // To prevent multiple clicks.\n",
              "          quickchartButtonEl.classList.add('colab-df-spinner');\n",
              "          try {\n",
              "            const charts = await google.colab.kernel.invokeFunction(\n",
              "                'suggestCharts', [key], {});\n",
              "          } catch (error) {\n",
              "            console.error('Error during call to suggestCharts:', error);\n",
              "          }\n",
              "          quickchartButtonEl.classList.remove('colab-df-spinner');\n",
              "          quickchartButtonEl.classList.add('colab-df-quickchart-complete');\n",
              "        }\n",
              "        (() => {\n",
              "          let quickchartButtonEl =\n",
              "            document.querySelector('#df-03d66354-cd4c-49a5-a094-a171cbb31e18 button');\n",
              "          quickchartButtonEl.style.display =\n",
              "            google.colab.kernel.accessAllowed ? 'block' : 'none';\n",
              "        })();\n",
              "      </script>\n",
              "    </div>\n",
              "\n",
              "    </div>\n",
              "  </div>\n"
            ],
            "application/vnd.google.colaboratory.intrinsic+json": {
              "type": "dataframe",
              "variable_name": "df_2016",
              "summary": "{\n  \"name\": \"df_2016\",\n  \"rows\": 116,\n  \"fields\": [\n    {\n      \"column\": \"CourseName\",\n      \"properties\": {\n        \"dtype\": \"category\",\n        \"num_unique_values\": 41,\n        \"samples\": [\n          \"Movement of Cats and Dogs\",\n          \"New Investigative Techniques - Standard B1\",\n          \"New Investigative Techniques - A\"\n        ],\n        \"semantic_type\": \"\",\n        \"description\": \"\"\n      }\n    },\n    {\n      \"column\": \"Location\",\n      \"properties\": {\n        \"dtype\": \"string\",\n        \"num_unique_values\": 69,\n        \"samples\": [\n          \"Poland\",\n          \"Valencia;Spain\",\n          \"Warsaw\"\n        ],\n        \"semantic_type\": \"\",\n        \"description\": \"\"\n      }\n    },\n    {\n      \"column\": \"DateFrom\",\n      \"properties\": {\n        \"dtype\": \"object\",\n        \"num_unique_values\": 57,\n        \"samples\": [\n          \"2016-04-04\",\n          \"2016-04-29\",\n          \"2016-09-25\"\n        ],\n        \"semantic_type\": \"\",\n        \"description\": \"\"\n      }\n    },\n    {\n      \"column\": \"DateTo\",\n      \"properties\": {\n        \"dtype\": \"object\",\n        \"num_unique_values\": 46,\n        \"samples\": [\n          \"2016-12-16\",\n          \"2016-09-28\",\n          \"2016-09-30\"\n        ],\n        \"semantic_type\": \"\",\n        \"description\": \"\"\n      }\n    },\n    {\n      \"column\": \"Attendees\",\n      \"properties\": {\n        \"dtype\": \"number\",\n        \"std\": 1,\n        \"min\": 1,\n        \"max\": 13,\n        \"num_unique_values\": 7,\n        \"samples\": [\n          2,\n          3,\n          6\n        ],\n        \"semantic_type\": \"\",\n        \"description\": \"\"\n      }\n    },\n    {\n      \"column\": \"Unnamed: 5\",\n      \"properties\": {\n        \"dtype\": \"number\",\n        \"std\": null,\n        \"min\": null,\n        \"max\": null,\n        \"num_unique_values\": 0,\n        \"samples\": [],\n        \"semantic_type\": \"\",\n        \"description\": \"\"\n      }\n    },\n    {\n      \"column\": \"Unnamed: 6\",\n      \"properties\": {\n        \"dtype\": \"number\",\n        \"std\": null,\n        \"min\": null,\n        \"max\": null,\n        \"num_unique_values\": 0,\n        \"samples\": [],\n        \"semantic_type\": \"\",\n        \"description\": \"\"\n      }\n    }\n  ]\n}"
            }
          },
          "metadata": {},
          "execution_count": 26
        }
      ]
    },
    {
      "cell_type": "markdown",
      "metadata": {
        "id": "JX-IhbkUYkLP"
      },
      "source": [
        "---\n",
        "\n",
        "<div class=\"alert alert-block alert-warning\" style=\"padding: 0px; padding-left: 20px; padding-top: 5px;\"><h2 style=\"color: #301E40\">\n",
        "Concatenate\n",
        "</h2><br>\n",
        "</div>"
      ]
    },
    {
      "cell_type": "markdown",
      "metadata": {
        "id": "CM3BGJ7YYkLP"
      },
      "source": [
        "Pandas have a good page with documentation about [merge, join and concatenation](https://pandas.pydata.org/pandas-docs/stable/user_guide/merging.html)."
      ]
    },
    {
      "cell_type": "markdown",
      "metadata": {
        "id": "NxNRfEfwYkLP"
      },
      "source": [
        ">Using the documentation, concatenate the 3 dataframe into one, named df."
      ]
    },
    {
      "cell_type": "code",
      "execution_count": 188,
      "metadata": {
        "jupyter": {
          "outputs_hidden": false
        },
        "id": "SnNJdSxOYkLP",
        "outputId": "6f9f0edc-25a8-4502-9282-6191ab8344b4",
        "colab": {
          "base_uri": "https://localhost:8080/",
          "height": 310
        }
      },
      "outputs": [
        {
          "output_type": "execute_result",
          "data": {
            "text/plain": [
              "                                          CourseName            Location  \\\n",
              "0                             Risk Assessment (Pest)     lisbon;Portugal   \n",
              "1                                    Organic Farming             Bristol   \n",
              "2  Prevention Control and Eradication of Transmis...  Ljubljana;Slovenia   \n",
              "3                               Contingency Planning               Padua   \n",
              "4                                              HACCP                Rome   \n",
              "\n",
              "     DateFrom      DateTo  Attendees  Unnamed: 5  Unnamed: 6  \n",
              "0  2015-01-12  2015-01-16          1         NaN         NaN  \n",
              "1  2015-01-19  2015-01-22          2         NaN         NaN  \n",
              "2  2015-01-20  2015-01-23          2         NaN         NaN  \n",
              "3  2015-01-26  2015-01-30          2         NaN         NaN  \n",
              "4  2015-02-02  2015-02-06          2         NaN         NaN  "
            ],
            "text/html": [
              "\n",
              "  <div id=\"df-755b7ff1-9057-4eb5-b652-180af7e30d79\" class=\"colab-df-container\">\n",
              "    <div>\n",
              "<style scoped>\n",
              "    .dataframe tbody tr th:only-of-type {\n",
              "        vertical-align: middle;\n",
              "    }\n",
              "\n",
              "    .dataframe tbody tr th {\n",
              "        vertical-align: top;\n",
              "    }\n",
              "\n",
              "    .dataframe thead th {\n",
              "        text-align: right;\n",
              "    }\n",
              "</style>\n",
              "<table border=\"1\" class=\"dataframe\">\n",
              "  <thead>\n",
              "    <tr style=\"text-align: right;\">\n",
              "      <th></th>\n",
              "      <th>CourseName</th>\n",
              "      <th>Location</th>\n",
              "      <th>DateFrom</th>\n",
              "      <th>DateTo</th>\n",
              "      <th>Attendees</th>\n",
              "      <th>Unnamed: 5</th>\n",
              "      <th>Unnamed: 6</th>\n",
              "    </tr>\n",
              "  </thead>\n",
              "  <tbody>\n",
              "    <tr>\n",
              "      <th>0</th>\n",
              "      <td>Risk Assessment (Pest)</td>\n",
              "      <td>lisbon;Portugal</td>\n",
              "      <td>2015-01-12</td>\n",
              "      <td>2015-01-16</td>\n",
              "      <td>1</td>\n",
              "      <td>NaN</td>\n",
              "      <td>NaN</td>\n",
              "    </tr>\n",
              "    <tr>\n",
              "      <th>1</th>\n",
              "      <td>Organic Farming</td>\n",
              "      <td>Bristol</td>\n",
              "      <td>2015-01-19</td>\n",
              "      <td>2015-01-22</td>\n",
              "      <td>2</td>\n",
              "      <td>NaN</td>\n",
              "      <td>NaN</td>\n",
              "    </tr>\n",
              "    <tr>\n",
              "      <th>2</th>\n",
              "      <td>Prevention Control and Eradication of Transmis...</td>\n",
              "      <td>Ljubljana;Slovenia</td>\n",
              "      <td>2015-01-20</td>\n",
              "      <td>2015-01-23</td>\n",
              "      <td>2</td>\n",
              "      <td>NaN</td>\n",
              "      <td>NaN</td>\n",
              "    </tr>\n",
              "    <tr>\n",
              "      <th>3</th>\n",
              "      <td>Contingency Planning</td>\n",
              "      <td>Padua</td>\n",
              "      <td>2015-01-26</td>\n",
              "      <td>2015-01-30</td>\n",
              "      <td>2</td>\n",
              "      <td>NaN</td>\n",
              "      <td>NaN</td>\n",
              "    </tr>\n",
              "    <tr>\n",
              "      <th>4</th>\n",
              "      <td>HACCP</td>\n",
              "      <td>Rome</td>\n",
              "      <td>2015-02-02</td>\n",
              "      <td>2015-02-06</td>\n",
              "      <td>2</td>\n",
              "      <td>NaN</td>\n",
              "      <td>NaN</td>\n",
              "    </tr>\n",
              "  </tbody>\n",
              "</table>\n",
              "</div>\n",
              "    <div class=\"colab-df-buttons\">\n",
              "\n",
              "  <div class=\"colab-df-container\">\n",
              "    <button class=\"colab-df-convert\" onclick=\"convertToInteractive('df-755b7ff1-9057-4eb5-b652-180af7e30d79')\"\n",
              "            title=\"Convert this dataframe to an interactive table.\"\n",
              "            style=\"display:none;\">\n",
              "\n",
              "  <svg xmlns=\"http://www.w3.org/2000/svg\" height=\"24px\" viewBox=\"0 -960 960 960\">\n",
              "    <path d=\"M120-120v-720h720v720H120Zm60-500h600v-160H180v160Zm220 220h160v-160H400v160Zm0 220h160v-160H400v160ZM180-400h160v-160H180v160Zm440 0h160v-160H620v160ZM180-180h160v-160H180v160Zm440 0h160v-160H620v160Z\"/>\n",
              "  </svg>\n",
              "    </button>\n",
              "\n",
              "  <style>\n",
              "    .colab-df-container {\n",
              "      display:flex;\n",
              "      gap: 12px;\n",
              "    }\n",
              "\n",
              "    .colab-df-convert {\n",
              "      background-color: #E8F0FE;\n",
              "      border: none;\n",
              "      border-radius: 50%;\n",
              "      cursor: pointer;\n",
              "      display: none;\n",
              "      fill: #1967D2;\n",
              "      height: 32px;\n",
              "      padding: 0 0 0 0;\n",
              "      width: 32px;\n",
              "    }\n",
              "\n",
              "    .colab-df-convert:hover {\n",
              "      background-color: #E2EBFA;\n",
              "      box-shadow: 0px 1px 2px rgba(60, 64, 67, 0.3), 0px 1px 3px 1px rgba(60, 64, 67, 0.15);\n",
              "      fill: #174EA6;\n",
              "    }\n",
              "\n",
              "    .colab-df-buttons div {\n",
              "      margin-bottom: 4px;\n",
              "    }\n",
              "\n",
              "    [theme=dark] .colab-df-convert {\n",
              "      background-color: #3B4455;\n",
              "      fill: #D2E3FC;\n",
              "    }\n",
              "\n",
              "    [theme=dark] .colab-df-convert:hover {\n",
              "      background-color: #434B5C;\n",
              "      box-shadow: 0px 1px 3px 1px rgba(0, 0, 0, 0.15);\n",
              "      filter: drop-shadow(0px 1px 2px rgba(0, 0, 0, 0.3));\n",
              "      fill: #FFFFFF;\n",
              "    }\n",
              "  </style>\n",
              "\n",
              "    <script>\n",
              "      const buttonEl =\n",
              "        document.querySelector('#df-755b7ff1-9057-4eb5-b652-180af7e30d79 button.colab-df-convert');\n",
              "      buttonEl.style.display =\n",
              "        google.colab.kernel.accessAllowed ? 'block' : 'none';\n",
              "\n",
              "      async function convertToInteractive(key) {\n",
              "        const element = document.querySelector('#df-755b7ff1-9057-4eb5-b652-180af7e30d79');\n",
              "        const dataTable =\n",
              "          await google.colab.kernel.invokeFunction('convertToInteractive',\n",
              "                                                    [key], {});\n",
              "        if (!dataTable) return;\n",
              "\n",
              "        const docLinkHtml = 'Like what you see? Visit the ' +\n",
              "          '<a target=\"_blank\" href=https://colab.research.google.com/notebooks/data_table.ipynb>data table notebook</a>'\n",
              "          + ' to learn more about interactive tables.';\n",
              "        element.innerHTML = '';\n",
              "        dataTable['output_type'] = 'display_data';\n",
              "        await google.colab.output.renderOutput(dataTable, element);\n",
              "        const docLink = document.createElement('div');\n",
              "        docLink.innerHTML = docLinkHtml;\n",
              "        element.appendChild(docLink);\n",
              "      }\n",
              "    </script>\n",
              "  </div>\n",
              "\n",
              "\n",
              "    <div id=\"df-8a0eca5b-c7ee-442e-9c5f-6280e8cfd217\">\n",
              "      <button class=\"colab-df-quickchart\" onclick=\"quickchart('df-8a0eca5b-c7ee-442e-9c5f-6280e8cfd217')\"\n",
              "                title=\"Suggest charts\"\n",
              "                style=\"display:none;\">\n",
              "\n",
              "<svg xmlns=\"http://www.w3.org/2000/svg\" height=\"24px\"viewBox=\"0 0 24 24\"\n",
              "     width=\"24px\">\n",
              "    <g>\n",
              "        <path d=\"M19 3H5c-1.1 0-2 .9-2 2v14c0 1.1.9 2 2 2h14c1.1 0 2-.9 2-2V5c0-1.1-.9-2-2-2zM9 17H7v-7h2v7zm4 0h-2V7h2v10zm4 0h-2v-4h2v4z\"/>\n",
              "    </g>\n",
              "</svg>\n",
              "      </button>\n",
              "\n",
              "<style>\n",
              "  .colab-df-quickchart {\n",
              "      --bg-color: #E8F0FE;\n",
              "      --fill-color: #1967D2;\n",
              "      --hover-bg-color: #E2EBFA;\n",
              "      --hover-fill-color: #174EA6;\n",
              "      --disabled-fill-color: #AAA;\n",
              "      --disabled-bg-color: #DDD;\n",
              "  }\n",
              "\n",
              "  [theme=dark] .colab-df-quickchart {\n",
              "      --bg-color: #3B4455;\n",
              "      --fill-color: #D2E3FC;\n",
              "      --hover-bg-color: #434B5C;\n",
              "      --hover-fill-color: #FFFFFF;\n",
              "      --disabled-bg-color: #3B4455;\n",
              "      --disabled-fill-color: #666;\n",
              "  }\n",
              "\n",
              "  .colab-df-quickchart {\n",
              "    background-color: var(--bg-color);\n",
              "    border: none;\n",
              "    border-radius: 50%;\n",
              "    cursor: pointer;\n",
              "    display: none;\n",
              "    fill: var(--fill-color);\n",
              "    height: 32px;\n",
              "    padding: 0;\n",
              "    width: 32px;\n",
              "  }\n",
              "\n",
              "  .colab-df-quickchart:hover {\n",
              "    background-color: var(--hover-bg-color);\n",
              "    box-shadow: 0 1px 2px rgba(60, 64, 67, 0.3), 0 1px 3px 1px rgba(60, 64, 67, 0.15);\n",
              "    fill: var(--button-hover-fill-color);\n",
              "  }\n",
              "\n",
              "  .colab-df-quickchart-complete:disabled,\n",
              "  .colab-df-quickchart-complete:disabled:hover {\n",
              "    background-color: var(--disabled-bg-color);\n",
              "    fill: var(--disabled-fill-color);\n",
              "    box-shadow: none;\n",
              "  }\n",
              "\n",
              "  .colab-df-spinner {\n",
              "    border: 2px solid var(--fill-color);\n",
              "    border-color: transparent;\n",
              "    border-bottom-color: var(--fill-color);\n",
              "    animation:\n",
              "      spin 1s steps(1) infinite;\n",
              "  }\n",
              "\n",
              "  @keyframes spin {\n",
              "    0% {\n",
              "      border-color: transparent;\n",
              "      border-bottom-color: var(--fill-color);\n",
              "      border-left-color: var(--fill-color);\n",
              "    }\n",
              "    20% {\n",
              "      border-color: transparent;\n",
              "      border-left-color: var(--fill-color);\n",
              "      border-top-color: var(--fill-color);\n",
              "    }\n",
              "    30% {\n",
              "      border-color: transparent;\n",
              "      border-left-color: var(--fill-color);\n",
              "      border-top-color: var(--fill-color);\n",
              "      border-right-color: var(--fill-color);\n",
              "    }\n",
              "    40% {\n",
              "      border-color: transparent;\n",
              "      border-right-color: var(--fill-color);\n",
              "      border-top-color: var(--fill-color);\n",
              "    }\n",
              "    60% {\n",
              "      border-color: transparent;\n",
              "      border-right-color: var(--fill-color);\n",
              "    }\n",
              "    80% {\n",
              "      border-color: transparent;\n",
              "      border-right-color: var(--fill-color);\n",
              "      border-bottom-color: var(--fill-color);\n",
              "    }\n",
              "    90% {\n",
              "      border-color: transparent;\n",
              "      border-bottom-color: var(--fill-color);\n",
              "    }\n",
              "  }\n",
              "</style>\n",
              "\n",
              "      <script>\n",
              "        async function quickchart(key) {\n",
              "          const quickchartButtonEl =\n",
              "            document.querySelector('#' + key + ' button');\n",
              "          quickchartButtonEl.disabled = true;  // To prevent multiple clicks.\n",
              "          quickchartButtonEl.classList.add('colab-df-spinner');\n",
              "          try {\n",
              "            const charts = await google.colab.kernel.invokeFunction(\n",
              "                'suggestCharts', [key], {});\n",
              "          } catch (error) {\n",
              "            console.error('Error during call to suggestCharts:', error);\n",
              "          }\n",
              "          quickchartButtonEl.classList.remove('colab-df-spinner');\n",
              "          quickchartButtonEl.classList.add('colab-df-quickchart-complete');\n",
              "        }\n",
              "        (() => {\n",
              "          let quickchartButtonEl =\n",
              "            document.querySelector('#df-8a0eca5b-c7ee-442e-9c5f-6280e8cfd217 button');\n",
              "          quickchartButtonEl.style.display =\n",
              "            google.colab.kernel.accessAllowed ? 'block' : 'none';\n",
              "        })();\n",
              "      </script>\n",
              "    </div>\n",
              "\n",
              "    </div>\n",
              "  </div>\n"
            ],
            "application/vnd.google.colaboratory.intrinsic+json": {
              "type": "dataframe",
              "variable_name": "df",
              "summary": "{\n  \"name\": \"df\",\n  \"rows\": 266,\n  \"fields\": [\n    {\n      \"column\": \"CourseName\",\n      \"properties\": {\n        \"dtype\": \"category\",\n        \"num_unique_values\": 70,\n        \"samples\": [\n          \"Food Composition and Information\",\n          \"Risk Assessment (Pest)\",\n          \"Post-slaughter traceability of Meat (FVO)\"\n        ],\n        \"semantic_type\": \"\",\n        \"description\": \"\"\n      }\n    },\n    {\n      \"column\": \"Location\",\n      \"properties\": {\n        \"dtype\": \"category\",\n        \"num_unique_values\": 126,\n        \"samples\": [\n          \"Krakow;Poland\",\n          \"Madrid\",\n          \"Amsterdam;Netherlands\"\n        ],\n        \"semantic_type\": \"\",\n        \"description\": \"\"\n      }\n    },\n    {\n      \"column\": \"DateFrom\",\n      \"properties\": {\n        \"dtype\": \"date\",\n        \"min\": \"2015-01-12\",\n        \"max\": \"2017-03-28\",\n        \"num_unique_values\": 138,\n        \"samples\": [\n          \"2016-05-16\",\n          \"2016-09-05\",\n          \"2015-03-16\"\n        ],\n        \"semantic_type\": \"\",\n        \"description\": \"\"\n      }\n    },\n    {\n      \"column\": \"DateTo\",\n      \"properties\": {\n        \"dtype\": \"date\",\n        \"min\": \"2015-01-16\",\n        \"max\": \"2017-03-31\",\n        \"num_unique_values\": 114,\n        \"samples\": [\n          \"2016-06-10\",\n          \"2015-02-06\",\n          \"2015-09-17\"\n        ],\n        \"semantic_type\": \"\",\n        \"description\": \"\"\n      }\n    },\n    {\n      \"column\": \"Attendees\",\n      \"properties\": {\n        \"dtype\": \"number\",\n        \"std\": 1,\n        \"min\": 1,\n        \"max\": 13,\n        \"num_unique_values\": 7,\n        \"samples\": [\n          1,\n          2,\n          6\n        ],\n        \"semantic_type\": \"\",\n        \"description\": \"\"\n      }\n    },\n    {\n      \"column\": \"Unnamed: 5\",\n      \"properties\": {\n        \"dtype\": \"number\",\n        \"std\": null,\n        \"min\": null,\n        \"max\": null,\n        \"num_unique_values\": 0,\n        \"samples\": [],\n        \"semantic_type\": \"\",\n        \"description\": \"\"\n      }\n    },\n    {\n      \"column\": \"Unnamed: 6\",\n      \"properties\": {\n        \"dtype\": \"number\",\n        \"std\": null,\n        \"min\": null,\n        \"max\": null,\n        \"num_unique_values\": 0,\n        \"samples\": [],\n        \"semantic_type\": \"\",\n        \"description\": \"\"\n      }\n    }\n  ]\n}"
            }
          },
          "metadata": {},
          "execution_count": 188
        }
      ],
      "source": [
        "df_base = [df_2014, df_2015, df_2016]\n",
        "df = pd.concat(df_base)\n",
        "df.head()"
      ]
    },
    {
      "cell_type": "code",
      "execution_count": 29,
      "metadata": {
        "jupyter": {
          "outputs_hidden": false
        },
        "id": "sLNn48IGYkLP",
        "outputId": "1a130421-bcc5-41f0-a111-bab270737caf",
        "colab": {
          "base_uri": "https://localhost:8080/"
        }
      },
      "outputs": [
        {
          "output_type": "stream",
          "name": "stdout",
          "text": [
            "frames = [df_2014, df_2015, df_2016]\n",
            "df = pd.concat(frames)"
          ]
        }
      ],
      "source": [
        "!cat solutions/05_07.py"
      ]
    },
    {
      "cell_type": "markdown",
      "metadata": {
        "id": "ySvei8etYkLP"
      },
      "source": [
        ">check the shape of df"
      ]
    },
    {
      "cell_type": "code",
      "execution_count": 30,
      "metadata": {
        "jupyter": {
          "outputs_hidden": false
        },
        "id": "UxiSW-lsYkLQ",
        "outputId": "5b9b562a-604e-4152-8db2-1a59c907ccab",
        "colab": {
          "base_uri": "https://localhost:8080/"
        }
      },
      "outputs": [
        {
          "output_type": "execute_result",
          "data": {
            "text/plain": [
              "(266, 7)"
            ]
          },
          "metadata": {},
          "execution_count": 30
        }
      ],
      "source": [
        "df.shape"
      ]
    },
    {
      "cell_type": "code",
      "execution_count": 31,
      "metadata": {
        "jupyter": {
          "outputs_hidden": false
        },
        "id": "JqcaEAmsYkLQ",
        "outputId": "a86343da-740e-4402-facd-03387375ce76",
        "colab": {
          "base_uri": "https://localhost:8080/"
        }
      },
      "outputs": [
        {
          "output_type": "stream",
          "name": "stdout",
          "text": [
            "df.shape"
          ]
        }
      ],
      "source": [
        " !cat solutions/05_08.py"
      ]
    },
    {
      "cell_type": "code",
      "source": [
        "df_2014.shape"
      ],
      "metadata": {
        "id": "aLimFEyFcvcq",
        "outputId": "5beb200e-da76-4634-fc41-e8ffae419c91",
        "colab": {
          "base_uri": "https://localhost:8080/"
        }
      },
      "execution_count": 33,
      "outputs": [
        {
          "output_type": "execute_result",
          "data": {
            "text/plain": [
              "(28, 7)"
            ]
          },
          "metadata": {},
          "execution_count": 33
        }
      ]
    },
    {
      "cell_type": "code",
      "source": [
        "df_2015.shape"
      ],
      "metadata": {
        "id": "HhOQXKMkcx4m",
        "outputId": "413fb781-95c4-417b-93c8-382f5aac4312",
        "colab": {
          "base_uri": "https://localhost:8080/"
        }
      },
      "execution_count": 34,
      "outputs": [
        {
          "output_type": "execute_result",
          "data": {
            "text/plain": [
              "(122, 7)"
            ]
          },
          "metadata": {},
          "execution_count": 34
        }
      ]
    },
    {
      "cell_type": "code",
      "source": [
        "df_2016.shape"
      ],
      "metadata": {
        "id": "du80BPwqczRb",
        "outputId": "e764fe80-22d2-413a-9183-972b974f603c",
        "colab": {
          "base_uri": "https://localhost:8080/"
        }
      },
      "execution_count": 35,
      "outputs": [
        {
          "output_type": "execute_result",
          "data": {
            "text/plain": [
              "(116, 7)"
            ]
          },
          "metadata": {},
          "execution_count": 35
        }
      ]
    },
    {
      "cell_type": "markdown",
      "metadata": {
        "id": "gPTrh_fNYkLQ"
      },
      "source": [
        ">Look at the indices of df using the index attribute."
      ]
    },
    {
      "cell_type": "code",
      "execution_count": 36,
      "metadata": {
        "jupyter": {
          "outputs_hidden": false
        },
        "id": "1_QBOrAWYkLQ",
        "outputId": "41440140-c44e-4647-a6b8-71379110283a",
        "colab": {
          "base_uri": "https://localhost:8080/"
        }
      },
      "outputs": [
        {
          "output_type": "execute_result",
          "data": {
            "text/plain": [
              "Index([  0,   1,   2,   3,   4,   5,   6,   7,   8,   9,\n",
              "       ...\n",
              "       106, 107, 108, 109, 110, 111, 112, 113, 114, 115],\n",
              "      dtype='int64', length=266)"
            ]
          },
          "metadata": {},
          "execution_count": 36
        }
      ],
      "source": [
        "df.index"
      ]
    },
    {
      "cell_type": "code",
      "execution_count": 37,
      "metadata": {
        "jupyter": {
          "outputs_hidden": false
        },
        "id": "9ztFYg01YkLQ",
        "outputId": "000ec904-4c38-4ca9-8a38-562bc8ec2ab2",
        "colab": {
          "base_uri": "https://localhost:8080/"
        }
      },
      "outputs": [
        {
          "output_type": "stream",
          "name": "stdout",
          "text": [
            "df.index"
          ]
        }
      ],
      "source": [
        " !cat solutions/05_09.py"
      ]
    },
    {
      "cell_type": "markdown",
      "metadata": {
        "id": "OAR4-7O2YkLQ"
      },
      "source": [
        "We can see that the index is not going from 0 to 265 with a step of 1...\n",
        "> Clear the existing index and reset it using the ***reset_index*** method.  \n",
        "> Check df's index."
      ]
    },
    {
      "cell_type": "code",
      "execution_count": 189,
      "metadata": {
        "jupyter": {
          "outputs_hidden": false
        },
        "id": "62487SnFYkLQ"
      },
      "outputs": [],
      "source": [
        "df =  df.reset_index()"
      ]
    },
    {
      "cell_type": "code",
      "source": [
        "df.index"
      ],
      "metadata": {
        "id": "wP7AuHEDdZAd",
        "outputId": "01056bc8-2043-4caf-f24c-f997d61e2184",
        "colab": {
          "base_uri": "https://localhost:8080/"
        }
      },
      "execution_count": 58,
      "outputs": [
        {
          "output_type": "execute_result",
          "data": {
            "text/plain": [
              "RangeIndex(start=0, stop=266, step=1)"
            ]
          },
          "metadata": {},
          "execution_count": 58
        }
      ]
    },
    {
      "cell_type": "code",
      "execution_count": 59,
      "metadata": {
        "jupyter": {
          "outputs_hidden": false
        },
        "id": "uXP18KDQYkLQ",
        "outputId": "e0ce3ade-5c99-4e8f-d953-94b375671dd5",
        "colab": {
          "base_uri": "https://localhost:8080/"
        }
      },
      "outputs": [
        {
          "output_type": "stream",
          "name": "stdout",
          "text": [
            "df = df.reset_index()\n",
            "df.index\n",
            "\n",
            "# We could also have done the following when concatenating:\n",
            "# df = pd.concat(frames, ignore_index=True)"
          ]
        }
      ],
      "source": [
        "!cat solutions/05_10.py"
      ]
    },
    {
      "cell_type": "markdown",
      "metadata": {
        "id": "bqOjoh7XYkLQ"
      },
      "source": [
        "---\n",
        "\n",
        "<div class=\"alert alert-block alert-warning\" style=\"padding: 0px; padding-left: 20px; padding-top: 5px;\"><h2 style=\"color: #301E40\">\n",
        "Dropping columns\n",
        "</h2><br>\n",
        "</div>"
      ]
    },
    {
      "cell_type": "markdown",
      "metadata": {
        "id": "nnbr53keYkLQ"
      },
      "source": [
        ">Show the information relative to df's columns."
      ]
    },
    {
      "cell_type": "code",
      "execution_count": 61,
      "metadata": {
        "jupyter": {
          "outputs_hidden": false
        },
        "id": "tc8bky2hYkLR",
        "outputId": "6935072f-6aa7-4096-cac4-1f700aeb9d3e",
        "colab": {
          "base_uri": "https://localhost:8080/"
        }
      },
      "outputs": [
        {
          "output_type": "stream",
          "name": "stdout",
          "text": [
            "<class 'pandas.core.frame.DataFrame'>\n",
            "RangeIndex: 266 entries, 0 to 265\n",
            "Data columns (total 8 columns):\n",
            " #   Column      Non-Null Count  Dtype  \n",
            "---  ------      --------------  -----  \n",
            " 0   index       266 non-null    int64  \n",
            " 1   CourseName  266 non-null    object \n",
            " 2   Location    266 non-null    object \n",
            " 3   DateFrom    266 non-null    object \n",
            " 4   DateTo      266 non-null    object \n",
            " 5   Attendees   266 non-null    int64  \n",
            " 6   Unnamed: 5  0 non-null      float64\n",
            " 7   Unnamed: 6  0 non-null      float64\n",
            "dtypes: float64(2), int64(2), object(4)\n",
            "memory usage: 16.8+ KB\n"
          ]
        }
      ],
      "source": [
        "df.info()"
      ]
    },
    {
      "cell_type": "code",
      "execution_count": 62,
      "metadata": {
        "jupyter": {
          "outputs_hidden": false
        },
        "id": "VliAEQEkYkLR",
        "outputId": "4bee98c5-4bf5-415d-c0ef-6be96a724c90",
        "colab": {
          "base_uri": "https://localhost:8080/"
        }
      },
      "outputs": [
        {
          "output_type": "stream",
          "name": "stdout",
          "text": [
            "df.info()"
          ]
        }
      ],
      "source": [
        " !cat solutions/05_11.py"
      ]
    },
    {
      "cell_type": "markdown",
      "metadata": {
        "id": "IBzqSX_mYkLR"
      },
      "source": [
        "We can see that the last two columns are completely empty, so we will drop them."
      ]
    },
    {
      "cell_type": "markdown",
      "metadata": {
        "id": "vyuHu1DcYkLR"
      },
      "source": [
        ">Get the help for the drop method (if you prefer, you can search for the documentation on internet)."
      ]
    },
    {
      "cell_type": "code",
      "execution_count": 190,
      "metadata": {
        "jupyter": {
          "outputs_hidden": false
        },
        "id": "bGS-rN0zYkLR"
      },
      "outputs": [],
      "source": [
        "df = df.dropna(axis = 1, how = 'all')"
      ]
    },
    {
      "cell_type": "code",
      "execution_count": 67,
      "metadata": {
        "jupyter": {
          "outputs_hidden": false
        },
        "scrolled": true,
        "id": "rkgQwYnwYkLR",
        "outputId": "a3665e05-2e25-4ce0-c9c0-3acc0bd1cdc5",
        "colab": {
          "base_uri": "https://localhost:8080/"
        }
      },
      "outputs": [
        {
          "output_type": "stream",
          "name": "stdout",
          "text": [
            "?pd.DataFrame.drop"
          ]
        }
      ],
      "source": [
        "!cat solutions/05_12.py"
      ]
    },
    {
      "cell_type": "markdown",
      "metadata": {
        "id": "Dkl035mTYkLR"
      },
      "source": [
        "You can see that the default value for *axis* is *0*. When it is the case, the method will look at the rows (i.e. *axis 0*) of the dataframe.  \n",
        "In our case, we want to drop columns (i.e. *axis 1*)."
      ]
    },
    {
      "cell_type": "markdown",
      "metadata": {
        "id": "-lKVvd1pYkLR"
      },
      "source": [
        ">Drop the last two columns of df.  \n",
        ">labels: provide a list with the column's names  \n",
        ">Don't forget the axis!"
      ]
    },
    {
      "cell_type": "code",
      "execution_count": 191,
      "metadata": {
        "jupyter": {
          "outputs_hidden": false
        },
        "id": "yId53F-hYkLR",
        "outputId": "c2beb81e-27a2-4037-cd80-54c72555b5c6",
        "colab": {
          "base_uri": "https://localhost:8080/",
          "height": 287
        }
      },
      "outputs": [
        {
          "output_type": "error",
          "ename": "KeyError",
          "evalue": "\"['x', 'y'] not found in axis\"",
          "traceback": [
            "\u001b[0;31m---------------------------------------------------------------------------\u001b[0m",
            "\u001b[0;31mKeyError\u001b[0m                                  Traceback (most recent call last)",
            "\u001b[0;32m<ipython-input-191-390cc3067c2c>\u001b[0m in \u001b[0;36m<cell line: 0>\u001b[0;34m()\u001b[0m\n\u001b[0;32m----> 1\u001b[0;31m \u001b[0mdf\u001b[0m\u001b[0;34m.\u001b[0m\u001b[0mdrop\u001b[0m\u001b[0;34m(\u001b[0m\u001b[0maxis\u001b[0m \u001b[0;34m=\u001b[0m \u001b[0;36m1\u001b[0m\u001b[0;34m,\u001b[0m \u001b[0mlabels\u001b[0m \u001b[0;34m=\u001b[0m \u001b[0;34m[\u001b[0m\u001b[0;34m'x'\u001b[0m\u001b[0;34m,\u001b[0m \u001b[0;34m'y'\u001b[0m\u001b[0;34m]\u001b[0m\u001b[0;34m)\u001b[0m\u001b[0;34m\u001b[0m\u001b[0;34m\u001b[0m\u001b[0m\n\u001b[0m",
            "\u001b[0;32m/usr/local/lib/python3.11/dist-packages/pandas/core/frame.py\u001b[0m in \u001b[0;36mdrop\u001b[0;34m(self, labels, axis, index, columns, level, inplace, errors)\u001b[0m\n\u001b[1;32m   5579\u001b[0m                 \u001b[0mweight\u001b[0m  \u001b[0;36m1.0\u001b[0m     \u001b[0;36m0.8\u001b[0m\u001b[0;34m\u001b[0m\u001b[0;34m\u001b[0m\u001b[0m\n\u001b[1;32m   5580\u001b[0m         \"\"\"\n\u001b[0;32m-> 5581\u001b[0;31m         return super().drop(\n\u001b[0m\u001b[1;32m   5582\u001b[0m             \u001b[0mlabels\u001b[0m\u001b[0;34m=\u001b[0m\u001b[0mlabels\u001b[0m\u001b[0;34m,\u001b[0m\u001b[0;34m\u001b[0m\u001b[0;34m\u001b[0m\u001b[0m\n\u001b[1;32m   5583\u001b[0m             \u001b[0maxis\u001b[0m\u001b[0;34m=\u001b[0m\u001b[0maxis\u001b[0m\u001b[0;34m,\u001b[0m\u001b[0;34m\u001b[0m\u001b[0;34m\u001b[0m\u001b[0m\n",
            "\u001b[0;32m/usr/local/lib/python3.11/dist-packages/pandas/core/generic.py\u001b[0m in \u001b[0;36mdrop\u001b[0;34m(self, labels, axis, index, columns, level, inplace, errors)\u001b[0m\n\u001b[1;32m   4786\u001b[0m         \u001b[0;32mfor\u001b[0m \u001b[0maxis\u001b[0m\u001b[0;34m,\u001b[0m \u001b[0mlabels\u001b[0m \u001b[0;32min\u001b[0m \u001b[0maxes\u001b[0m\u001b[0;34m.\u001b[0m\u001b[0mitems\u001b[0m\u001b[0;34m(\u001b[0m\u001b[0;34m)\u001b[0m\u001b[0;34m:\u001b[0m\u001b[0;34m\u001b[0m\u001b[0;34m\u001b[0m\u001b[0m\n\u001b[1;32m   4787\u001b[0m             \u001b[0;32mif\u001b[0m \u001b[0mlabels\u001b[0m \u001b[0;32mis\u001b[0m \u001b[0;32mnot\u001b[0m \u001b[0;32mNone\u001b[0m\u001b[0;34m:\u001b[0m\u001b[0;34m\u001b[0m\u001b[0;34m\u001b[0m\u001b[0m\n\u001b[0;32m-> 4788\u001b[0;31m                 \u001b[0mobj\u001b[0m \u001b[0;34m=\u001b[0m \u001b[0mobj\u001b[0m\u001b[0;34m.\u001b[0m\u001b[0m_drop_axis\u001b[0m\u001b[0;34m(\u001b[0m\u001b[0mlabels\u001b[0m\u001b[0;34m,\u001b[0m \u001b[0maxis\u001b[0m\u001b[0;34m,\u001b[0m \u001b[0mlevel\u001b[0m\u001b[0;34m=\u001b[0m\u001b[0mlevel\u001b[0m\u001b[0;34m,\u001b[0m \u001b[0merrors\u001b[0m\u001b[0;34m=\u001b[0m\u001b[0merrors\u001b[0m\u001b[0;34m)\u001b[0m\u001b[0;34m\u001b[0m\u001b[0;34m\u001b[0m\u001b[0m\n\u001b[0m\u001b[1;32m   4789\u001b[0m \u001b[0;34m\u001b[0m\u001b[0m\n\u001b[1;32m   4790\u001b[0m         \u001b[0;32mif\u001b[0m \u001b[0minplace\u001b[0m\u001b[0;34m:\u001b[0m\u001b[0;34m\u001b[0m\u001b[0;34m\u001b[0m\u001b[0m\n",
            "\u001b[0;32m/usr/local/lib/python3.11/dist-packages/pandas/core/generic.py\u001b[0m in \u001b[0;36m_drop_axis\u001b[0;34m(self, labels, axis, level, errors, only_slice)\u001b[0m\n\u001b[1;32m   4828\u001b[0m                 \u001b[0mnew_axis\u001b[0m \u001b[0;34m=\u001b[0m \u001b[0maxis\u001b[0m\u001b[0;34m.\u001b[0m\u001b[0mdrop\u001b[0m\u001b[0;34m(\u001b[0m\u001b[0mlabels\u001b[0m\u001b[0;34m,\u001b[0m \u001b[0mlevel\u001b[0m\u001b[0;34m=\u001b[0m\u001b[0mlevel\u001b[0m\u001b[0;34m,\u001b[0m \u001b[0merrors\u001b[0m\u001b[0;34m=\u001b[0m\u001b[0merrors\u001b[0m\u001b[0;34m)\u001b[0m\u001b[0;34m\u001b[0m\u001b[0;34m\u001b[0m\u001b[0m\n\u001b[1;32m   4829\u001b[0m             \u001b[0;32melse\u001b[0m\u001b[0;34m:\u001b[0m\u001b[0;34m\u001b[0m\u001b[0;34m\u001b[0m\u001b[0m\n\u001b[0;32m-> 4830\u001b[0;31m                 \u001b[0mnew_axis\u001b[0m \u001b[0;34m=\u001b[0m \u001b[0maxis\u001b[0m\u001b[0;34m.\u001b[0m\u001b[0mdrop\u001b[0m\u001b[0;34m(\u001b[0m\u001b[0mlabels\u001b[0m\u001b[0;34m,\u001b[0m \u001b[0merrors\u001b[0m\u001b[0;34m=\u001b[0m\u001b[0merrors\u001b[0m\u001b[0;34m)\u001b[0m\u001b[0;34m\u001b[0m\u001b[0;34m\u001b[0m\u001b[0m\n\u001b[0m\u001b[1;32m   4831\u001b[0m             \u001b[0mindexer\u001b[0m \u001b[0;34m=\u001b[0m \u001b[0maxis\u001b[0m\u001b[0;34m.\u001b[0m\u001b[0mget_indexer\u001b[0m\u001b[0;34m(\u001b[0m\u001b[0mnew_axis\u001b[0m\u001b[0;34m)\u001b[0m\u001b[0;34m\u001b[0m\u001b[0;34m\u001b[0m\u001b[0m\n\u001b[1;32m   4832\u001b[0m \u001b[0;34m\u001b[0m\u001b[0m\n",
            "\u001b[0;32m/usr/local/lib/python3.11/dist-packages/pandas/core/indexes/base.py\u001b[0m in \u001b[0;36mdrop\u001b[0;34m(self, labels, errors)\u001b[0m\n\u001b[1;32m   7068\u001b[0m         \u001b[0;32mif\u001b[0m \u001b[0mmask\u001b[0m\u001b[0;34m.\u001b[0m\u001b[0many\u001b[0m\u001b[0;34m(\u001b[0m\u001b[0;34m)\u001b[0m\u001b[0;34m:\u001b[0m\u001b[0;34m\u001b[0m\u001b[0;34m\u001b[0m\u001b[0m\n\u001b[1;32m   7069\u001b[0m             \u001b[0;32mif\u001b[0m \u001b[0merrors\u001b[0m \u001b[0;34m!=\u001b[0m \u001b[0;34m\"ignore\"\u001b[0m\u001b[0;34m:\u001b[0m\u001b[0;34m\u001b[0m\u001b[0;34m\u001b[0m\u001b[0m\n\u001b[0;32m-> 7070\u001b[0;31m                 \u001b[0;32mraise\u001b[0m \u001b[0mKeyError\u001b[0m\u001b[0;34m(\u001b[0m\u001b[0;34mf\"{labels[mask].tolist()} not found in axis\"\u001b[0m\u001b[0;34m)\u001b[0m\u001b[0;34m\u001b[0m\u001b[0;34m\u001b[0m\u001b[0m\n\u001b[0m\u001b[1;32m   7071\u001b[0m             \u001b[0mindexer\u001b[0m \u001b[0;34m=\u001b[0m \u001b[0mindexer\u001b[0m\u001b[0;34m[\u001b[0m\u001b[0;34m~\u001b[0m\u001b[0mmask\u001b[0m\u001b[0;34m]\u001b[0m\u001b[0;34m\u001b[0m\u001b[0;34m\u001b[0m\u001b[0m\n\u001b[1;32m   7072\u001b[0m         \u001b[0;32mreturn\u001b[0m \u001b[0mself\u001b[0m\u001b[0;34m.\u001b[0m\u001b[0mdelete\u001b[0m\u001b[0;34m(\u001b[0m\u001b[0mindexer\u001b[0m\u001b[0;34m)\u001b[0m\u001b[0;34m\u001b[0m\u001b[0;34m\u001b[0m\u001b[0m\n",
            "\u001b[0;31mKeyError\u001b[0m: \"['x', 'y'] not found in axis\""
          ]
        }
      ],
      "source": [
        "df.drop(axis = 1, labels = ['x', 'y'])"
      ]
    },
    {
      "cell_type": "code",
      "execution_count": 69,
      "metadata": {
        "jupyter": {
          "outputs_hidden": false
        },
        "id": "4sjJIsBXYkLR",
        "outputId": "9d3d64f1-989a-4712-8232-a24b4a7ba424",
        "colab": {
          "base_uri": "https://localhost:8080/"
        }
      },
      "outputs": [
        {
          "output_type": "stream",
          "name": "stdout",
          "text": [
            "cols_to_remove = [\"Unnamed: 5\", \"Unnamed: 6\"]\n",
            "df = df.drop(cols_to_remove, axis=1)"
          ]
        }
      ],
      "source": [
        " !cat solutions/05_13.py"
      ]
    },
    {
      "cell_type": "code",
      "execution_count": 68,
      "metadata": {
        "jupyter": {
          "outputs_hidden": false
        },
        "id": "DXTvxb1EYkLR",
        "outputId": "d3bcd3fc-fb71-49a2-ae0c-b7938e787682",
        "colab": {
          "base_uri": "https://localhost:8080/",
          "height": 206
        }
      },
      "outputs": [
        {
          "output_type": "execute_result",
          "data": {
            "text/plain": [
              "   index                                         CourseName  \\\n",
              "0      0                             Risk Assessment (Pest)   \n",
              "1      1                                    Organic Farming   \n",
              "2      2  Prevention Control and Eradication of Transmis...   \n",
              "3      3                               Contingency Planning   \n",
              "4      4                                              HACCP   \n",
              "\n",
              "             Location    DateFrom      DateTo  Attendees  \n",
              "0     lisbon;Portugal  2015-01-12  2015-01-16          1  \n",
              "1             Bristol  2015-01-19  2015-01-22          2  \n",
              "2  Ljubljana;Slovenia  2015-01-20  2015-01-23          2  \n",
              "3               Padua  2015-01-26  2015-01-30          2  \n",
              "4                Rome  2015-02-02  2015-02-06          2  "
            ],
            "text/html": [
              "\n",
              "  <div id=\"df-d15d0208-f93c-4720-aaac-09addf407070\" class=\"colab-df-container\">\n",
              "    <div>\n",
              "<style scoped>\n",
              "    .dataframe tbody tr th:only-of-type {\n",
              "        vertical-align: middle;\n",
              "    }\n",
              "\n",
              "    .dataframe tbody tr th {\n",
              "        vertical-align: top;\n",
              "    }\n",
              "\n",
              "    .dataframe thead th {\n",
              "        text-align: right;\n",
              "    }\n",
              "</style>\n",
              "<table border=\"1\" class=\"dataframe\">\n",
              "  <thead>\n",
              "    <tr style=\"text-align: right;\">\n",
              "      <th></th>\n",
              "      <th>index</th>\n",
              "      <th>CourseName</th>\n",
              "      <th>Location</th>\n",
              "      <th>DateFrom</th>\n",
              "      <th>DateTo</th>\n",
              "      <th>Attendees</th>\n",
              "    </tr>\n",
              "  </thead>\n",
              "  <tbody>\n",
              "    <tr>\n",
              "      <th>0</th>\n",
              "      <td>0</td>\n",
              "      <td>Risk Assessment (Pest)</td>\n",
              "      <td>lisbon;Portugal</td>\n",
              "      <td>2015-01-12</td>\n",
              "      <td>2015-01-16</td>\n",
              "      <td>1</td>\n",
              "    </tr>\n",
              "    <tr>\n",
              "      <th>1</th>\n",
              "      <td>1</td>\n",
              "      <td>Organic Farming</td>\n",
              "      <td>Bristol</td>\n",
              "      <td>2015-01-19</td>\n",
              "      <td>2015-01-22</td>\n",
              "      <td>2</td>\n",
              "    </tr>\n",
              "    <tr>\n",
              "      <th>2</th>\n",
              "      <td>2</td>\n",
              "      <td>Prevention Control and Eradication of Transmis...</td>\n",
              "      <td>Ljubljana;Slovenia</td>\n",
              "      <td>2015-01-20</td>\n",
              "      <td>2015-01-23</td>\n",
              "      <td>2</td>\n",
              "    </tr>\n",
              "    <tr>\n",
              "      <th>3</th>\n",
              "      <td>3</td>\n",
              "      <td>Contingency Planning</td>\n",
              "      <td>Padua</td>\n",
              "      <td>2015-01-26</td>\n",
              "      <td>2015-01-30</td>\n",
              "      <td>2</td>\n",
              "    </tr>\n",
              "    <tr>\n",
              "      <th>4</th>\n",
              "      <td>4</td>\n",
              "      <td>HACCP</td>\n",
              "      <td>Rome</td>\n",
              "      <td>2015-02-02</td>\n",
              "      <td>2015-02-06</td>\n",
              "      <td>2</td>\n",
              "    </tr>\n",
              "  </tbody>\n",
              "</table>\n",
              "</div>\n",
              "    <div class=\"colab-df-buttons\">\n",
              "\n",
              "  <div class=\"colab-df-container\">\n",
              "    <button class=\"colab-df-convert\" onclick=\"convertToInteractive('df-d15d0208-f93c-4720-aaac-09addf407070')\"\n",
              "            title=\"Convert this dataframe to an interactive table.\"\n",
              "            style=\"display:none;\">\n",
              "\n",
              "  <svg xmlns=\"http://www.w3.org/2000/svg\" height=\"24px\" viewBox=\"0 -960 960 960\">\n",
              "    <path d=\"M120-120v-720h720v720H120Zm60-500h600v-160H180v160Zm220 220h160v-160H400v160Zm0 220h160v-160H400v160ZM180-400h160v-160H180v160Zm440 0h160v-160H620v160ZM180-180h160v-160H180v160Zm440 0h160v-160H620v160Z\"/>\n",
              "  </svg>\n",
              "    </button>\n",
              "\n",
              "  <style>\n",
              "    .colab-df-container {\n",
              "      display:flex;\n",
              "      gap: 12px;\n",
              "    }\n",
              "\n",
              "    .colab-df-convert {\n",
              "      background-color: #E8F0FE;\n",
              "      border: none;\n",
              "      border-radius: 50%;\n",
              "      cursor: pointer;\n",
              "      display: none;\n",
              "      fill: #1967D2;\n",
              "      height: 32px;\n",
              "      padding: 0 0 0 0;\n",
              "      width: 32px;\n",
              "    }\n",
              "\n",
              "    .colab-df-convert:hover {\n",
              "      background-color: #E2EBFA;\n",
              "      box-shadow: 0px 1px 2px rgba(60, 64, 67, 0.3), 0px 1px 3px 1px rgba(60, 64, 67, 0.15);\n",
              "      fill: #174EA6;\n",
              "    }\n",
              "\n",
              "    .colab-df-buttons div {\n",
              "      margin-bottom: 4px;\n",
              "    }\n",
              "\n",
              "    [theme=dark] .colab-df-convert {\n",
              "      background-color: #3B4455;\n",
              "      fill: #D2E3FC;\n",
              "    }\n",
              "\n",
              "    [theme=dark] .colab-df-convert:hover {\n",
              "      background-color: #434B5C;\n",
              "      box-shadow: 0px 1px 3px 1px rgba(0, 0, 0, 0.15);\n",
              "      filter: drop-shadow(0px 1px 2px rgba(0, 0, 0, 0.3));\n",
              "      fill: #FFFFFF;\n",
              "    }\n",
              "  </style>\n",
              "\n",
              "    <script>\n",
              "      const buttonEl =\n",
              "        document.querySelector('#df-d15d0208-f93c-4720-aaac-09addf407070 button.colab-df-convert');\n",
              "      buttonEl.style.display =\n",
              "        google.colab.kernel.accessAllowed ? 'block' : 'none';\n",
              "\n",
              "      async function convertToInteractive(key) {\n",
              "        const element = document.querySelector('#df-d15d0208-f93c-4720-aaac-09addf407070');\n",
              "        const dataTable =\n",
              "          await google.colab.kernel.invokeFunction('convertToInteractive',\n",
              "                                                    [key], {});\n",
              "        if (!dataTable) return;\n",
              "\n",
              "        const docLinkHtml = 'Like what you see? Visit the ' +\n",
              "          '<a target=\"_blank\" href=https://colab.research.google.com/notebooks/data_table.ipynb>data table notebook</a>'\n",
              "          + ' to learn more about interactive tables.';\n",
              "        element.innerHTML = '';\n",
              "        dataTable['output_type'] = 'display_data';\n",
              "        await google.colab.output.renderOutput(dataTable, element);\n",
              "        const docLink = document.createElement('div');\n",
              "        docLink.innerHTML = docLinkHtml;\n",
              "        element.appendChild(docLink);\n",
              "      }\n",
              "    </script>\n",
              "  </div>\n",
              "\n",
              "\n",
              "    <div id=\"df-8e5eee56-8a6c-467a-9f1e-79eacee1b1ee\">\n",
              "      <button class=\"colab-df-quickchart\" onclick=\"quickchart('df-8e5eee56-8a6c-467a-9f1e-79eacee1b1ee')\"\n",
              "                title=\"Suggest charts\"\n",
              "                style=\"display:none;\">\n",
              "\n",
              "<svg xmlns=\"http://www.w3.org/2000/svg\" height=\"24px\"viewBox=\"0 0 24 24\"\n",
              "     width=\"24px\">\n",
              "    <g>\n",
              "        <path d=\"M19 3H5c-1.1 0-2 .9-2 2v14c0 1.1.9 2 2 2h14c1.1 0 2-.9 2-2V5c0-1.1-.9-2-2-2zM9 17H7v-7h2v7zm4 0h-2V7h2v10zm4 0h-2v-4h2v4z\"/>\n",
              "    </g>\n",
              "</svg>\n",
              "      </button>\n",
              "\n",
              "<style>\n",
              "  .colab-df-quickchart {\n",
              "      --bg-color: #E8F0FE;\n",
              "      --fill-color: #1967D2;\n",
              "      --hover-bg-color: #E2EBFA;\n",
              "      --hover-fill-color: #174EA6;\n",
              "      --disabled-fill-color: #AAA;\n",
              "      --disabled-bg-color: #DDD;\n",
              "  }\n",
              "\n",
              "  [theme=dark] .colab-df-quickchart {\n",
              "      --bg-color: #3B4455;\n",
              "      --fill-color: #D2E3FC;\n",
              "      --hover-bg-color: #434B5C;\n",
              "      --hover-fill-color: #FFFFFF;\n",
              "      --disabled-bg-color: #3B4455;\n",
              "      --disabled-fill-color: #666;\n",
              "  }\n",
              "\n",
              "  .colab-df-quickchart {\n",
              "    background-color: var(--bg-color);\n",
              "    border: none;\n",
              "    border-radius: 50%;\n",
              "    cursor: pointer;\n",
              "    display: none;\n",
              "    fill: var(--fill-color);\n",
              "    height: 32px;\n",
              "    padding: 0;\n",
              "    width: 32px;\n",
              "  }\n",
              "\n",
              "  .colab-df-quickchart:hover {\n",
              "    background-color: var(--hover-bg-color);\n",
              "    box-shadow: 0 1px 2px rgba(60, 64, 67, 0.3), 0 1px 3px 1px rgba(60, 64, 67, 0.15);\n",
              "    fill: var(--button-hover-fill-color);\n",
              "  }\n",
              "\n",
              "  .colab-df-quickchart-complete:disabled,\n",
              "  .colab-df-quickchart-complete:disabled:hover {\n",
              "    background-color: var(--disabled-bg-color);\n",
              "    fill: var(--disabled-fill-color);\n",
              "    box-shadow: none;\n",
              "  }\n",
              "\n",
              "  .colab-df-spinner {\n",
              "    border: 2px solid var(--fill-color);\n",
              "    border-color: transparent;\n",
              "    border-bottom-color: var(--fill-color);\n",
              "    animation:\n",
              "      spin 1s steps(1) infinite;\n",
              "  }\n",
              "\n",
              "  @keyframes spin {\n",
              "    0% {\n",
              "      border-color: transparent;\n",
              "      border-bottom-color: var(--fill-color);\n",
              "      border-left-color: var(--fill-color);\n",
              "    }\n",
              "    20% {\n",
              "      border-color: transparent;\n",
              "      border-left-color: var(--fill-color);\n",
              "      border-top-color: var(--fill-color);\n",
              "    }\n",
              "    30% {\n",
              "      border-color: transparent;\n",
              "      border-left-color: var(--fill-color);\n",
              "      border-top-color: var(--fill-color);\n",
              "      border-right-color: var(--fill-color);\n",
              "    }\n",
              "    40% {\n",
              "      border-color: transparent;\n",
              "      border-right-color: var(--fill-color);\n",
              "      border-top-color: var(--fill-color);\n",
              "    }\n",
              "    60% {\n",
              "      border-color: transparent;\n",
              "      border-right-color: var(--fill-color);\n",
              "    }\n",
              "    80% {\n",
              "      border-color: transparent;\n",
              "      border-right-color: var(--fill-color);\n",
              "      border-bottom-color: var(--fill-color);\n",
              "    }\n",
              "    90% {\n",
              "      border-color: transparent;\n",
              "      border-bottom-color: var(--fill-color);\n",
              "    }\n",
              "  }\n",
              "</style>\n",
              "\n",
              "      <script>\n",
              "        async function quickchart(key) {\n",
              "          const quickchartButtonEl =\n",
              "            document.querySelector('#' + key + ' button');\n",
              "          quickchartButtonEl.disabled = true;  // To prevent multiple clicks.\n",
              "          quickchartButtonEl.classList.add('colab-df-spinner');\n",
              "          try {\n",
              "            const charts = await google.colab.kernel.invokeFunction(\n",
              "                'suggestCharts', [key], {});\n",
              "          } catch (error) {\n",
              "            console.error('Error during call to suggestCharts:', error);\n",
              "          }\n",
              "          quickchartButtonEl.classList.remove('colab-df-spinner');\n",
              "          quickchartButtonEl.classList.add('colab-df-quickchart-complete');\n",
              "        }\n",
              "        (() => {\n",
              "          let quickchartButtonEl =\n",
              "            document.querySelector('#df-8e5eee56-8a6c-467a-9f1e-79eacee1b1ee button');\n",
              "          quickchartButtonEl.style.display =\n",
              "            google.colab.kernel.accessAllowed ? 'block' : 'none';\n",
              "        })();\n",
              "      </script>\n",
              "    </div>\n",
              "\n",
              "    </div>\n",
              "  </div>\n"
            ],
            "application/vnd.google.colaboratory.intrinsic+json": {
              "type": "dataframe",
              "variable_name": "df",
              "summary": "{\n  \"name\": \"df\",\n  \"rows\": 266,\n  \"fields\": [\n    {\n      \"column\": \"index\",\n      \"properties\": {\n        \"dtype\": \"number\",\n        \"std\": 35,\n        \"min\": 0,\n        \"max\": 121,\n        \"num_unique_values\": 122,\n        \"samples\": [\n          18,\n          45,\n          47\n        ],\n        \"semantic_type\": \"\",\n        \"description\": \"\"\n      }\n    },\n    {\n      \"column\": \"CourseName\",\n      \"properties\": {\n        \"dtype\": \"category\",\n        \"num_unique_values\": 70,\n        \"samples\": [\n          \"Food Composition and Information\",\n          \"Risk Assessment (Pest)\",\n          \"Post-slaughter traceability of Meat (FVO)\"\n        ],\n        \"semantic_type\": \"\",\n        \"description\": \"\"\n      }\n    },\n    {\n      \"column\": \"Location\",\n      \"properties\": {\n        \"dtype\": \"category\",\n        \"num_unique_values\": 126,\n        \"samples\": [\n          \"Krakow;Poland\",\n          \"Madrid\",\n          \"Amsterdam;Netherlands\"\n        ],\n        \"semantic_type\": \"\",\n        \"description\": \"\"\n      }\n    },\n    {\n      \"column\": \"DateFrom\",\n      \"properties\": {\n        \"dtype\": \"object\",\n        \"num_unique_values\": 138,\n        \"samples\": [\n          \"2016-05-16\",\n          \"2016-09-05\",\n          \"2015-03-16\"\n        ],\n        \"semantic_type\": \"\",\n        \"description\": \"\"\n      }\n    },\n    {\n      \"column\": \"DateTo\",\n      \"properties\": {\n        \"dtype\": \"object\",\n        \"num_unique_values\": 114,\n        \"samples\": [\n          \"2016-06-10\",\n          \"2015-02-06\",\n          \"2015-09-17\"\n        ],\n        \"semantic_type\": \"\",\n        \"description\": \"\"\n      }\n    },\n    {\n      \"column\": \"Attendees\",\n      \"properties\": {\n        \"dtype\": \"number\",\n        \"std\": 1,\n        \"min\": 1,\n        \"max\": 13,\n        \"num_unique_values\": 7,\n        \"samples\": [\n          1,\n          2,\n          6\n        ],\n        \"semantic_type\": \"\",\n        \"description\": \"\"\n      }\n    }\n  ]\n}"
            }
          },
          "metadata": {},
          "execution_count": 68
        }
      ],
      "source": [
        "df.head()"
      ]
    },
    {
      "cell_type": "markdown",
      "metadata": {
        "id": "a50-uEhtYkLR"
      },
      "source": [
        "---\n",
        "\n",
        "<div class=\"alert alert-block alert-warning\" style=\"padding: 0px; padding-left: 20px; padding-top: 5px;\"><h2 style=\"color: #301E40\">\n",
        "Text data\n",
        "</h2><br>\n",
        "</div>"
      ]
    },
    {
      "cell_type": "markdown",
      "metadata": {
        "id": "p_olR3MUYkLR"
      },
      "source": [
        "To [work with text data](https://pandas.pydata.org/pandas-docs/version/0.23.4/text.html), We will have to use the ***str*** attribute to access the methods (e.g. df['col'].str.replace('-', ' ')).  \n",
        "We will have to use this attribute in different cases, but before that we will look at the Location column.  \n",
        ">Display the unique values of the Location column."
      ]
    },
    {
      "cell_type": "code",
      "execution_count": 70,
      "metadata": {
        "jupyter": {
          "outputs_hidden": false
        },
        "id": "MqD_AbDxYkLS",
        "outputId": "56324c4b-0bd4-49c8-c3fb-70d26605709c",
        "colab": {
          "base_uri": "https://localhost:8080/"
        }
      },
      "outputs": [
        {
          "output_type": "execute_result",
          "data": {
            "text/plain": [
              "array(['lisbon;Portugal', 'Bristol', 'Ljubljana;Slovenia', 'Padua',\n",
              "       'Rome', 'Parma', 'Lisbon', 'Munich', 'Murcia', 'Amsterdam',\n",
              "       'Venice', 'Athens', 'Warsaw', 'Berlin', 'Lyon', 'Antwerp', 'Graz',\n",
              "       'Barcelona', ' Budapest', 'Madrid', 'Vilnius', 'Milan;Italy',\n",
              "       'Budapest', 'Trim; Ireland ', 'Grange;Ireland', 'Riga',\n",
              "       'Zagreb;Croatia', 'Genoa', 'Tallinn', 'Padua;Italy',\n",
              "       'Coimbra;Portugal', 'Valencia', 'Bratislava;Slovakia',\n",
              "       'Felixstowe;United Kingdom', 'Maribor', 'Unknown;France', 'Krakow',\n",
              "       'Prague', 'Bremen', 'Rotterdam;Netherlands', 'Munich;Germany',\n",
              "       'Unknown;Denmark', 'Vienna;Austria', 'Trim;Ireland',\n",
              "       'Marseille;France', 'Venice/Udine; Italy ', 'Dusseldorf;Germany',\n",
              "       'Maribor;Slovenia', 'Cardiff', 'Brussels/Antwerp',\n",
              "       'Utrecht;Netherlands', 'Rome;IT', 'Malaga;Spain', 'Unknown;UK',\n",
              "       'Valencia;Spain', 'Warsaw;Poland', 'Tallinn;Estonia', 'Gothenburg',\n",
              "       'Unknown;Italy', 'Felixstowe', 'D?sseldorf', 'Barcelona;Spain',\n",
              "       'Sofia Bulgaria', 'London', 'Budapest;Hungary', 'Lisbon;Portugal',\n",
              "       'Alicante/Murcia;Spain', 'Vienna', 'Frankfurt;Switzerland',\n",
              "       'Brussels', 'Zagreb', ' Venice; Italy', 'Tarragona;Spain',\n",
              "       'Krakow;Poland', 'Athens ; Greece', 'Madrid;Spain',\n",
              "       'Bremen;Germany', 'Athens;Greece', 'Unknown;Spain', 'London ',\n",
              "       'Antwerp; Belgium', 'Torino;Italy', 'Lisbon ', 'Venice/Treviso',\n",
              "       'Genoa;Italy', 'Nantes;France', 'Dublin;Ireland',\n",
              "       'Vilnius;Lithuania', 'Alicante;Spain', 'Grange ; Ireland',\n",
              "       'Cardiff;UK', 'Treviso', 'Brussels;Belgium', 'Ljubljana', 'Poland',\n",
              "       'Malaga', 'Naples;Italy', 'Prague;CZ', 'Antwerp;Belgium', 'lisbon',\n",
              "       'Turin', 'Riga;Latvia', 'Trim', 'Uppsala;Sweden', 'Frankfurt',\n",
              "       'Dusseldorf', 'Trim;Ireland ', 'Milan', 'Coimbra', 'Naples',\n",
              "       'Sofia;BG', 'Rotterdam/Delft', 'Bratislava', 'Denmark',\n",
              "       'Thessaloniki;GR', 'Leipzig;Germany', 'Amsterdam;Netherlands',\n",
              "       'Turin;Italy', 'Berlin;Germany', 'Torino', 'Ljubljana;SI',\n",
              "       'Venice;IT', 'Seville;Spain', 'Treviso;Italy', 'Venice;Italy',\n",
              "       'Zagreb/Helsinki'], dtype=object)"
            ]
          },
          "metadata": {},
          "execution_count": 70
        }
      ],
      "source": [
        "df['Location'].unique()"
      ]
    },
    {
      "cell_type": "code",
      "execution_count": 71,
      "metadata": {
        "jupyter": {
          "outputs_hidden": false
        },
        "id": "0yr3IMlAYkLS",
        "outputId": "889db1d4-89f5-4fa8-8c3a-cd9ade561df8",
        "colab": {
          "base_uri": "https://localhost:8080/"
        }
      },
      "outputs": [
        {
          "output_type": "stream",
          "name": "stdout",
          "text": [
            "df[\"Location\"].unique()"
          ]
        }
      ],
      "source": [
        "!cat solutions/05_14.py"
      ]
    },
    {
      "cell_type": "markdown",
      "metadata": {
        "id": "K24H54nRYkLS"
      },
      "source": [
        "You can see that the cities and countries are separated with a semi-column (even if some values are missing). We are going to split the ***Location*** column.\n",
        ">Try splitting the ***Location*** column on the semi-column.  \n",
        ">You can check the [link](https://pandas.pydata.org/pandas-docs/version/0.23.4/text.html) provided earlier or the [documentation](https://pandas.pydata.org/pandas-docs/stable/reference/api/pandas.Series.str.split.html)."
      ]
    },
    {
      "cell_type": "code",
      "execution_count": 72,
      "metadata": {
        "jupyter": {
          "outputs_hidden": false
        },
        "id": "cqT9bEqdYkLS",
        "outputId": "66ee0f2d-56cd-438b-db71-d59c1571e85d",
        "colab": {
          "base_uri": "https://localhost:8080/",
          "height": 458
        }
      },
      "outputs": [
        {
          "output_type": "execute_result",
          "data": {
            "text/plain": [
              "0         [lisbon, Portugal]\n",
              "1                  [Bristol]\n",
              "2      [Ljubljana, Slovenia]\n",
              "3                    [Padua]\n",
              "4                     [Rome]\n",
              "               ...          \n",
              "261             [Venice, IT]\n",
              "262               [Valencia]\n",
              "263             [Bratislava]\n",
              "264        [Zagreb/Helsinki]\n",
              "265                [Antwerp]\n",
              "Name: Location, Length: 266, dtype: object"
            ],
            "text/html": [
              "<div>\n",
              "<style scoped>\n",
              "    .dataframe tbody tr th:only-of-type {\n",
              "        vertical-align: middle;\n",
              "    }\n",
              "\n",
              "    .dataframe tbody tr th {\n",
              "        vertical-align: top;\n",
              "    }\n",
              "\n",
              "    .dataframe thead th {\n",
              "        text-align: right;\n",
              "    }\n",
              "</style>\n",
              "<table border=\"1\" class=\"dataframe\">\n",
              "  <thead>\n",
              "    <tr style=\"text-align: right;\">\n",
              "      <th></th>\n",
              "      <th>Location</th>\n",
              "    </tr>\n",
              "  </thead>\n",
              "  <tbody>\n",
              "    <tr>\n",
              "      <th>0</th>\n",
              "      <td>[lisbon, Portugal]</td>\n",
              "    </tr>\n",
              "    <tr>\n",
              "      <th>1</th>\n",
              "      <td>[Bristol]</td>\n",
              "    </tr>\n",
              "    <tr>\n",
              "      <th>2</th>\n",
              "      <td>[Ljubljana, Slovenia]</td>\n",
              "    </tr>\n",
              "    <tr>\n",
              "      <th>3</th>\n",
              "      <td>[Padua]</td>\n",
              "    </tr>\n",
              "    <tr>\n",
              "      <th>4</th>\n",
              "      <td>[Rome]</td>\n",
              "    </tr>\n",
              "    <tr>\n",
              "      <th>...</th>\n",
              "      <td>...</td>\n",
              "    </tr>\n",
              "    <tr>\n",
              "      <th>261</th>\n",
              "      <td>[Venice, IT]</td>\n",
              "    </tr>\n",
              "    <tr>\n",
              "      <th>262</th>\n",
              "      <td>[Valencia]</td>\n",
              "    </tr>\n",
              "    <tr>\n",
              "      <th>263</th>\n",
              "      <td>[Bratislava]</td>\n",
              "    </tr>\n",
              "    <tr>\n",
              "      <th>264</th>\n",
              "      <td>[Zagreb/Helsinki]</td>\n",
              "    </tr>\n",
              "    <tr>\n",
              "      <th>265</th>\n",
              "      <td>[Antwerp]</td>\n",
              "    </tr>\n",
              "  </tbody>\n",
              "</table>\n",
              "<p>266 rows × 1 columns</p>\n",
              "</div><br><label><b>dtype:</b> object</label>"
            ]
          },
          "metadata": {},
          "execution_count": 72
        }
      ],
      "source": [
        "df['Location'].str.split(';')"
      ]
    },
    {
      "cell_type": "code",
      "source": [
        "df[\"Location\"].str.split(pat=\";\")"
      ],
      "metadata": {
        "id": "ya0751vOejw1",
        "outputId": "78919d09-b7d9-4713-a47c-f420b8e9b230",
        "colab": {
          "base_uri": "https://localhost:8080/",
          "height": 458
        }
      },
      "execution_count": 74,
      "outputs": [
        {
          "output_type": "execute_result",
          "data": {
            "text/plain": [
              "0         [lisbon, Portugal]\n",
              "1                  [Bristol]\n",
              "2      [Ljubljana, Slovenia]\n",
              "3                    [Padua]\n",
              "4                     [Rome]\n",
              "               ...          \n",
              "261             [Venice, IT]\n",
              "262               [Valencia]\n",
              "263             [Bratislava]\n",
              "264        [Zagreb/Helsinki]\n",
              "265                [Antwerp]\n",
              "Name: Location, Length: 266, dtype: object"
            ],
            "text/html": [
              "<div>\n",
              "<style scoped>\n",
              "    .dataframe tbody tr th:only-of-type {\n",
              "        vertical-align: middle;\n",
              "    }\n",
              "\n",
              "    .dataframe tbody tr th {\n",
              "        vertical-align: top;\n",
              "    }\n",
              "\n",
              "    .dataframe thead th {\n",
              "        text-align: right;\n",
              "    }\n",
              "</style>\n",
              "<table border=\"1\" class=\"dataframe\">\n",
              "  <thead>\n",
              "    <tr style=\"text-align: right;\">\n",
              "      <th></th>\n",
              "      <th>Location</th>\n",
              "    </tr>\n",
              "  </thead>\n",
              "  <tbody>\n",
              "    <tr>\n",
              "      <th>0</th>\n",
              "      <td>[lisbon, Portugal]</td>\n",
              "    </tr>\n",
              "    <tr>\n",
              "      <th>1</th>\n",
              "      <td>[Bristol]</td>\n",
              "    </tr>\n",
              "    <tr>\n",
              "      <th>2</th>\n",
              "      <td>[Ljubljana, Slovenia]</td>\n",
              "    </tr>\n",
              "    <tr>\n",
              "      <th>3</th>\n",
              "      <td>[Padua]</td>\n",
              "    </tr>\n",
              "    <tr>\n",
              "      <th>4</th>\n",
              "      <td>[Rome]</td>\n",
              "    </tr>\n",
              "    <tr>\n",
              "      <th>...</th>\n",
              "      <td>...</td>\n",
              "    </tr>\n",
              "    <tr>\n",
              "      <th>261</th>\n",
              "      <td>[Venice, IT]</td>\n",
              "    </tr>\n",
              "    <tr>\n",
              "      <th>262</th>\n",
              "      <td>[Valencia]</td>\n",
              "    </tr>\n",
              "    <tr>\n",
              "      <th>263</th>\n",
              "      <td>[Bratislava]</td>\n",
              "    </tr>\n",
              "    <tr>\n",
              "      <th>264</th>\n",
              "      <td>[Zagreb/Helsinki]</td>\n",
              "    </tr>\n",
              "    <tr>\n",
              "      <th>265</th>\n",
              "      <td>[Antwerp]</td>\n",
              "    </tr>\n",
              "  </tbody>\n",
              "</table>\n",
              "<p>266 rows × 1 columns</p>\n",
              "</div><br><label><b>dtype:</b> object</label>"
            ]
          },
          "metadata": {},
          "execution_count": 74
        }
      ]
    },
    {
      "cell_type": "code",
      "execution_count": 73,
      "metadata": {
        "jupyter": {
          "outputs_hidden": false
        },
        "id": "DkouSYAvYkLS",
        "outputId": "7ff08217-18c3-465c-858e-1ccae28b6b1f",
        "colab": {
          "base_uri": "https://localhost:8080/"
        }
      },
      "outputs": [
        {
          "output_type": "stream",
          "name": "stdout",
          "text": [
            "df[\"Location\"].str.split(pat=\";\")"
          ]
        }
      ],
      "source": [
        " !cat solutions/05_15.py"
      ]
    },
    {
      "cell_type": "markdown",
      "metadata": {
        "id": "27KVw_Q_YkLS"
      },
      "source": [
        "This return a list with the items which were before and after the semi-column.  \n",
        ">Try again to split again the ***Location*** column, but expand expand the results to get it in different columns."
      ]
    },
    {
      "cell_type": "code",
      "execution_count": 192,
      "metadata": {
        "jupyter": {
          "outputs_hidden": false
        },
        "id": "by9p5BxiYkLS",
        "outputId": "360e43a3-ca5f-47c4-b94c-ab129826394d",
        "colab": {
          "base_uri": "https://localhost:8080/",
          "height": 458
        }
      },
      "outputs": [
        {
          "output_type": "execute_result",
          "data": {
            "text/plain": [
              "0               lisbon\n",
              "1              Bristol\n",
              "2            Ljubljana\n",
              "3                Padua\n",
              "4                 Rome\n",
              "            ...       \n",
              "261             Venice\n",
              "262           Valencia\n",
              "263         Bratislava\n",
              "264    Zagreb/Helsinki\n",
              "265            Antwerp\n",
              "Name: 0, Length: 266, dtype: object"
            ],
            "text/html": [
              "<div>\n",
              "<style scoped>\n",
              "    .dataframe tbody tr th:only-of-type {\n",
              "        vertical-align: middle;\n",
              "    }\n",
              "\n",
              "    .dataframe tbody tr th {\n",
              "        vertical-align: top;\n",
              "    }\n",
              "\n",
              "    .dataframe thead th {\n",
              "        text-align: right;\n",
              "    }\n",
              "</style>\n",
              "<table border=\"1\" class=\"dataframe\">\n",
              "  <thead>\n",
              "    <tr style=\"text-align: right;\">\n",
              "      <th></th>\n",
              "      <th>0</th>\n",
              "    </tr>\n",
              "  </thead>\n",
              "  <tbody>\n",
              "    <tr>\n",
              "      <th>0</th>\n",
              "      <td>lisbon</td>\n",
              "    </tr>\n",
              "    <tr>\n",
              "      <th>1</th>\n",
              "      <td>Bristol</td>\n",
              "    </tr>\n",
              "    <tr>\n",
              "      <th>2</th>\n",
              "      <td>Ljubljana</td>\n",
              "    </tr>\n",
              "    <tr>\n",
              "      <th>3</th>\n",
              "      <td>Padua</td>\n",
              "    </tr>\n",
              "    <tr>\n",
              "      <th>4</th>\n",
              "      <td>Rome</td>\n",
              "    </tr>\n",
              "    <tr>\n",
              "      <th>...</th>\n",
              "      <td>...</td>\n",
              "    </tr>\n",
              "    <tr>\n",
              "      <th>261</th>\n",
              "      <td>Venice</td>\n",
              "    </tr>\n",
              "    <tr>\n",
              "      <th>262</th>\n",
              "      <td>Valencia</td>\n",
              "    </tr>\n",
              "    <tr>\n",
              "      <th>263</th>\n",
              "      <td>Bratislava</td>\n",
              "    </tr>\n",
              "    <tr>\n",
              "      <th>264</th>\n",
              "      <td>Zagreb/Helsinki</td>\n",
              "    </tr>\n",
              "    <tr>\n",
              "      <th>265</th>\n",
              "      <td>Antwerp</td>\n",
              "    </tr>\n",
              "  </tbody>\n",
              "</table>\n",
              "<p>266 rows × 1 columns</p>\n",
              "</div><br><label><b>dtype:</b> object</label>"
            ]
          },
          "metadata": {},
          "execution_count": 192
        }
      ],
      "source": [
        "df_temp = df['Location'].str.split(pat = ';', expand= True)\n",
        "df_temp[0]"
      ]
    },
    {
      "cell_type": "code",
      "source": [
        "df['Location'].str.split(pat = ';')"
      ],
      "metadata": {
        "id": "rIN1mAXbfeOc",
        "outputId": "05b836bd-09ad-474f-99e0-93a62f4f272b",
        "colab": {
          "base_uri": "https://localhost:8080/",
          "height": 458
        }
      },
      "execution_count": 80,
      "outputs": [
        {
          "output_type": "execute_result",
          "data": {
            "text/plain": [
              "0         [lisbon, Portugal]\n",
              "1                  [Bristol]\n",
              "2      [Ljubljana, Slovenia]\n",
              "3                    [Padua]\n",
              "4                     [Rome]\n",
              "               ...          \n",
              "261             [Venice, IT]\n",
              "262               [Valencia]\n",
              "263             [Bratislava]\n",
              "264        [Zagreb/Helsinki]\n",
              "265                [Antwerp]\n",
              "Name: Location, Length: 266, dtype: object"
            ],
            "text/html": [
              "<div>\n",
              "<style scoped>\n",
              "    .dataframe tbody tr th:only-of-type {\n",
              "        vertical-align: middle;\n",
              "    }\n",
              "\n",
              "    .dataframe tbody tr th {\n",
              "        vertical-align: top;\n",
              "    }\n",
              "\n",
              "    .dataframe thead th {\n",
              "        text-align: right;\n",
              "    }\n",
              "</style>\n",
              "<table border=\"1\" class=\"dataframe\">\n",
              "  <thead>\n",
              "    <tr style=\"text-align: right;\">\n",
              "      <th></th>\n",
              "      <th>Location</th>\n",
              "    </tr>\n",
              "  </thead>\n",
              "  <tbody>\n",
              "    <tr>\n",
              "      <th>0</th>\n",
              "      <td>[lisbon, Portugal]</td>\n",
              "    </tr>\n",
              "    <tr>\n",
              "      <th>1</th>\n",
              "      <td>[Bristol]</td>\n",
              "    </tr>\n",
              "    <tr>\n",
              "      <th>2</th>\n",
              "      <td>[Ljubljana, Slovenia]</td>\n",
              "    </tr>\n",
              "    <tr>\n",
              "      <th>3</th>\n",
              "      <td>[Padua]</td>\n",
              "    </tr>\n",
              "    <tr>\n",
              "      <th>4</th>\n",
              "      <td>[Rome]</td>\n",
              "    </tr>\n",
              "    <tr>\n",
              "      <th>...</th>\n",
              "      <td>...</td>\n",
              "    </tr>\n",
              "    <tr>\n",
              "      <th>261</th>\n",
              "      <td>[Venice, IT]</td>\n",
              "    </tr>\n",
              "    <tr>\n",
              "      <th>262</th>\n",
              "      <td>[Valencia]</td>\n",
              "    </tr>\n",
              "    <tr>\n",
              "      <th>263</th>\n",
              "      <td>[Bratislava]</td>\n",
              "    </tr>\n",
              "    <tr>\n",
              "      <th>264</th>\n",
              "      <td>[Zagreb/Helsinki]</td>\n",
              "    </tr>\n",
              "    <tr>\n",
              "      <th>265</th>\n",
              "      <td>[Antwerp]</td>\n",
              "    </tr>\n",
              "  </tbody>\n",
              "</table>\n",
              "<p>266 rows × 1 columns</p>\n",
              "</div><br><label><b>dtype:</b> object</label>"
            ]
          },
          "metadata": {},
          "execution_count": 80
        }
      ]
    },
    {
      "cell_type": "code",
      "execution_count": 82,
      "metadata": {
        "jupyter": {
          "outputs_hidden": false
        },
        "scrolled": true,
        "id": "GG9oMI_jYkLS",
        "outputId": "6b903f20-7751-43f0-c77e-17e462f40f1f",
        "colab": {
          "base_uri": "https://localhost:8080/"
        }
      },
      "outputs": [
        {
          "output_type": "stream",
          "name": "stdout",
          "text": [
            "df[\"Location\"].str.split(pat=\";\", expand=True)"
          ]
        }
      ],
      "source": [
        "!cat solutions/05_16.py"
      ]
    },
    {
      "cell_type": "markdown",
      "metadata": {
        "id": "AuVLC4YeYkLS"
      },
      "source": [
        ">Create a ***city*** and a ***country*** columns in df using this split."
      ]
    },
    {
      "cell_type": "code",
      "execution_count": 193,
      "metadata": {
        "jupyter": {
          "outputs_hidden": false
        },
        "id": "xxDQxFQSYkLS"
      },
      "outputs": [],
      "source": [
        "df['city'] = df_temp[0]\n",
        "df['country'] = df_temp[1]"
      ]
    },
    {
      "cell_type": "code",
      "execution_count": 86,
      "metadata": {
        "jupyter": {
          "outputs_hidden": false
        },
        "id": "NAGl4-L-YkLS",
        "outputId": "933b87e0-629a-49ae-af64-506868630b08",
        "colab": {
          "base_uri": "https://localhost:8080/"
        }
      },
      "outputs": [
        {
          "output_type": "stream",
          "name": "stdout",
          "text": [
            "df[[\"city\", \"country\"]] = df[\"Location\"].str.split(pat=\";\", expand=True)"
          ]
        }
      ],
      "source": [
        "!cat solutions/05_17.py"
      ]
    },
    {
      "cell_type": "code",
      "source": [
        "df.head()"
      ],
      "metadata": {
        "id": "3Xspc6higMA7",
        "outputId": "973e32bf-2798-41d7-b9fb-e19b1fb2cc87",
        "colab": {
          "base_uri": "https://localhost:8080/",
          "height": 293
        }
      },
      "execution_count": 88,
      "outputs": [
        {
          "output_type": "execute_result",
          "data": {
            "text/plain": [
              "   index                                         CourseName  \\\n",
              "0      0                             Risk Assessment (Pest)   \n",
              "1      1                                    Organic Farming   \n",
              "2      2  Prevention Control and Eradication of Transmis...   \n",
              "3      3                               Contingency Planning   \n",
              "4      4                                              HACCP   \n",
              "\n",
              "             Location    DateFrom      DateTo  Attendees       city   country  \n",
              "0     lisbon;Portugal  2015-01-12  2015-01-16          1     lisbon  Portugal  \n",
              "1             Bristol  2015-01-19  2015-01-22          2    Bristol      None  \n",
              "2  Ljubljana;Slovenia  2015-01-20  2015-01-23          2  Ljubljana  Slovenia  \n",
              "3               Padua  2015-01-26  2015-01-30          2      Padua      None  \n",
              "4                Rome  2015-02-02  2015-02-06          2       Rome      None  "
            ],
            "text/html": [
              "\n",
              "  <div id=\"df-7185d487-5fbe-45fe-be50-032722a8f154\" class=\"colab-df-container\">\n",
              "    <div>\n",
              "<style scoped>\n",
              "    .dataframe tbody tr th:only-of-type {\n",
              "        vertical-align: middle;\n",
              "    }\n",
              "\n",
              "    .dataframe tbody tr th {\n",
              "        vertical-align: top;\n",
              "    }\n",
              "\n",
              "    .dataframe thead th {\n",
              "        text-align: right;\n",
              "    }\n",
              "</style>\n",
              "<table border=\"1\" class=\"dataframe\">\n",
              "  <thead>\n",
              "    <tr style=\"text-align: right;\">\n",
              "      <th></th>\n",
              "      <th>index</th>\n",
              "      <th>CourseName</th>\n",
              "      <th>Location</th>\n",
              "      <th>DateFrom</th>\n",
              "      <th>DateTo</th>\n",
              "      <th>Attendees</th>\n",
              "      <th>city</th>\n",
              "      <th>country</th>\n",
              "    </tr>\n",
              "  </thead>\n",
              "  <tbody>\n",
              "    <tr>\n",
              "      <th>0</th>\n",
              "      <td>0</td>\n",
              "      <td>Risk Assessment (Pest)</td>\n",
              "      <td>lisbon;Portugal</td>\n",
              "      <td>2015-01-12</td>\n",
              "      <td>2015-01-16</td>\n",
              "      <td>1</td>\n",
              "      <td>lisbon</td>\n",
              "      <td>Portugal</td>\n",
              "    </tr>\n",
              "    <tr>\n",
              "      <th>1</th>\n",
              "      <td>1</td>\n",
              "      <td>Organic Farming</td>\n",
              "      <td>Bristol</td>\n",
              "      <td>2015-01-19</td>\n",
              "      <td>2015-01-22</td>\n",
              "      <td>2</td>\n",
              "      <td>Bristol</td>\n",
              "      <td>None</td>\n",
              "    </tr>\n",
              "    <tr>\n",
              "      <th>2</th>\n",
              "      <td>2</td>\n",
              "      <td>Prevention Control and Eradication of Transmis...</td>\n",
              "      <td>Ljubljana;Slovenia</td>\n",
              "      <td>2015-01-20</td>\n",
              "      <td>2015-01-23</td>\n",
              "      <td>2</td>\n",
              "      <td>Ljubljana</td>\n",
              "      <td>Slovenia</td>\n",
              "    </tr>\n",
              "    <tr>\n",
              "      <th>3</th>\n",
              "      <td>3</td>\n",
              "      <td>Contingency Planning</td>\n",
              "      <td>Padua</td>\n",
              "      <td>2015-01-26</td>\n",
              "      <td>2015-01-30</td>\n",
              "      <td>2</td>\n",
              "      <td>Padua</td>\n",
              "      <td>None</td>\n",
              "    </tr>\n",
              "    <tr>\n",
              "      <th>4</th>\n",
              "      <td>4</td>\n",
              "      <td>HACCP</td>\n",
              "      <td>Rome</td>\n",
              "      <td>2015-02-02</td>\n",
              "      <td>2015-02-06</td>\n",
              "      <td>2</td>\n",
              "      <td>Rome</td>\n",
              "      <td>None</td>\n",
              "    </tr>\n",
              "  </tbody>\n",
              "</table>\n",
              "</div>\n",
              "    <div class=\"colab-df-buttons\">\n",
              "\n",
              "  <div class=\"colab-df-container\">\n",
              "    <button class=\"colab-df-convert\" onclick=\"convertToInteractive('df-7185d487-5fbe-45fe-be50-032722a8f154')\"\n",
              "            title=\"Convert this dataframe to an interactive table.\"\n",
              "            style=\"display:none;\">\n",
              "\n",
              "  <svg xmlns=\"http://www.w3.org/2000/svg\" height=\"24px\" viewBox=\"0 -960 960 960\">\n",
              "    <path d=\"M120-120v-720h720v720H120Zm60-500h600v-160H180v160Zm220 220h160v-160H400v160Zm0 220h160v-160H400v160ZM180-400h160v-160H180v160Zm440 0h160v-160H620v160ZM180-180h160v-160H180v160Zm440 0h160v-160H620v160Z\"/>\n",
              "  </svg>\n",
              "    </button>\n",
              "\n",
              "  <style>\n",
              "    .colab-df-container {\n",
              "      display:flex;\n",
              "      gap: 12px;\n",
              "    }\n",
              "\n",
              "    .colab-df-convert {\n",
              "      background-color: #E8F0FE;\n",
              "      border: none;\n",
              "      border-radius: 50%;\n",
              "      cursor: pointer;\n",
              "      display: none;\n",
              "      fill: #1967D2;\n",
              "      height: 32px;\n",
              "      padding: 0 0 0 0;\n",
              "      width: 32px;\n",
              "    }\n",
              "\n",
              "    .colab-df-convert:hover {\n",
              "      background-color: #E2EBFA;\n",
              "      box-shadow: 0px 1px 2px rgba(60, 64, 67, 0.3), 0px 1px 3px 1px rgba(60, 64, 67, 0.15);\n",
              "      fill: #174EA6;\n",
              "    }\n",
              "\n",
              "    .colab-df-buttons div {\n",
              "      margin-bottom: 4px;\n",
              "    }\n",
              "\n",
              "    [theme=dark] .colab-df-convert {\n",
              "      background-color: #3B4455;\n",
              "      fill: #D2E3FC;\n",
              "    }\n",
              "\n",
              "    [theme=dark] .colab-df-convert:hover {\n",
              "      background-color: #434B5C;\n",
              "      box-shadow: 0px 1px 3px 1px rgba(0, 0, 0, 0.15);\n",
              "      filter: drop-shadow(0px 1px 2px rgba(0, 0, 0, 0.3));\n",
              "      fill: #FFFFFF;\n",
              "    }\n",
              "  </style>\n",
              "\n",
              "    <script>\n",
              "      const buttonEl =\n",
              "        document.querySelector('#df-7185d487-5fbe-45fe-be50-032722a8f154 button.colab-df-convert');\n",
              "      buttonEl.style.display =\n",
              "        google.colab.kernel.accessAllowed ? 'block' : 'none';\n",
              "\n",
              "      async function convertToInteractive(key) {\n",
              "        const element = document.querySelector('#df-7185d487-5fbe-45fe-be50-032722a8f154');\n",
              "        const dataTable =\n",
              "          await google.colab.kernel.invokeFunction('convertToInteractive',\n",
              "                                                    [key], {});\n",
              "        if (!dataTable) return;\n",
              "\n",
              "        const docLinkHtml = 'Like what you see? Visit the ' +\n",
              "          '<a target=\"_blank\" href=https://colab.research.google.com/notebooks/data_table.ipynb>data table notebook</a>'\n",
              "          + ' to learn more about interactive tables.';\n",
              "        element.innerHTML = '';\n",
              "        dataTable['output_type'] = 'display_data';\n",
              "        await google.colab.output.renderOutput(dataTable, element);\n",
              "        const docLink = document.createElement('div');\n",
              "        docLink.innerHTML = docLinkHtml;\n",
              "        element.appendChild(docLink);\n",
              "      }\n",
              "    </script>\n",
              "  </div>\n",
              "\n",
              "\n",
              "    <div id=\"df-a0f97596-7893-4b13-b60d-99224cd6e1d1\">\n",
              "      <button class=\"colab-df-quickchart\" onclick=\"quickchart('df-a0f97596-7893-4b13-b60d-99224cd6e1d1')\"\n",
              "                title=\"Suggest charts\"\n",
              "                style=\"display:none;\">\n",
              "\n",
              "<svg xmlns=\"http://www.w3.org/2000/svg\" height=\"24px\"viewBox=\"0 0 24 24\"\n",
              "     width=\"24px\">\n",
              "    <g>\n",
              "        <path d=\"M19 3H5c-1.1 0-2 .9-2 2v14c0 1.1.9 2 2 2h14c1.1 0 2-.9 2-2V5c0-1.1-.9-2-2-2zM9 17H7v-7h2v7zm4 0h-2V7h2v10zm4 0h-2v-4h2v4z\"/>\n",
              "    </g>\n",
              "</svg>\n",
              "      </button>\n",
              "\n",
              "<style>\n",
              "  .colab-df-quickchart {\n",
              "      --bg-color: #E8F0FE;\n",
              "      --fill-color: #1967D2;\n",
              "      --hover-bg-color: #E2EBFA;\n",
              "      --hover-fill-color: #174EA6;\n",
              "      --disabled-fill-color: #AAA;\n",
              "      --disabled-bg-color: #DDD;\n",
              "  }\n",
              "\n",
              "  [theme=dark] .colab-df-quickchart {\n",
              "      --bg-color: #3B4455;\n",
              "      --fill-color: #D2E3FC;\n",
              "      --hover-bg-color: #434B5C;\n",
              "      --hover-fill-color: #FFFFFF;\n",
              "      --disabled-bg-color: #3B4455;\n",
              "      --disabled-fill-color: #666;\n",
              "  }\n",
              "\n",
              "  .colab-df-quickchart {\n",
              "    background-color: var(--bg-color);\n",
              "    border: none;\n",
              "    border-radius: 50%;\n",
              "    cursor: pointer;\n",
              "    display: none;\n",
              "    fill: var(--fill-color);\n",
              "    height: 32px;\n",
              "    padding: 0;\n",
              "    width: 32px;\n",
              "  }\n",
              "\n",
              "  .colab-df-quickchart:hover {\n",
              "    background-color: var(--hover-bg-color);\n",
              "    box-shadow: 0 1px 2px rgba(60, 64, 67, 0.3), 0 1px 3px 1px rgba(60, 64, 67, 0.15);\n",
              "    fill: var(--button-hover-fill-color);\n",
              "  }\n",
              "\n",
              "  .colab-df-quickchart-complete:disabled,\n",
              "  .colab-df-quickchart-complete:disabled:hover {\n",
              "    background-color: var(--disabled-bg-color);\n",
              "    fill: var(--disabled-fill-color);\n",
              "    box-shadow: none;\n",
              "  }\n",
              "\n",
              "  .colab-df-spinner {\n",
              "    border: 2px solid var(--fill-color);\n",
              "    border-color: transparent;\n",
              "    border-bottom-color: var(--fill-color);\n",
              "    animation:\n",
              "      spin 1s steps(1) infinite;\n",
              "  }\n",
              "\n",
              "  @keyframes spin {\n",
              "    0% {\n",
              "      border-color: transparent;\n",
              "      border-bottom-color: var(--fill-color);\n",
              "      border-left-color: var(--fill-color);\n",
              "    }\n",
              "    20% {\n",
              "      border-color: transparent;\n",
              "      border-left-color: var(--fill-color);\n",
              "      border-top-color: var(--fill-color);\n",
              "    }\n",
              "    30% {\n",
              "      border-color: transparent;\n",
              "      border-left-color: var(--fill-color);\n",
              "      border-top-color: var(--fill-color);\n",
              "      border-right-color: var(--fill-color);\n",
              "    }\n",
              "    40% {\n",
              "      border-color: transparent;\n",
              "      border-right-color: var(--fill-color);\n",
              "      border-top-color: var(--fill-color);\n",
              "    }\n",
              "    60% {\n",
              "      border-color: transparent;\n",
              "      border-right-color: var(--fill-color);\n",
              "    }\n",
              "    80% {\n",
              "      border-color: transparent;\n",
              "      border-right-color: var(--fill-color);\n",
              "      border-bottom-color: var(--fill-color);\n",
              "    }\n",
              "    90% {\n",
              "      border-color: transparent;\n",
              "      border-bottom-color: var(--fill-color);\n",
              "    }\n",
              "  }\n",
              "</style>\n",
              "\n",
              "      <script>\n",
              "        async function quickchart(key) {\n",
              "          const quickchartButtonEl =\n",
              "            document.querySelector('#' + key + ' button');\n",
              "          quickchartButtonEl.disabled = true;  // To prevent multiple clicks.\n",
              "          quickchartButtonEl.classList.add('colab-df-spinner');\n",
              "          try {\n",
              "            const charts = await google.colab.kernel.invokeFunction(\n",
              "                'suggestCharts', [key], {});\n",
              "          } catch (error) {\n",
              "            console.error('Error during call to suggestCharts:', error);\n",
              "          }\n",
              "          quickchartButtonEl.classList.remove('colab-df-spinner');\n",
              "          quickchartButtonEl.classList.add('colab-df-quickchart-complete');\n",
              "        }\n",
              "        (() => {\n",
              "          let quickchartButtonEl =\n",
              "            document.querySelector('#df-a0f97596-7893-4b13-b60d-99224cd6e1d1 button');\n",
              "          quickchartButtonEl.style.display =\n",
              "            google.colab.kernel.accessAllowed ? 'block' : 'none';\n",
              "        })();\n",
              "      </script>\n",
              "    </div>\n",
              "\n",
              "    </div>\n",
              "  </div>\n"
            ],
            "application/vnd.google.colaboratory.intrinsic+json": {
              "type": "dataframe",
              "variable_name": "df",
              "summary": "{\n  \"name\": \"df\",\n  \"rows\": 266,\n  \"fields\": [\n    {\n      \"column\": \"index\",\n      \"properties\": {\n        \"dtype\": \"number\",\n        \"std\": 35,\n        \"min\": 0,\n        \"max\": 121,\n        \"num_unique_values\": 122,\n        \"samples\": [\n          18,\n          45,\n          47\n        ],\n        \"semantic_type\": \"\",\n        \"description\": \"\"\n      }\n    },\n    {\n      \"column\": \"CourseName\",\n      \"properties\": {\n        \"dtype\": \"category\",\n        \"num_unique_values\": 70,\n        \"samples\": [\n          \"Food Composition and Information\",\n          \"Risk Assessment (Pest)\",\n          \"Post-slaughter traceability of Meat (FVO)\"\n        ],\n        \"semantic_type\": \"\",\n        \"description\": \"\"\n      }\n    },\n    {\n      \"column\": \"Location\",\n      \"properties\": {\n        \"dtype\": \"category\",\n        \"num_unique_values\": 126,\n        \"samples\": [\n          \"Krakow;Poland\",\n          \"Madrid\",\n          \"Amsterdam;Netherlands\"\n        ],\n        \"semantic_type\": \"\",\n        \"description\": \"\"\n      }\n    },\n    {\n      \"column\": \"DateFrom\",\n      \"properties\": {\n        \"dtype\": \"object\",\n        \"num_unique_values\": 138,\n        \"samples\": [\n          \"2016-05-16\",\n          \"2016-09-05\",\n          \"2015-03-16\"\n        ],\n        \"semantic_type\": \"\",\n        \"description\": \"\"\n      }\n    },\n    {\n      \"column\": \"DateTo\",\n      \"properties\": {\n        \"dtype\": \"object\",\n        \"num_unique_values\": 114,\n        \"samples\": [\n          \"2016-06-10\",\n          \"2015-02-06\",\n          \"2015-09-17\"\n        ],\n        \"semantic_type\": \"\",\n        \"description\": \"\"\n      }\n    },\n    {\n      \"column\": \"Attendees\",\n      \"properties\": {\n        \"dtype\": \"number\",\n        \"std\": 1,\n        \"min\": 1,\n        \"max\": 13,\n        \"num_unique_values\": 7,\n        \"samples\": [\n          1,\n          2,\n          6\n        ],\n        \"semantic_type\": \"\",\n        \"description\": \"\"\n      }\n    },\n    {\n      \"column\": \"city\",\n      \"properties\": {\n        \"dtype\": \"category\",\n        \"num_unique_values\": 77,\n        \"samples\": [\n          \"Rome\",\n          \"Krakow\",\n          \"Venice\"\n        ],\n        \"semantic_type\": \"\",\n        \"description\": \"\"\n      }\n    },\n    {\n      \"column\": \"country\",\n      \"properties\": {\n        \"dtype\": \"category\",\n        \"num_unique_values\": 35,\n        \"samples\": [\n          \" Ireland\",\n          \" Italy \",\n          \" Belgium\"\n        ],\n        \"semantic_type\": \"\",\n        \"description\": \"\"\n      }\n    }\n  ]\n}"
            }
          },
          "metadata": {},
          "execution_count": 88
        }
      ]
    },
    {
      "cell_type": "markdown",
      "metadata": {
        "id": "SETv94_TYkLS"
      },
      "source": [
        ">Drop the ***Location*** column."
      ]
    },
    {
      "cell_type": "code",
      "execution_count": 194,
      "metadata": {
        "jupyter": {
          "outputs_hidden": false
        },
        "id": "3LZ7xXnaYkLS"
      },
      "outputs": [],
      "source": [
        "df = df.drop(axis =1 , labels = ['Location'])"
      ]
    },
    {
      "cell_type": "code",
      "execution_count": 93,
      "metadata": {
        "jupyter": {
          "outputs_hidden": false
        },
        "id": "5XeKydypYkLS",
        "outputId": "9f976b57-7965-4c79-f95f-29da529e000a",
        "colab": {
          "base_uri": "https://localhost:8080/"
        }
      },
      "outputs": [
        {
          "output_type": "stream",
          "name": "stdout",
          "text": [
            "df = df.drop(\"Location\", axis=1)"
          ]
        }
      ],
      "source": [
        "!cat solutions/05_18.py"
      ]
    },
    {
      "cell_type": "code",
      "execution_count": 92,
      "metadata": {
        "jupyter": {
          "outputs_hidden": false
        },
        "id": "PcLuDyu0YkLS",
        "outputId": "0b11bf45-4ae0-4715-d0dc-7bfb0fdd2b31",
        "colab": {
          "base_uri": "https://localhost:8080/",
          "height": 206
        }
      },
      "outputs": [
        {
          "output_type": "execute_result",
          "data": {
            "text/plain": [
              "   index                                         CourseName    DateFrom  \\\n",
              "0      0                             Risk Assessment (Pest)  2015-01-12   \n",
              "1      1                                    Organic Farming  2015-01-19   \n",
              "2      2  Prevention Control and Eradication of Transmis...  2015-01-20   \n",
              "3      3                               Contingency Planning  2015-01-26   \n",
              "4      4                                              HACCP  2015-02-02   \n",
              "\n",
              "       DateTo  Attendees       city   country  \n",
              "0  2015-01-16          1     lisbon  Portugal  \n",
              "1  2015-01-22          2    Bristol      None  \n",
              "2  2015-01-23          2  Ljubljana  Slovenia  \n",
              "3  2015-01-30          2      Padua      None  \n",
              "4  2015-02-06          2       Rome      None  "
            ],
            "text/html": [
              "\n",
              "  <div id=\"df-edb161cc-4b13-4dd9-9665-68ef6fce4c05\" class=\"colab-df-container\">\n",
              "    <div>\n",
              "<style scoped>\n",
              "    .dataframe tbody tr th:only-of-type {\n",
              "        vertical-align: middle;\n",
              "    }\n",
              "\n",
              "    .dataframe tbody tr th {\n",
              "        vertical-align: top;\n",
              "    }\n",
              "\n",
              "    .dataframe thead th {\n",
              "        text-align: right;\n",
              "    }\n",
              "</style>\n",
              "<table border=\"1\" class=\"dataframe\">\n",
              "  <thead>\n",
              "    <tr style=\"text-align: right;\">\n",
              "      <th></th>\n",
              "      <th>index</th>\n",
              "      <th>CourseName</th>\n",
              "      <th>DateFrom</th>\n",
              "      <th>DateTo</th>\n",
              "      <th>Attendees</th>\n",
              "      <th>city</th>\n",
              "      <th>country</th>\n",
              "    </tr>\n",
              "  </thead>\n",
              "  <tbody>\n",
              "    <tr>\n",
              "      <th>0</th>\n",
              "      <td>0</td>\n",
              "      <td>Risk Assessment (Pest)</td>\n",
              "      <td>2015-01-12</td>\n",
              "      <td>2015-01-16</td>\n",
              "      <td>1</td>\n",
              "      <td>lisbon</td>\n",
              "      <td>Portugal</td>\n",
              "    </tr>\n",
              "    <tr>\n",
              "      <th>1</th>\n",
              "      <td>1</td>\n",
              "      <td>Organic Farming</td>\n",
              "      <td>2015-01-19</td>\n",
              "      <td>2015-01-22</td>\n",
              "      <td>2</td>\n",
              "      <td>Bristol</td>\n",
              "      <td>None</td>\n",
              "    </tr>\n",
              "    <tr>\n",
              "      <th>2</th>\n",
              "      <td>2</td>\n",
              "      <td>Prevention Control and Eradication of Transmis...</td>\n",
              "      <td>2015-01-20</td>\n",
              "      <td>2015-01-23</td>\n",
              "      <td>2</td>\n",
              "      <td>Ljubljana</td>\n",
              "      <td>Slovenia</td>\n",
              "    </tr>\n",
              "    <tr>\n",
              "      <th>3</th>\n",
              "      <td>3</td>\n",
              "      <td>Contingency Planning</td>\n",
              "      <td>2015-01-26</td>\n",
              "      <td>2015-01-30</td>\n",
              "      <td>2</td>\n",
              "      <td>Padua</td>\n",
              "      <td>None</td>\n",
              "    </tr>\n",
              "    <tr>\n",
              "      <th>4</th>\n",
              "      <td>4</td>\n",
              "      <td>HACCP</td>\n",
              "      <td>2015-02-02</td>\n",
              "      <td>2015-02-06</td>\n",
              "      <td>2</td>\n",
              "      <td>Rome</td>\n",
              "      <td>None</td>\n",
              "    </tr>\n",
              "  </tbody>\n",
              "</table>\n",
              "</div>\n",
              "    <div class=\"colab-df-buttons\">\n",
              "\n",
              "  <div class=\"colab-df-container\">\n",
              "    <button class=\"colab-df-convert\" onclick=\"convertToInteractive('df-edb161cc-4b13-4dd9-9665-68ef6fce4c05')\"\n",
              "            title=\"Convert this dataframe to an interactive table.\"\n",
              "            style=\"display:none;\">\n",
              "\n",
              "  <svg xmlns=\"http://www.w3.org/2000/svg\" height=\"24px\" viewBox=\"0 -960 960 960\">\n",
              "    <path d=\"M120-120v-720h720v720H120Zm60-500h600v-160H180v160Zm220 220h160v-160H400v160Zm0 220h160v-160H400v160ZM180-400h160v-160H180v160Zm440 0h160v-160H620v160ZM180-180h160v-160H180v160Zm440 0h160v-160H620v160Z\"/>\n",
              "  </svg>\n",
              "    </button>\n",
              "\n",
              "  <style>\n",
              "    .colab-df-container {\n",
              "      display:flex;\n",
              "      gap: 12px;\n",
              "    }\n",
              "\n",
              "    .colab-df-convert {\n",
              "      background-color: #E8F0FE;\n",
              "      border: none;\n",
              "      border-radius: 50%;\n",
              "      cursor: pointer;\n",
              "      display: none;\n",
              "      fill: #1967D2;\n",
              "      height: 32px;\n",
              "      padding: 0 0 0 0;\n",
              "      width: 32px;\n",
              "    }\n",
              "\n",
              "    .colab-df-convert:hover {\n",
              "      background-color: #E2EBFA;\n",
              "      box-shadow: 0px 1px 2px rgba(60, 64, 67, 0.3), 0px 1px 3px 1px rgba(60, 64, 67, 0.15);\n",
              "      fill: #174EA6;\n",
              "    }\n",
              "\n",
              "    .colab-df-buttons div {\n",
              "      margin-bottom: 4px;\n",
              "    }\n",
              "\n",
              "    [theme=dark] .colab-df-convert {\n",
              "      background-color: #3B4455;\n",
              "      fill: #D2E3FC;\n",
              "    }\n",
              "\n",
              "    [theme=dark] .colab-df-convert:hover {\n",
              "      background-color: #434B5C;\n",
              "      box-shadow: 0px 1px 3px 1px rgba(0, 0, 0, 0.15);\n",
              "      filter: drop-shadow(0px 1px 2px rgba(0, 0, 0, 0.3));\n",
              "      fill: #FFFFFF;\n",
              "    }\n",
              "  </style>\n",
              "\n",
              "    <script>\n",
              "      const buttonEl =\n",
              "        document.querySelector('#df-edb161cc-4b13-4dd9-9665-68ef6fce4c05 button.colab-df-convert');\n",
              "      buttonEl.style.display =\n",
              "        google.colab.kernel.accessAllowed ? 'block' : 'none';\n",
              "\n",
              "      async function convertToInteractive(key) {\n",
              "        const element = document.querySelector('#df-edb161cc-4b13-4dd9-9665-68ef6fce4c05');\n",
              "        const dataTable =\n",
              "          await google.colab.kernel.invokeFunction('convertToInteractive',\n",
              "                                                    [key], {});\n",
              "        if (!dataTable) return;\n",
              "\n",
              "        const docLinkHtml = 'Like what you see? Visit the ' +\n",
              "          '<a target=\"_blank\" href=https://colab.research.google.com/notebooks/data_table.ipynb>data table notebook</a>'\n",
              "          + ' to learn more about interactive tables.';\n",
              "        element.innerHTML = '';\n",
              "        dataTable['output_type'] = 'display_data';\n",
              "        await google.colab.output.renderOutput(dataTable, element);\n",
              "        const docLink = document.createElement('div');\n",
              "        docLink.innerHTML = docLinkHtml;\n",
              "        element.appendChild(docLink);\n",
              "      }\n",
              "    </script>\n",
              "  </div>\n",
              "\n",
              "\n",
              "    <div id=\"df-b2db3fd8-2f5e-4492-83cd-36e07f5a8d57\">\n",
              "      <button class=\"colab-df-quickchart\" onclick=\"quickchart('df-b2db3fd8-2f5e-4492-83cd-36e07f5a8d57')\"\n",
              "                title=\"Suggest charts\"\n",
              "                style=\"display:none;\">\n",
              "\n",
              "<svg xmlns=\"http://www.w3.org/2000/svg\" height=\"24px\"viewBox=\"0 0 24 24\"\n",
              "     width=\"24px\">\n",
              "    <g>\n",
              "        <path d=\"M19 3H5c-1.1 0-2 .9-2 2v14c0 1.1.9 2 2 2h14c1.1 0 2-.9 2-2V5c0-1.1-.9-2-2-2zM9 17H7v-7h2v7zm4 0h-2V7h2v10zm4 0h-2v-4h2v4z\"/>\n",
              "    </g>\n",
              "</svg>\n",
              "      </button>\n",
              "\n",
              "<style>\n",
              "  .colab-df-quickchart {\n",
              "      --bg-color: #E8F0FE;\n",
              "      --fill-color: #1967D2;\n",
              "      --hover-bg-color: #E2EBFA;\n",
              "      --hover-fill-color: #174EA6;\n",
              "      --disabled-fill-color: #AAA;\n",
              "      --disabled-bg-color: #DDD;\n",
              "  }\n",
              "\n",
              "  [theme=dark] .colab-df-quickchart {\n",
              "      --bg-color: #3B4455;\n",
              "      --fill-color: #D2E3FC;\n",
              "      --hover-bg-color: #434B5C;\n",
              "      --hover-fill-color: #FFFFFF;\n",
              "      --disabled-bg-color: #3B4455;\n",
              "      --disabled-fill-color: #666;\n",
              "  }\n",
              "\n",
              "  .colab-df-quickchart {\n",
              "    background-color: var(--bg-color);\n",
              "    border: none;\n",
              "    border-radius: 50%;\n",
              "    cursor: pointer;\n",
              "    display: none;\n",
              "    fill: var(--fill-color);\n",
              "    height: 32px;\n",
              "    padding: 0;\n",
              "    width: 32px;\n",
              "  }\n",
              "\n",
              "  .colab-df-quickchart:hover {\n",
              "    background-color: var(--hover-bg-color);\n",
              "    box-shadow: 0 1px 2px rgba(60, 64, 67, 0.3), 0 1px 3px 1px rgba(60, 64, 67, 0.15);\n",
              "    fill: var(--button-hover-fill-color);\n",
              "  }\n",
              "\n",
              "  .colab-df-quickchart-complete:disabled,\n",
              "  .colab-df-quickchart-complete:disabled:hover {\n",
              "    background-color: var(--disabled-bg-color);\n",
              "    fill: var(--disabled-fill-color);\n",
              "    box-shadow: none;\n",
              "  }\n",
              "\n",
              "  .colab-df-spinner {\n",
              "    border: 2px solid var(--fill-color);\n",
              "    border-color: transparent;\n",
              "    border-bottom-color: var(--fill-color);\n",
              "    animation:\n",
              "      spin 1s steps(1) infinite;\n",
              "  }\n",
              "\n",
              "  @keyframes spin {\n",
              "    0% {\n",
              "      border-color: transparent;\n",
              "      border-bottom-color: var(--fill-color);\n",
              "      border-left-color: var(--fill-color);\n",
              "    }\n",
              "    20% {\n",
              "      border-color: transparent;\n",
              "      border-left-color: var(--fill-color);\n",
              "      border-top-color: var(--fill-color);\n",
              "    }\n",
              "    30% {\n",
              "      border-color: transparent;\n",
              "      border-left-color: var(--fill-color);\n",
              "      border-top-color: var(--fill-color);\n",
              "      border-right-color: var(--fill-color);\n",
              "    }\n",
              "    40% {\n",
              "      border-color: transparent;\n",
              "      border-right-color: var(--fill-color);\n",
              "      border-top-color: var(--fill-color);\n",
              "    }\n",
              "    60% {\n",
              "      border-color: transparent;\n",
              "      border-right-color: var(--fill-color);\n",
              "    }\n",
              "    80% {\n",
              "      border-color: transparent;\n",
              "      border-right-color: var(--fill-color);\n",
              "      border-bottom-color: var(--fill-color);\n",
              "    }\n",
              "    90% {\n",
              "      border-color: transparent;\n",
              "      border-bottom-color: var(--fill-color);\n",
              "    }\n",
              "  }\n",
              "</style>\n",
              "\n",
              "      <script>\n",
              "        async function quickchart(key) {\n",
              "          const quickchartButtonEl =\n",
              "            document.querySelector('#' + key + ' button');\n",
              "          quickchartButtonEl.disabled = true;  // To prevent multiple clicks.\n",
              "          quickchartButtonEl.classList.add('colab-df-spinner');\n",
              "          try {\n",
              "            const charts = await google.colab.kernel.invokeFunction(\n",
              "                'suggestCharts', [key], {});\n",
              "          } catch (error) {\n",
              "            console.error('Error during call to suggestCharts:', error);\n",
              "          }\n",
              "          quickchartButtonEl.classList.remove('colab-df-spinner');\n",
              "          quickchartButtonEl.classList.add('colab-df-quickchart-complete');\n",
              "        }\n",
              "        (() => {\n",
              "          let quickchartButtonEl =\n",
              "            document.querySelector('#df-b2db3fd8-2f5e-4492-83cd-36e07f5a8d57 button');\n",
              "          quickchartButtonEl.style.display =\n",
              "            google.colab.kernel.accessAllowed ? 'block' : 'none';\n",
              "        })();\n",
              "      </script>\n",
              "    </div>\n",
              "\n",
              "    </div>\n",
              "  </div>\n"
            ],
            "application/vnd.google.colaboratory.intrinsic+json": {
              "type": "dataframe",
              "variable_name": "df",
              "summary": "{\n  \"name\": \"df\",\n  \"rows\": 266,\n  \"fields\": [\n    {\n      \"column\": \"index\",\n      \"properties\": {\n        \"dtype\": \"number\",\n        \"std\": 35,\n        \"min\": 0,\n        \"max\": 121,\n        \"num_unique_values\": 122,\n        \"samples\": [\n          18,\n          45,\n          47\n        ],\n        \"semantic_type\": \"\",\n        \"description\": \"\"\n      }\n    },\n    {\n      \"column\": \"CourseName\",\n      \"properties\": {\n        \"dtype\": \"category\",\n        \"num_unique_values\": 70,\n        \"samples\": [\n          \"Food Composition and Information\",\n          \"Risk Assessment (Pest)\",\n          \"Post-slaughter traceability of Meat (FVO)\"\n        ],\n        \"semantic_type\": \"\",\n        \"description\": \"\"\n      }\n    },\n    {\n      \"column\": \"DateFrom\",\n      \"properties\": {\n        \"dtype\": \"object\",\n        \"num_unique_values\": 138,\n        \"samples\": [\n          \"2016-05-16\",\n          \"2016-09-05\",\n          \"2015-03-16\"\n        ],\n        \"semantic_type\": \"\",\n        \"description\": \"\"\n      }\n    },\n    {\n      \"column\": \"DateTo\",\n      \"properties\": {\n        \"dtype\": \"object\",\n        \"num_unique_values\": 114,\n        \"samples\": [\n          \"2016-06-10\",\n          \"2015-02-06\",\n          \"2015-09-17\"\n        ],\n        \"semantic_type\": \"\",\n        \"description\": \"\"\n      }\n    },\n    {\n      \"column\": \"Attendees\",\n      \"properties\": {\n        \"dtype\": \"number\",\n        \"std\": 1,\n        \"min\": 1,\n        \"max\": 13,\n        \"num_unique_values\": 7,\n        \"samples\": [\n          1,\n          2,\n          6\n        ],\n        \"semantic_type\": \"\",\n        \"description\": \"\"\n      }\n    },\n    {\n      \"column\": \"city\",\n      \"properties\": {\n        \"dtype\": \"category\",\n        \"num_unique_values\": 77,\n        \"samples\": [\n          \"Rome\",\n          \"Krakow\",\n          \"Venice\"\n        ],\n        \"semantic_type\": \"\",\n        \"description\": \"\"\n      }\n    },\n    {\n      \"column\": \"country\",\n      \"properties\": {\n        \"dtype\": \"category\",\n        \"num_unique_values\": 35,\n        \"samples\": [\n          \" Ireland\",\n          \" Italy \",\n          \" Belgium\"\n        ],\n        \"semantic_type\": \"\",\n        \"description\": \"\"\n      }\n    }\n  ]\n}"
            }
          },
          "metadata": {},
          "execution_count": 92
        }
      ],
      "source": [
        "df.head()"
      ]
    },
    {
      "cell_type": "markdown",
      "metadata": {
        "id": "U9iTFazjYkLS"
      },
      "source": [
        ">Get the number of unique values in the ***country*** column."
      ]
    },
    {
      "cell_type": "code",
      "execution_count": 95,
      "metadata": {
        "jupyter": {
          "outputs_hidden": false
        },
        "id": "omCe3Bl_YkLS",
        "outputId": "0af241b2-e3b0-4ee4-b640-8825326f3d9b",
        "colab": {
          "base_uri": "https://localhost:8080/"
        }
      },
      "outputs": [
        {
          "output_type": "execute_result",
          "data": {
            "text/plain": [
              "35"
            ]
          },
          "metadata": {},
          "execution_count": 95
        }
      ],
      "source": [
        "df.country.nunique()"
      ]
    },
    {
      "cell_type": "code",
      "execution_count": 96,
      "metadata": {
        "jupyter": {
          "outputs_hidden": false
        },
        "id": "mAI9HzC1YkLS",
        "outputId": "a8af7c4a-62bc-4700-9010-7071529919ee",
        "colab": {
          "base_uri": "https://localhost:8080/"
        }
      },
      "outputs": [
        {
          "output_type": "stream",
          "name": "stdout",
          "text": [
            "df[\"country\"].nunique()"
          ]
        }
      ],
      "source": [
        " !cat solutions/05_19.py"
      ]
    },
    {
      "cell_type": "markdown",
      "metadata": {
        "id": "_fKeOLT7YkLS"
      },
      "source": [
        ">Check the count of each unique values in the ***country*** column."
      ]
    },
    {
      "cell_type": "code",
      "execution_count": 97,
      "metadata": {
        "jupyter": {
          "outputs_hidden": false
        },
        "id": "lKUf3FexYkLT",
        "outputId": "3957cf85-4ec7-4235-d505-3cdcd5161352",
        "colab": {
          "base_uri": "https://localhost:8080/",
          "height": 1000
        }
      },
      "outputs": [
        {
          "output_type": "execute_result",
          "data": {
            "text/plain": [
              "country\n",
              "Ireland           16\n",
              "Spain             13\n",
              "Italy             13\n",
              "IT                 5\n",
              "Germany            5\n",
              "Slovenia           4\n",
              "Portugal           4\n",
              "UK                 4\n",
              "Greece             4\n",
              "Netherlands        3\n",
              "France             3\n",
              "Belgium            3\n",
              "Poland             2\n",
              "United Kingdom     1\n",
              " Ireland           1\n",
              " Italy             1\n",
              "Austria            1\n",
              "Croatia            1\n",
              "Slovakia           1\n",
              "Estonia            1\n",
              "Denmark            1\n",
              " Italy             1\n",
              "Hungary            1\n",
              " Greece            1\n",
              " Belgium           1\n",
              "Lithuania          1\n",
              "Switzerland        1\n",
              " Ireland           1\n",
              "CZ                 1\n",
              "Latvia             1\n",
              "Sweden             1\n",
              "Ireland            1\n",
              "BG                 1\n",
              "GR                 1\n",
              "SI                 1\n",
              "Name: count, dtype: int64"
            ],
            "text/html": [
              "<div>\n",
              "<style scoped>\n",
              "    .dataframe tbody tr th:only-of-type {\n",
              "        vertical-align: middle;\n",
              "    }\n",
              "\n",
              "    .dataframe tbody tr th {\n",
              "        vertical-align: top;\n",
              "    }\n",
              "\n",
              "    .dataframe thead th {\n",
              "        text-align: right;\n",
              "    }\n",
              "</style>\n",
              "<table border=\"1\" class=\"dataframe\">\n",
              "  <thead>\n",
              "    <tr style=\"text-align: right;\">\n",
              "      <th></th>\n",
              "      <th>count</th>\n",
              "    </tr>\n",
              "    <tr>\n",
              "      <th>country</th>\n",
              "      <th></th>\n",
              "    </tr>\n",
              "  </thead>\n",
              "  <tbody>\n",
              "    <tr>\n",
              "      <th>Ireland</th>\n",
              "      <td>16</td>\n",
              "    </tr>\n",
              "    <tr>\n",
              "      <th>Spain</th>\n",
              "      <td>13</td>\n",
              "    </tr>\n",
              "    <tr>\n",
              "      <th>Italy</th>\n",
              "      <td>13</td>\n",
              "    </tr>\n",
              "    <tr>\n",
              "      <th>IT</th>\n",
              "      <td>5</td>\n",
              "    </tr>\n",
              "    <tr>\n",
              "      <th>Germany</th>\n",
              "      <td>5</td>\n",
              "    </tr>\n",
              "    <tr>\n",
              "      <th>Slovenia</th>\n",
              "      <td>4</td>\n",
              "    </tr>\n",
              "    <tr>\n",
              "      <th>Portugal</th>\n",
              "      <td>4</td>\n",
              "    </tr>\n",
              "    <tr>\n",
              "      <th>UK</th>\n",
              "      <td>4</td>\n",
              "    </tr>\n",
              "    <tr>\n",
              "      <th>Greece</th>\n",
              "      <td>4</td>\n",
              "    </tr>\n",
              "    <tr>\n",
              "      <th>Netherlands</th>\n",
              "      <td>3</td>\n",
              "    </tr>\n",
              "    <tr>\n",
              "      <th>France</th>\n",
              "      <td>3</td>\n",
              "    </tr>\n",
              "    <tr>\n",
              "      <th>Belgium</th>\n",
              "      <td>3</td>\n",
              "    </tr>\n",
              "    <tr>\n",
              "      <th>Poland</th>\n",
              "      <td>2</td>\n",
              "    </tr>\n",
              "    <tr>\n",
              "      <th>United Kingdom</th>\n",
              "      <td>1</td>\n",
              "    </tr>\n",
              "    <tr>\n",
              "      <th>Ireland</th>\n",
              "      <td>1</td>\n",
              "    </tr>\n",
              "    <tr>\n",
              "      <th>Italy</th>\n",
              "      <td>1</td>\n",
              "    </tr>\n",
              "    <tr>\n",
              "      <th>Austria</th>\n",
              "      <td>1</td>\n",
              "    </tr>\n",
              "    <tr>\n",
              "      <th>Croatia</th>\n",
              "      <td>1</td>\n",
              "    </tr>\n",
              "    <tr>\n",
              "      <th>Slovakia</th>\n",
              "      <td>1</td>\n",
              "    </tr>\n",
              "    <tr>\n",
              "      <th>Estonia</th>\n",
              "      <td>1</td>\n",
              "    </tr>\n",
              "    <tr>\n",
              "      <th>Denmark</th>\n",
              "      <td>1</td>\n",
              "    </tr>\n",
              "    <tr>\n",
              "      <th>Italy</th>\n",
              "      <td>1</td>\n",
              "    </tr>\n",
              "    <tr>\n",
              "      <th>Hungary</th>\n",
              "      <td>1</td>\n",
              "    </tr>\n",
              "    <tr>\n",
              "      <th>Greece</th>\n",
              "      <td>1</td>\n",
              "    </tr>\n",
              "    <tr>\n",
              "      <th>Belgium</th>\n",
              "      <td>1</td>\n",
              "    </tr>\n",
              "    <tr>\n",
              "      <th>Lithuania</th>\n",
              "      <td>1</td>\n",
              "    </tr>\n",
              "    <tr>\n",
              "      <th>Switzerland</th>\n",
              "      <td>1</td>\n",
              "    </tr>\n",
              "    <tr>\n",
              "      <th>Ireland</th>\n",
              "      <td>1</td>\n",
              "    </tr>\n",
              "    <tr>\n",
              "      <th>CZ</th>\n",
              "      <td>1</td>\n",
              "    </tr>\n",
              "    <tr>\n",
              "      <th>Latvia</th>\n",
              "      <td>1</td>\n",
              "    </tr>\n",
              "    <tr>\n",
              "      <th>Sweden</th>\n",
              "      <td>1</td>\n",
              "    </tr>\n",
              "    <tr>\n",
              "      <th>Ireland</th>\n",
              "      <td>1</td>\n",
              "    </tr>\n",
              "    <tr>\n",
              "      <th>BG</th>\n",
              "      <td>1</td>\n",
              "    </tr>\n",
              "    <tr>\n",
              "      <th>GR</th>\n",
              "      <td>1</td>\n",
              "    </tr>\n",
              "    <tr>\n",
              "      <th>SI</th>\n",
              "      <td>1</td>\n",
              "    </tr>\n",
              "  </tbody>\n",
              "</table>\n",
              "</div><br><label><b>dtype:</b> int64</label>"
            ]
          },
          "metadata": {},
          "execution_count": 97
        }
      ],
      "source": [
        "df.country.value_counts()"
      ]
    },
    {
      "cell_type": "code",
      "execution_count": 98,
      "metadata": {
        "jupyter": {
          "outputs_hidden": false
        },
        "id": "jZW--jnxYkLT",
        "outputId": "02f5b559-4aec-40d5-d108-bd47008c2f4a",
        "colab": {
          "base_uri": "https://localhost:8080/"
        }
      },
      "outputs": [
        {
          "output_type": "stream",
          "name": "stdout",
          "text": [
            "df[\"country\"].value_counts()"
          ]
        }
      ],
      "source": [
        "!cat solutions/05_20.py"
      ]
    },
    {
      "cell_type": "markdown",
      "metadata": {
        "id": "2wKEcKOMYkLT"
      },
      "source": [
        "We can see that some countries (e.g. Italy) seems to appear several times with some variations.\n",
        ">Use the strip method to remove the (potential) extra spaces at the beginning and the end of the cities and countries."
      ]
    },
    {
      "cell_type": "code",
      "execution_count": 195,
      "metadata": {
        "jupyter": {
          "outputs_hidden": false
        },
        "id": "Lb37ST0RYkLT"
      },
      "outputs": [],
      "source": [
        "df['city'] = df.city.str.strip()\n",
        "df['country'] = df.country.str.strip()"
      ]
    },
    {
      "cell_type": "code",
      "execution_count": 104,
      "metadata": {
        "jupyter": {
          "outputs_hidden": false
        },
        "id": "nT9sm5TuYkLT",
        "outputId": "c92a6683-a30b-446e-e46a-277949bf8574",
        "colab": {
          "base_uri": "https://localhost:8080/"
        }
      },
      "outputs": [
        {
          "output_type": "stream",
          "name": "stdout",
          "text": [
            "df[\"country\"] = df[\"country\"].str.strip()\n",
            "df[\"city\"] = df[\"city\"].str.strip()"
          ]
        }
      ],
      "source": [
        " !cat solutions/05_21.py"
      ]
    },
    {
      "cell_type": "markdown",
      "metadata": {
        "id": "9cSbtrUUYkLT"
      },
      "source": [
        "   >Check again the number of unique values in the country column"
      ]
    },
    {
      "cell_type": "code",
      "execution_count": 105,
      "metadata": {
        "jupyter": {
          "outputs_hidden": false
        },
        "id": "tUiRapjFYkLT",
        "outputId": "6e3c414a-c065-40fc-fc39-74234b3634e4",
        "colab": {
          "base_uri": "https://localhost:8080/"
        }
      },
      "outputs": [
        {
          "output_type": "execute_result",
          "data": {
            "text/plain": [
              "28"
            ]
          },
          "metadata": {},
          "execution_count": 105
        }
      ],
      "source": [
        "df.country.nunique()"
      ]
    },
    {
      "cell_type": "code",
      "execution_count": 106,
      "metadata": {
        "jupyter": {
          "outputs_hidden": false
        },
        "id": "IW6-rfkPYkLT",
        "outputId": "eba0d8b5-d678-45a6-ca10-43b92e4f1ea6",
        "colab": {
          "base_uri": "https://localhost:8080/"
        }
      },
      "outputs": [
        {
          "output_type": "stream",
          "name": "stdout",
          "text": [
            "df[\"country\"].nunique()"
          ]
        }
      ],
      "source": [
        "!cat solutions/05_22.py"
      ]
    },
    {
      "cell_type": "markdown",
      "metadata": {
        "id": "PMlaxyxrYkLT"
      },
      "source": [
        ">Have a look at the rows where the ***country*** is Portugal.  \n",
        "What do you notice about the ***city***?"
      ]
    },
    {
      "cell_type": "code",
      "execution_count": 108,
      "metadata": {
        "jupyter": {
          "outputs_hidden": false
        },
        "id": "8AfKgrX3YkLT",
        "outputId": "15d9e3b2-251c-4c17-e0b7-66f4cfa878f8",
        "colab": {
          "base_uri": "https://localhost:8080/",
          "height": 210
        }
      },
      "outputs": [
        {
          "output_type": "execute_result",
          "data": {
            "text/plain": [
              "0       lisbon\n",
              "44     Coimbra\n",
              "117     Lisbon\n",
              "254     Lisbon\n",
              "Name: city, dtype: object"
            ],
            "text/html": [
              "<div>\n",
              "<style scoped>\n",
              "    .dataframe tbody tr th:only-of-type {\n",
              "        vertical-align: middle;\n",
              "    }\n",
              "\n",
              "    .dataframe tbody tr th {\n",
              "        vertical-align: top;\n",
              "    }\n",
              "\n",
              "    .dataframe thead th {\n",
              "        text-align: right;\n",
              "    }\n",
              "</style>\n",
              "<table border=\"1\" class=\"dataframe\">\n",
              "  <thead>\n",
              "    <tr style=\"text-align: right;\">\n",
              "      <th></th>\n",
              "      <th>city</th>\n",
              "    </tr>\n",
              "  </thead>\n",
              "  <tbody>\n",
              "    <tr>\n",
              "      <th>0</th>\n",
              "      <td>lisbon</td>\n",
              "    </tr>\n",
              "    <tr>\n",
              "      <th>44</th>\n",
              "      <td>Coimbra</td>\n",
              "    </tr>\n",
              "    <tr>\n",
              "      <th>117</th>\n",
              "      <td>Lisbon</td>\n",
              "    </tr>\n",
              "    <tr>\n",
              "      <th>254</th>\n",
              "      <td>Lisbon</td>\n",
              "    </tr>\n",
              "  </tbody>\n",
              "</table>\n",
              "</div><br><label><b>dtype:</b> object</label>"
            ]
          },
          "metadata": {},
          "execution_count": 108
        }
      ],
      "source": [
        "df[df['country'] == 'Portugal']"
      ]
    },
    {
      "cell_type": "code",
      "execution_count": 109,
      "metadata": {
        "jupyter": {
          "outputs_hidden": false
        },
        "id": "iSebEzUHYkLT",
        "outputId": "538033da-d1c1-4a10-ff94-084caefa10b4",
        "colab": {
          "base_uri": "https://localhost:8080/"
        }
      },
      "outputs": [
        {
          "output_type": "stream",
          "name": "stdout",
          "text": [
            "df[df[\"country\"] == \"Portugal\"]"
          ]
        }
      ],
      "source": [
        "!cat solutions/05_23.py"
      ]
    },
    {
      "cell_type": "markdown",
      "metadata": {
        "id": "tUJ3BJkZYkLT"
      },
      "source": [
        ">Put the ***city*** column into lower case (don't forget to re-assign it to the **city** column)."
      ]
    },
    {
      "cell_type": "code",
      "execution_count": 196,
      "metadata": {
        "jupyter": {
          "outputs_hidden": false
        },
        "id": "z0lpp7RoYkLT",
        "outputId": "e9d05a45-21e3-4376-ffe2-149e4c6889b0",
        "colab": {
          "base_uri": "https://localhost:8080/",
          "height": 206
        }
      },
      "outputs": [
        {
          "output_type": "execute_result",
          "data": {
            "text/plain": [
              "   index                                         CourseName    DateFrom  \\\n",
              "0      0                             Risk Assessment (Pest)  2015-01-12   \n",
              "1      1                                    Organic Farming  2015-01-19   \n",
              "2      2  Prevention Control and Eradication of Transmis...  2015-01-20   \n",
              "3      3                               Contingency Planning  2015-01-26   \n",
              "4      4                                              HACCP  2015-02-02   \n",
              "\n",
              "       DateTo  Attendees       city   country  \n",
              "0  2015-01-16          1     lisbon  Portugal  \n",
              "1  2015-01-22          2    bristol      None  \n",
              "2  2015-01-23          2  ljubljana  Slovenia  \n",
              "3  2015-01-30          2      padua      None  \n",
              "4  2015-02-06          2       rome      None  "
            ],
            "text/html": [
              "\n",
              "  <div id=\"df-f2601f18-58a2-4e06-b440-edda759c0638\" class=\"colab-df-container\">\n",
              "    <div>\n",
              "<style scoped>\n",
              "    .dataframe tbody tr th:only-of-type {\n",
              "        vertical-align: middle;\n",
              "    }\n",
              "\n",
              "    .dataframe tbody tr th {\n",
              "        vertical-align: top;\n",
              "    }\n",
              "\n",
              "    .dataframe thead th {\n",
              "        text-align: right;\n",
              "    }\n",
              "</style>\n",
              "<table border=\"1\" class=\"dataframe\">\n",
              "  <thead>\n",
              "    <tr style=\"text-align: right;\">\n",
              "      <th></th>\n",
              "      <th>index</th>\n",
              "      <th>CourseName</th>\n",
              "      <th>DateFrom</th>\n",
              "      <th>DateTo</th>\n",
              "      <th>Attendees</th>\n",
              "      <th>city</th>\n",
              "      <th>country</th>\n",
              "    </tr>\n",
              "  </thead>\n",
              "  <tbody>\n",
              "    <tr>\n",
              "      <th>0</th>\n",
              "      <td>0</td>\n",
              "      <td>Risk Assessment (Pest)</td>\n",
              "      <td>2015-01-12</td>\n",
              "      <td>2015-01-16</td>\n",
              "      <td>1</td>\n",
              "      <td>lisbon</td>\n",
              "      <td>Portugal</td>\n",
              "    </tr>\n",
              "    <tr>\n",
              "      <th>1</th>\n",
              "      <td>1</td>\n",
              "      <td>Organic Farming</td>\n",
              "      <td>2015-01-19</td>\n",
              "      <td>2015-01-22</td>\n",
              "      <td>2</td>\n",
              "      <td>bristol</td>\n",
              "      <td>None</td>\n",
              "    </tr>\n",
              "    <tr>\n",
              "      <th>2</th>\n",
              "      <td>2</td>\n",
              "      <td>Prevention Control and Eradication of Transmis...</td>\n",
              "      <td>2015-01-20</td>\n",
              "      <td>2015-01-23</td>\n",
              "      <td>2</td>\n",
              "      <td>ljubljana</td>\n",
              "      <td>Slovenia</td>\n",
              "    </tr>\n",
              "    <tr>\n",
              "      <th>3</th>\n",
              "      <td>3</td>\n",
              "      <td>Contingency Planning</td>\n",
              "      <td>2015-01-26</td>\n",
              "      <td>2015-01-30</td>\n",
              "      <td>2</td>\n",
              "      <td>padua</td>\n",
              "      <td>None</td>\n",
              "    </tr>\n",
              "    <tr>\n",
              "      <th>4</th>\n",
              "      <td>4</td>\n",
              "      <td>HACCP</td>\n",
              "      <td>2015-02-02</td>\n",
              "      <td>2015-02-06</td>\n",
              "      <td>2</td>\n",
              "      <td>rome</td>\n",
              "      <td>None</td>\n",
              "    </tr>\n",
              "  </tbody>\n",
              "</table>\n",
              "</div>\n",
              "    <div class=\"colab-df-buttons\">\n",
              "\n",
              "  <div class=\"colab-df-container\">\n",
              "    <button class=\"colab-df-convert\" onclick=\"convertToInteractive('df-f2601f18-58a2-4e06-b440-edda759c0638')\"\n",
              "            title=\"Convert this dataframe to an interactive table.\"\n",
              "            style=\"display:none;\">\n",
              "\n",
              "  <svg xmlns=\"http://www.w3.org/2000/svg\" height=\"24px\" viewBox=\"0 -960 960 960\">\n",
              "    <path d=\"M120-120v-720h720v720H120Zm60-500h600v-160H180v160Zm220 220h160v-160H400v160Zm0 220h160v-160H400v160ZM180-400h160v-160H180v160Zm440 0h160v-160H620v160ZM180-180h160v-160H180v160Zm440 0h160v-160H620v160Z\"/>\n",
              "  </svg>\n",
              "    </button>\n",
              "\n",
              "  <style>\n",
              "    .colab-df-container {\n",
              "      display:flex;\n",
              "      gap: 12px;\n",
              "    }\n",
              "\n",
              "    .colab-df-convert {\n",
              "      background-color: #E8F0FE;\n",
              "      border: none;\n",
              "      border-radius: 50%;\n",
              "      cursor: pointer;\n",
              "      display: none;\n",
              "      fill: #1967D2;\n",
              "      height: 32px;\n",
              "      padding: 0 0 0 0;\n",
              "      width: 32px;\n",
              "    }\n",
              "\n",
              "    .colab-df-convert:hover {\n",
              "      background-color: #E2EBFA;\n",
              "      box-shadow: 0px 1px 2px rgba(60, 64, 67, 0.3), 0px 1px 3px 1px rgba(60, 64, 67, 0.15);\n",
              "      fill: #174EA6;\n",
              "    }\n",
              "\n",
              "    .colab-df-buttons div {\n",
              "      margin-bottom: 4px;\n",
              "    }\n",
              "\n",
              "    [theme=dark] .colab-df-convert {\n",
              "      background-color: #3B4455;\n",
              "      fill: #D2E3FC;\n",
              "    }\n",
              "\n",
              "    [theme=dark] .colab-df-convert:hover {\n",
              "      background-color: #434B5C;\n",
              "      box-shadow: 0px 1px 3px 1px rgba(0, 0, 0, 0.15);\n",
              "      filter: drop-shadow(0px 1px 2px rgba(0, 0, 0, 0.3));\n",
              "      fill: #FFFFFF;\n",
              "    }\n",
              "  </style>\n",
              "\n",
              "    <script>\n",
              "      const buttonEl =\n",
              "        document.querySelector('#df-f2601f18-58a2-4e06-b440-edda759c0638 button.colab-df-convert');\n",
              "      buttonEl.style.display =\n",
              "        google.colab.kernel.accessAllowed ? 'block' : 'none';\n",
              "\n",
              "      async function convertToInteractive(key) {\n",
              "        const element = document.querySelector('#df-f2601f18-58a2-4e06-b440-edda759c0638');\n",
              "        const dataTable =\n",
              "          await google.colab.kernel.invokeFunction('convertToInteractive',\n",
              "                                                    [key], {});\n",
              "        if (!dataTable) return;\n",
              "\n",
              "        const docLinkHtml = 'Like what you see? Visit the ' +\n",
              "          '<a target=\"_blank\" href=https://colab.research.google.com/notebooks/data_table.ipynb>data table notebook</a>'\n",
              "          + ' to learn more about interactive tables.';\n",
              "        element.innerHTML = '';\n",
              "        dataTable['output_type'] = 'display_data';\n",
              "        await google.colab.output.renderOutput(dataTable, element);\n",
              "        const docLink = document.createElement('div');\n",
              "        docLink.innerHTML = docLinkHtml;\n",
              "        element.appendChild(docLink);\n",
              "      }\n",
              "    </script>\n",
              "  </div>\n",
              "\n",
              "\n",
              "    <div id=\"df-d7d56e67-b9e7-4aff-a0bf-191bbe951dcb\">\n",
              "      <button class=\"colab-df-quickchart\" onclick=\"quickchart('df-d7d56e67-b9e7-4aff-a0bf-191bbe951dcb')\"\n",
              "                title=\"Suggest charts\"\n",
              "                style=\"display:none;\">\n",
              "\n",
              "<svg xmlns=\"http://www.w3.org/2000/svg\" height=\"24px\"viewBox=\"0 0 24 24\"\n",
              "     width=\"24px\">\n",
              "    <g>\n",
              "        <path d=\"M19 3H5c-1.1 0-2 .9-2 2v14c0 1.1.9 2 2 2h14c1.1 0 2-.9 2-2V5c0-1.1-.9-2-2-2zM9 17H7v-7h2v7zm4 0h-2V7h2v10zm4 0h-2v-4h2v4z\"/>\n",
              "    </g>\n",
              "</svg>\n",
              "      </button>\n",
              "\n",
              "<style>\n",
              "  .colab-df-quickchart {\n",
              "      --bg-color: #E8F0FE;\n",
              "      --fill-color: #1967D2;\n",
              "      --hover-bg-color: #E2EBFA;\n",
              "      --hover-fill-color: #174EA6;\n",
              "      --disabled-fill-color: #AAA;\n",
              "      --disabled-bg-color: #DDD;\n",
              "  }\n",
              "\n",
              "  [theme=dark] .colab-df-quickchart {\n",
              "      --bg-color: #3B4455;\n",
              "      --fill-color: #D2E3FC;\n",
              "      --hover-bg-color: #434B5C;\n",
              "      --hover-fill-color: #FFFFFF;\n",
              "      --disabled-bg-color: #3B4455;\n",
              "      --disabled-fill-color: #666;\n",
              "  }\n",
              "\n",
              "  .colab-df-quickchart {\n",
              "    background-color: var(--bg-color);\n",
              "    border: none;\n",
              "    border-radius: 50%;\n",
              "    cursor: pointer;\n",
              "    display: none;\n",
              "    fill: var(--fill-color);\n",
              "    height: 32px;\n",
              "    padding: 0;\n",
              "    width: 32px;\n",
              "  }\n",
              "\n",
              "  .colab-df-quickchart:hover {\n",
              "    background-color: var(--hover-bg-color);\n",
              "    box-shadow: 0 1px 2px rgba(60, 64, 67, 0.3), 0 1px 3px 1px rgba(60, 64, 67, 0.15);\n",
              "    fill: var(--button-hover-fill-color);\n",
              "  }\n",
              "\n",
              "  .colab-df-quickchart-complete:disabled,\n",
              "  .colab-df-quickchart-complete:disabled:hover {\n",
              "    background-color: var(--disabled-bg-color);\n",
              "    fill: var(--disabled-fill-color);\n",
              "    box-shadow: none;\n",
              "  }\n",
              "\n",
              "  .colab-df-spinner {\n",
              "    border: 2px solid var(--fill-color);\n",
              "    border-color: transparent;\n",
              "    border-bottom-color: var(--fill-color);\n",
              "    animation:\n",
              "      spin 1s steps(1) infinite;\n",
              "  }\n",
              "\n",
              "  @keyframes spin {\n",
              "    0% {\n",
              "      border-color: transparent;\n",
              "      border-bottom-color: var(--fill-color);\n",
              "      border-left-color: var(--fill-color);\n",
              "    }\n",
              "    20% {\n",
              "      border-color: transparent;\n",
              "      border-left-color: var(--fill-color);\n",
              "      border-top-color: var(--fill-color);\n",
              "    }\n",
              "    30% {\n",
              "      border-color: transparent;\n",
              "      border-left-color: var(--fill-color);\n",
              "      border-top-color: var(--fill-color);\n",
              "      border-right-color: var(--fill-color);\n",
              "    }\n",
              "    40% {\n",
              "      border-color: transparent;\n",
              "      border-right-color: var(--fill-color);\n",
              "      border-top-color: var(--fill-color);\n",
              "    }\n",
              "    60% {\n",
              "      border-color: transparent;\n",
              "      border-right-color: var(--fill-color);\n",
              "    }\n",
              "    80% {\n",
              "      border-color: transparent;\n",
              "      border-right-color: var(--fill-color);\n",
              "      border-bottom-color: var(--fill-color);\n",
              "    }\n",
              "    90% {\n",
              "      border-color: transparent;\n",
              "      border-bottom-color: var(--fill-color);\n",
              "    }\n",
              "  }\n",
              "</style>\n",
              "\n",
              "      <script>\n",
              "        async function quickchart(key) {\n",
              "          const quickchartButtonEl =\n",
              "            document.querySelector('#' + key + ' button');\n",
              "          quickchartButtonEl.disabled = true;  // To prevent multiple clicks.\n",
              "          quickchartButtonEl.classList.add('colab-df-spinner');\n",
              "          try {\n",
              "            const charts = await google.colab.kernel.invokeFunction(\n",
              "                'suggestCharts', [key], {});\n",
              "          } catch (error) {\n",
              "            console.error('Error during call to suggestCharts:', error);\n",
              "          }\n",
              "          quickchartButtonEl.classList.remove('colab-df-spinner');\n",
              "          quickchartButtonEl.classList.add('colab-df-quickchart-complete');\n",
              "        }\n",
              "        (() => {\n",
              "          let quickchartButtonEl =\n",
              "            document.querySelector('#df-d7d56e67-b9e7-4aff-a0bf-191bbe951dcb button');\n",
              "          quickchartButtonEl.style.display =\n",
              "            google.colab.kernel.accessAllowed ? 'block' : 'none';\n",
              "        })();\n",
              "      </script>\n",
              "    </div>\n",
              "\n",
              "    </div>\n",
              "  </div>\n"
            ],
            "application/vnd.google.colaboratory.intrinsic+json": {
              "type": "dataframe",
              "variable_name": "df",
              "summary": "{\n  \"name\": \"df\",\n  \"rows\": 266,\n  \"fields\": [\n    {\n      \"column\": \"index\",\n      \"properties\": {\n        \"dtype\": \"number\",\n        \"std\": 35,\n        \"min\": 0,\n        \"max\": 121,\n        \"num_unique_values\": 122,\n        \"samples\": [\n          18,\n          45,\n          47\n        ],\n        \"semantic_type\": \"\",\n        \"description\": \"\"\n      }\n    },\n    {\n      \"column\": \"CourseName\",\n      \"properties\": {\n        \"dtype\": \"category\",\n        \"num_unique_values\": 70,\n        \"samples\": [\n          \"Food Composition and Information\",\n          \"Risk Assessment (Pest)\",\n          \"Post-slaughter traceability of Meat (FVO)\"\n        ],\n        \"semantic_type\": \"\",\n        \"description\": \"\"\n      }\n    },\n    {\n      \"column\": \"DateFrom\",\n      \"properties\": {\n        \"dtype\": \"object\",\n        \"num_unique_values\": 138,\n        \"samples\": [\n          \"2016-05-16\",\n          \"2016-09-05\",\n          \"2015-03-16\"\n        ],\n        \"semantic_type\": \"\",\n        \"description\": \"\"\n      }\n    },\n    {\n      \"column\": \"DateTo\",\n      \"properties\": {\n        \"dtype\": \"object\",\n        \"num_unique_values\": 114,\n        \"samples\": [\n          \"2016-06-10\",\n          \"2015-02-06\",\n          \"2015-09-17\"\n        ],\n        \"semantic_type\": \"\",\n        \"description\": \"\"\n      }\n    },\n    {\n      \"column\": \"Attendees\",\n      \"properties\": {\n        \"dtype\": \"number\",\n        \"std\": 1,\n        \"min\": 1,\n        \"max\": 13,\n        \"num_unique_values\": 7,\n        \"samples\": [\n          1,\n          2,\n          6\n        ],\n        \"semantic_type\": \"\",\n        \"description\": \"\"\n      }\n    },\n    {\n      \"column\": \"city\",\n      \"properties\": {\n        \"dtype\": \"category\",\n        \"num_unique_values\": 70,\n        \"samples\": [\n          \"grange\",\n          \"lisbon\",\n          \"alicante/murcia\"\n        ],\n        \"semantic_type\": \"\",\n        \"description\": \"\"\n      }\n    },\n    {\n      \"column\": \"country\",\n      \"properties\": {\n        \"dtype\": \"category\",\n        \"num_unique_values\": 28,\n        \"samples\": [\n          \"Germany\",\n          \"BG\",\n          \"Netherlands\"\n        ],\n        \"semantic_type\": \"\",\n        \"description\": \"\"\n      }\n    }\n  ]\n}"
            }
          },
          "metadata": {},
          "execution_count": 196
        }
      ],
      "source": [
        "df['city'] = df['city'].str.lower()\n",
        "df.head()"
      ]
    },
    {
      "cell_type": "code",
      "execution_count": 112,
      "metadata": {
        "jupyter": {
          "outputs_hidden": false
        },
        "id": "EoPDZTUmYkLT",
        "outputId": "9e4acfa5-8fa5-404a-94bf-b3bb7d8bb176",
        "colab": {
          "base_uri": "https://localhost:8080/"
        }
      },
      "outputs": [
        {
          "output_type": "stream",
          "name": "stdout",
          "text": [
            "df[\"city\"] = df[\"city\"].str.lower()"
          ]
        }
      ],
      "source": [
        " !cat solutions/05_24.py"
      ]
    },
    {
      "cell_type": "markdown",
      "metadata": {
        "id": "BEfGnT9rYkLT"
      },
      "source": [
        ">Have a look at the rows where the ***city*** contains ' ***/*** '."
      ]
    },
    {
      "cell_type": "code",
      "execution_count": 114,
      "metadata": {
        "jupyter": {
          "outputs_hidden": false
        },
        "id": "HbEd89mzYkLT",
        "outputId": "b82c3e6a-34df-4e30-e894-82f510fa8b41",
        "colab": {
          "base_uri": "https://localhost:8080/",
          "height": 439
        }
      },
      "outputs": [
        {
          "output_type": "execute_result",
          "data": {
            "text/plain": [
              "     index                                         CourseName    DateFrom  \\\n",
              "69      41  Food Hygiene at Primary Production (Aquatic An...  2015-06-28   \n",
              "79      51                              Plant Health Controls  2015-09-15   \n",
              "118     90        Food Hygiene at Primary Production (Plants)  2015-11-16   \n",
              "145    117                              Plant Health Controls  2016-03-07   \n",
              "159      9                              Plant Health Controls  2016-04-25   \n",
              "174     24                              Plant Health Controls  2016-05-17   \n",
              "216     66  Import Controls on Food and Feed of Non-Animal...  2016-09-13   \n",
              "264    114                       Food Hygiene and Flexibility  2017-03-20   \n",
              "\n",
              "         DateTo  Attendees              city country  \n",
              "69   2015-10-02          1      venice/udine   Italy  \n",
              "79   2015-09-17          1  brussels/antwerp    None  \n",
              "118  2015-11-20          1   alicante/murcia   Spain  \n",
              "145  2016-03-11          2    venice/treviso    None  \n",
              "159  2016-04-29          2    venice/treviso    None  \n",
              "174  2016-05-19          2  brussels/antwerp    None  \n",
              "216  2016-09-16         13   rotterdam/delft    None  \n",
              "264  2017-03-24          2   zagreb/helsinki    None  "
            ],
            "text/html": [
              "\n",
              "  <div id=\"df-d64f05ce-c2e9-4e7f-9669-d6da6da0eb6d\" class=\"colab-df-container\">\n",
              "    <div>\n",
              "<style scoped>\n",
              "    .dataframe tbody tr th:only-of-type {\n",
              "        vertical-align: middle;\n",
              "    }\n",
              "\n",
              "    .dataframe tbody tr th {\n",
              "        vertical-align: top;\n",
              "    }\n",
              "\n",
              "    .dataframe thead th {\n",
              "        text-align: right;\n",
              "    }\n",
              "</style>\n",
              "<table border=\"1\" class=\"dataframe\">\n",
              "  <thead>\n",
              "    <tr style=\"text-align: right;\">\n",
              "      <th></th>\n",
              "      <th>index</th>\n",
              "      <th>CourseName</th>\n",
              "      <th>DateFrom</th>\n",
              "      <th>DateTo</th>\n",
              "      <th>Attendees</th>\n",
              "      <th>city</th>\n",
              "      <th>country</th>\n",
              "    </tr>\n",
              "  </thead>\n",
              "  <tbody>\n",
              "    <tr>\n",
              "      <th>69</th>\n",
              "      <td>41</td>\n",
              "      <td>Food Hygiene at Primary Production (Aquatic An...</td>\n",
              "      <td>2015-06-28</td>\n",
              "      <td>2015-10-02</td>\n",
              "      <td>1</td>\n",
              "      <td>venice/udine</td>\n",
              "      <td>Italy</td>\n",
              "    </tr>\n",
              "    <tr>\n",
              "      <th>79</th>\n",
              "      <td>51</td>\n",
              "      <td>Plant Health Controls</td>\n",
              "      <td>2015-09-15</td>\n",
              "      <td>2015-09-17</td>\n",
              "      <td>1</td>\n",
              "      <td>brussels/antwerp</td>\n",
              "      <td>None</td>\n",
              "    </tr>\n",
              "    <tr>\n",
              "      <th>118</th>\n",
              "      <td>90</td>\n",
              "      <td>Food Hygiene at Primary Production (Plants)</td>\n",
              "      <td>2015-11-16</td>\n",
              "      <td>2015-11-20</td>\n",
              "      <td>1</td>\n",
              "      <td>alicante/murcia</td>\n",
              "      <td>Spain</td>\n",
              "    </tr>\n",
              "    <tr>\n",
              "      <th>145</th>\n",
              "      <td>117</td>\n",
              "      <td>Plant Health Controls</td>\n",
              "      <td>2016-03-07</td>\n",
              "      <td>2016-03-11</td>\n",
              "      <td>2</td>\n",
              "      <td>venice/treviso</td>\n",
              "      <td>None</td>\n",
              "    </tr>\n",
              "    <tr>\n",
              "      <th>159</th>\n",
              "      <td>9</td>\n",
              "      <td>Plant Health Controls</td>\n",
              "      <td>2016-04-25</td>\n",
              "      <td>2016-04-29</td>\n",
              "      <td>2</td>\n",
              "      <td>venice/treviso</td>\n",
              "      <td>None</td>\n",
              "    </tr>\n",
              "    <tr>\n",
              "      <th>174</th>\n",
              "      <td>24</td>\n",
              "      <td>Plant Health Controls</td>\n",
              "      <td>2016-05-17</td>\n",
              "      <td>2016-05-19</td>\n",
              "      <td>2</td>\n",
              "      <td>brussels/antwerp</td>\n",
              "      <td>None</td>\n",
              "    </tr>\n",
              "    <tr>\n",
              "      <th>216</th>\n",
              "      <td>66</td>\n",
              "      <td>Import Controls on Food and Feed of Non-Animal...</td>\n",
              "      <td>2016-09-13</td>\n",
              "      <td>2016-09-16</td>\n",
              "      <td>13</td>\n",
              "      <td>rotterdam/delft</td>\n",
              "      <td>None</td>\n",
              "    </tr>\n",
              "    <tr>\n",
              "      <th>264</th>\n",
              "      <td>114</td>\n",
              "      <td>Food Hygiene and Flexibility</td>\n",
              "      <td>2017-03-20</td>\n",
              "      <td>2017-03-24</td>\n",
              "      <td>2</td>\n",
              "      <td>zagreb/helsinki</td>\n",
              "      <td>None</td>\n",
              "    </tr>\n",
              "  </tbody>\n",
              "</table>\n",
              "</div>\n",
              "    <div class=\"colab-df-buttons\">\n",
              "\n",
              "  <div class=\"colab-df-container\">\n",
              "    <button class=\"colab-df-convert\" onclick=\"convertToInteractive('df-d64f05ce-c2e9-4e7f-9669-d6da6da0eb6d')\"\n",
              "            title=\"Convert this dataframe to an interactive table.\"\n",
              "            style=\"display:none;\">\n",
              "\n",
              "  <svg xmlns=\"http://www.w3.org/2000/svg\" height=\"24px\" viewBox=\"0 -960 960 960\">\n",
              "    <path d=\"M120-120v-720h720v720H120Zm60-500h600v-160H180v160Zm220 220h160v-160H400v160Zm0 220h160v-160H400v160ZM180-400h160v-160H180v160Zm440 0h160v-160H620v160ZM180-180h160v-160H180v160Zm440 0h160v-160H620v160Z\"/>\n",
              "  </svg>\n",
              "    </button>\n",
              "\n",
              "  <style>\n",
              "    .colab-df-container {\n",
              "      display:flex;\n",
              "      gap: 12px;\n",
              "    }\n",
              "\n",
              "    .colab-df-convert {\n",
              "      background-color: #E8F0FE;\n",
              "      border: none;\n",
              "      border-radius: 50%;\n",
              "      cursor: pointer;\n",
              "      display: none;\n",
              "      fill: #1967D2;\n",
              "      height: 32px;\n",
              "      padding: 0 0 0 0;\n",
              "      width: 32px;\n",
              "    }\n",
              "\n",
              "    .colab-df-convert:hover {\n",
              "      background-color: #E2EBFA;\n",
              "      box-shadow: 0px 1px 2px rgba(60, 64, 67, 0.3), 0px 1px 3px 1px rgba(60, 64, 67, 0.15);\n",
              "      fill: #174EA6;\n",
              "    }\n",
              "\n",
              "    .colab-df-buttons div {\n",
              "      margin-bottom: 4px;\n",
              "    }\n",
              "\n",
              "    [theme=dark] .colab-df-convert {\n",
              "      background-color: #3B4455;\n",
              "      fill: #D2E3FC;\n",
              "    }\n",
              "\n",
              "    [theme=dark] .colab-df-convert:hover {\n",
              "      background-color: #434B5C;\n",
              "      box-shadow: 0px 1px 3px 1px rgba(0, 0, 0, 0.15);\n",
              "      filter: drop-shadow(0px 1px 2px rgba(0, 0, 0, 0.3));\n",
              "      fill: #FFFFFF;\n",
              "    }\n",
              "  </style>\n",
              "\n",
              "    <script>\n",
              "      const buttonEl =\n",
              "        document.querySelector('#df-d64f05ce-c2e9-4e7f-9669-d6da6da0eb6d button.colab-df-convert');\n",
              "      buttonEl.style.display =\n",
              "        google.colab.kernel.accessAllowed ? 'block' : 'none';\n",
              "\n",
              "      async function convertToInteractive(key) {\n",
              "        const element = document.querySelector('#df-d64f05ce-c2e9-4e7f-9669-d6da6da0eb6d');\n",
              "        const dataTable =\n",
              "          await google.colab.kernel.invokeFunction('convertToInteractive',\n",
              "                                                    [key], {});\n",
              "        if (!dataTable) return;\n",
              "\n",
              "        const docLinkHtml = 'Like what you see? Visit the ' +\n",
              "          '<a target=\"_blank\" href=https://colab.research.google.com/notebooks/data_table.ipynb>data table notebook</a>'\n",
              "          + ' to learn more about interactive tables.';\n",
              "        element.innerHTML = '';\n",
              "        dataTable['output_type'] = 'display_data';\n",
              "        await google.colab.output.renderOutput(dataTable, element);\n",
              "        const docLink = document.createElement('div');\n",
              "        docLink.innerHTML = docLinkHtml;\n",
              "        element.appendChild(docLink);\n",
              "      }\n",
              "    </script>\n",
              "  </div>\n",
              "\n",
              "\n",
              "    <div id=\"df-1ca75d48-614a-4fbc-bac1-12bb47f25b29\">\n",
              "      <button class=\"colab-df-quickchart\" onclick=\"quickchart('df-1ca75d48-614a-4fbc-bac1-12bb47f25b29')\"\n",
              "                title=\"Suggest charts\"\n",
              "                style=\"display:none;\">\n",
              "\n",
              "<svg xmlns=\"http://www.w3.org/2000/svg\" height=\"24px\"viewBox=\"0 0 24 24\"\n",
              "     width=\"24px\">\n",
              "    <g>\n",
              "        <path d=\"M19 3H5c-1.1 0-2 .9-2 2v14c0 1.1.9 2 2 2h14c1.1 0 2-.9 2-2V5c0-1.1-.9-2-2-2zM9 17H7v-7h2v7zm4 0h-2V7h2v10zm4 0h-2v-4h2v4z\"/>\n",
              "    </g>\n",
              "</svg>\n",
              "      </button>\n",
              "\n",
              "<style>\n",
              "  .colab-df-quickchart {\n",
              "      --bg-color: #E8F0FE;\n",
              "      --fill-color: #1967D2;\n",
              "      --hover-bg-color: #E2EBFA;\n",
              "      --hover-fill-color: #174EA6;\n",
              "      --disabled-fill-color: #AAA;\n",
              "      --disabled-bg-color: #DDD;\n",
              "  }\n",
              "\n",
              "  [theme=dark] .colab-df-quickchart {\n",
              "      --bg-color: #3B4455;\n",
              "      --fill-color: #D2E3FC;\n",
              "      --hover-bg-color: #434B5C;\n",
              "      --hover-fill-color: #FFFFFF;\n",
              "      --disabled-bg-color: #3B4455;\n",
              "      --disabled-fill-color: #666;\n",
              "  }\n",
              "\n",
              "  .colab-df-quickchart {\n",
              "    background-color: var(--bg-color);\n",
              "    border: none;\n",
              "    border-radius: 50%;\n",
              "    cursor: pointer;\n",
              "    display: none;\n",
              "    fill: var(--fill-color);\n",
              "    height: 32px;\n",
              "    padding: 0;\n",
              "    width: 32px;\n",
              "  }\n",
              "\n",
              "  .colab-df-quickchart:hover {\n",
              "    background-color: var(--hover-bg-color);\n",
              "    box-shadow: 0 1px 2px rgba(60, 64, 67, 0.3), 0 1px 3px 1px rgba(60, 64, 67, 0.15);\n",
              "    fill: var(--button-hover-fill-color);\n",
              "  }\n",
              "\n",
              "  .colab-df-quickchart-complete:disabled,\n",
              "  .colab-df-quickchart-complete:disabled:hover {\n",
              "    background-color: var(--disabled-bg-color);\n",
              "    fill: var(--disabled-fill-color);\n",
              "    box-shadow: none;\n",
              "  }\n",
              "\n",
              "  .colab-df-spinner {\n",
              "    border: 2px solid var(--fill-color);\n",
              "    border-color: transparent;\n",
              "    border-bottom-color: var(--fill-color);\n",
              "    animation:\n",
              "      spin 1s steps(1) infinite;\n",
              "  }\n",
              "\n",
              "  @keyframes spin {\n",
              "    0% {\n",
              "      border-color: transparent;\n",
              "      border-bottom-color: var(--fill-color);\n",
              "      border-left-color: var(--fill-color);\n",
              "    }\n",
              "    20% {\n",
              "      border-color: transparent;\n",
              "      border-left-color: var(--fill-color);\n",
              "      border-top-color: var(--fill-color);\n",
              "    }\n",
              "    30% {\n",
              "      border-color: transparent;\n",
              "      border-left-color: var(--fill-color);\n",
              "      border-top-color: var(--fill-color);\n",
              "      border-right-color: var(--fill-color);\n",
              "    }\n",
              "    40% {\n",
              "      border-color: transparent;\n",
              "      border-right-color: var(--fill-color);\n",
              "      border-top-color: var(--fill-color);\n",
              "    }\n",
              "    60% {\n",
              "      border-color: transparent;\n",
              "      border-right-color: var(--fill-color);\n",
              "    }\n",
              "    80% {\n",
              "      border-color: transparent;\n",
              "      border-right-color: var(--fill-color);\n",
              "      border-bottom-color: var(--fill-color);\n",
              "    }\n",
              "    90% {\n",
              "      border-color: transparent;\n",
              "      border-bottom-color: var(--fill-color);\n",
              "    }\n",
              "  }\n",
              "</style>\n",
              "\n",
              "      <script>\n",
              "        async function quickchart(key) {\n",
              "          const quickchartButtonEl =\n",
              "            document.querySelector('#' + key + ' button');\n",
              "          quickchartButtonEl.disabled = true;  // To prevent multiple clicks.\n",
              "          quickchartButtonEl.classList.add('colab-df-spinner');\n",
              "          try {\n",
              "            const charts = await google.colab.kernel.invokeFunction(\n",
              "                'suggestCharts', [key], {});\n",
              "          } catch (error) {\n",
              "            console.error('Error during call to suggestCharts:', error);\n",
              "          }\n",
              "          quickchartButtonEl.classList.remove('colab-df-spinner');\n",
              "          quickchartButtonEl.classList.add('colab-df-quickchart-complete');\n",
              "        }\n",
              "        (() => {\n",
              "          let quickchartButtonEl =\n",
              "            document.querySelector('#df-1ca75d48-614a-4fbc-bac1-12bb47f25b29 button');\n",
              "          quickchartButtonEl.style.display =\n",
              "            google.colab.kernel.accessAllowed ? 'block' : 'none';\n",
              "        })();\n",
              "      </script>\n",
              "    </div>\n",
              "\n",
              "    </div>\n",
              "  </div>\n"
            ],
            "application/vnd.google.colaboratory.intrinsic+json": {
              "type": "dataframe",
              "repr_error": "0"
            }
          },
          "metadata": {},
          "execution_count": 114
        }
      ],
      "source": [
        "df[df['city'].str.contains('/')]"
      ]
    },
    {
      "cell_type": "code",
      "execution_count": 115,
      "metadata": {
        "jupyter": {
          "outputs_hidden": false
        },
        "id": "Z65D54u-YkLT",
        "outputId": "b8b67f09-99b1-42c3-b00f-385d594d6351",
        "colab": {
          "base_uri": "https://localhost:8080/"
        }
      },
      "outputs": [
        {
          "output_type": "stream",
          "name": "stdout",
          "text": [
            "df[\"city\"][df[\"city\"].str.contains(\"/\")]"
          ]
        }
      ],
      "source": [
        " !cat solutions/05_25.py"
      ]
    },
    {
      "cell_type": "markdown",
      "metadata": {
        "id": "poe1vfccYkLT"
      },
      "source": [
        "Let's decide we only want to have one city for each row. We can decide to keep only the city before the forward slash.  \n",
        ">Replace the string with a forward slash (i.e. ***/***) with the city appearing before the slash in the ***city*** column.  \n",
        ">You will have to use a [regular expression](https://docs.python.org/3/howto/regex.html#repeating-things).      \n",
        ">You can test your regular expression [here](https://regex101.com)."
      ]
    },
    {
      "cell_type": "code",
      "execution_count": 125,
      "metadata": {
        "id": "RaaA60ZLYkLT"
      },
      "outputs": [],
      "source": [
        "df['city'] = df['city'][df['city'].str.contains('/')].str.split('/', expand = True)[0]\n"
      ]
    },
    {
      "cell_type": "code",
      "source": [],
      "metadata": {
        "id": "5BVOmKYn3MFF"
      },
      "execution_count": null,
      "outputs": []
    },
    {
      "cell_type": "code",
      "source": [],
      "metadata": {
        "id": "6StYfhqC3RH5",
        "outputId": "ed8b4733-d126-48c9-a430-394928230a5d",
        "colab": {
          "base_uri": "https://localhost:8080/",
          "height": 458
        }
      },
      "execution_count": 127,
      "outputs": [
        {
          "output_type": "execute_result",
          "data": {
            "text/plain": [
              "0         NaN\n",
              "1         NaN\n",
              "2         NaN\n",
              "3         NaN\n",
              "4         NaN\n",
              "        ...  \n",
              "261       NaN\n",
              "262       NaN\n",
              "263       NaN\n",
              "264    zagreb\n",
              "265       NaN\n",
              "Name: city, Length: 266, dtype: object"
            ],
            "text/html": [
              "<div>\n",
              "<style scoped>\n",
              "    .dataframe tbody tr th:only-of-type {\n",
              "        vertical-align: middle;\n",
              "    }\n",
              "\n",
              "    .dataframe tbody tr th {\n",
              "        vertical-align: top;\n",
              "    }\n",
              "\n",
              "    .dataframe thead th {\n",
              "        text-align: right;\n",
              "    }\n",
              "</style>\n",
              "<table border=\"1\" class=\"dataframe\">\n",
              "  <thead>\n",
              "    <tr style=\"text-align: right;\">\n",
              "      <th></th>\n",
              "      <th>city</th>\n",
              "    </tr>\n",
              "  </thead>\n",
              "  <tbody>\n",
              "    <tr>\n",
              "      <th>0</th>\n",
              "      <td>NaN</td>\n",
              "    </tr>\n",
              "    <tr>\n",
              "      <th>1</th>\n",
              "      <td>NaN</td>\n",
              "    </tr>\n",
              "    <tr>\n",
              "      <th>2</th>\n",
              "      <td>NaN</td>\n",
              "    </tr>\n",
              "    <tr>\n",
              "      <th>3</th>\n",
              "      <td>NaN</td>\n",
              "    </tr>\n",
              "    <tr>\n",
              "      <th>4</th>\n",
              "      <td>NaN</td>\n",
              "    </tr>\n",
              "    <tr>\n",
              "      <th>...</th>\n",
              "      <td>...</td>\n",
              "    </tr>\n",
              "    <tr>\n",
              "      <th>261</th>\n",
              "      <td>NaN</td>\n",
              "    </tr>\n",
              "    <tr>\n",
              "      <th>262</th>\n",
              "      <td>NaN</td>\n",
              "    </tr>\n",
              "    <tr>\n",
              "      <th>263</th>\n",
              "      <td>NaN</td>\n",
              "    </tr>\n",
              "    <tr>\n",
              "      <th>264</th>\n",
              "      <td>zagreb</td>\n",
              "    </tr>\n",
              "    <tr>\n",
              "      <th>265</th>\n",
              "      <td>NaN</td>\n",
              "    </tr>\n",
              "  </tbody>\n",
              "</table>\n",
              "<p>266 rows × 1 columns</p>\n",
              "</div><br><label><b>dtype:</b> object</label>"
            ]
          },
          "metadata": {},
          "execution_count": 127
        }
      ]
    },
    {
      "cell_type": "code",
      "source": [
        "df['city'][df['city'].str.contains('/')].str.split(pat = '/', expand = True)[0]"
      ],
      "metadata": {
        "id": "aKDgBQuh21P5",
        "outputId": "9b8b4fc2-4609-4831-b44c-f787044a8836",
        "colab": {
          "base_uri": "https://localhost:8080/",
          "height": 335
        }
      },
      "execution_count": 124,
      "outputs": [
        {
          "output_type": "execute_result",
          "data": {
            "text/plain": [
              "69        venice\n",
              "79      brussels\n",
              "118     alicante\n",
              "145       venice\n",
              "159       venice\n",
              "174     brussels\n",
              "216    rotterdam\n",
              "264       zagreb\n",
              "Name: 0, dtype: object"
            ],
            "text/html": [
              "<div>\n",
              "<style scoped>\n",
              "    .dataframe tbody tr th:only-of-type {\n",
              "        vertical-align: middle;\n",
              "    }\n",
              "\n",
              "    .dataframe tbody tr th {\n",
              "        vertical-align: top;\n",
              "    }\n",
              "\n",
              "    .dataframe thead th {\n",
              "        text-align: right;\n",
              "    }\n",
              "</style>\n",
              "<table border=\"1\" class=\"dataframe\">\n",
              "  <thead>\n",
              "    <tr style=\"text-align: right;\">\n",
              "      <th></th>\n",
              "      <th>0</th>\n",
              "    </tr>\n",
              "  </thead>\n",
              "  <tbody>\n",
              "    <tr>\n",
              "      <th>69</th>\n",
              "      <td>venice</td>\n",
              "    </tr>\n",
              "    <tr>\n",
              "      <th>79</th>\n",
              "      <td>brussels</td>\n",
              "    </tr>\n",
              "    <tr>\n",
              "      <th>118</th>\n",
              "      <td>alicante</td>\n",
              "    </tr>\n",
              "    <tr>\n",
              "      <th>145</th>\n",
              "      <td>venice</td>\n",
              "    </tr>\n",
              "    <tr>\n",
              "      <th>159</th>\n",
              "      <td>venice</td>\n",
              "    </tr>\n",
              "    <tr>\n",
              "      <th>174</th>\n",
              "      <td>brussels</td>\n",
              "    </tr>\n",
              "    <tr>\n",
              "      <th>216</th>\n",
              "      <td>rotterdam</td>\n",
              "    </tr>\n",
              "    <tr>\n",
              "      <th>264</th>\n",
              "      <td>zagreb</td>\n",
              "    </tr>\n",
              "  </tbody>\n",
              "</table>\n",
              "</div><br><label><b>dtype:</b> object</label>"
            ]
          },
          "metadata": {},
          "execution_count": 124
        }
      ]
    },
    {
      "cell_type": "code",
      "execution_count": 129,
      "metadata": {
        "colab": {
          "base_uri": "https://localhost:8080/"
        },
        "id": "uuFhg92VYkLT",
        "outputId": "61981263-7feb-4072-d27a-7249f6cb9ffa"
      },
      "outputs": [
        {
          "output_type": "stream",
          "name": "stdout",
          "text": [
            "df[\"city\"] = df[\"city\"].str.replace(r\"/\\w*\", \"\", regex=True)"
          ]
        }
      ],
      "source": [
        "!cat solutions/05_26.py"
      ]
    },
    {
      "cell_type": "code",
      "source": [
        "df[\"city\"] = df[\"city\"].str.replace(r\"/\\w*\", \"\", regex=True)"
      ],
      "metadata": {
        "id": "-6uad1qi-LWq"
      },
      "execution_count": 197,
      "outputs": []
    },
    {
      "cell_type": "markdown",
      "metadata": {
        "id": "MtstnVAOYkLT"
      },
      "source": [
        "---\n",
        "\n",
        "<div class=\"alert alert-block alert-warning\" style=\"padding: 0px; padding-left: 20px; padding-top: 5px;\"><h2 style=\"color: #301E40\">\n",
        "Map\n",
        "</h2><br>\n",
        "</div>"
      ]
    },
    {
      "cell_type": "code",
      "execution_count": 130,
      "metadata": {
        "jupyter": {
          "outputs_hidden": false
        },
        "id": "F6RAl4xWYkLU",
        "outputId": "325c7889-136c-42b5-e4b5-c09d1cf3b430",
        "colab": {
          "base_uri": "https://localhost:8080/",
          "height": 994
        }
      },
      "outputs": [
        {
          "output_type": "execute_result",
          "data": {
            "text/plain": [
              "country\n",
              "Ireland           19\n",
              "Italy             15\n",
              "Spain             13\n",
              "Germany            5\n",
              "IT                 5\n",
              "Greece             5\n",
              "Portugal           4\n",
              "Belgium            4\n",
              "UK                 4\n",
              "Slovenia           4\n",
              "Netherlands        3\n",
              "France             3\n",
              "Poland             2\n",
              "Austria            1\n",
              "Slovakia           1\n",
              "United Kingdom     1\n",
              "Croatia            1\n",
              "Denmark            1\n",
              "Hungary            1\n",
              "Estonia            1\n",
              "Switzerland        1\n",
              "Lithuania          1\n",
              "CZ                 1\n",
              "Latvia             1\n",
              "Sweden             1\n",
              "BG                 1\n",
              "GR                 1\n",
              "SI                 1\n",
              "Name: count, dtype: int64"
            ],
            "text/html": [
              "<div>\n",
              "<style scoped>\n",
              "    .dataframe tbody tr th:only-of-type {\n",
              "        vertical-align: middle;\n",
              "    }\n",
              "\n",
              "    .dataframe tbody tr th {\n",
              "        vertical-align: top;\n",
              "    }\n",
              "\n",
              "    .dataframe thead th {\n",
              "        text-align: right;\n",
              "    }\n",
              "</style>\n",
              "<table border=\"1\" class=\"dataframe\">\n",
              "  <thead>\n",
              "    <tr style=\"text-align: right;\">\n",
              "      <th></th>\n",
              "      <th>count</th>\n",
              "    </tr>\n",
              "    <tr>\n",
              "      <th>country</th>\n",
              "      <th></th>\n",
              "    </tr>\n",
              "  </thead>\n",
              "  <tbody>\n",
              "    <tr>\n",
              "      <th>Ireland</th>\n",
              "      <td>19</td>\n",
              "    </tr>\n",
              "    <tr>\n",
              "      <th>Italy</th>\n",
              "      <td>15</td>\n",
              "    </tr>\n",
              "    <tr>\n",
              "      <th>Spain</th>\n",
              "      <td>13</td>\n",
              "    </tr>\n",
              "    <tr>\n",
              "      <th>Germany</th>\n",
              "      <td>5</td>\n",
              "    </tr>\n",
              "    <tr>\n",
              "      <th>IT</th>\n",
              "      <td>5</td>\n",
              "    </tr>\n",
              "    <tr>\n",
              "      <th>Greece</th>\n",
              "      <td>5</td>\n",
              "    </tr>\n",
              "    <tr>\n",
              "      <th>Portugal</th>\n",
              "      <td>4</td>\n",
              "    </tr>\n",
              "    <tr>\n",
              "      <th>Belgium</th>\n",
              "      <td>4</td>\n",
              "    </tr>\n",
              "    <tr>\n",
              "      <th>UK</th>\n",
              "      <td>4</td>\n",
              "    </tr>\n",
              "    <tr>\n",
              "      <th>Slovenia</th>\n",
              "      <td>4</td>\n",
              "    </tr>\n",
              "    <tr>\n",
              "      <th>Netherlands</th>\n",
              "      <td>3</td>\n",
              "    </tr>\n",
              "    <tr>\n",
              "      <th>France</th>\n",
              "      <td>3</td>\n",
              "    </tr>\n",
              "    <tr>\n",
              "      <th>Poland</th>\n",
              "      <td>2</td>\n",
              "    </tr>\n",
              "    <tr>\n",
              "      <th>Austria</th>\n",
              "      <td>1</td>\n",
              "    </tr>\n",
              "    <tr>\n",
              "      <th>Slovakia</th>\n",
              "      <td>1</td>\n",
              "    </tr>\n",
              "    <tr>\n",
              "      <th>United Kingdom</th>\n",
              "      <td>1</td>\n",
              "    </tr>\n",
              "    <tr>\n",
              "      <th>Croatia</th>\n",
              "      <td>1</td>\n",
              "    </tr>\n",
              "    <tr>\n",
              "      <th>Denmark</th>\n",
              "      <td>1</td>\n",
              "    </tr>\n",
              "    <tr>\n",
              "      <th>Hungary</th>\n",
              "      <td>1</td>\n",
              "    </tr>\n",
              "    <tr>\n",
              "      <th>Estonia</th>\n",
              "      <td>1</td>\n",
              "    </tr>\n",
              "    <tr>\n",
              "      <th>Switzerland</th>\n",
              "      <td>1</td>\n",
              "    </tr>\n",
              "    <tr>\n",
              "      <th>Lithuania</th>\n",
              "      <td>1</td>\n",
              "    </tr>\n",
              "    <tr>\n",
              "      <th>CZ</th>\n",
              "      <td>1</td>\n",
              "    </tr>\n",
              "    <tr>\n",
              "      <th>Latvia</th>\n",
              "      <td>1</td>\n",
              "    </tr>\n",
              "    <tr>\n",
              "      <th>Sweden</th>\n",
              "      <td>1</td>\n",
              "    </tr>\n",
              "    <tr>\n",
              "      <th>BG</th>\n",
              "      <td>1</td>\n",
              "    </tr>\n",
              "    <tr>\n",
              "      <th>GR</th>\n",
              "      <td>1</td>\n",
              "    </tr>\n",
              "    <tr>\n",
              "      <th>SI</th>\n",
              "      <td>1</td>\n",
              "    </tr>\n",
              "  </tbody>\n",
              "</table>\n",
              "</div><br><label><b>dtype:</b> int64</label>"
            ]
          },
          "metadata": {},
          "execution_count": 130
        }
      ],
      "source": [
        "df['country'].value_counts()"
      ]
    },
    {
      "cell_type": "markdown",
      "metadata": {
        "id": "3C5A1TZ7YkLU"
      },
      "source": [
        "We saw that some countries were filled with their country code, and others with their name. We are going to move everything to the same format.  \n",
        "We can do that by mapping a dictionary to a column. It will then replace the ***key*** with the corresponding ***value***.  \n",
        ">Complete the code below to replace the country codes with the country name.  \n",
        ">Note that we use a mask as we want to replace only certain values of the series."
      ]
    },
    {
      "cell_type": "code",
      "execution_count": 198,
      "metadata": {
        "jupyter": {
          "outputs_hidden": false
        },
        "id": "6fY29tdiYkLU"
      },
      "outputs": [],
      "source": [
        "dict_codes = {'BG':'Bulgaria', 'CZ':'Czech Republic', 'IT':'Italy', 'GR':'Greece', 'SI':'Slovenia', 'UK':'United Kingdom'}\n"
      ]
    },
    {
      "cell_type": "code",
      "source": [
        "temp = df.loc[df['country'].isin(dict_codes.keys()), 'country']\n",
        "temp"
      ],
      "metadata": {
        "id": "uTFrmHwQ4iIl",
        "outputId": "af3bd57d-ba65-43f6-b385-570696e28f2d",
        "colab": {
          "base_uri": "https://localhost:8080/",
          "height": 492
        }
      },
      "execution_count": 144,
      "outputs": [
        {
          "output_type": "execute_result",
          "data": {
            "text/plain": [
              "82     IT\n",
              "87     UK\n",
              "110    IT\n",
              "164    UK\n",
              "183    CZ\n",
              "215    BG\n",
              "230    IT\n",
              "231    GR\n",
              "237    UK\n",
              "240    UK\n",
              "250    SI\n",
              "253    IT\n",
              "261    IT\n",
              "Name: country, dtype: object"
            ],
            "text/html": [
              "<div>\n",
              "<style scoped>\n",
              "    .dataframe tbody tr th:only-of-type {\n",
              "        vertical-align: middle;\n",
              "    }\n",
              "\n",
              "    .dataframe tbody tr th {\n",
              "        vertical-align: top;\n",
              "    }\n",
              "\n",
              "    .dataframe thead th {\n",
              "        text-align: right;\n",
              "    }\n",
              "</style>\n",
              "<table border=\"1\" class=\"dataframe\">\n",
              "  <thead>\n",
              "    <tr style=\"text-align: right;\">\n",
              "      <th></th>\n",
              "      <th>country</th>\n",
              "    </tr>\n",
              "  </thead>\n",
              "  <tbody>\n",
              "    <tr>\n",
              "      <th>82</th>\n",
              "      <td>IT</td>\n",
              "    </tr>\n",
              "    <tr>\n",
              "      <th>87</th>\n",
              "      <td>UK</td>\n",
              "    </tr>\n",
              "    <tr>\n",
              "      <th>110</th>\n",
              "      <td>IT</td>\n",
              "    </tr>\n",
              "    <tr>\n",
              "      <th>164</th>\n",
              "      <td>UK</td>\n",
              "    </tr>\n",
              "    <tr>\n",
              "      <th>183</th>\n",
              "      <td>CZ</td>\n",
              "    </tr>\n",
              "    <tr>\n",
              "      <th>215</th>\n",
              "      <td>BG</td>\n",
              "    </tr>\n",
              "    <tr>\n",
              "      <th>230</th>\n",
              "      <td>IT</td>\n",
              "    </tr>\n",
              "    <tr>\n",
              "      <th>231</th>\n",
              "      <td>GR</td>\n",
              "    </tr>\n",
              "    <tr>\n",
              "      <th>237</th>\n",
              "      <td>UK</td>\n",
              "    </tr>\n",
              "    <tr>\n",
              "      <th>240</th>\n",
              "      <td>UK</td>\n",
              "    </tr>\n",
              "    <tr>\n",
              "      <th>250</th>\n",
              "      <td>SI</td>\n",
              "    </tr>\n",
              "    <tr>\n",
              "      <th>253</th>\n",
              "      <td>IT</td>\n",
              "    </tr>\n",
              "    <tr>\n",
              "      <th>261</th>\n",
              "      <td>IT</td>\n",
              "    </tr>\n",
              "  </tbody>\n",
              "</table>\n",
              "</div><br><label><b>dtype:</b> object</label>"
            ]
          },
          "metadata": {},
          "execution_count": 144
        }
      ]
    },
    {
      "cell_type": "code",
      "source": [
        "[dict_codes[key] for key in df.loc[df['country'].isin(dict_codes.keys()), 'country'] if key in dict_codes]"
      ],
      "metadata": {
        "id": "txWDWeg36Xp8",
        "outputId": "c818edd6-43c8-410d-b809-a72a48051bed",
        "colab": {
          "base_uri": "https://localhost:8080/"
        }
      },
      "execution_count": 170,
      "outputs": [
        {
          "output_type": "execute_result",
          "data": {
            "text/plain": [
              "['Italy',\n",
              " 'United Kingdom',\n",
              " 'Italy',\n",
              " 'United Kingdom',\n",
              " 'Czech Republic',\n",
              " 'Bulgaria',\n",
              " 'Italy',\n",
              " 'Greece',\n",
              " 'United Kingdom',\n",
              " 'United Kingdom',\n",
              " 'Slovenia',\n",
              " 'Italy',\n",
              " 'Italy']"
            ]
          },
          "metadata": {},
          "execution_count": 170
        }
      ]
    },
    {
      "cell_type": "code",
      "source": [
        "dict_codes[key] for key in df.loc[df['country'].isin(dict_codes.keys()), 'country'] if key in dict_codes"
      ],
      "metadata": {
        "id": "JD9l7a8A8br4",
        "outputId": "d5e31ee4-e2dd-40f8-fbe4-1310a26d246b",
        "colab": {
          "base_uri": "https://localhost:8080/",
          "height": 106
        }
      },
      "execution_count": 171,
      "outputs": [
        {
          "output_type": "error",
          "ename": "SyntaxError",
          "evalue": "invalid syntax (<ipython-input-171-757e28ae5517>, line 1)",
          "traceback": [
            "\u001b[0;36m  File \u001b[0;32m\"<ipython-input-171-757e28ae5517>\"\u001b[0;36m, line \u001b[0;32m1\u001b[0m\n\u001b[0;31m    dict_codes[key] for key in df.loc[df['country'].isin(dict_codes.keys()), 'country'] if key in dict_codes\u001b[0m\n\u001b[0m                    ^\u001b[0m\n\u001b[0;31mSyntaxError\u001b[0m\u001b[0;31m:\u001b[0m invalid syntax\n"
          ]
        }
      ]
    },
    {
      "cell_type": "code",
      "source": [
        "df.loc[df['country'].isin(dict_codes.keys()), 'country'] =  [dict_codes[key] for key in df.loc[df['country'].isin(dict_codes.keys()), 'country'] if key in dict_codes] # this one causing the unknow keys dropped???"
      ],
      "metadata": {
        "id": "VXk0WJrl8hus"
      },
      "execution_count": 199,
      "outputs": []
    },
    {
      "cell_type": "code",
      "source": [
        "df.loc[df['country'].isin(dict_codes.keys()), 'country']"
      ],
      "metadata": {
        "id": "dpy_-gMv8pSN",
        "outputId": "aa3d0d5d-e716-4401-9b32-2cc0f33a3a2b",
        "colab": {
          "base_uri": "https://localhost:8080/",
          "height": 84
        }
      },
      "execution_count": 200,
      "outputs": [
        {
          "output_type": "execute_result",
          "data": {
            "text/plain": [
              "Series([], Name: country, dtype: object)"
            ],
            "text/html": [
              "<div>\n",
              "<style scoped>\n",
              "    .dataframe tbody tr th:only-of-type {\n",
              "        vertical-align: middle;\n",
              "    }\n",
              "\n",
              "    .dataframe tbody tr th {\n",
              "        vertical-align: top;\n",
              "    }\n",
              "\n",
              "    .dataframe thead th {\n",
              "        text-align: right;\n",
              "    }\n",
              "</style>\n",
              "<table border=\"1\" class=\"dataframe\">\n",
              "  <thead>\n",
              "    <tr style=\"text-align: right;\">\n",
              "      <th></th>\n",
              "      <th>country</th>\n",
              "    </tr>\n",
              "  </thead>\n",
              "  <tbody>\n",
              "  </tbody>\n",
              "</table>\n",
              "</div><br><label><b>dtype:</b> object</label>"
            ]
          },
          "metadata": {},
          "execution_count": 200
        }
      ]
    },
    {
      "cell_type": "code",
      "source": [
        "dict_codes['BG']\n",
        "dict_codes['CZ']\n",
        "dict_codes['UK']"
      ],
      "metadata": {
        "id": "6ITf_SA840Pz",
        "outputId": "7088fe31-cd79-4b6d-b207-2d1f678f4b94",
        "colab": {
          "base_uri": "https://localhost:8080/",
          "height": 35
        }
      },
      "execution_count": 201,
      "outputs": [
        {
          "output_type": "execute_result",
          "data": {
            "text/plain": [
              "'United Kingdom'"
            ],
            "application/vnd.google.colaboratory.intrinsic+json": {
              "type": "string"
            }
          },
          "metadata": {},
          "execution_count": 201
        }
      ]
    },
    {
      "cell_type": "code",
      "execution_count": 177,
      "metadata": {
        "jupyter": {
          "outputs_hidden": false
        },
        "id": "gFu-Lz7JYkLU",
        "outputId": "217e0476-774e-490d-c5b8-9d8af77be2bd",
        "colab": {
          "base_uri": "https://localhost:8080/"
        }
      },
      "outputs": [
        {
          "output_type": "stream",
          "name": "stdout",
          "text": [
            "dict_codes = {\n",
            "    \"BG\": \"Bulgaria\",\n",
            "    \"CZ\": \"Czech Republic\",\n",
            "    \"IT\": \"Italy\",\n",
            "    \"GR\": \"Greece\",\n",
            "    \"SI\": \"Slovenia\",\n",
            "    \"UK\": \"United Kingdom\",\n",
            "}\n",
            "\n",
            "country_in_codes = df[\"country\"].isin(dict_codes.keys())\n",
            "df.loc[country_in_codes, \"country\"] = df.loc[country_in_codes, \"country\"].map(dict_codes)"
          ]
        }
      ],
      "source": [
        "!cat solutions/05_27.py"
      ]
    },
    {
      "cell_type": "code",
      "execution_count": 202,
      "metadata": {
        "jupyter": {
          "outputs_hidden": false
        },
        "id": "DE6N-XDbYkLU",
        "outputId": "e9fb7fc7-12dd-4195-e1d9-3132f8006cd7",
        "colab": {
          "base_uri": "https://localhost:8080/",
          "height": 899
        }
      },
      "outputs": [
        {
          "output_type": "execute_result",
          "data": {
            "text/plain": [
              "country\n",
              "None              165\n",
              "Italy              20\n",
              "Ireland            19\n",
              "Spain              13\n",
              "Greece              6\n",
              "United Kingdom      5\n",
              "Germany             5\n",
              "Slovenia            5\n",
              "Portugal            4\n",
              "Belgium             4\n",
              "Netherlands         3\n",
              "France              3\n",
              "Poland              2\n",
              "Croatia             1\n",
              "Slovakia            1\n",
              "Austria             1\n",
              "Denmark             1\n",
              "Hungary             1\n",
              "Estonia             1\n",
              "Switzerland         1\n",
              "Lithuania           1\n",
              "Czech Republic      1\n",
              "Latvia              1\n",
              "Sweden              1\n",
              "Bulgaria            1\n",
              "Name: count, dtype: int64"
            ],
            "text/html": [
              "<div>\n",
              "<style scoped>\n",
              "    .dataframe tbody tr th:only-of-type {\n",
              "        vertical-align: middle;\n",
              "    }\n",
              "\n",
              "    .dataframe tbody tr th {\n",
              "        vertical-align: top;\n",
              "    }\n",
              "\n",
              "    .dataframe thead th {\n",
              "        text-align: right;\n",
              "    }\n",
              "</style>\n",
              "<table border=\"1\" class=\"dataframe\">\n",
              "  <thead>\n",
              "    <tr style=\"text-align: right;\">\n",
              "      <th></th>\n",
              "      <th>count</th>\n",
              "    </tr>\n",
              "    <tr>\n",
              "      <th>country</th>\n",
              "      <th></th>\n",
              "    </tr>\n",
              "  </thead>\n",
              "  <tbody>\n",
              "    <tr>\n",
              "      <th>None</th>\n",
              "      <td>165</td>\n",
              "    </tr>\n",
              "    <tr>\n",
              "      <th>Italy</th>\n",
              "      <td>20</td>\n",
              "    </tr>\n",
              "    <tr>\n",
              "      <th>Ireland</th>\n",
              "      <td>19</td>\n",
              "    </tr>\n",
              "    <tr>\n",
              "      <th>Spain</th>\n",
              "      <td>13</td>\n",
              "    </tr>\n",
              "    <tr>\n",
              "      <th>Greece</th>\n",
              "      <td>6</td>\n",
              "    </tr>\n",
              "    <tr>\n",
              "      <th>United Kingdom</th>\n",
              "      <td>5</td>\n",
              "    </tr>\n",
              "    <tr>\n",
              "      <th>Germany</th>\n",
              "      <td>5</td>\n",
              "    </tr>\n",
              "    <tr>\n",
              "      <th>Slovenia</th>\n",
              "      <td>5</td>\n",
              "    </tr>\n",
              "    <tr>\n",
              "      <th>Portugal</th>\n",
              "      <td>4</td>\n",
              "    </tr>\n",
              "    <tr>\n",
              "      <th>Belgium</th>\n",
              "      <td>4</td>\n",
              "    </tr>\n",
              "    <tr>\n",
              "      <th>Netherlands</th>\n",
              "      <td>3</td>\n",
              "    </tr>\n",
              "    <tr>\n",
              "      <th>France</th>\n",
              "      <td>3</td>\n",
              "    </tr>\n",
              "    <tr>\n",
              "      <th>Poland</th>\n",
              "      <td>2</td>\n",
              "    </tr>\n",
              "    <tr>\n",
              "      <th>Croatia</th>\n",
              "      <td>1</td>\n",
              "    </tr>\n",
              "    <tr>\n",
              "      <th>Slovakia</th>\n",
              "      <td>1</td>\n",
              "    </tr>\n",
              "    <tr>\n",
              "      <th>Austria</th>\n",
              "      <td>1</td>\n",
              "    </tr>\n",
              "    <tr>\n",
              "      <th>Denmark</th>\n",
              "      <td>1</td>\n",
              "    </tr>\n",
              "    <tr>\n",
              "      <th>Hungary</th>\n",
              "      <td>1</td>\n",
              "    </tr>\n",
              "    <tr>\n",
              "      <th>Estonia</th>\n",
              "      <td>1</td>\n",
              "    </tr>\n",
              "    <tr>\n",
              "      <th>Switzerland</th>\n",
              "      <td>1</td>\n",
              "    </tr>\n",
              "    <tr>\n",
              "      <th>Lithuania</th>\n",
              "      <td>1</td>\n",
              "    </tr>\n",
              "    <tr>\n",
              "      <th>Czech Republic</th>\n",
              "      <td>1</td>\n",
              "    </tr>\n",
              "    <tr>\n",
              "      <th>Latvia</th>\n",
              "      <td>1</td>\n",
              "    </tr>\n",
              "    <tr>\n",
              "      <th>Sweden</th>\n",
              "      <td>1</td>\n",
              "    </tr>\n",
              "    <tr>\n",
              "      <th>Bulgaria</th>\n",
              "      <td>1</td>\n",
              "    </tr>\n",
              "  </tbody>\n",
              "</table>\n",
              "</div><br><label><b>dtype:</b> int64</label>"
            ]
          },
          "metadata": {},
          "execution_count": 202
        }
      ],
      "source": [
        "df['country'].value_counts(dropna=False)"
      ]
    },
    {
      "cell_type": "markdown",
      "metadata": {
        "id": "84_ZH7Q-YkLU"
      },
      "source": [
        "Certain city values are unknown.  \n",
        ">Have a look at the ***country*** values where the ***city*** is ***unknown***."
      ]
    },
    {
      "cell_type": "code",
      "execution_count": 180,
      "metadata": {
        "id": "dWqBJopSYkLU",
        "outputId": "09211f41-5486-4926-a704-25242d6665d8",
        "colab": {
          "base_uri": "https://localhost:8080/",
          "height": 304
        }
      },
      "outputs": [
        {
          "output_type": "execute_result",
          "data": {
            "text/plain": [
              "city\n",
              "NaN          258\n",
              "venice         3\n",
              "brussels       2\n",
              "alicante       1\n",
              "rotterdam      1\n",
              "zagreb         1\n",
              "Name: count, dtype: int64"
            ],
            "text/html": [
              "<div>\n",
              "<style scoped>\n",
              "    .dataframe tbody tr th:only-of-type {\n",
              "        vertical-align: middle;\n",
              "    }\n",
              "\n",
              "    .dataframe tbody tr th {\n",
              "        vertical-align: top;\n",
              "    }\n",
              "\n",
              "    .dataframe thead th {\n",
              "        text-align: right;\n",
              "    }\n",
              "</style>\n",
              "<table border=\"1\" class=\"dataframe\">\n",
              "  <thead>\n",
              "    <tr style=\"text-align: right;\">\n",
              "      <th></th>\n",
              "      <th>count</th>\n",
              "    </tr>\n",
              "    <tr>\n",
              "      <th>city</th>\n",
              "      <th></th>\n",
              "    </tr>\n",
              "  </thead>\n",
              "  <tbody>\n",
              "    <tr>\n",
              "      <th>NaN</th>\n",
              "      <td>258</td>\n",
              "    </tr>\n",
              "    <tr>\n",
              "      <th>venice</th>\n",
              "      <td>3</td>\n",
              "    </tr>\n",
              "    <tr>\n",
              "      <th>brussels</th>\n",
              "      <td>2</td>\n",
              "    </tr>\n",
              "    <tr>\n",
              "      <th>alicante</th>\n",
              "      <td>1</td>\n",
              "    </tr>\n",
              "    <tr>\n",
              "      <th>rotterdam</th>\n",
              "      <td>1</td>\n",
              "    </tr>\n",
              "    <tr>\n",
              "      <th>zagreb</th>\n",
              "      <td>1</td>\n",
              "    </tr>\n",
              "  </tbody>\n",
              "</table>\n",
              "</div><br><label><b>dtype:</b> int64</label>"
            ]
          },
          "metadata": {},
          "execution_count": 180
        }
      ],
      "source": [
        "df['city'].value_counts(dropna = False)"
      ]
    },
    {
      "cell_type": "code",
      "source": [
        "df['country'][df['city'].isna()]"
      ],
      "metadata": {
        "id": "olZPsWGP9FJG",
        "outputId": "625670bf-af08-4ff9-84a2-47b26e03d4ff",
        "colab": {
          "base_uri": "https://localhost:8080/",
          "height": 458
        }
      },
      "execution_count": 182,
      "outputs": [
        {
          "output_type": "execute_result",
          "data": {
            "text/plain": [
              "0      Portugal\n",
              "1          None\n",
              "2      Slovenia\n",
              "3          None\n",
              "4          None\n",
              "         ...   \n",
              "260       Italy\n",
              "261       Italy\n",
              "262        None\n",
              "263        None\n",
              "265        None\n",
              "Name: country, Length: 258, dtype: object"
            ],
            "text/html": [
              "<div>\n",
              "<style scoped>\n",
              "    .dataframe tbody tr th:only-of-type {\n",
              "        vertical-align: middle;\n",
              "    }\n",
              "\n",
              "    .dataframe tbody tr th {\n",
              "        vertical-align: top;\n",
              "    }\n",
              "\n",
              "    .dataframe thead th {\n",
              "        text-align: right;\n",
              "    }\n",
              "</style>\n",
              "<table border=\"1\" class=\"dataframe\">\n",
              "  <thead>\n",
              "    <tr style=\"text-align: right;\">\n",
              "      <th></th>\n",
              "      <th>country</th>\n",
              "    </tr>\n",
              "  </thead>\n",
              "  <tbody>\n",
              "    <tr>\n",
              "      <th>0</th>\n",
              "      <td>Portugal</td>\n",
              "    </tr>\n",
              "    <tr>\n",
              "      <th>1</th>\n",
              "      <td>None</td>\n",
              "    </tr>\n",
              "    <tr>\n",
              "      <th>2</th>\n",
              "      <td>Slovenia</td>\n",
              "    </tr>\n",
              "    <tr>\n",
              "      <th>3</th>\n",
              "      <td>None</td>\n",
              "    </tr>\n",
              "    <tr>\n",
              "      <th>4</th>\n",
              "      <td>None</td>\n",
              "    </tr>\n",
              "    <tr>\n",
              "      <th>...</th>\n",
              "      <td>...</td>\n",
              "    </tr>\n",
              "    <tr>\n",
              "      <th>260</th>\n",
              "      <td>Italy</td>\n",
              "    </tr>\n",
              "    <tr>\n",
              "      <th>261</th>\n",
              "      <td>Italy</td>\n",
              "    </tr>\n",
              "    <tr>\n",
              "      <th>262</th>\n",
              "      <td>None</td>\n",
              "    </tr>\n",
              "    <tr>\n",
              "      <th>263</th>\n",
              "      <td>None</td>\n",
              "    </tr>\n",
              "    <tr>\n",
              "      <th>265</th>\n",
              "      <td>None</td>\n",
              "    </tr>\n",
              "  </tbody>\n",
              "</table>\n",
              "<p>258 rows × 1 columns</p>\n",
              "</div><br><label><b>dtype:</b> object</label>"
            ]
          },
          "metadata": {},
          "execution_count": 182
        }
      ]
    },
    {
      "cell_type": "code",
      "source": [
        "df['country'][df['city'] == 'unknown'] # what it is popping out again???"
      ],
      "metadata": {
        "id": "1IsAS9z89bkj",
        "outputId": "822f6ccc-93e8-4d87-9584-71abd563f8d3",
        "colab": {
          "base_uri": "https://localhost:8080/",
          "height": 429
        }
      },
      "execution_count": 203,
      "outputs": [
        {
          "output_type": "execute_result",
          "data": {
            "text/plain": [
              "53             France\n",
              "65            Denmark\n",
              "87     United Kingdom\n",
              "99              Italy\n",
              "109             Italy\n",
              "120             Italy\n",
              "132             Italy\n",
              "138             Spain\n",
              "194             Spain\n",
              "237    United Kingdom\n",
              "247             Italy\n",
              "Name: country, dtype: object"
            ],
            "text/html": [
              "<div>\n",
              "<style scoped>\n",
              "    .dataframe tbody tr th:only-of-type {\n",
              "        vertical-align: middle;\n",
              "    }\n",
              "\n",
              "    .dataframe tbody tr th {\n",
              "        vertical-align: top;\n",
              "    }\n",
              "\n",
              "    .dataframe thead th {\n",
              "        text-align: right;\n",
              "    }\n",
              "</style>\n",
              "<table border=\"1\" class=\"dataframe\">\n",
              "  <thead>\n",
              "    <tr style=\"text-align: right;\">\n",
              "      <th></th>\n",
              "      <th>country</th>\n",
              "    </tr>\n",
              "  </thead>\n",
              "  <tbody>\n",
              "    <tr>\n",
              "      <th>53</th>\n",
              "      <td>France</td>\n",
              "    </tr>\n",
              "    <tr>\n",
              "      <th>65</th>\n",
              "      <td>Denmark</td>\n",
              "    </tr>\n",
              "    <tr>\n",
              "      <th>87</th>\n",
              "      <td>United Kingdom</td>\n",
              "    </tr>\n",
              "    <tr>\n",
              "      <th>99</th>\n",
              "      <td>Italy</td>\n",
              "    </tr>\n",
              "    <tr>\n",
              "      <th>109</th>\n",
              "      <td>Italy</td>\n",
              "    </tr>\n",
              "    <tr>\n",
              "      <th>120</th>\n",
              "      <td>Italy</td>\n",
              "    </tr>\n",
              "    <tr>\n",
              "      <th>132</th>\n",
              "      <td>Italy</td>\n",
              "    </tr>\n",
              "    <tr>\n",
              "      <th>138</th>\n",
              "      <td>Spain</td>\n",
              "    </tr>\n",
              "    <tr>\n",
              "      <th>194</th>\n",
              "      <td>Spain</td>\n",
              "    </tr>\n",
              "    <tr>\n",
              "      <th>237</th>\n",
              "      <td>United Kingdom</td>\n",
              "    </tr>\n",
              "    <tr>\n",
              "      <th>247</th>\n",
              "      <td>Italy</td>\n",
              "    </tr>\n",
              "  </tbody>\n",
              "</table>\n",
              "</div><br><label><b>dtype:</b> object</label>"
            ]
          },
          "metadata": {},
          "execution_count": 203
        }
      ]
    },
    {
      "cell_type": "code",
      "source": [
        "df.loc[df['city'] == 'unknown', 'country']"
      ],
      "metadata": {
        "id": "CLYoAd069h0j",
        "outputId": "ea230376-d9c9-40df-994c-6b78c243c312",
        "colab": {
          "base_uri": "https://localhost:8080/",
          "height": 429
        }
      },
      "execution_count": 204,
      "outputs": [
        {
          "output_type": "execute_result",
          "data": {
            "text/plain": [
              "53             France\n",
              "65            Denmark\n",
              "87     United Kingdom\n",
              "99              Italy\n",
              "109             Italy\n",
              "120             Italy\n",
              "132             Italy\n",
              "138             Spain\n",
              "194             Spain\n",
              "237    United Kingdom\n",
              "247             Italy\n",
              "Name: country, dtype: object"
            ],
            "text/html": [
              "<div>\n",
              "<style scoped>\n",
              "    .dataframe tbody tr th:only-of-type {\n",
              "        vertical-align: middle;\n",
              "    }\n",
              "\n",
              "    .dataframe tbody tr th {\n",
              "        vertical-align: top;\n",
              "    }\n",
              "\n",
              "    .dataframe thead th {\n",
              "        text-align: right;\n",
              "    }\n",
              "</style>\n",
              "<table border=\"1\" class=\"dataframe\">\n",
              "  <thead>\n",
              "    <tr style=\"text-align: right;\">\n",
              "      <th></th>\n",
              "      <th>country</th>\n",
              "    </tr>\n",
              "  </thead>\n",
              "  <tbody>\n",
              "    <tr>\n",
              "      <th>53</th>\n",
              "      <td>France</td>\n",
              "    </tr>\n",
              "    <tr>\n",
              "      <th>65</th>\n",
              "      <td>Denmark</td>\n",
              "    </tr>\n",
              "    <tr>\n",
              "      <th>87</th>\n",
              "      <td>United Kingdom</td>\n",
              "    </tr>\n",
              "    <tr>\n",
              "      <th>99</th>\n",
              "      <td>Italy</td>\n",
              "    </tr>\n",
              "    <tr>\n",
              "      <th>109</th>\n",
              "      <td>Italy</td>\n",
              "    </tr>\n",
              "    <tr>\n",
              "      <th>120</th>\n",
              "      <td>Italy</td>\n",
              "    </tr>\n",
              "    <tr>\n",
              "      <th>132</th>\n",
              "      <td>Italy</td>\n",
              "    </tr>\n",
              "    <tr>\n",
              "      <th>138</th>\n",
              "      <td>Spain</td>\n",
              "    </tr>\n",
              "    <tr>\n",
              "      <th>194</th>\n",
              "      <td>Spain</td>\n",
              "    </tr>\n",
              "    <tr>\n",
              "      <th>237</th>\n",
              "      <td>United Kingdom</td>\n",
              "    </tr>\n",
              "    <tr>\n",
              "      <th>247</th>\n",
              "      <td>Italy</td>\n",
              "    </tr>\n",
              "  </tbody>\n",
              "</table>\n",
              "</div><br><label><b>dtype:</b> object</label>"
            ]
          },
          "metadata": {},
          "execution_count": 204
        }
      ]
    },
    {
      "cell_type": "code",
      "execution_count": 185,
      "metadata": {
        "id": "B7xiJ9i6YkLU",
        "outputId": "895721da-07c6-4d52-a769-e8cd68d8c66a",
        "colab": {
          "base_uri": "https://localhost:8080/"
        }
      },
      "outputs": [
        {
          "output_type": "stream",
          "name": "stdout",
          "text": [
            "df.loc[df[\"city\"] == \"unknown\", \"country\"]"
          ]
        }
      ],
      "source": [
        "!cat solutions/05_28.py"
      ]
    },
    {
      "cell_type": "markdown",
      "metadata": {
        "id": "I9cffq4UYkLU"
      },
      "source": [
        ">Complete the code bellow to replace the value ***unknown*** in the ***city*** column with the capital of the corresponding ***country***."
      ]
    },
    {
      "cell_type": "code",
      "execution_count": 205,
      "metadata": {
        "id": "LiWE3RswYkLU"
      },
      "outputs": [],
      "source": [
        "dict_capitals = {'Denmark':'copenhague', 'France':'paris', 'Italy':'rome', 'Spain':'madrid', 'United Kingdom':'london'}\n",
        "\n",
        "df.loc[df['city'] == 'unknown', 'city'] = df.loc[df['city'] == 'unknown', 'country'].map(dict_capitals)"
      ]
    },
    {
      "cell_type": "code",
      "execution_count": 207,
      "metadata": {
        "id": "pueqMwkJYkLU",
        "outputId": "e1bc041b-b091-41cb-f30a-99f950f618b2",
        "colab": {
          "base_uri": "https://localhost:8080/"
        }
      },
      "outputs": [
        {
          "output_type": "stream",
          "name": "stdout",
          "text": [
            "dict_capitals = {\n",
            "    \"Denmark\": \"copenhague\",\n",
            "    \"France\": \"paris\",\n",
            "    \"Italy\": \"rome\",\n",
            "    \"Spain\": \"madrid\",\n",
            "    \"United Kingdom\": \"london\",\n",
            "}\n",
            "\n",
            "unknown_city = df[\"city\"] == \"unknown\"\n",
            "df.loc[unknown_city, \"city\"] = df.loc[unknown_city, \"country\"].map(dict_capitals)"
          ]
        }
      ],
      "source": [
        "!cat solutions/05_29.py"
      ]
    },
    {
      "cell_type": "markdown",
      "metadata": {
        "id": "34TsIVvqYkLU"
      },
      "source": [
        "Lots of countries are missing, but we can fill them using the cities.  \n",
        "We can create a dictionary of cities and their corresponding countries using the rows where the ***country*** is not null."
      ]
    },
    {
      "cell_type": "code",
      "execution_count": 215,
      "metadata": {
        "id": "nkJNhwnzYkLU"
      },
      "outputs": [],
      "source": [
        "dict_cities = df.loc[df['country'].notnull(), ['city', 'country']].set_index('city').to_dict()['country']"
      ]
    },
    {
      "cell_type": "code",
      "source": [
        "df.loc[df['country'].notnull(), ['city', 'country']].set_index('city').to_dict()['country'] # what if one key has two values???? how to clean it..."
      ],
      "metadata": {
        "id": "c7fqgj2B_LMr",
        "outputId": "74acb4d5-21c8-44d2-a198-fd9fba5d4acc",
        "colab": {
          "base_uri": "https://localhost:8080/"
        }
      },
      "execution_count": 214,
      "outputs": [
        {
          "output_type": "execute_result",
          "data": {
            "text/plain": [
              "{'lisbon': 'Portugal',\n",
              " 'ljubljana': 'Slovenia',\n",
              " 'milan': 'Italy',\n",
              " 'trim': 'Ireland',\n",
              " 'grange': 'Ireland',\n",
              " 'zagreb': 'Croatia',\n",
              " 'padua': 'Italy',\n",
              " 'coimbra': 'Portugal',\n",
              " 'bratislava': 'Slovakia',\n",
              " 'felixstowe': 'United Kingdom',\n",
              " 'paris': 'France',\n",
              " 'rotterdam': 'Netherlands',\n",
              " 'munich': 'Germany',\n",
              " 'copenhague': 'Denmark',\n",
              " 'vienna': 'Austria',\n",
              " 'marseille': 'France',\n",
              " 'venice': 'Italy',\n",
              " 'dusseldorf': 'Germany',\n",
              " 'maribor': 'Slovenia',\n",
              " 'utrecht': 'Netherlands',\n",
              " 'rome': 'Italy',\n",
              " 'malaga': 'Spain',\n",
              " 'london': 'United Kingdom',\n",
              " 'valencia': 'Spain',\n",
              " 'warsaw': 'Poland',\n",
              " 'tallinn': 'Estonia',\n",
              " 'barcelona': 'Spain',\n",
              " 'budapest': 'Hungary',\n",
              " 'alicante': 'Spain',\n",
              " 'frankfurt': 'Switzerland',\n",
              " 'tarragona': 'Spain',\n",
              " 'krakow': 'Poland',\n",
              " 'athens': 'Greece',\n",
              " 'madrid': 'Spain',\n",
              " 'bremen': 'Germany',\n",
              " 'antwerp': 'Belgium',\n",
              " 'torino': 'Italy',\n",
              " 'genoa': 'Italy',\n",
              " 'nantes': 'France',\n",
              " 'dublin': 'Ireland',\n",
              " 'vilnius': 'Lithuania',\n",
              " 'cardiff': 'United Kingdom',\n",
              " 'brussels': 'Belgium',\n",
              " 'naples': 'Italy',\n",
              " 'prague': 'Czech Republic',\n",
              " 'riga': 'Latvia',\n",
              " 'uppsala': 'Sweden',\n",
              " 'sofia': 'Bulgaria',\n",
              " 'thessaloniki': 'Greece',\n",
              " 'leipzig': 'Germany',\n",
              " 'amsterdam': 'Netherlands',\n",
              " 'turin': 'Italy',\n",
              " 'berlin': 'Germany',\n",
              " 'seville': 'Spain',\n",
              " 'treviso': 'Italy'}"
            ]
          },
          "metadata": {},
          "execution_count": 214
        }
      ]
    },
    {
      "cell_type": "markdown",
      "metadata": {
        "id": "yftKP70MYkLU"
      },
      "source": [
        "We now want to check if all the cities we need are in our dictionary.  \n",
        ">Subtracting the dictionary keys to the set of the ***city*** values, find which cities are in the ***city*** column but not in the dictionary ***keys***."
      ]
    },
    {
      "cell_type": "code",
      "execution_count": 220,
      "metadata": {
        "id": "ztCIqIx6YkLU",
        "outputId": "8a4f1333-6c32-45ea-e007-4f5968ab6672",
        "colab": {
          "base_uri": "https://localhost:8080/"
        }
      },
      "outputs": [
        {
          "output_type": "execute_result",
          "data": {
            "text/plain": [
              "{'alicante',\n",
              " 'amsterdam',\n",
              " 'antwerp',\n",
              " 'athens',\n",
              " 'barcelona',\n",
              " 'berlin',\n",
              " 'bratislava',\n",
              " 'bremen',\n",
              " 'bristol',\n",
              " 'brussels',\n",
              " 'budapest',\n",
              " 'cardiff',\n",
              " 'coimbra',\n",
              " 'copenhague',\n",
              " 'd?sseldorf',\n",
              " 'denmark',\n",
              " 'dublin',\n",
              " 'dusseldorf',\n",
              " 'felixstowe',\n",
              " 'frankfurt',\n",
              " 'genoa',\n",
              " 'gothenburg',\n",
              " 'grange',\n",
              " 'graz',\n",
              " 'krakow',\n",
              " 'leipzig',\n",
              " 'lisbon',\n",
              " 'ljubljana',\n",
              " 'london',\n",
              " 'lyon',\n",
              " 'madrid',\n",
              " 'malaga',\n",
              " 'maribor',\n",
              " 'marseille',\n",
              " 'milan',\n",
              " 'munich',\n",
              " 'murcia',\n",
              " 'nantes',\n",
              " 'naples',\n",
              " 'padua',\n",
              " 'paris',\n",
              " 'parma',\n",
              " 'poland',\n",
              " 'prague',\n",
              " 'riga',\n",
              " 'rome',\n",
              " 'rotterdam',\n",
              " 'seville',\n",
              " 'sofia',\n",
              " 'sofia bulgaria',\n",
              " 'tallinn',\n",
              " 'tarragona',\n",
              " 'thessaloniki',\n",
              " 'torino',\n",
              " 'treviso',\n",
              " 'trim',\n",
              " 'turin',\n",
              " 'uppsala',\n",
              " 'utrecht',\n",
              " 'valencia',\n",
              " 'venice',\n",
              " 'vienna',\n",
              " 'vilnius',\n",
              " 'warsaw',\n",
              " 'zagreb'}"
            ]
          },
          "metadata": {},
          "execution_count": 220
        }
      ],
      "source": [
        "set(df['city'])"
      ]
    },
    {
      "cell_type": "code",
      "source": [
        "dict_cities.keys()"
      ],
      "metadata": {
        "id": "Vuk4uHzQA986",
        "outputId": "dd0177e0-4ee8-4cd7-8306-9b9c4b139e2d",
        "colab": {
          "base_uri": "https://localhost:8080/"
        }
      },
      "execution_count": 222,
      "outputs": [
        {
          "output_type": "execute_result",
          "data": {
            "text/plain": [
              "dict_keys(['lisbon', 'ljubljana', 'milan', 'trim', 'grange', 'zagreb', 'padua', 'coimbra', 'bratislava', 'felixstowe', 'paris', 'rotterdam', 'munich', 'copenhague', 'vienna', 'marseille', 'venice', 'dusseldorf', 'maribor', 'utrecht', 'rome', 'malaga', 'london', 'valencia', 'warsaw', 'tallinn', 'barcelona', 'budapest', 'alicante', 'frankfurt', 'tarragona', 'krakow', 'athens', 'madrid', 'bremen', 'antwerp', 'torino', 'genoa', 'nantes', 'dublin', 'vilnius', 'cardiff', 'brussels', 'naples', 'prague', 'riga', 'uppsala', 'sofia', 'thessaloniki', 'leipzig', 'amsterdam', 'turin', 'berlin', 'seville', 'treviso'])"
            ]
          },
          "metadata": {},
          "execution_count": 222
        }
      ]
    },
    {
      "cell_type": "code",
      "source": [
        "set(df['city']) - dict_cities.keys()"
      ],
      "metadata": {
        "id": "F2CHVQiNBCwL",
        "outputId": "30814343-0c1c-46eb-ec10-c8eb387353df",
        "colab": {
          "base_uri": "https://localhost:8080/"
        }
      },
      "execution_count": 227,
      "outputs": [
        {
          "output_type": "execute_result",
          "data": {
            "text/plain": [
              "{'bristol',\n",
              " 'd?sseldorf',\n",
              " 'denmark',\n",
              " 'gothenburg',\n",
              " 'graz',\n",
              " 'lyon',\n",
              " 'murcia',\n",
              " 'parma',\n",
              " 'poland',\n",
              " 'sofia bulgaria'}"
            ]
          },
          "metadata": {},
          "execution_count": 227
        }
      ]
    },
    {
      "cell_type": "code",
      "source": [
        "df['city'] - dict_cities.keys()"
      ],
      "metadata": {
        "id": "BvFq7E3BClLg",
        "outputId": "77805cce-9758-4225-b7b9-8a0d17142fb3",
        "colab": {
          "base_uri": "https://localhost:8080/",
          "height": 458
        }
      },
      "execution_count": 232,
      "outputs": [
        {
          "output_type": "execute_result",
          "data": {
            "text/plain": [
              "0            {i, o, n, b, s, l}\n",
              "1         {i, r, o, t, b, s, l}\n",
              "2            {u, n, b, a, j, l}\n",
              "3                  {a, d, p, u}\n",
              "4                  {o, m, e, r}\n",
              "                 ...           \n",
              "261             {i, e, c, v, n}\n",
              "262       {i, e, c, v, n, a, l}\n",
              "263    {i, r, t, v, b, s, a, l}\n",
              "264          {z, e, r, b, g, a}\n",
              "265       {e, r, p, t, n, a, w}\n",
              "Name: city, Length: 266, dtype: object"
            ],
            "text/html": [
              "<div>\n",
              "<style scoped>\n",
              "    .dataframe tbody tr th:only-of-type {\n",
              "        vertical-align: middle;\n",
              "    }\n",
              "\n",
              "    .dataframe tbody tr th {\n",
              "        vertical-align: top;\n",
              "    }\n",
              "\n",
              "    .dataframe thead th {\n",
              "        text-align: right;\n",
              "    }\n",
              "</style>\n",
              "<table border=\"1\" class=\"dataframe\">\n",
              "  <thead>\n",
              "    <tr style=\"text-align: right;\">\n",
              "      <th></th>\n",
              "      <th>city</th>\n",
              "    </tr>\n",
              "  </thead>\n",
              "  <tbody>\n",
              "    <tr>\n",
              "      <th>0</th>\n",
              "      <td>{i, o, n, b, s, l}</td>\n",
              "    </tr>\n",
              "    <tr>\n",
              "      <th>1</th>\n",
              "      <td>{i, r, o, t, b, s, l}</td>\n",
              "    </tr>\n",
              "    <tr>\n",
              "      <th>2</th>\n",
              "      <td>{u, n, b, a, j, l}</td>\n",
              "    </tr>\n",
              "    <tr>\n",
              "      <th>3</th>\n",
              "      <td>{a, d, p, u}</td>\n",
              "    </tr>\n",
              "    <tr>\n",
              "      <th>4</th>\n",
              "      <td>{o, m, e, r}</td>\n",
              "    </tr>\n",
              "    <tr>\n",
              "      <th>...</th>\n",
              "      <td>...</td>\n",
              "    </tr>\n",
              "    <tr>\n",
              "      <th>261</th>\n",
              "      <td>{i, e, c, v, n}</td>\n",
              "    </tr>\n",
              "    <tr>\n",
              "      <th>262</th>\n",
              "      <td>{i, e, c, v, n, a, l}</td>\n",
              "    </tr>\n",
              "    <tr>\n",
              "      <th>263</th>\n",
              "      <td>{i, r, t, v, b, s, a, l}</td>\n",
              "    </tr>\n",
              "    <tr>\n",
              "      <th>264</th>\n",
              "      <td>{z, e, r, b, g, a}</td>\n",
              "    </tr>\n",
              "    <tr>\n",
              "      <th>265</th>\n",
              "      <td>{e, r, p, t, n, a, w}</td>\n",
              "    </tr>\n",
              "  </tbody>\n",
              "</table>\n",
              "<p>266 rows × 1 columns</p>\n",
              "</div><br><label><b>dtype:</b> object</label>"
            ]
          },
          "metadata": {},
          "execution_count": 232
        }
      ]
    },
    {
      "cell_type": "code",
      "source": [
        "set(df['city'])"
      ],
      "metadata": {
        "id": "QYxcdqV5CrKE",
        "outputId": "8d31c377-8cce-4397-df8e-da082c284d93",
        "colab": {
          "base_uri": "https://localhost:8080/"
        }
      },
      "execution_count": 234,
      "outputs": [
        {
          "output_type": "execute_result",
          "data": {
            "text/plain": [
              "{'alicante',\n",
              " 'amsterdam',\n",
              " 'antwerp',\n",
              " 'athens',\n",
              " 'barcelona',\n",
              " 'berlin',\n",
              " 'bratislava',\n",
              " 'bremen',\n",
              " 'bristol',\n",
              " 'brussels',\n",
              " 'budapest',\n",
              " 'cardiff',\n",
              " 'coimbra',\n",
              " 'copenhague',\n",
              " 'd?sseldorf',\n",
              " 'denmark',\n",
              " 'dublin',\n",
              " 'dusseldorf',\n",
              " 'felixstowe',\n",
              " 'frankfurt',\n",
              " 'genoa',\n",
              " 'gothenburg',\n",
              " 'grange',\n",
              " 'graz',\n",
              " 'krakow',\n",
              " 'leipzig',\n",
              " 'lisbon',\n",
              " 'ljubljana',\n",
              " 'london',\n",
              " 'lyon',\n",
              " 'madrid',\n",
              " 'malaga',\n",
              " 'maribor',\n",
              " 'marseille',\n",
              " 'milan',\n",
              " 'munich',\n",
              " 'murcia',\n",
              " 'nantes',\n",
              " 'naples',\n",
              " 'padua',\n",
              " 'paris',\n",
              " 'parma',\n",
              " 'poland',\n",
              " 'prague',\n",
              " 'riga',\n",
              " 'rome',\n",
              " 'rotterdam',\n",
              " 'seville',\n",
              " 'sofia',\n",
              " 'sofia bulgaria',\n",
              " 'tallinn',\n",
              " 'tarragona',\n",
              " 'thessaloniki',\n",
              " 'torino',\n",
              " 'treviso',\n",
              " 'trim',\n",
              " 'turin',\n",
              " 'uppsala',\n",
              " 'utrecht',\n",
              " 'valencia',\n",
              " 'venice',\n",
              " 'vienna',\n",
              " 'vilnius',\n",
              " 'warsaw',\n",
              " 'zagreb'}"
            ]
          },
          "metadata": {},
          "execution_count": 234
        }
      ]
    },
    {
      "cell_type": "code",
      "source": [
        "df['city']"
      ],
      "metadata": {
        "id": "hvpr38oeCw1-",
        "outputId": "72b3846c-2983-4507-a43d-38dbe826bbe2",
        "colab": {
          "base_uri": "https://localhost:8080/",
          "height": 458
        }
      },
      "execution_count": 235,
      "outputs": [
        {
          "output_type": "execute_result",
          "data": {
            "text/plain": [
              "0          lisbon\n",
              "1         bristol\n",
              "2       ljubljana\n",
              "3           padua\n",
              "4            rome\n",
              "          ...    \n",
              "261        venice\n",
              "262      valencia\n",
              "263    bratislava\n",
              "264        zagreb\n",
              "265       antwerp\n",
              "Name: city, Length: 266, dtype: object"
            ],
            "text/html": [
              "<div>\n",
              "<style scoped>\n",
              "    .dataframe tbody tr th:only-of-type {\n",
              "        vertical-align: middle;\n",
              "    }\n",
              "\n",
              "    .dataframe tbody tr th {\n",
              "        vertical-align: top;\n",
              "    }\n",
              "\n",
              "    .dataframe thead th {\n",
              "        text-align: right;\n",
              "    }\n",
              "</style>\n",
              "<table border=\"1\" class=\"dataframe\">\n",
              "  <thead>\n",
              "    <tr style=\"text-align: right;\">\n",
              "      <th></th>\n",
              "      <th>city</th>\n",
              "    </tr>\n",
              "  </thead>\n",
              "  <tbody>\n",
              "    <tr>\n",
              "      <th>0</th>\n",
              "      <td>lisbon</td>\n",
              "    </tr>\n",
              "    <tr>\n",
              "      <th>1</th>\n",
              "      <td>bristol</td>\n",
              "    </tr>\n",
              "    <tr>\n",
              "      <th>2</th>\n",
              "      <td>ljubljana</td>\n",
              "    </tr>\n",
              "    <tr>\n",
              "      <th>3</th>\n",
              "      <td>padua</td>\n",
              "    </tr>\n",
              "    <tr>\n",
              "      <th>4</th>\n",
              "      <td>rome</td>\n",
              "    </tr>\n",
              "    <tr>\n",
              "      <th>...</th>\n",
              "      <td>...</td>\n",
              "    </tr>\n",
              "    <tr>\n",
              "      <th>261</th>\n",
              "      <td>venice</td>\n",
              "    </tr>\n",
              "    <tr>\n",
              "      <th>262</th>\n",
              "      <td>valencia</td>\n",
              "    </tr>\n",
              "    <tr>\n",
              "      <th>263</th>\n",
              "      <td>bratislava</td>\n",
              "    </tr>\n",
              "    <tr>\n",
              "      <th>264</th>\n",
              "      <td>zagreb</td>\n",
              "    </tr>\n",
              "    <tr>\n",
              "      <th>265</th>\n",
              "      <td>antwerp</td>\n",
              "    </tr>\n",
              "  </tbody>\n",
              "</table>\n",
              "<p>266 rows × 1 columns</p>\n",
              "</div><br><label><b>dtype:</b> object</label>"
            ]
          },
          "metadata": {},
          "execution_count": 235
        }
      ]
    },
    {
      "cell_type": "code",
      "execution_count": 231,
      "metadata": {
        "id": "u0QsxpbuYkLU",
        "outputId": "93529456-b7cd-41fc-be95-7271ff4c3379",
        "colab": {
          "base_uri": "https://localhost:8080/"
        }
      },
      "outputs": [
        {
          "output_type": "stream",
          "name": "stdout",
          "text": [
            "cat: ../solutions/05_30.py: No such file or directory\n"
          ]
        }
      ],
      "source": [
        "!cat ../solutions/05_30.py"
      ]
    },
    {
      "cell_type": "markdown",
      "metadata": {
        "id": "RUzxhLDpYkLU"
      },
      "source": [
        ">Knowing that Bristol is in the United Kingdom, Gothenburg in Sweden, Graz in Austria, Lyon in France, Murcia in Spain and Parma in Italy, add some key-value pair to the dictionary ***dict_cities***.    \n",
        ">You can either add each key-value pair or you can [update](https://python-reference.readthedocs.io/en/latest/docs/dict/update.html) dict_cities with another dictionary."
      ]
    },
    {
      "cell_type": "code",
      "execution_count": 239,
      "metadata": {
        "id": "JPPFAttzYkLU"
      },
      "outputs": [],
      "source": [
        "dict_cities['bristol'] = 'United Kingdom'\n",
        "dict_cities['gothenburg'] = 'Sweden'\n",
        "dict_cities['graz'] = 'Austria'\n",
        "dict_cities['lyon'] = 'France'\n",
        "dict_cities['parma'] = 'Italy'\n",
        "dict_cities['murcia'] = 'Spain'"
      ]
    },
    {
      "cell_type": "code",
      "source": [
        "set(df['city']) - dict_cities.keys()"
      ],
      "metadata": {
        "id": "su9Z4Z0-DdBo",
        "outputId": "87c0926a-12a4-402c-c972-c11ca60f4263",
        "colab": {
          "base_uri": "https://localhost:8080/"
        }
      },
      "execution_count": 237,
      "outputs": [
        {
          "output_type": "execute_result",
          "data": {
            "text/plain": [
              "{'bristol',\n",
              " 'd?sseldorf',\n",
              " 'denmark',\n",
              " 'gothenburg',\n",
              " 'graz',\n",
              " 'lyon',\n",
              " 'murcia',\n",
              " 'parma',\n",
              " 'poland',\n",
              " 'sofia bulgaria'}"
            ]
          },
          "metadata": {},
          "execution_count": 237
        }
      ]
    },
    {
      "cell_type": "code",
      "source": [
        "df['country']"
      ],
      "metadata": {
        "id": "aC5MutMQDkXy",
        "outputId": "e7af03a6-a68b-4ed5-a8a2-9d573851102b",
        "colab": {
          "base_uri": "https://localhost:8080/",
          "height": 458
        }
      },
      "execution_count": 238,
      "outputs": [
        {
          "output_type": "execute_result",
          "data": {
            "text/plain": [
              "0      Portugal\n",
              "1          None\n",
              "2      Slovenia\n",
              "3          None\n",
              "4          None\n",
              "         ...   \n",
              "261       Italy\n",
              "262        None\n",
              "263        None\n",
              "264        None\n",
              "265        None\n",
              "Name: country, Length: 266, dtype: object"
            ],
            "text/html": [
              "<div>\n",
              "<style scoped>\n",
              "    .dataframe tbody tr th:only-of-type {\n",
              "        vertical-align: middle;\n",
              "    }\n",
              "\n",
              "    .dataframe tbody tr th {\n",
              "        vertical-align: top;\n",
              "    }\n",
              "\n",
              "    .dataframe thead th {\n",
              "        text-align: right;\n",
              "    }\n",
              "</style>\n",
              "<table border=\"1\" class=\"dataframe\">\n",
              "  <thead>\n",
              "    <tr style=\"text-align: right;\">\n",
              "      <th></th>\n",
              "      <th>country</th>\n",
              "    </tr>\n",
              "  </thead>\n",
              "  <tbody>\n",
              "    <tr>\n",
              "      <th>0</th>\n",
              "      <td>Portugal</td>\n",
              "    </tr>\n",
              "    <tr>\n",
              "      <th>1</th>\n",
              "      <td>None</td>\n",
              "    </tr>\n",
              "    <tr>\n",
              "      <th>2</th>\n",
              "      <td>Slovenia</td>\n",
              "    </tr>\n",
              "    <tr>\n",
              "      <th>3</th>\n",
              "      <td>None</td>\n",
              "    </tr>\n",
              "    <tr>\n",
              "      <th>4</th>\n",
              "      <td>None</td>\n",
              "    </tr>\n",
              "    <tr>\n",
              "      <th>...</th>\n",
              "      <td>...</td>\n",
              "    </tr>\n",
              "    <tr>\n",
              "      <th>261</th>\n",
              "      <td>Italy</td>\n",
              "    </tr>\n",
              "    <tr>\n",
              "      <th>262</th>\n",
              "      <td>None</td>\n",
              "    </tr>\n",
              "    <tr>\n",
              "      <th>263</th>\n",
              "      <td>None</td>\n",
              "    </tr>\n",
              "    <tr>\n",
              "      <th>264</th>\n",
              "      <td>None</td>\n",
              "    </tr>\n",
              "    <tr>\n",
              "      <th>265</th>\n",
              "      <td>None</td>\n",
              "    </tr>\n",
              "  </tbody>\n",
              "</table>\n",
              "<p>266 rows × 1 columns</p>\n",
              "</div><br><label><b>dtype:</b> object</label>"
            ]
          },
          "metadata": {},
          "execution_count": 238
        }
      ]
    },
    {
      "cell_type": "code",
      "execution_count": 240,
      "metadata": {
        "id": "1pIGo3zpYkLU",
        "outputId": "64d2188d-ce6d-4703-f55b-5b9e528c0047",
        "colab": {
          "base_uri": "https://localhost:8080/"
        }
      },
      "outputs": [
        {
          "output_type": "stream",
          "name": "stdout",
          "text": [
            "cat: ../solutions/05_31.py: No such file or directory\n"
          ]
        }
      ],
      "source": [
        "!cat ../solutions/05_31.py"
      ]
    },
    {
      "cell_type": "markdown",
      "metadata": {
        "id": "-KfEqyE8YkLU"
      },
      "source": [
        ">Use this dictionary to fill in some of the missing countries."
      ]
    },
    {
      "cell_type": "code",
      "execution_count": 247,
      "metadata": {
        "id": "IfX4XkU7YkLU"
      },
      "outputs": [],
      "source": [
        "df.loc[df['country'].isnull(), 'country'] = df.loc[df['country'].isnull(), 'city'].map(dict_cities)"
      ]
    },
    {
      "cell_type": "code",
      "source": [],
      "metadata": {
        "id": "vlC50ehkE39z"
      },
      "execution_count": null,
      "outputs": []
    },
    {
      "cell_type": "code",
      "source": [
        "dict_cities"
      ],
      "metadata": {
        "id": "JrdlvCElEvMl",
        "outputId": "976917a1-a0cc-48d5-a84a-5955d38976f8",
        "colab": {
          "base_uri": "https://localhost:8080/"
        }
      },
      "execution_count": 246,
      "outputs": [
        {
          "output_type": "execute_result",
          "data": {
            "text/plain": [
              "{'lisbon': 'Portugal',\n",
              " 'ljubljana': 'Slovenia',\n",
              " 'milan': 'Italy',\n",
              " 'trim': 'Ireland',\n",
              " 'grange': 'Ireland',\n",
              " 'zagreb': 'Croatia',\n",
              " 'padua': 'Italy',\n",
              " 'coimbra': 'Portugal',\n",
              " 'bratislava': 'Slovakia',\n",
              " 'felixstowe': 'United Kingdom',\n",
              " 'paris': 'France',\n",
              " 'rotterdam': 'Netherlands',\n",
              " 'munich': 'Germany',\n",
              " 'copenhague': 'Denmark',\n",
              " 'vienna': 'Austria',\n",
              " 'marseille': 'France',\n",
              " 'venice': 'Italy',\n",
              " 'dusseldorf': 'Germany',\n",
              " 'maribor': 'Slovenia',\n",
              " 'utrecht': 'Netherlands',\n",
              " 'rome': 'Italy',\n",
              " 'malaga': 'Spain',\n",
              " 'london': 'United Kingdom',\n",
              " 'valencia': 'Spain',\n",
              " 'warsaw': 'Poland',\n",
              " 'tallinn': 'Estonia',\n",
              " 'barcelona': 'Spain',\n",
              " 'budapest': 'Hungary',\n",
              " 'alicante': 'Spain',\n",
              " 'frankfurt': 'Switzerland',\n",
              " 'tarragona': 'Spain',\n",
              " 'krakow': 'Poland',\n",
              " 'athens': 'Greece',\n",
              " 'madrid': 'Spain',\n",
              " 'bremen': 'Germany',\n",
              " 'antwerp': 'Belgium',\n",
              " 'torino': 'Italy',\n",
              " 'genoa': 'Italy',\n",
              " 'nantes': 'France',\n",
              " 'dublin': 'Ireland',\n",
              " 'vilnius': 'Lithuania',\n",
              " 'cardiff': 'United Kingdom',\n",
              " 'brussels': 'Belgium',\n",
              " 'naples': 'Italy',\n",
              " 'prague': 'Czech Republic',\n",
              " 'riga': 'Latvia',\n",
              " 'uppsala': 'Sweden',\n",
              " 'sofia': 'Bulgaria',\n",
              " 'thessaloniki': 'Greece',\n",
              " 'leipzig': 'Germany',\n",
              " 'amsterdam': 'Netherlands',\n",
              " 'turin': 'Italy',\n",
              " 'berlin': 'Germany',\n",
              " 'seville': 'Spain',\n",
              " 'treviso': 'Italy',\n",
              " 'bristol': 'United Kingdom',\n",
              " 'gothenburg': 'Sweden',\n",
              " 'graz': 'Austria',\n",
              " 'lyon': 'France',\n",
              " 'parma': 'Italy',\n",
              " 'murcia': 'Spain'}"
            ]
          },
          "metadata": {},
          "execution_count": 246
        }
      ]
    },
    {
      "cell_type": "code",
      "execution_count": null,
      "metadata": {
        "id": "RTaMhvFJYkLU"
      },
      "outputs": [],
      "source": [
        "# !cat ../solutions/05_32.py"
      ]
    },
    {
      "cell_type": "markdown",
      "metadata": {
        "id": "UFiXJp4tYkLV"
      },
      "source": [
        ">Get the count of the different values of the ***country*** column, showing the NaN values."
      ]
    },
    {
      "cell_type": "code",
      "execution_count": 249,
      "metadata": {
        "id": "o_rUKFSmYkLV",
        "outputId": "e9d8dfe5-64a4-4cc3-b69f-0ff0c3dbf6f9",
        "colab": {
          "base_uri": "https://localhost:8080/",
          "height": 899
        }
      },
      "outputs": [
        {
          "output_type": "execute_result",
          "data": {
            "text/plain": [
              "country\n",
              "Italy             42\n",
              "Spain             38\n",
              "Ireland           20\n",
              "Portugal          18\n",
              "Germany           17\n",
              "United Kingdom    14\n",
              "Slovenia          13\n",
              "Hungary           11\n",
              "Latvia            11\n",
              "Belgium           10\n",
              "Greece             9\n",
              "Estonia            8\n",
              "Poland             7\n",
              "Czech Republic     7\n",
              "France             7\n",
              "Netherlands        6\n",
              "Austria            6\n",
              "Croatia            4\n",
              "Lithuania          4\n",
              "Slovakia           4\n",
              "NaN                4\n",
              "Switzerland        2\n",
              "Sweden             2\n",
              "Denmark            1\n",
              "Bulgaria           1\n",
              "Name: count, dtype: int64"
            ],
            "text/html": [
              "<div>\n",
              "<style scoped>\n",
              "    .dataframe tbody tr th:only-of-type {\n",
              "        vertical-align: middle;\n",
              "    }\n",
              "\n",
              "    .dataframe tbody tr th {\n",
              "        vertical-align: top;\n",
              "    }\n",
              "\n",
              "    .dataframe thead th {\n",
              "        text-align: right;\n",
              "    }\n",
              "</style>\n",
              "<table border=\"1\" class=\"dataframe\">\n",
              "  <thead>\n",
              "    <tr style=\"text-align: right;\">\n",
              "      <th></th>\n",
              "      <th>count</th>\n",
              "    </tr>\n",
              "    <tr>\n",
              "      <th>country</th>\n",
              "      <th></th>\n",
              "    </tr>\n",
              "  </thead>\n",
              "  <tbody>\n",
              "    <tr>\n",
              "      <th>Italy</th>\n",
              "      <td>42</td>\n",
              "    </tr>\n",
              "    <tr>\n",
              "      <th>Spain</th>\n",
              "      <td>38</td>\n",
              "    </tr>\n",
              "    <tr>\n",
              "      <th>Ireland</th>\n",
              "      <td>20</td>\n",
              "    </tr>\n",
              "    <tr>\n",
              "      <th>Portugal</th>\n",
              "      <td>18</td>\n",
              "    </tr>\n",
              "    <tr>\n",
              "      <th>Germany</th>\n",
              "      <td>17</td>\n",
              "    </tr>\n",
              "    <tr>\n",
              "      <th>United Kingdom</th>\n",
              "      <td>14</td>\n",
              "    </tr>\n",
              "    <tr>\n",
              "      <th>Slovenia</th>\n",
              "      <td>13</td>\n",
              "    </tr>\n",
              "    <tr>\n",
              "      <th>Hungary</th>\n",
              "      <td>11</td>\n",
              "    </tr>\n",
              "    <tr>\n",
              "      <th>Latvia</th>\n",
              "      <td>11</td>\n",
              "    </tr>\n",
              "    <tr>\n",
              "      <th>Belgium</th>\n",
              "      <td>10</td>\n",
              "    </tr>\n",
              "    <tr>\n",
              "      <th>Greece</th>\n",
              "      <td>9</td>\n",
              "    </tr>\n",
              "    <tr>\n",
              "      <th>Estonia</th>\n",
              "      <td>8</td>\n",
              "    </tr>\n",
              "    <tr>\n",
              "      <th>Poland</th>\n",
              "      <td>7</td>\n",
              "    </tr>\n",
              "    <tr>\n",
              "      <th>Czech Republic</th>\n",
              "      <td>7</td>\n",
              "    </tr>\n",
              "    <tr>\n",
              "      <th>France</th>\n",
              "      <td>7</td>\n",
              "    </tr>\n",
              "    <tr>\n",
              "      <th>Netherlands</th>\n",
              "      <td>6</td>\n",
              "    </tr>\n",
              "    <tr>\n",
              "      <th>Austria</th>\n",
              "      <td>6</td>\n",
              "    </tr>\n",
              "    <tr>\n",
              "      <th>Croatia</th>\n",
              "      <td>4</td>\n",
              "    </tr>\n",
              "    <tr>\n",
              "      <th>Lithuania</th>\n",
              "      <td>4</td>\n",
              "    </tr>\n",
              "    <tr>\n",
              "      <th>Slovakia</th>\n",
              "      <td>4</td>\n",
              "    </tr>\n",
              "    <tr>\n",
              "      <th>NaN</th>\n",
              "      <td>4</td>\n",
              "    </tr>\n",
              "    <tr>\n",
              "      <th>Switzerland</th>\n",
              "      <td>2</td>\n",
              "    </tr>\n",
              "    <tr>\n",
              "      <th>Sweden</th>\n",
              "      <td>2</td>\n",
              "    </tr>\n",
              "    <tr>\n",
              "      <th>Denmark</th>\n",
              "      <td>1</td>\n",
              "    </tr>\n",
              "    <tr>\n",
              "      <th>Bulgaria</th>\n",
              "      <td>1</td>\n",
              "    </tr>\n",
              "  </tbody>\n",
              "</table>\n",
              "</div><br><label><b>dtype:</b> int64</label>"
            ]
          },
          "metadata": {},
          "execution_count": 249
        }
      ],
      "source": [
        "df['country'].value_counts(dropna=False)"
      ]
    },
    {
      "cell_type": "code",
      "execution_count": null,
      "metadata": {
        "id": "sHR_FKr7YkLV"
      },
      "outputs": [],
      "source": [
        "# !cat ../solutions/05_33.py"
      ]
    },
    {
      "cell_type": "markdown",
      "metadata": {
        "id": "L0DX2qO2YkLV"
      },
      "source": [
        "We can see that there are only 4 NaN values. They correspond to bad data entries that we could \"manually\" correct. Feel free to add a few calls below and give it a try if you feel like it!"
      ]
    },
    {
      "cell_type": "markdown",
      "source": [],
      "metadata": {
        "id": "MGeQlZoUFzCU"
      }
    },
    {
      "cell_type": "code",
      "source": [
        "df.loc[df['country'].isna(), 'city'] = ['dusseldorf', 'sofia', 'NullCityPoland', 'NullCityDenmark']\n"
      ],
      "metadata": {
        "id": "dZenPKu-FJ6v"
      },
      "execution_count": 255,
      "outputs": []
    },
    {
      "cell_type": "markdown",
      "source": [],
      "metadata": {
        "id": "D4cn0T0dFzY1"
      }
    },
    {
      "cell_type": "code",
      "source": [
        "df.loc[df['country'].isna(), 'city']"
      ],
      "metadata": {
        "id": "8-e01u_BFpvA",
        "outputId": "b1efb7cd-6412-471b-fe60-d51bf1c6f997",
        "colab": {
          "base_uri": "https://localhost:8080/",
          "height": 210
        }
      },
      "execution_count": 256,
      "outputs": [
        {
          "output_type": "execute_result",
          "data": {
            "text/plain": [
              "104         dusseldorf\n",
              "112              sofia\n",
              "175     NullCityPoland\n",
              "223    NullCityDenmark\n",
              "Name: city, dtype: object"
            ],
            "text/html": [
              "<div>\n",
              "<style scoped>\n",
              "    .dataframe tbody tr th:only-of-type {\n",
              "        vertical-align: middle;\n",
              "    }\n",
              "\n",
              "    .dataframe tbody tr th {\n",
              "        vertical-align: top;\n",
              "    }\n",
              "\n",
              "    .dataframe thead th {\n",
              "        text-align: right;\n",
              "    }\n",
              "</style>\n",
              "<table border=\"1\" class=\"dataframe\">\n",
              "  <thead>\n",
              "    <tr style=\"text-align: right;\">\n",
              "      <th></th>\n",
              "      <th>city</th>\n",
              "    </tr>\n",
              "  </thead>\n",
              "  <tbody>\n",
              "    <tr>\n",
              "      <th>104</th>\n",
              "      <td>dusseldorf</td>\n",
              "    </tr>\n",
              "    <tr>\n",
              "      <th>112</th>\n",
              "      <td>sofia</td>\n",
              "    </tr>\n",
              "    <tr>\n",
              "      <th>175</th>\n",
              "      <td>NullCityPoland</td>\n",
              "    </tr>\n",
              "    <tr>\n",
              "      <th>223</th>\n",
              "      <td>NullCityDenmark</td>\n",
              "    </tr>\n",
              "  </tbody>\n",
              "</table>\n",
              "</div><br><label><b>dtype:</b> object</label>"
            ]
          },
          "metadata": {},
          "execution_count": 256
        }
      ]
    },
    {
      "cell_type": "code",
      "source": [
        "df.loc[df['city'] == 'dusseldorf', 'country']"
      ],
      "metadata": {
        "id": "-CrsoXZBF5OY",
        "outputId": "cee3dc67-3606-4afb-c84c-9ae19684a733",
        "colab": {
          "base_uri": "https://localhost:8080/",
          "height": 210
        }
      },
      "execution_count": 265,
      "outputs": [
        {
          "output_type": "execute_result",
          "data": {
            "text/plain": [
              "75     Germany\n",
              "104        NaN\n",
              "203    Germany\n",
              "213    Germany\n",
              "Name: country, dtype: object"
            ],
            "text/html": [
              "<div>\n",
              "<style scoped>\n",
              "    .dataframe tbody tr th:only-of-type {\n",
              "        vertical-align: middle;\n",
              "    }\n",
              "\n",
              "    .dataframe tbody tr th {\n",
              "        vertical-align: top;\n",
              "    }\n",
              "\n",
              "    .dataframe thead th {\n",
              "        text-align: right;\n",
              "    }\n",
              "</style>\n",
              "<table border=\"1\" class=\"dataframe\">\n",
              "  <thead>\n",
              "    <tr style=\"text-align: right;\">\n",
              "      <th></th>\n",
              "      <th>country</th>\n",
              "    </tr>\n",
              "  </thead>\n",
              "  <tbody>\n",
              "    <tr>\n",
              "      <th>75</th>\n",
              "      <td>Germany</td>\n",
              "    </tr>\n",
              "    <tr>\n",
              "      <th>104</th>\n",
              "      <td>NaN</td>\n",
              "    </tr>\n",
              "    <tr>\n",
              "      <th>203</th>\n",
              "      <td>Germany</td>\n",
              "    </tr>\n",
              "    <tr>\n",
              "      <th>213</th>\n",
              "      <td>Germany</td>\n",
              "    </tr>\n",
              "  </tbody>\n",
              "</table>\n",
              "</div><br><label><b>dtype:</b> object</label>"
            ]
          },
          "metadata": {},
          "execution_count": 265
        }
      ]
    },
    {
      "cell_type": "code",
      "source": [
        "df.loc[df['city'] == 'dusseldorf', 'country'] = 'Germany'"
      ],
      "metadata": {
        "id": "V63h_3y_GpbK"
      },
      "execution_count": 268,
      "outputs": []
    },
    {
      "cell_type": "code",
      "source": [
        "df.loc[df['city'] == 'dusseldorf', 'country']"
      ],
      "metadata": {
        "id": "FNtxsWZRGvKA",
        "outputId": "d6f3c010-f43c-432d-d535-d2ce5037564d",
        "colab": {
          "base_uri": "https://localhost:8080/",
          "height": 210
        }
      },
      "execution_count": 269,
      "outputs": [
        {
          "output_type": "execute_result",
          "data": {
            "text/plain": [
              "75     Germany\n",
              "104    Germany\n",
              "203    Germany\n",
              "213    Germany\n",
              "Name: country, dtype: object"
            ],
            "text/html": [
              "<div>\n",
              "<style scoped>\n",
              "    .dataframe tbody tr th:only-of-type {\n",
              "        vertical-align: middle;\n",
              "    }\n",
              "\n",
              "    .dataframe tbody tr th {\n",
              "        vertical-align: top;\n",
              "    }\n",
              "\n",
              "    .dataframe thead th {\n",
              "        text-align: right;\n",
              "    }\n",
              "</style>\n",
              "<table border=\"1\" class=\"dataframe\">\n",
              "  <thead>\n",
              "    <tr style=\"text-align: right;\">\n",
              "      <th></th>\n",
              "      <th>country</th>\n",
              "    </tr>\n",
              "  </thead>\n",
              "  <tbody>\n",
              "    <tr>\n",
              "      <th>75</th>\n",
              "      <td>Germany</td>\n",
              "    </tr>\n",
              "    <tr>\n",
              "      <th>104</th>\n",
              "      <td>Germany</td>\n",
              "    </tr>\n",
              "    <tr>\n",
              "      <th>203</th>\n",
              "      <td>Germany</td>\n",
              "    </tr>\n",
              "    <tr>\n",
              "      <th>213</th>\n",
              "      <td>Germany</td>\n",
              "    </tr>\n",
              "  </tbody>\n",
              "</table>\n",
              "</div><br><label><b>dtype:</b> object</label>"
            ]
          },
          "metadata": {},
          "execution_count": 269
        }
      ]
    },
    {
      "cell_type": "code",
      "source": [
        "df.loc[df['city'] == 'NullCityPoland', 'country'] = 'Poland'\n"
      ],
      "metadata": {
        "id": "Ds_cbHNGGYRO"
      },
      "execution_count": 260,
      "outputs": []
    },
    {
      "cell_type": "code",
      "source": [
        "df.loc[df['city'] == 'NullCityPoland', 'country']"
      ],
      "metadata": {
        "id": "a7DVNPHtGdYk",
        "outputId": "9f3323c6-c297-485b-ab31-3e05cfe0bce2",
        "colab": {
          "base_uri": "https://localhost:8080/",
          "height": 115
        }
      },
      "execution_count": 261,
      "outputs": [
        {
          "output_type": "execute_result",
          "data": {
            "text/plain": [
              "175    Poland\n",
              "Name: country, dtype: object"
            ],
            "text/html": [
              "<div>\n",
              "<style scoped>\n",
              "    .dataframe tbody tr th:only-of-type {\n",
              "        vertical-align: middle;\n",
              "    }\n",
              "\n",
              "    .dataframe tbody tr th {\n",
              "        vertical-align: top;\n",
              "    }\n",
              "\n",
              "    .dataframe thead th {\n",
              "        text-align: right;\n",
              "    }\n",
              "</style>\n",
              "<table border=\"1\" class=\"dataframe\">\n",
              "  <thead>\n",
              "    <tr style=\"text-align: right;\">\n",
              "      <th></th>\n",
              "      <th>country</th>\n",
              "    </tr>\n",
              "  </thead>\n",
              "  <tbody>\n",
              "    <tr>\n",
              "      <th>175</th>\n",
              "      <td>Poland</td>\n",
              "    </tr>\n",
              "  </tbody>\n",
              "</table>\n",
              "</div><br><label><b>dtype:</b> object</label>"
            ]
          },
          "metadata": {},
          "execution_count": 261
        }
      ]
    },
    {
      "cell_type": "code",
      "source": [
        "df.loc[df['city'] == 'sofia', 'country'] = 'Bulgaria'"
      ],
      "metadata": {
        "id": "kft39IyLGguI"
      },
      "execution_count": 263,
      "outputs": []
    },
    {
      "cell_type": "code",
      "source": [
        "df.loc[df['city'] == 'sofia', 'country']"
      ],
      "metadata": {
        "id": "8t1s8UcTGmNY",
        "outputId": "45d92ec3-5689-4760-cde9-46a54198e320",
        "colab": {
          "base_uri": "https://localhost:8080/",
          "height": 147
        }
      },
      "execution_count": 264,
      "outputs": [
        {
          "output_type": "execute_result",
          "data": {
            "text/plain": [
              "112    Bulgaria\n",
              "215    Bulgaria\n",
              "Name: country, dtype: object"
            ],
            "text/html": [
              "<div>\n",
              "<style scoped>\n",
              "    .dataframe tbody tr th:only-of-type {\n",
              "        vertical-align: middle;\n",
              "    }\n",
              "\n",
              "    .dataframe tbody tr th {\n",
              "        vertical-align: top;\n",
              "    }\n",
              "\n",
              "    .dataframe thead th {\n",
              "        text-align: right;\n",
              "    }\n",
              "</style>\n",
              "<table border=\"1\" class=\"dataframe\">\n",
              "  <thead>\n",
              "    <tr style=\"text-align: right;\">\n",
              "      <th></th>\n",
              "      <th>country</th>\n",
              "    </tr>\n",
              "  </thead>\n",
              "  <tbody>\n",
              "    <tr>\n",
              "      <th>112</th>\n",
              "      <td>Bulgaria</td>\n",
              "    </tr>\n",
              "    <tr>\n",
              "      <th>215</th>\n",
              "      <td>Bulgaria</td>\n",
              "    </tr>\n",
              "  </tbody>\n",
              "</table>\n",
              "</div><br><label><b>dtype:</b> object</label>"
            ]
          },
          "metadata": {},
          "execution_count": 264
        }
      ]
    },
    {
      "cell_type": "markdown",
      "metadata": {
        "id": "Ypjlvx4KYkLV"
      },
      "source": [
        "---\n",
        "\n",
        "<div class=\"alert alert-block alert-warning\" style=\"padding: 0px; padding-left: 20px; padding-top: 5px;\"><h2 style=\"color: #301E40\">\n",
        "Apply\n",
        "</h2><br>\n",
        "</div>"
      ]
    },
    {
      "cell_type": "markdown",
      "metadata": {
        "id": "EeqP_TrXYkLV"
      },
      "source": [
        ">Write a function that returns ***single*** if the value passed is 1, and ***multiple*** otherwise."
      ]
    },
    {
      "cell_type": "code",
      "execution_count": 270,
      "metadata": {
        "jupyter": {
          "outputs_hidden": false
        },
        "id": "XF-MscT1YkLV"
      },
      "outputs": [],
      "source": [
        "def f(x):\n",
        "  if x == 1:\n",
        "    return \"single\"\n",
        "  else:\n",
        "    return \"multiple\""
      ]
    },
    {
      "cell_type": "code",
      "execution_count": 282,
      "metadata": {
        "jupyter": {
          "outputs_hidden": false
        },
        "id": "MtUzyUZgYkLV",
        "outputId": "b988d73a-1999-4466-9f71-407400be3f2f",
        "colab": {
          "base_uri": "https://localhost:8080/"
        }
      },
      "outputs": [
        {
          "output_type": "stream",
          "name": "stdout",
          "text": [
            "def f(x):\n",
            "    if x == 1:\n",
            "        return \"single\"\n",
            "    else:\n",
            "        return \"multiple\""
          ]
        }
      ],
      "source": [
        " !cat ../solutions/05_34.py"
      ]
    },
    {
      "cell_type": "code",
      "source": [
        "import os\n",
        "print(os.getcwd())\n",
        "%ls\n",
        "%cd solutions\n"
      ],
      "metadata": {
        "id": "4U5Gf_HjHFJ5",
        "outputId": "bfd53a1e-9fdc-4b5b-f0b1-2f36e6b605de",
        "colab": {
          "base_uri": "https://localhost:8080/"
        }
      },
      "execution_count": 280,
      "outputs": [
        {
          "output_type": "stream",
          "name": "stdout",
          "text": [
            "/content\n",
            "\u001b[0m\u001b[01;34mdata\u001b[0m/  \u001b[01;34mmedia\u001b[0m/  \u001b[01;34msample_data\u001b[0m/  \u001b[01;34msolutions\u001b[0m/\n",
            "/content/solutions\n"
          ]
        }
      ]
    },
    {
      "cell_type": "code",
      "source": [
        "%ls"
      ],
      "metadata": {
        "id": "B4BSTRfqHjMl",
        "outputId": "283cea08-51e9-465a-be16-05905d0c68f6",
        "colab": {
          "base_uri": "https://localhost:8080/"
        }
      },
      "execution_count": 281,
      "outputs": [
        {
          "output_type": "stream",
          "name": "stdout",
          "text": [
            "01_01.py  01_17.py  01_33.py  02_11.py  02_27.py  05_02.py  05_18.py  05_34.py\n",
            "01_02.py  01_18.py  01_34.py  02_12.py  02_28.py  05_03.py  05_19.py  05_35.py\n",
            "01_03.py  01_19.py  01_35.py  02_13.py  02_29.py  05_04.py  05_20.py  05_36.py\n",
            "01_04.py  01_20.py  01_36.py  02_14.py  02_30.py  05_05.py  05_21.py  05_37.py\n",
            "01_05.py  01_21.py  01_37.py  02_15.py  02_31.py  05_06.py  05_22.py  05_38.py\n",
            "01_06.py  01_22.py  01_38.py  02_16.py  02_32.py  05_07.py  05_23.py  05_39.py\n",
            "01_07.py  01_23.py  02_01.py  02_17.py  04_01.py  05_08.py  05_24.py  05_40.py\n",
            "01_08.py  01_24.py  02_02.py  02_18.py  04_02.py  05_09.py  05_25.py  05_41.py\n",
            "01_09.py  01_25.py  02_03.py  02_19.py  04_03.py  05_10.py  05_26.py  05_42.py\n",
            "01_10.py  01_26.py  02_04.py  02_20.py  04_04.py  05_11.py  05_27.py  05_43.py\n",
            "01_11.py  01_27.py  02_05.py  02_21.py  04_05.py  05_12.py  05_28.py  05_44.py\n",
            "01_12.py  01_28.py  02_06.py  02_22.py  04_06.py  05_13.py  05_29.py  05_45.py\n",
            "01_13.py  01_29.py  02_07.py  02_23.py  04_07.py  05_14.py  05_30.py  05_46.py\n",
            "01_14.py  01_30.py  02_08.py  02_24.py  04_08.py  05_15.py  05_31.py  05_47.py\n",
            "01_15.py  01_31.py  02_09.py  02_25.py  04_09.py  05_16.py  05_32.py\n",
            "01_16.py  01_32.py  02_10.py  02_26.py  05_01.py  05_17.py  05_33.py\n"
          ]
        }
      ]
    },
    {
      "cell_type": "markdown",
      "metadata": {
        "id": "qwxMuwgpYkLV"
      },
      "source": [
        ">Apply this function to the ***Attendees*** column."
      ]
    },
    {
      "cell_type": "code",
      "execution_count": 286,
      "metadata": {
        "jupyter": {
          "outputs_hidden": false
        },
        "id": "vnOo6hTAYkLV",
        "outputId": "685d75b3-b94c-493f-8ad9-d63a2dba2201",
        "colab": {
          "base_uri": "https://localhost:8080/",
          "height": 458
        }
      },
      "outputs": [
        {
          "output_type": "execute_result",
          "data": {
            "text/plain": [
              "0        single\n",
              "1      multiple\n",
              "2      multiple\n",
              "3      multiple\n",
              "4      multiple\n",
              "         ...   \n",
              "261    multiple\n",
              "262    multiple\n",
              "263      single\n",
              "264    multiple\n",
              "265    multiple\n",
              "Name: Attendees, Length: 266, dtype: object"
            ],
            "text/html": [
              "<div>\n",
              "<style scoped>\n",
              "    .dataframe tbody tr th:only-of-type {\n",
              "        vertical-align: middle;\n",
              "    }\n",
              "\n",
              "    .dataframe tbody tr th {\n",
              "        vertical-align: top;\n",
              "    }\n",
              "\n",
              "    .dataframe thead th {\n",
              "        text-align: right;\n",
              "    }\n",
              "</style>\n",
              "<table border=\"1\" class=\"dataframe\">\n",
              "  <thead>\n",
              "    <tr style=\"text-align: right;\">\n",
              "      <th></th>\n",
              "      <th>Attendees</th>\n",
              "    </tr>\n",
              "  </thead>\n",
              "  <tbody>\n",
              "    <tr>\n",
              "      <th>0</th>\n",
              "      <td>single</td>\n",
              "    </tr>\n",
              "    <tr>\n",
              "      <th>1</th>\n",
              "      <td>multiple</td>\n",
              "    </tr>\n",
              "    <tr>\n",
              "      <th>2</th>\n",
              "      <td>multiple</td>\n",
              "    </tr>\n",
              "    <tr>\n",
              "      <th>3</th>\n",
              "      <td>multiple</td>\n",
              "    </tr>\n",
              "    <tr>\n",
              "      <th>4</th>\n",
              "      <td>multiple</td>\n",
              "    </tr>\n",
              "    <tr>\n",
              "      <th>...</th>\n",
              "      <td>...</td>\n",
              "    </tr>\n",
              "    <tr>\n",
              "      <th>261</th>\n",
              "      <td>multiple</td>\n",
              "    </tr>\n",
              "    <tr>\n",
              "      <th>262</th>\n",
              "      <td>multiple</td>\n",
              "    </tr>\n",
              "    <tr>\n",
              "      <th>263</th>\n",
              "      <td>single</td>\n",
              "    </tr>\n",
              "    <tr>\n",
              "      <th>264</th>\n",
              "      <td>multiple</td>\n",
              "    </tr>\n",
              "    <tr>\n",
              "      <th>265</th>\n",
              "      <td>multiple</td>\n",
              "    </tr>\n",
              "  </tbody>\n",
              "</table>\n",
              "<p>266 rows × 1 columns</p>\n",
              "</div><br><label><b>dtype:</b> object</label>"
            ]
          },
          "metadata": {},
          "execution_count": 286
        }
      ],
      "source": [
        "df['Attendees'].map(f)"
      ]
    },
    {
      "cell_type": "code",
      "execution_count": 287,
      "metadata": {
        "jupyter": {
          "outputs_hidden": false
        },
        "id": "0ADLAVuJYkLV",
        "outputId": "5e7a5bf6-0b6d-4af7-a36b-f99f4329cc99",
        "colab": {
          "base_uri": "https://localhost:8080/"
        }
      },
      "outputs": [
        {
          "output_type": "stream",
          "name": "stdout",
          "text": [
            "df[\"Attendees\"].apply(f)"
          ]
        }
      ],
      "source": [
        "!cat ../solutions/05_35.py"
      ]
    },
    {
      "cell_type": "markdown",
      "metadata": {
        "id": "wplSZui3YkLV"
      },
      "source": [
        "---\n",
        "\n",
        "<div class=\"alert alert-block alert-warning\" style=\"padding: 0px; padding-left: 20px; padding-top: 5px;\"><h2 style=\"color: #301E40\">\n",
        "Join\n",
        "</h2><br>\n",
        "</div>"
      ]
    },
    {
      "cell_type": "markdown",
      "metadata": {
        "id": "kXs_g4JPYkLV"
      },
      "source": [
        ">Load the language data and assign it to languages (path: 'data/food_training/languages.csv')"
      ]
    },
    {
      "cell_type": "code",
      "execution_count": 294,
      "metadata": {
        "id": "j1hDGKcbYkLV"
      },
      "outputs": [],
      "source": [
        "languages = pd.read_csv('../data/food_training/languages.csv')"
      ]
    },
    {
      "cell_type": "code",
      "source": [
        "%ls"
      ],
      "metadata": {
        "id": "_kD6ozDwIMBn",
        "outputId": "a9f52496-6306-4f9e-fa64-3f6edd0917b4",
        "colab": {
          "base_uri": "https://localhost:8080/"
        }
      },
      "execution_count": 293,
      "outputs": [
        {
          "output_type": "stream",
          "name": "stdout",
          "text": [
            "01_01.py  01_17.py  01_33.py  02_11.py  02_27.py  05_02.py  05_18.py  05_34.py\n",
            "01_02.py  01_18.py  01_34.py  02_12.py  02_28.py  05_03.py  05_19.py  05_35.py\n",
            "01_03.py  01_19.py  01_35.py  02_13.py  02_29.py  05_04.py  05_20.py  05_36.py\n",
            "01_04.py  01_20.py  01_36.py  02_14.py  02_30.py  05_05.py  05_21.py  05_37.py\n",
            "01_05.py  01_21.py  01_37.py  02_15.py  02_31.py  05_06.py  05_22.py  05_38.py\n",
            "01_06.py  01_22.py  01_38.py  02_16.py  02_32.py  05_07.py  05_23.py  05_39.py\n",
            "01_07.py  01_23.py  02_01.py  02_17.py  04_01.py  05_08.py  05_24.py  05_40.py\n",
            "01_08.py  01_24.py  02_02.py  02_18.py  04_02.py  05_09.py  05_25.py  05_41.py\n",
            "01_09.py  01_25.py  02_03.py  02_19.py  04_03.py  05_10.py  05_26.py  05_42.py\n",
            "01_10.py  01_26.py  02_04.py  02_20.py  04_04.py  05_11.py  05_27.py  05_43.py\n",
            "01_11.py  01_27.py  02_05.py  02_21.py  04_05.py  05_12.py  05_28.py  05_44.py\n",
            "01_12.py  01_28.py  02_06.py  02_22.py  04_06.py  05_13.py  05_29.py  05_45.py\n",
            "01_13.py  01_29.py  02_07.py  02_23.py  04_07.py  05_14.py  05_30.py  05_46.py\n",
            "01_14.py  01_30.py  02_08.py  02_24.py  04_08.py  05_15.py  05_31.py  05_47.py\n",
            "01_15.py  01_31.py  02_09.py  02_25.py  04_09.py  05_16.py  05_32.py\n",
            "01_16.py  01_32.py  02_10.py  02_26.py  05_01.py  05_17.py  05_33.py\n"
          ]
        }
      ]
    },
    {
      "cell_type": "code",
      "execution_count": null,
      "metadata": {
        "id": "5Jhui0fcYkLV"
      },
      "outputs": [],
      "source": [
        "# !cat ../solutions/05_36.py"
      ]
    },
    {
      "cell_type": "code",
      "execution_count": 295,
      "metadata": {
        "id": "koiTPgG1YkLV",
        "outputId": "78d87480-520a-4c20-91c7-00f85109887b",
        "colab": {
          "base_uri": "https://localhost:8080/",
          "height": 206
        }
      },
      "outputs": [
        {
          "output_type": "execute_result",
          "data": {
            "text/plain": [
              "   Country    Official and national Languages\n",
              "0  Albania                           Albanian\n",
              "1  Andorra                            Catalan\n",
              "2  Austria  German/Slovene/Croatian/Hungarian\n",
              "3  Belarus                 Belarusian/Russian\n",
              "4  Belgium                Dutch/French/German"
            ],
            "text/html": [
              "\n",
              "  <div id=\"df-fd45a6ef-3e4f-4e92-bc69-8d67b8702f48\" class=\"colab-df-container\">\n",
              "    <div>\n",
              "<style scoped>\n",
              "    .dataframe tbody tr th:only-of-type {\n",
              "        vertical-align: middle;\n",
              "    }\n",
              "\n",
              "    .dataframe tbody tr th {\n",
              "        vertical-align: top;\n",
              "    }\n",
              "\n",
              "    .dataframe thead th {\n",
              "        text-align: right;\n",
              "    }\n",
              "</style>\n",
              "<table border=\"1\" class=\"dataframe\">\n",
              "  <thead>\n",
              "    <tr style=\"text-align: right;\">\n",
              "      <th></th>\n",
              "      <th>Country</th>\n",
              "      <th>Official and national Languages</th>\n",
              "    </tr>\n",
              "  </thead>\n",
              "  <tbody>\n",
              "    <tr>\n",
              "      <th>0</th>\n",
              "      <td>Albania</td>\n",
              "      <td>Albanian</td>\n",
              "    </tr>\n",
              "    <tr>\n",
              "      <th>1</th>\n",
              "      <td>Andorra</td>\n",
              "      <td>Catalan</td>\n",
              "    </tr>\n",
              "    <tr>\n",
              "      <th>2</th>\n",
              "      <td>Austria</td>\n",
              "      <td>German/Slovene/Croatian/Hungarian</td>\n",
              "    </tr>\n",
              "    <tr>\n",
              "      <th>3</th>\n",
              "      <td>Belarus</td>\n",
              "      <td>Belarusian/Russian</td>\n",
              "    </tr>\n",
              "    <tr>\n",
              "      <th>4</th>\n",
              "      <td>Belgium</td>\n",
              "      <td>Dutch/French/German</td>\n",
              "    </tr>\n",
              "  </tbody>\n",
              "</table>\n",
              "</div>\n",
              "    <div class=\"colab-df-buttons\">\n",
              "\n",
              "  <div class=\"colab-df-container\">\n",
              "    <button class=\"colab-df-convert\" onclick=\"convertToInteractive('df-fd45a6ef-3e4f-4e92-bc69-8d67b8702f48')\"\n",
              "            title=\"Convert this dataframe to an interactive table.\"\n",
              "            style=\"display:none;\">\n",
              "\n",
              "  <svg xmlns=\"http://www.w3.org/2000/svg\" height=\"24px\" viewBox=\"0 -960 960 960\">\n",
              "    <path d=\"M120-120v-720h720v720H120Zm60-500h600v-160H180v160Zm220 220h160v-160H400v160Zm0 220h160v-160H400v160ZM180-400h160v-160H180v160Zm440 0h160v-160H620v160ZM180-180h160v-160H180v160Zm440 0h160v-160H620v160Z\"/>\n",
              "  </svg>\n",
              "    </button>\n",
              "\n",
              "  <style>\n",
              "    .colab-df-container {\n",
              "      display:flex;\n",
              "      gap: 12px;\n",
              "    }\n",
              "\n",
              "    .colab-df-convert {\n",
              "      background-color: #E8F0FE;\n",
              "      border: none;\n",
              "      border-radius: 50%;\n",
              "      cursor: pointer;\n",
              "      display: none;\n",
              "      fill: #1967D2;\n",
              "      height: 32px;\n",
              "      padding: 0 0 0 0;\n",
              "      width: 32px;\n",
              "    }\n",
              "\n",
              "    .colab-df-convert:hover {\n",
              "      background-color: #E2EBFA;\n",
              "      box-shadow: 0px 1px 2px rgba(60, 64, 67, 0.3), 0px 1px 3px 1px rgba(60, 64, 67, 0.15);\n",
              "      fill: #174EA6;\n",
              "    }\n",
              "\n",
              "    .colab-df-buttons div {\n",
              "      margin-bottom: 4px;\n",
              "    }\n",
              "\n",
              "    [theme=dark] .colab-df-convert {\n",
              "      background-color: #3B4455;\n",
              "      fill: #D2E3FC;\n",
              "    }\n",
              "\n",
              "    [theme=dark] .colab-df-convert:hover {\n",
              "      background-color: #434B5C;\n",
              "      box-shadow: 0px 1px 3px 1px rgba(0, 0, 0, 0.15);\n",
              "      filter: drop-shadow(0px 1px 2px rgba(0, 0, 0, 0.3));\n",
              "      fill: #FFFFFF;\n",
              "    }\n",
              "  </style>\n",
              "\n",
              "    <script>\n",
              "      const buttonEl =\n",
              "        document.querySelector('#df-fd45a6ef-3e4f-4e92-bc69-8d67b8702f48 button.colab-df-convert');\n",
              "      buttonEl.style.display =\n",
              "        google.colab.kernel.accessAllowed ? 'block' : 'none';\n",
              "\n",
              "      async function convertToInteractive(key) {\n",
              "        const element = document.querySelector('#df-fd45a6ef-3e4f-4e92-bc69-8d67b8702f48');\n",
              "        const dataTable =\n",
              "          await google.colab.kernel.invokeFunction('convertToInteractive',\n",
              "                                                    [key], {});\n",
              "        if (!dataTable) return;\n",
              "\n",
              "        const docLinkHtml = 'Like what you see? Visit the ' +\n",
              "          '<a target=\"_blank\" href=https://colab.research.google.com/notebooks/data_table.ipynb>data table notebook</a>'\n",
              "          + ' to learn more about interactive tables.';\n",
              "        element.innerHTML = '';\n",
              "        dataTable['output_type'] = 'display_data';\n",
              "        await google.colab.output.renderOutput(dataTable, element);\n",
              "        const docLink = document.createElement('div');\n",
              "        docLink.innerHTML = docLinkHtml;\n",
              "        element.appendChild(docLink);\n",
              "      }\n",
              "    </script>\n",
              "  </div>\n",
              "\n",
              "\n",
              "    <div id=\"df-f42440c5-efd5-44be-bab1-a66d2455ea64\">\n",
              "      <button class=\"colab-df-quickchart\" onclick=\"quickchart('df-f42440c5-efd5-44be-bab1-a66d2455ea64')\"\n",
              "                title=\"Suggest charts\"\n",
              "                style=\"display:none;\">\n",
              "\n",
              "<svg xmlns=\"http://www.w3.org/2000/svg\" height=\"24px\"viewBox=\"0 0 24 24\"\n",
              "     width=\"24px\">\n",
              "    <g>\n",
              "        <path d=\"M19 3H5c-1.1 0-2 .9-2 2v14c0 1.1.9 2 2 2h14c1.1 0 2-.9 2-2V5c0-1.1-.9-2-2-2zM9 17H7v-7h2v7zm4 0h-2V7h2v10zm4 0h-2v-4h2v4z\"/>\n",
              "    </g>\n",
              "</svg>\n",
              "      </button>\n",
              "\n",
              "<style>\n",
              "  .colab-df-quickchart {\n",
              "      --bg-color: #E8F0FE;\n",
              "      --fill-color: #1967D2;\n",
              "      --hover-bg-color: #E2EBFA;\n",
              "      --hover-fill-color: #174EA6;\n",
              "      --disabled-fill-color: #AAA;\n",
              "      --disabled-bg-color: #DDD;\n",
              "  }\n",
              "\n",
              "  [theme=dark] .colab-df-quickchart {\n",
              "      --bg-color: #3B4455;\n",
              "      --fill-color: #D2E3FC;\n",
              "      --hover-bg-color: #434B5C;\n",
              "      --hover-fill-color: #FFFFFF;\n",
              "      --disabled-bg-color: #3B4455;\n",
              "      --disabled-fill-color: #666;\n",
              "  }\n",
              "\n",
              "  .colab-df-quickchart {\n",
              "    background-color: var(--bg-color);\n",
              "    border: none;\n",
              "    border-radius: 50%;\n",
              "    cursor: pointer;\n",
              "    display: none;\n",
              "    fill: var(--fill-color);\n",
              "    height: 32px;\n",
              "    padding: 0;\n",
              "    width: 32px;\n",
              "  }\n",
              "\n",
              "  .colab-df-quickchart:hover {\n",
              "    background-color: var(--hover-bg-color);\n",
              "    box-shadow: 0 1px 2px rgba(60, 64, 67, 0.3), 0 1px 3px 1px rgba(60, 64, 67, 0.15);\n",
              "    fill: var(--button-hover-fill-color);\n",
              "  }\n",
              "\n",
              "  .colab-df-quickchart-complete:disabled,\n",
              "  .colab-df-quickchart-complete:disabled:hover {\n",
              "    background-color: var(--disabled-bg-color);\n",
              "    fill: var(--disabled-fill-color);\n",
              "    box-shadow: none;\n",
              "  }\n",
              "\n",
              "  .colab-df-spinner {\n",
              "    border: 2px solid var(--fill-color);\n",
              "    border-color: transparent;\n",
              "    border-bottom-color: var(--fill-color);\n",
              "    animation:\n",
              "      spin 1s steps(1) infinite;\n",
              "  }\n",
              "\n",
              "  @keyframes spin {\n",
              "    0% {\n",
              "      border-color: transparent;\n",
              "      border-bottom-color: var(--fill-color);\n",
              "      border-left-color: var(--fill-color);\n",
              "    }\n",
              "    20% {\n",
              "      border-color: transparent;\n",
              "      border-left-color: var(--fill-color);\n",
              "      border-top-color: var(--fill-color);\n",
              "    }\n",
              "    30% {\n",
              "      border-color: transparent;\n",
              "      border-left-color: var(--fill-color);\n",
              "      border-top-color: var(--fill-color);\n",
              "      border-right-color: var(--fill-color);\n",
              "    }\n",
              "    40% {\n",
              "      border-color: transparent;\n",
              "      border-right-color: var(--fill-color);\n",
              "      border-top-color: var(--fill-color);\n",
              "    }\n",
              "    60% {\n",
              "      border-color: transparent;\n",
              "      border-right-color: var(--fill-color);\n",
              "    }\n",
              "    80% {\n",
              "      border-color: transparent;\n",
              "      border-right-color: var(--fill-color);\n",
              "      border-bottom-color: var(--fill-color);\n",
              "    }\n",
              "    90% {\n",
              "      border-color: transparent;\n",
              "      border-bottom-color: var(--fill-color);\n",
              "    }\n",
              "  }\n",
              "</style>\n",
              "\n",
              "      <script>\n",
              "        async function quickchart(key) {\n",
              "          const quickchartButtonEl =\n",
              "            document.querySelector('#' + key + ' button');\n",
              "          quickchartButtonEl.disabled = true;  // To prevent multiple clicks.\n",
              "          quickchartButtonEl.classList.add('colab-df-spinner');\n",
              "          try {\n",
              "            const charts = await google.colab.kernel.invokeFunction(\n",
              "                'suggestCharts', [key], {});\n",
              "          } catch (error) {\n",
              "            console.error('Error during call to suggestCharts:', error);\n",
              "          }\n",
              "          quickchartButtonEl.classList.remove('colab-df-spinner');\n",
              "          quickchartButtonEl.classList.add('colab-df-quickchart-complete');\n",
              "        }\n",
              "        (() => {\n",
              "          let quickchartButtonEl =\n",
              "            document.querySelector('#df-f42440c5-efd5-44be-bab1-a66d2455ea64 button');\n",
              "          quickchartButtonEl.style.display =\n",
              "            google.colab.kernel.accessAllowed ? 'block' : 'none';\n",
              "        })();\n",
              "      </script>\n",
              "    </div>\n",
              "\n",
              "    </div>\n",
              "  </div>\n"
            ],
            "application/vnd.google.colaboratory.intrinsic+json": {
              "type": "dataframe",
              "variable_name": "languages",
              "summary": "{\n  \"name\": \"languages\",\n  \"rows\": 49,\n  \"fields\": [\n    {\n      \"column\": \"Country\",\n      \"properties\": {\n        \"dtype\": \"string\",\n        \"num_unique_values\": 49,\n        \"samples\": [\n          \"Finland\",\n          \"Turkey\",\n          \"United Kingdom\"\n        ],\n        \"semantic_type\": \"\",\n        \"description\": \"\"\n      }\n    },\n    {\n      \"column\": \"Official and national Languages\",\n      \"properties\": {\n        \"dtype\": \"string\",\n        \"num_unique_values\": 45,\n        \"samples\": [\n          \"Spanish/Catalan/Galician/Basque\",\n          \"Luxembourgish/French/German\",\n          \"Macedonia/Albanian\"\n        ],\n        \"semantic_type\": \"\",\n        \"description\": \"\"\n      }\n    }\n  ]\n}"
            }
          },
          "metadata": {},
          "execution_count": 295
        }
      ],
      "source": [
        "languages.head()"
      ]
    },
    {
      "cell_type": "markdown",
      "metadata": {
        "id": "inpReSZbYkLV"
      },
      "source": [
        ">Join df and languages to add the language information to df.  \n",
        ">You can check the page about [merge, join and concatenation](https://pandas.pydata.org/pandas-docs/stable/user_guide/merging.html) or the merge method [documentation](https://pandas.pydata.org/pandas-docs/stable/reference/api/pandas.DataFrame.merge.html)."
      ]
    },
    {
      "cell_type": "code",
      "execution_count": 301,
      "metadata": {
        "id": "IJp-FZm2YkLV",
        "outputId": "712ab132-df8f-40f2-8e8e-8d07768f73ee",
        "colab": {
          "base_uri": "https://localhost:8080/",
          "height": 719
        }
      },
      "outputs": [
        {
          "output_type": "execute_result",
          "data": {
            "text/plain": [
              "     index                                         CourseName    DateFrom  \\\n",
              "0        0                             Risk Assessment (Pest)  2015-01-12   \n",
              "1        1                                    Organic Farming  2015-01-19   \n",
              "2        2  Prevention Control and Eradication of Transmis...  2015-01-20   \n",
              "3        3                               Contingency Planning  2015-01-26   \n",
              "4        4                                              HACCP  2015-02-02   \n",
              "..     ...                                                ...         ...   \n",
              "260    111                               Contingency Planning  2017-03-06   \n",
              "261    112                          Audit B1 - Standard Level  2017-03-06   \n",
              "262    113                                            Audit A  2017-03-20   \n",
              "263    114                       Food Hygiene and Flexibility  2017-03-20   \n",
              "264    115  Animal Health and Disease Prevention for Bees ...  2017-03-28   \n",
              "\n",
              "         DateTo  Attendees        city         country         Country  \\\n",
              "0    2015-01-16          1      lisbon        Portugal        Portugal   \n",
              "1    2015-01-22          2     bristol  United Kingdom  United Kingdom   \n",
              "2    2015-01-23          2   ljubljana        Slovenia        Slovenia   \n",
              "3    2015-01-30          2       padua           Italy           Italy   \n",
              "4    2015-02-06          2        rome           Italy           Italy   \n",
              "..          ...        ...         ...             ...             ...   \n",
              "260  2017-03-10          3      venice           Italy           Italy   \n",
              "261  2017-03-10          2    valencia           Spain           Spain   \n",
              "262  2017-03-24          1  bratislava        Slovakia        Slovakia   \n",
              "263  2017-03-24          2      zagreb         Croatia         Croatia   \n",
              "264  2017-03-31          2     antwerp         Belgium         Belgium   \n",
              "\n",
              "     Official and national Languages  \n",
              "0                         Portuguese  \n",
              "1                            English  \n",
              "2                          Slovenian  \n",
              "3                            Italian  \n",
              "4                            Italian  \n",
              "..                               ...  \n",
              "260                          Italian  \n",
              "261  Spanish/Catalan/Galician/Basque  \n",
              "262                           Slovak  \n",
              "263                         Croatian  \n",
              "264              Dutch/French/German  \n",
              "\n",
              "[265 rows x 9 columns]"
            ],
            "text/html": [
              "\n",
              "  <div id=\"df-4b0c7e53-08b2-4b5f-bc3a-5a129b8f955d\" class=\"colab-df-container\">\n",
              "    <div>\n",
              "<style scoped>\n",
              "    .dataframe tbody tr th:only-of-type {\n",
              "        vertical-align: middle;\n",
              "    }\n",
              "\n",
              "    .dataframe tbody tr th {\n",
              "        vertical-align: top;\n",
              "    }\n",
              "\n",
              "    .dataframe thead th {\n",
              "        text-align: right;\n",
              "    }\n",
              "</style>\n",
              "<table border=\"1\" class=\"dataframe\">\n",
              "  <thead>\n",
              "    <tr style=\"text-align: right;\">\n",
              "      <th></th>\n",
              "      <th>index</th>\n",
              "      <th>CourseName</th>\n",
              "      <th>DateFrom</th>\n",
              "      <th>DateTo</th>\n",
              "      <th>Attendees</th>\n",
              "      <th>city</th>\n",
              "      <th>country</th>\n",
              "      <th>Country</th>\n",
              "      <th>Official and national Languages</th>\n",
              "    </tr>\n",
              "  </thead>\n",
              "  <tbody>\n",
              "    <tr>\n",
              "      <th>0</th>\n",
              "      <td>0</td>\n",
              "      <td>Risk Assessment (Pest)</td>\n",
              "      <td>2015-01-12</td>\n",
              "      <td>2015-01-16</td>\n",
              "      <td>1</td>\n",
              "      <td>lisbon</td>\n",
              "      <td>Portugal</td>\n",
              "      <td>Portugal</td>\n",
              "      <td>Portuguese</td>\n",
              "    </tr>\n",
              "    <tr>\n",
              "      <th>1</th>\n",
              "      <td>1</td>\n",
              "      <td>Organic Farming</td>\n",
              "      <td>2015-01-19</td>\n",
              "      <td>2015-01-22</td>\n",
              "      <td>2</td>\n",
              "      <td>bristol</td>\n",
              "      <td>United Kingdom</td>\n",
              "      <td>United Kingdom</td>\n",
              "      <td>English</td>\n",
              "    </tr>\n",
              "    <tr>\n",
              "      <th>2</th>\n",
              "      <td>2</td>\n",
              "      <td>Prevention Control and Eradication of Transmis...</td>\n",
              "      <td>2015-01-20</td>\n",
              "      <td>2015-01-23</td>\n",
              "      <td>2</td>\n",
              "      <td>ljubljana</td>\n",
              "      <td>Slovenia</td>\n",
              "      <td>Slovenia</td>\n",
              "      <td>Slovenian</td>\n",
              "    </tr>\n",
              "    <tr>\n",
              "      <th>3</th>\n",
              "      <td>3</td>\n",
              "      <td>Contingency Planning</td>\n",
              "      <td>2015-01-26</td>\n",
              "      <td>2015-01-30</td>\n",
              "      <td>2</td>\n",
              "      <td>padua</td>\n",
              "      <td>Italy</td>\n",
              "      <td>Italy</td>\n",
              "      <td>Italian</td>\n",
              "    </tr>\n",
              "    <tr>\n",
              "      <th>4</th>\n",
              "      <td>4</td>\n",
              "      <td>HACCP</td>\n",
              "      <td>2015-02-02</td>\n",
              "      <td>2015-02-06</td>\n",
              "      <td>2</td>\n",
              "      <td>rome</td>\n",
              "      <td>Italy</td>\n",
              "      <td>Italy</td>\n",
              "      <td>Italian</td>\n",
              "    </tr>\n",
              "    <tr>\n",
              "      <th>...</th>\n",
              "      <td>...</td>\n",
              "      <td>...</td>\n",
              "      <td>...</td>\n",
              "      <td>...</td>\n",
              "      <td>...</td>\n",
              "      <td>...</td>\n",
              "      <td>...</td>\n",
              "      <td>...</td>\n",
              "      <td>...</td>\n",
              "    </tr>\n",
              "    <tr>\n",
              "      <th>260</th>\n",
              "      <td>111</td>\n",
              "      <td>Contingency Planning</td>\n",
              "      <td>2017-03-06</td>\n",
              "      <td>2017-03-10</td>\n",
              "      <td>3</td>\n",
              "      <td>venice</td>\n",
              "      <td>Italy</td>\n",
              "      <td>Italy</td>\n",
              "      <td>Italian</td>\n",
              "    </tr>\n",
              "    <tr>\n",
              "      <th>261</th>\n",
              "      <td>112</td>\n",
              "      <td>Audit B1 - Standard Level</td>\n",
              "      <td>2017-03-06</td>\n",
              "      <td>2017-03-10</td>\n",
              "      <td>2</td>\n",
              "      <td>valencia</td>\n",
              "      <td>Spain</td>\n",
              "      <td>Spain</td>\n",
              "      <td>Spanish/Catalan/Galician/Basque</td>\n",
              "    </tr>\n",
              "    <tr>\n",
              "      <th>262</th>\n",
              "      <td>113</td>\n",
              "      <td>Audit A</td>\n",
              "      <td>2017-03-20</td>\n",
              "      <td>2017-03-24</td>\n",
              "      <td>1</td>\n",
              "      <td>bratislava</td>\n",
              "      <td>Slovakia</td>\n",
              "      <td>Slovakia</td>\n",
              "      <td>Slovak</td>\n",
              "    </tr>\n",
              "    <tr>\n",
              "      <th>263</th>\n",
              "      <td>114</td>\n",
              "      <td>Food Hygiene and Flexibility</td>\n",
              "      <td>2017-03-20</td>\n",
              "      <td>2017-03-24</td>\n",
              "      <td>2</td>\n",
              "      <td>zagreb</td>\n",
              "      <td>Croatia</td>\n",
              "      <td>Croatia</td>\n",
              "      <td>Croatian</td>\n",
              "    </tr>\n",
              "    <tr>\n",
              "      <th>264</th>\n",
              "      <td>115</td>\n",
              "      <td>Animal Health and Disease Prevention for Bees ...</td>\n",
              "      <td>2017-03-28</td>\n",
              "      <td>2017-03-31</td>\n",
              "      <td>2</td>\n",
              "      <td>antwerp</td>\n",
              "      <td>Belgium</td>\n",
              "      <td>Belgium</td>\n",
              "      <td>Dutch/French/German</td>\n",
              "    </tr>\n",
              "  </tbody>\n",
              "</table>\n",
              "<p>265 rows × 9 columns</p>\n",
              "</div>\n",
              "    <div class=\"colab-df-buttons\">\n",
              "\n",
              "  <div class=\"colab-df-container\">\n",
              "    <button class=\"colab-df-convert\" onclick=\"convertToInteractive('df-4b0c7e53-08b2-4b5f-bc3a-5a129b8f955d')\"\n",
              "            title=\"Convert this dataframe to an interactive table.\"\n",
              "            style=\"display:none;\">\n",
              "\n",
              "  <svg xmlns=\"http://www.w3.org/2000/svg\" height=\"24px\" viewBox=\"0 -960 960 960\">\n",
              "    <path d=\"M120-120v-720h720v720H120Zm60-500h600v-160H180v160Zm220 220h160v-160H400v160Zm0 220h160v-160H400v160ZM180-400h160v-160H180v160Zm440 0h160v-160H620v160ZM180-180h160v-160H180v160Zm440 0h160v-160H620v160Z\"/>\n",
              "  </svg>\n",
              "    </button>\n",
              "\n",
              "  <style>\n",
              "    .colab-df-container {\n",
              "      display:flex;\n",
              "      gap: 12px;\n",
              "    }\n",
              "\n",
              "    .colab-df-convert {\n",
              "      background-color: #E8F0FE;\n",
              "      border: none;\n",
              "      border-radius: 50%;\n",
              "      cursor: pointer;\n",
              "      display: none;\n",
              "      fill: #1967D2;\n",
              "      height: 32px;\n",
              "      padding: 0 0 0 0;\n",
              "      width: 32px;\n",
              "    }\n",
              "\n",
              "    .colab-df-convert:hover {\n",
              "      background-color: #E2EBFA;\n",
              "      box-shadow: 0px 1px 2px rgba(60, 64, 67, 0.3), 0px 1px 3px 1px rgba(60, 64, 67, 0.15);\n",
              "      fill: #174EA6;\n",
              "    }\n",
              "\n",
              "    .colab-df-buttons div {\n",
              "      margin-bottom: 4px;\n",
              "    }\n",
              "\n",
              "    [theme=dark] .colab-df-convert {\n",
              "      background-color: #3B4455;\n",
              "      fill: #D2E3FC;\n",
              "    }\n",
              "\n",
              "    [theme=dark] .colab-df-convert:hover {\n",
              "      background-color: #434B5C;\n",
              "      box-shadow: 0px 1px 3px 1px rgba(0, 0, 0, 0.15);\n",
              "      filter: drop-shadow(0px 1px 2px rgba(0, 0, 0, 0.3));\n",
              "      fill: #FFFFFF;\n",
              "    }\n",
              "  </style>\n",
              "\n",
              "    <script>\n",
              "      const buttonEl =\n",
              "        document.querySelector('#df-4b0c7e53-08b2-4b5f-bc3a-5a129b8f955d button.colab-df-convert');\n",
              "      buttonEl.style.display =\n",
              "        google.colab.kernel.accessAllowed ? 'block' : 'none';\n",
              "\n",
              "      async function convertToInteractive(key) {\n",
              "        const element = document.querySelector('#df-4b0c7e53-08b2-4b5f-bc3a-5a129b8f955d');\n",
              "        const dataTable =\n",
              "          await google.colab.kernel.invokeFunction('convertToInteractive',\n",
              "                                                    [key], {});\n",
              "        if (!dataTable) return;\n",
              "\n",
              "        const docLinkHtml = 'Like what you see? Visit the ' +\n",
              "          '<a target=\"_blank\" href=https://colab.research.google.com/notebooks/data_table.ipynb>data table notebook</a>'\n",
              "          + ' to learn more about interactive tables.';\n",
              "        element.innerHTML = '';\n",
              "        dataTable['output_type'] = 'display_data';\n",
              "        await google.colab.output.renderOutput(dataTable, element);\n",
              "        const docLink = document.createElement('div');\n",
              "        docLink.innerHTML = docLinkHtml;\n",
              "        element.appendChild(docLink);\n",
              "      }\n",
              "    </script>\n",
              "  </div>\n",
              "\n",
              "\n",
              "    <div id=\"df-8209d970-a454-42df-9828-519c3188c787\">\n",
              "      <button class=\"colab-df-quickchart\" onclick=\"quickchart('df-8209d970-a454-42df-9828-519c3188c787')\"\n",
              "                title=\"Suggest charts\"\n",
              "                style=\"display:none;\">\n",
              "\n",
              "<svg xmlns=\"http://www.w3.org/2000/svg\" height=\"24px\"viewBox=\"0 0 24 24\"\n",
              "     width=\"24px\">\n",
              "    <g>\n",
              "        <path d=\"M19 3H5c-1.1 0-2 .9-2 2v14c0 1.1.9 2 2 2h14c1.1 0 2-.9 2-2V5c0-1.1-.9-2-2-2zM9 17H7v-7h2v7zm4 0h-2V7h2v10zm4 0h-2v-4h2v4z\"/>\n",
              "    </g>\n",
              "</svg>\n",
              "      </button>\n",
              "\n",
              "<style>\n",
              "  .colab-df-quickchart {\n",
              "      --bg-color: #E8F0FE;\n",
              "      --fill-color: #1967D2;\n",
              "      --hover-bg-color: #E2EBFA;\n",
              "      --hover-fill-color: #174EA6;\n",
              "      --disabled-fill-color: #AAA;\n",
              "      --disabled-bg-color: #DDD;\n",
              "  }\n",
              "\n",
              "  [theme=dark] .colab-df-quickchart {\n",
              "      --bg-color: #3B4455;\n",
              "      --fill-color: #D2E3FC;\n",
              "      --hover-bg-color: #434B5C;\n",
              "      --hover-fill-color: #FFFFFF;\n",
              "      --disabled-bg-color: #3B4455;\n",
              "      --disabled-fill-color: #666;\n",
              "  }\n",
              "\n",
              "  .colab-df-quickchart {\n",
              "    background-color: var(--bg-color);\n",
              "    border: none;\n",
              "    border-radius: 50%;\n",
              "    cursor: pointer;\n",
              "    display: none;\n",
              "    fill: var(--fill-color);\n",
              "    height: 32px;\n",
              "    padding: 0;\n",
              "    width: 32px;\n",
              "  }\n",
              "\n",
              "  .colab-df-quickchart:hover {\n",
              "    background-color: var(--hover-bg-color);\n",
              "    box-shadow: 0 1px 2px rgba(60, 64, 67, 0.3), 0 1px 3px 1px rgba(60, 64, 67, 0.15);\n",
              "    fill: var(--button-hover-fill-color);\n",
              "  }\n",
              "\n",
              "  .colab-df-quickchart-complete:disabled,\n",
              "  .colab-df-quickchart-complete:disabled:hover {\n",
              "    background-color: var(--disabled-bg-color);\n",
              "    fill: var(--disabled-fill-color);\n",
              "    box-shadow: none;\n",
              "  }\n",
              "\n",
              "  .colab-df-spinner {\n",
              "    border: 2px solid var(--fill-color);\n",
              "    border-color: transparent;\n",
              "    border-bottom-color: var(--fill-color);\n",
              "    animation:\n",
              "      spin 1s steps(1) infinite;\n",
              "  }\n",
              "\n",
              "  @keyframes spin {\n",
              "    0% {\n",
              "      border-color: transparent;\n",
              "      border-bottom-color: var(--fill-color);\n",
              "      border-left-color: var(--fill-color);\n",
              "    }\n",
              "    20% {\n",
              "      border-color: transparent;\n",
              "      border-left-color: var(--fill-color);\n",
              "      border-top-color: var(--fill-color);\n",
              "    }\n",
              "    30% {\n",
              "      border-color: transparent;\n",
              "      border-left-color: var(--fill-color);\n",
              "      border-top-color: var(--fill-color);\n",
              "      border-right-color: var(--fill-color);\n",
              "    }\n",
              "    40% {\n",
              "      border-color: transparent;\n",
              "      border-right-color: var(--fill-color);\n",
              "      border-top-color: var(--fill-color);\n",
              "    }\n",
              "    60% {\n",
              "      border-color: transparent;\n",
              "      border-right-color: var(--fill-color);\n",
              "    }\n",
              "    80% {\n",
              "      border-color: transparent;\n",
              "      border-right-color: var(--fill-color);\n",
              "      border-bottom-color: var(--fill-color);\n",
              "    }\n",
              "    90% {\n",
              "      border-color: transparent;\n",
              "      border-bottom-color: var(--fill-color);\n",
              "    }\n",
              "  }\n",
              "</style>\n",
              "\n",
              "      <script>\n",
              "        async function quickchart(key) {\n",
              "          const quickchartButtonEl =\n",
              "            document.querySelector('#' + key + ' button');\n",
              "          quickchartButtonEl.disabled = true;  // To prevent multiple clicks.\n",
              "          quickchartButtonEl.classList.add('colab-df-spinner');\n",
              "          try {\n",
              "            const charts = await google.colab.kernel.invokeFunction(\n",
              "                'suggestCharts', [key], {});\n",
              "          } catch (error) {\n",
              "            console.error('Error during call to suggestCharts:', error);\n",
              "          }\n",
              "          quickchartButtonEl.classList.remove('colab-df-spinner');\n",
              "          quickchartButtonEl.classList.add('colab-df-quickchart-complete');\n",
              "        }\n",
              "        (() => {\n",
              "          let quickchartButtonEl =\n",
              "            document.querySelector('#df-8209d970-a454-42df-9828-519c3188c787 button');\n",
              "          quickchartButtonEl.style.display =\n",
              "            google.colab.kernel.accessAllowed ? 'block' : 'none';\n",
              "        })();\n",
              "      </script>\n",
              "    </div>\n",
              "\n",
              "    </div>\n",
              "  </div>\n"
            ],
            "application/vnd.google.colaboratory.intrinsic+json": {
              "type": "dataframe",
              "summary": "{\n  \"name\": \"df\",\n  \"rows\": 265,\n  \"fields\": [\n    {\n      \"column\": \"index\",\n      \"properties\": {\n        \"dtype\": \"number\",\n        \"std\": 35,\n        \"min\": 0,\n        \"max\": 121,\n        \"num_unique_values\": 122,\n        \"samples\": [\n          18,\n          45,\n          47\n        ],\n        \"semantic_type\": \"\",\n        \"description\": \"\"\n      }\n    },\n    {\n      \"column\": \"CourseName\",\n      \"properties\": {\n        \"dtype\": \"category\",\n        \"num_unique_values\": 70,\n        \"samples\": [\n          \"Food Composition and Information\",\n          \"Risk Assessment (Pest)\",\n          \"Post-slaughter traceability of Meat (FVO)\"\n        ],\n        \"semantic_type\": \"\",\n        \"description\": \"\"\n      }\n    },\n    {\n      \"column\": \"DateFrom\",\n      \"properties\": {\n        \"dtype\": \"object\",\n        \"num_unique_values\": 138,\n        \"samples\": [\n          \"2016-05-16\",\n          \"2016-09-05\",\n          \"2015-03-16\"\n        ],\n        \"semantic_type\": \"\",\n        \"description\": \"\"\n      }\n    },\n    {\n      \"column\": \"DateTo\",\n      \"properties\": {\n        \"dtype\": \"object\",\n        \"num_unique_values\": 114,\n        \"samples\": [\n          \"2016-06-10\",\n          \"2015-02-06\",\n          \"2015-09-17\"\n        ],\n        \"semantic_type\": \"\",\n        \"description\": \"\"\n      }\n    },\n    {\n      \"column\": \"Attendees\",\n      \"properties\": {\n        \"dtype\": \"number\",\n        \"std\": 1,\n        \"min\": 1,\n        \"max\": 13,\n        \"num_unique_values\": 7,\n        \"samples\": [\n          1,\n          2,\n          6\n        ],\n        \"semantic_type\": \"\",\n        \"description\": \"\"\n      }\n    },\n    {\n      \"column\": \"city\",\n      \"properties\": {\n        \"dtype\": \"category\",\n        \"num_unique_values\": 62,\n        \"samples\": [\n          \"tarragona\",\n          \"naples\",\n          \"lisbon\"\n        ],\n        \"semantic_type\": \"\",\n        \"description\": \"\"\n      }\n    },\n    {\n      \"column\": \"country\",\n      \"properties\": {\n        \"dtype\": \"category\",\n        \"num_unique_values\": 24,\n        \"samples\": [\n          \"Poland\",\n          \"Croatia\",\n          \"Portugal\"\n        ],\n        \"semantic_type\": \"\",\n        \"description\": \"\"\n      }\n    },\n    {\n      \"column\": \"Country\",\n      \"properties\": {\n        \"dtype\": \"category\",\n        \"num_unique_values\": 24,\n        \"samples\": [\n          \"Poland\",\n          \"Croatia\",\n          \"Portugal\"\n        ],\n        \"semantic_type\": \"\",\n        \"description\": \"\"\n      }\n    },\n    {\n      \"column\": \"Official and national Languages\",\n      \"properties\": {\n        \"dtype\": \"category\",\n        \"num_unique_values\": 24,\n        \"samples\": [\n          \"Polish\",\n          \"Croatian\",\n          \"Portuguese\"\n        ],\n        \"semantic_type\": \"\",\n        \"description\": \"\"\n      }\n    }\n  ]\n}"
            }
          },
          "metadata": {},
          "execution_count": 301
        }
      ],
      "source": [
        "df.merge(languages, left_on = 'country', right_on = 'Country')"
      ]
    },
    {
      "cell_type": "code",
      "source": [
        "df.columns"
      ],
      "metadata": {
        "id": "qMDaFjEXIg5_",
        "outputId": "1136a291-f77c-42ba-feea-14a758e7246c",
        "colab": {
          "base_uri": "https://localhost:8080/"
        }
      },
      "execution_count": 299,
      "outputs": [
        {
          "output_type": "execute_result",
          "data": {
            "text/plain": [
              "Index(['index', 'CourseName', 'DateFrom', 'DateTo', 'Attendees', 'city',\n",
              "       'country'],\n",
              "      dtype='object')"
            ]
          },
          "metadata": {},
          "execution_count": 299
        }
      ]
    },
    {
      "cell_type": "code",
      "execution_count": 302,
      "metadata": {
        "id": "7JVyMwFbYkLV",
        "outputId": "5e52f84a-95c0-4469-f8a2-2c0374265a70",
        "colab": {
          "base_uri": "https://localhost:8080/"
        }
      },
      "outputs": [
        {
          "output_type": "stream",
          "name": "stdout",
          "text": [
            "df = df.merge(languages, how=\"left\", left_on=\"country\", right_on=\"Country\")"
          ]
        }
      ],
      "source": [
        "!cat ../solutions/05_37.py"
      ]
    },
    {
      "cell_type": "code",
      "source": [
        "df = df.merge(languages, how = 'left', left_on = 'country', right_on = 'Country')"
      ],
      "metadata": {
        "id": "XAbSXB2wJUDh"
      },
      "execution_count": 303,
      "outputs": []
    },
    {
      "cell_type": "code",
      "source": [
        "df"
      ],
      "metadata": {
        "id": "D97RaO60JYQH",
        "outputId": "33937a8a-4812-46f1-a7a8-0ff0ff215474",
        "colab": {
          "base_uri": "https://localhost:8080/",
          "height": 719
        }
      },
      "execution_count": 304,
      "outputs": [
        {
          "output_type": "execute_result",
          "data": {
            "text/plain": [
              "     index                                         CourseName    DateFrom  \\\n",
              "0        0                             Risk Assessment (Pest)  2015-01-12   \n",
              "1        1                                    Organic Farming  2015-01-19   \n",
              "2        2  Prevention Control and Eradication of Transmis...  2015-01-20   \n",
              "3        3                               Contingency Planning  2015-01-26   \n",
              "4        4                                              HACCP  2015-02-02   \n",
              "..     ...                                                ...         ...   \n",
              "261    111                               Contingency Planning  2017-03-06   \n",
              "262    112                          Audit B1 - Standard Level  2017-03-06   \n",
              "263    113                                            Audit A  2017-03-20   \n",
              "264    114                       Food Hygiene and Flexibility  2017-03-20   \n",
              "265    115  Animal Health and Disease Prevention for Bees ...  2017-03-28   \n",
              "\n",
              "         DateTo  Attendees        city         country         Country  \\\n",
              "0    2015-01-16          1      lisbon        Portugal        Portugal   \n",
              "1    2015-01-22          2     bristol  United Kingdom  United Kingdom   \n",
              "2    2015-01-23          2   ljubljana        Slovenia        Slovenia   \n",
              "3    2015-01-30          2       padua           Italy           Italy   \n",
              "4    2015-02-06          2        rome           Italy           Italy   \n",
              "..          ...        ...         ...             ...             ...   \n",
              "261  2017-03-10          3      venice           Italy           Italy   \n",
              "262  2017-03-10          2    valencia           Spain           Spain   \n",
              "263  2017-03-24          1  bratislava        Slovakia        Slovakia   \n",
              "264  2017-03-24          2      zagreb         Croatia         Croatia   \n",
              "265  2017-03-31          2     antwerp         Belgium         Belgium   \n",
              "\n",
              "     Official and national Languages  \n",
              "0                         Portuguese  \n",
              "1                            English  \n",
              "2                          Slovenian  \n",
              "3                            Italian  \n",
              "4                            Italian  \n",
              "..                               ...  \n",
              "261                          Italian  \n",
              "262  Spanish/Catalan/Galician/Basque  \n",
              "263                           Slovak  \n",
              "264                         Croatian  \n",
              "265              Dutch/French/German  \n",
              "\n",
              "[266 rows x 9 columns]"
            ],
            "text/html": [
              "\n",
              "  <div id=\"df-58d1d0ba-ed49-4354-9d46-0950e981a297\" class=\"colab-df-container\">\n",
              "    <div>\n",
              "<style scoped>\n",
              "    .dataframe tbody tr th:only-of-type {\n",
              "        vertical-align: middle;\n",
              "    }\n",
              "\n",
              "    .dataframe tbody tr th {\n",
              "        vertical-align: top;\n",
              "    }\n",
              "\n",
              "    .dataframe thead th {\n",
              "        text-align: right;\n",
              "    }\n",
              "</style>\n",
              "<table border=\"1\" class=\"dataframe\">\n",
              "  <thead>\n",
              "    <tr style=\"text-align: right;\">\n",
              "      <th></th>\n",
              "      <th>index</th>\n",
              "      <th>CourseName</th>\n",
              "      <th>DateFrom</th>\n",
              "      <th>DateTo</th>\n",
              "      <th>Attendees</th>\n",
              "      <th>city</th>\n",
              "      <th>country</th>\n",
              "      <th>Country</th>\n",
              "      <th>Official and national Languages</th>\n",
              "    </tr>\n",
              "  </thead>\n",
              "  <tbody>\n",
              "    <tr>\n",
              "      <th>0</th>\n",
              "      <td>0</td>\n",
              "      <td>Risk Assessment (Pest)</td>\n",
              "      <td>2015-01-12</td>\n",
              "      <td>2015-01-16</td>\n",
              "      <td>1</td>\n",
              "      <td>lisbon</td>\n",
              "      <td>Portugal</td>\n",
              "      <td>Portugal</td>\n",
              "      <td>Portuguese</td>\n",
              "    </tr>\n",
              "    <tr>\n",
              "      <th>1</th>\n",
              "      <td>1</td>\n",
              "      <td>Organic Farming</td>\n",
              "      <td>2015-01-19</td>\n",
              "      <td>2015-01-22</td>\n",
              "      <td>2</td>\n",
              "      <td>bristol</td>\n",
              "      <td>United Kingdom</td>\n",
              "      <td>United Kingdom</td>\n",
              "      <td>English</td>\n",
              "    </tr>\n",
              "    <tr>\n",
              "      <th>2</th>\n",
              "      <td>2</td>\n",
              "      <td>Prevention Control and Eradication of Transmis...</td>\n",
              "      <td>2015-01-20</td>\n",
              "      <td>2015-01-23</td>\n",
              "      <td>2</td>\n",
              "      <td>ljubljana</td>\n",
              "      <td>Slovenia</td>\n",
              "      <td>Slovenia</td>\n",
              "      <td>Slovenian</td>\n",
              "    </tr>\n",
              "    <tr>\n",
              "      <th>3</th>\n",
              "      <td>3</td>\n",
              "      <td>Contingency Planning</td>\n",
              "      <td>2015-01-26</td>\n",
              "      <td>2015-01-30</td>\n",
              "      <td>2</td>\n",
              "      <td>padua</td>\n",
              "      <td>Italy</td>\n",
              "      <td>Italy</td>\n",
              "      <td>Italian</td>\n",
              "    </tr>\n",
              "    <tr>\n",
              "      <th>4</th>\n",
              "      <td>4</td>\n",
              "      <td>HACCP</td>\n",
              "      <td>2015-02-02</td>\n",
              "      <td>2015-02-06</td>\n",
              "      <td>2</td>\n",
              "      <td>rome</td>\n",
              "      <td>Italy</td>\n",
              "      <td>Italy</td>\n",
              "      <td>Italian</td>\n",
              "    </tr>\n",
              "    <tr>\n",
              "      <th>...</th>\n",
              "      <td>...</td>\n",
              "      <td>...</td>\n",
              "      <td>...</td>\n",
              "      <td>...</td>\n",
              "      <td>...</td>\n",
              "      <td>...</td>\n",
              "      <td>...</td>\n",
              "      <td>...</td>\n",
              "      <td>...</td>\n",
              "    </tr>\n",
              "    <tr>\n",
              "      <th>261</th>\n",
              "      <td>111</td>\n",
              "      <td>Contingency Planning</td>\n",
              "      <td>2017-03-06</td>\n",
              "      <td>2017-03-10</td>\n",
              "      <td>3</td>\n",
              "      <td>venice</td>\n",
              "      <td>Italy</td>\n",
              "      <td>Italy</td>\n",
              "      <td>Italian</td>\n",
              "    </tr>\n",
              "    <tr>\n",
              "      <th>262</th>\n",
              "      <td>112</td>\n",
              "      <td>Audit B1 - Standard Level</td>\n",
              "      <td>2017-03-06</td>\n",
              "      <td>2017-03-10</td>\n",
              "      <td>2</td>\n",
              "      <td>valencia</td>\n",
              "      <td>Spain</td>\n",
              "      <td>Spain</td>\n",
              "      <td>Spanish/Catalan/Galician/Basque</td>\n",
              "    </tr>\n",
              "    <tr>\n",
              "      <th>263</th>\n",
              "      <td>113</td>\n",
              "      <td>Audit A</td>\n",
              "      <td>2017-03-20</td>\n",
              "      <td>2017-03-24</td>\n",
              "      <td>1</td>\n",
              "      <td>bratislava</td>\n",
              "      <td>Slovakia</td>\n",
              "      <td>Slovakia</td>\n",
              "      <td>Slovak</td>\n",
              "    </tr>\n",
              "    <tr>\n",
              "      <th>264</th>\n",
              "      <td>114</td>\n",
              "      <td>Food Hygiene and Flexibility</td>\n",
              "      <td>2017-03-20</td>\n",
              "      <td>2017-03-24</td>\n",
              "      <td>2</td>\n",
              "      <td>zagreb</td>\n",
              "      <td>Croatia</td>\n",
              "      <td>Croatia</td>\n",
              "      <td>Croatian</td>\n",
              "    </tr>\n",
              "    <tr>\n",
              "      <th>265</th>\n",
              "      <td>115</td>\n",
              "      <td>Animal Health and Disease Prevention for Bees ...</td>\n",
              "      <td>2017-03-28</td>\n",
              "      <td>2017-03-31</td>\n",
              "      <td>2</td>\n",
              "      <td>antwerp</td>\n",
              "      <td>Belgium</td>\n",
              "      <td>Belgium</td>\n",
              "      <td>Dutch/French/German</td>\n",
              "    </tr>\n",
              "  </tbody>\n",
              "</table>\n",
              "<p>266 rows × 9 columns</p>\n",
              "</div>\n",
              "    <div class=\"colab-df-buttons\">\n",
              "\n",
              "  <div class=\"colab-df-container\">\n",
              "    <button class=\"colab-df-convert\" onclick=\"convertToInteractive('df-58d1d0ba-ed49-4354-9d46-0950e981a297')\"\n",
              "            title=\"Convert this dataframe to an interactive table.\"\n",
              "            style=\"display:none;\">\n",
              "\n",
              "  <svg xmlns=\"http://www.w3.org/2000/svg\" height=\"24px\" viewBox=\"0 -960 960 960\">\n",
              "    <path d=\"M120-120v-720h720v720H120Zm60-500h600v-160H180v160Zm220 220h160v-160H400v160Zm0 220h160v-160H400v160ZM180-400h160v-160H180v160Zm440 0h160v-160H620v160ZM180-180h160v-160H180v160Zm440 0h160v-160H620v160Z\"/>\n",
              "  </svg>\n",
              "    </button>\n",
              "\n",
              "  <style>\n",
              "    .colab-df-container {\n",
              "      display:flex;\n",
              "      gap: 12px;\n",
              "    }\n",
              "\n",
              "    .colab-df-convert {\n",
              "      background-color: #E8F0FE;\n",
              "      border: none;\n",
              "      border-radius: 50%;\n",
              "      cursor: pointer;\n",
              "      display: none;\n",
              "      fill: #1967D2;\n",
              "      height: 32px;\n",
              "      padding: 0 0 0 0;\n",
              "      width: 32px;\n",
              "    }\n",
              "\n",
              "    .colab-df-convert:hover {\n",
              "      background-color: #E2EBFA;\n",
              "      box-shadow: 0px 1px 2px rgba(60, 64, 67, 0.3), 0px 1px 3px 1px rgba(60, 64, 67, 0.15);\n",
              "      fill: #174EA6;\n",
              "    }\n",
              "\n",
              "    .colab-df-buttons div {\n",
              "      margin-bottom: 4px;\n",
              "    }\n",
              "\n",
              "    [theme=dark] .colab-df-convert {\n",
              "      background-color: #3B4455;\n",
              "      fill: #D2E3FC;\n",
              "    }\n",
              "\n",
              "    [theme=dark] .colab-df-convert:hover {\n",
              "      background-color: #434B5C;\n",
              "      box-shadow: 0px 1px 3px 1px rgba(0, 0, 0, 0.15);\n",
              "      filter: drop-shadow(0px 1px 2px rgba(0, 0, 0, 0.3));\n",
              "      fill: #FFFFFF;\n",
              "    }\n",
              "  </style>\n",
              "\n",
              "    <script>\n",
              "      const buttonEl =\n",
              "        document.querySelector('#df-58d1d0ba-ed49-4354-9d46-0950e981a297 button.colab-df-convert');\n",
              "      buttonEl.style.display =\n",
              "        google.colab.kernel.accessAllowed ? 'block' : 'none';\n",
              "\n",
              "      async function convertToInteractive(key) {\n",
              "        const element = document.querySelector('#df-58d1d0ba-ed49-4354-9d46-0950e981a297');\n",
              "        const dataTable =\n",
              "          await google.colab.kernel.invokeFunction('convertToInteractive',\n",
              "                                                    [key], {});\n",
              "        if (!dataTable) return;\n",
              "\n",
              "        const docLinkHtml = 'Like what you see? Visit the ' +\n",
              "          '<a target=\"_blank\" href=https://colab.research.google.com/notebooks/data_table.ipynb>data table notebook</a>'\n",
              "          + ' to learn more about interactive tables.';\n",
              "        element.innerHTML = '';\n",
              "        dataTable['output_type'] = 'display_data';\n",
              "        await google.colab.output.renderOutput(dataTable, element);\n",
              "        const docLink = document.createElement('div');\n",
              "        docLink.innerHTML = docLinkHtml;\n",
              "        element.appendChild(docLink);\n",
              "      }\n",
              "    </script>\n",
              "  </div>\n",
              "\n",
              "\n",
              "    <div id=\"df-97b4b251-6e54-4701-8e49-af90e51057e6\">\n",
              "      <button class=\"colab-df-quickchart\" onclick=\"quickchart('df-97b4b251-6e54-4701-8e49-af90e51057e6')\"\n",
              "                title=\"Suggest charts\"\n",
              "                style=\"display:none;\">\n",
              "\n",
              "<svg xmlns=\"http://www.w3.org/2000/svg\" height=\"24px\"viewBox=\"0 0 24 24\"\n",
              "     width=\"24px\">\n",
              "    <g>\n",
              "        <path d=\"M19 3H5c-1.1 0-2 .9-2 2v14c0 1.1.9 2 2 2h14c1.1 0 2-.9 2-2V5c0-1.1-.9-2-2-2zM9 17H7v-7h2v7zm4 0h-2V7h2v10zm4 0h-2v-4h2v4z\"/>\n",
              "    </g>\n",
              "</svg>\n",
              "      </button>\n",
              "\n",
              "<style>\n",
              "  .colab-df-quickchart {\n",
              "      --bg-color: #E8F0FE;\n",
              "      --fill-color: #1967D2;\n",
              "      --hover-bg-color: #E2EBFA;\n",
              "      --hover-fill-color: #174EA6;\n",
              "      --disabled-fill-color: #AAA;\n",
              "      --disabled-bg-color: #DDD;\n",
              "  }\n",
              "\n",
              "  [theme=dark] .colab-df-quickchart {\n",
              "      --bg-color: #3B4455;\n",
              "      --fill-color: #D2E3FC;\n",
              "      --hover-bg-color: #434B5C;\n",
              "      --hover-fill-color: #FFFFFF;\n",
              "      --disabled-bg-color: #3B4455;\n",
              "      --disabled-fill-color: #666;\n",
              "  }\n",
              "\n",
              "  .colab-df-quickchart {\n",
              "    background-color: var(--bg-color);\n",
              "    border: none;\n",
              "    border-radius: 50%;\n",
              "    cursor: pointer;\n",
              "    display: none;\n",
              "    fill: var(--fill-color);\n",
              "    height: 32px;\n",
              "    padding: 0;\n",
              "    width: 32px;\n",
              "  }\n",
              "\n",
              "  .colab-df-quickchart:hover {\n",
              "    background-color: var(--hover-bg-color);\n",
              "    box-shadow: 0 1px 2px rgba(60, 64, 67, 0.3), 0 1px 3px 1px rgba(60, 64, 67, 0.15);\n",
              "    fill: var(--button-hover-fill-color);\n",
              "  }\n",
              "\n",
              "  .colab-df-quickchart-complete:disabled,\n",
              "  .colab-df-quickchart-complete:disabled:hover {\n",
              "    background-color: var(--disabled-bg-color);\n",
              "    fill: var(--disabled-fill-color);\n",
              "    box-shadow: none;\n",
              "  }\n",
              "\n",
              "  .colab-df-spinner {\n",
              "    border: 2px solid var(--fill-color);\n",
              "    border-color: transparent;\n",
              "    border-bottom-color: var(--fill-color);\n",
              "    animation:\n",
              "      spin 1s steps(1) infinite;\n",
              "  }\n",
              "\n",
              "  @keyframes spin {\n",
              "    0% {\n",
              "      border-color: transparent;\n",
              "      border-bottom-color: var(--fill-color);\n",
              "      border-left-color: var(--fill-color);\n",
              "    }\n",
              "    20% {\n",
              "      border-color: transparent;\n",
              "      border-left-color: var(--fill-color);\n",
              "      border-top-color: var(--fill-color);\n",
              "    }\n",
              "    30% {\n",
              "      border-color: transparent;\n",
              "      border-left-color: var(--fill-color);\n",
              "      border-top-color: var(--fill-color);\n",
              "      border-right-color: var(--fill-color);\n",
              "    }\n",
              "    40% {\n",
              "      border-color: transparent;\n",
              "      border-right-color: var(--fill-color);\n",
              "      border-top-color: var(--fill-color);\n",
              "    }\n",
              "    60% {\n",
              "      border-color: transparent;\n",
              "      border-right-color: var(--fill-color);\n",
              "    }\n",
              "    80% {\n",
              "      border-color: transparent;\n",
              "      border-right-color: var(--fill-color);\n",
              "      border-bottom-color: var(--fill-color);\n",
              "    }\n",
              "    90% {\n",
              "      border-color: transparent;\n",
              "      border-bottom-color: var(--fill-color);\n",
              "    }\n",
              "  }\n",
              "</style>\n",
              "\n",
              "      <script>\n",
              "        async function quickchart(key) {\n",
              "          const quickchartButtonEl =\n",
              "            document.querySelector('#' + key + ' button');\n",
              "          quickchartButtonEl.disabled = true;  // To prevent multiple clicks.\n",
              "          quickchartButtonEl.classList.add('colab-df-spinner');\n",
              "          try {\n",
              "            const charts = await google.colab.kernel.invokeFunction(\n",
              "                'suggestCharts', [key], {});\n",
              "          } catch (error) {\n",
              "            console.error('Error during call to suggestCharts:', error);\n",
              "          }\n",
              "          quickchartButtonEl.classList.remove('colab-df-spinner');\n",
              "          quickchartButtonEl.classList.add('colab-df-quickchart-complete');\n",
              "        }\n",
              "        (() => {\n",
              "          let quickchartButtonEl =\n",
              "            document.querySelector('#df-97b4b251-6e54-4701-8e49-af90e51057e6 button');\n",
              "          quickchartButtonEl.style.display =\n",
              "            google.colab.kernel.accessAllowed ? 'block' : 'none';\n",
              "        })();\n",
              "      </script>\n",
              "    </div>\n",
              "\n",
              "  <div id=\"id_82d93b33-0c52-49b5-b557-7a28ec535bcc\">\n",
              "    <style>\n",
              "      .colab-df-generate {\n",
              "        background-color: #E8F0FE;\n",
              "        border: none;\n",
              "        border-radius: 50%;\n",
              "        cursor: pointer;\n",
              "        display: none;\n",
              "        fill: #1967D2;\n",
              "        height: 32px;\n",
              "        padding: 0 0 0 0;\n",
              "        width: 32px;\n",
              "      }\n",
              "\n",
              "      .colab-df-generate:hover {\n",
              "        background-color: #E2EBFA;\n",
              "        box-shadow: 0px 1px 2px rgba(60, 64, 67, 0.3), 0px 1px 3px 1px rgba(60, 64, 67, 0.15);\n",
              "        fill: #174EA6;\n",
              "      }\n",
              "\n",
              "      [theme=dark] .colab-df-generate {\n",
              "        background-color: #3B4455;\n",
              "        fill: #D2E3FC;\n",
              "      }\n",
              "\n",
              "      [theme=dark] .colab-df-generate:hover {\n",
              "        background-color: #434B5C;\n",
              "        box-shadow: 0px 1px 3px 1px rgba(0, 0, 0, 0.15);\n",
              "        filter: drop-shadow(0px 1px 2px rgba(0, 0, 0, 0.3));\n",
              "        fill: #FFFFFF;\n",
              "      }\n",
              "    </style>\n",
              "    <button class=\"colab-df-generate\" onclick=\"generateWithVariable('df')\"\n",
              "            title=\"Generate code using this dataframe.\"\n",
              "            style=\"display:none;\">\n",
              "\n",
              "  <svg xmlns=\"http://www.w3.org/2000/svg\" height=\"24px\"viewBox=\"0 0 24 24\"\n",
              "       width=\"24px\">\n",
              "    <path d=\"M7,19H8.4L18.45,9,17,7.55,7,17.6ZM5,21V16.75L18.45,3.32a2,2,0,0,1,2.83,0l1.4,1.43a1.91,1.91,0,0,1,.58,1.4,1.91,1.91,0,0,1-.58,1.4L9.25,21ZM18.45,9,17,7.55Zm-12,3A5.31,5.31,0,0,0,4.9,8.1,5.31,5.31,0,0,0,1,6.5,5.31,5.31,0,0,0,4.9,4.9,5.31,5.31,0,0,0,6.5,1,5.31,5.31,0,0,0,8.1,4.9,5.31,5.31,0,0,0,12,6.5,5.46,5.46,0,0,0,6.5,12Z\"/>\n",
              "  </svg>\n",
              "    </button>\n",
              "    <script>\n",
              "      (() => {\n",
              "      const buttonEl =\n",
              "        document.querySelector('#id_82d93b33-0c52-49b5-b557-7a28ec535bcc button.colab-df-generate');\n",
              "      buttonEl.style.display =\n",
              "        google.colab.kernel.accessAllowed ? 'block' : 'none';\n",
              "\n",
              "      buttonEl.onclick = () => {\n",
              "        google.colab.notebook.generateWithVariable('df');\n",
              "      }\n",
              "      })();\n",
              "    </script>\n",
              "  </div>\n",
              "\n",
              "    </div>\n",
              "  </div>\n"
            ],
            "application/vnd.google.colaboratory.intrinsic+json": {
              "type": "dataframe",
              "variable_name": "df",
              "summary": "{\n  \"name\": \"df\",\n  \"rows\": 266,\n  \"fields\": [\n    {\n      \"column\": \"index\",\n      \"properties\": {\n        \"dtype\": \"number\",\n        \"std\": 35,\n        \"min\": 0,\n        \"max\": 121,\n        \"num_unique_values\": 122,\n        \"samples\": [\n          18,\n          45,\n          47\n        ],\n        \"semantic_type\": \"\",\n        \"description\": \"\"\n      }\n    },\n    {\n      \"column\": \"CourseName\",\n      \"properties\": {\n        \"dtype\": \"category\",\n        \"num_unique_values\": 70,\n        \"samples\": [\n          \"Food Composition and Information\",\n          \"Risk Assessment (Pest)\",\n          \"Post-slaughter traceability of Meat (FVO)\"\n        ],\n        \"semantic_type\": \"\",\n        \"description\": \"\"\n      }\n    },\n    {\n      \"column\": \"DateFrom\",\n      \"properties\": {\n        \"dtype\": \"object\",\n        \"num_unique_values\": 138,\n        \"samples\": [\n          \"2016-05-16\",\n          \"2016-09-05\",\n          \"2015-03-16\"\n        ],\n        \"semantic_type\": \"\",\n        \"description\": \"\"\n      }\n    },\n    {\n      \"column\": \"DateTo\",\n      \"properties\": {\n        \"dtype\": \"object\",\n        \"num_unique_values\": 114,\n        \"samples\": [\n          \"2016-06-10\",\n          \"2015-02-06\",\n          \"2015-09-17\"\n        ],\n        \"semantic_type\": \"\",\n        \"description\": \"\"\n      }\n    },\n    {\n      \"column\": \"Attendees\",\n      \"properties\": {\n        \"dtype\": \"number\",\n        \"std\": 1,\n        \"min\": 1,\n        \"max\": 13,\n        \"num_unique_values\": 7,\n        \"samples\": [\n          1,\n          2,\n          6\n        ],\n        \"semantic_type\": \"\",\n        \"description\": \"\"\n      }\n    },\n    {\n      \"column\": \"city\",\n      \"properties\": {\n        \"dtype\": \"category\",\n        \"num_unique_values\": 63,\n        \"samples\": [\n          \"leipzig\",\n          \"turin\",\n          \"lisbon\"\n        ],\n        \"semantic_type\": \"\",\n        \"description\": \"\"\n      }\n    },\n    {\n      \"column\": \"country\",\n      \"properties\": {\n        \"dtype\": \"category\",\n        \"num_unique_values\": 24,\n        \"samples\": [\n          \"Poland\",\n          \"Croatia\",\n          \"Portugal\"\n        ],\n        \"semantic_type\": \"\",\n        \"description\": \"\"\n      }\n    },\n    {\n      \"column\": \"Country\",\n      \"properties\": {\n        \"dtype\": \"category\",\n        \"num_unique_values\": 24,\n        \"samples\": [\n          \"Poland\",\n          \"Croatia\",\n          \"Portugal\"\n        ],\n        \"semantic_type\": \"\",\n        \"description\": \"\"\n      }\n    },\n    {\n      \"column\": \"Official and national Languages\",\n      \"properties\": {\n        \"dtype\": \"category\",\n        \"num_unique_values\": 24,\n        \"samples\": [\n          \"Polish\",\n          \"Croatian\",\n          \"Portuguese\"\n        ],\n        \"semantic_type\": \"\",\n        \"description\": \"\"\n      }\n    }\n  ]\n}"
            }
          },
          "metadata": {},
          "execution_count": 304
        }
      ]
    },
    {
      "cell_type": "markdown",
      "metadata": {
        "id": "Gus8ilgIYkLV"
      },
      "source": [
        ">Drop the ***Country*** column from df."
      ]
    },
    {
      "cell_type": "code",
      "execution_count": 307,
      "metadata": {
        "id": "xtRZ_4ogYkLV",
        "outputId": "52e84f04-5d7d-4d96-cada-e0162ea6fb4b",
        "colab": {
          "base_uri": "https://localhost:8080/",
          "height": 649
        }
      },
      "outputs": [
        {
          "output_type": "execute_result",
          "data": {
            "text/plain": [
              "     index                                         CourseName    DateFrom  \\\n",
              "0        0                             Risk Assessment (Pest)  2015-01-12   \n",
              "1        1                                    Organic Farming  2015-01-19   \n",
              "2        2  Prevention Control and Eradication of Transmis...  2015-01-20   \n",
              "3        3                               Contingency Planning  2015-01-26   \n",
              "4        4                                              HACCP  2015-02-02   \n",
              "..     ...                                                ...         ...   \n",
              "261    111                               Contingency Planning  2017-03-06   \n",
              "262    112                          Audit B1 - Standard Level  2017-03-06   \n",
              "263    113                                            Audit A  2017-03-20   \n",
              "264    114                       Food Hygiene and Flexibility  2017-03-20   \n",
              "265    115  Animal Health and Disease Prevention for Bees ...  2017-03-28   \n",
              "\n",
              "         DateTo  Attendees        city         country  \\\n",
              "0    2015-01-16          1      lisbon        Portugal   \n",
              "1    2015-01-22          2     bristol  United Kingdom   \n",
              "2    2015-01-23          2   ljubljana        Slovenia   \n",
              "3    2015-01-30          2       padua           Italy   \n",
              "4    2015-02-06          2        rome           Italy   \n",
              "..          ...        ...         ...             ...   \n",
              "261  2017-03-10          3      venice           Italy   \n",
              "262  2017-03-10          2    valencia           Spain   \n",
              "263  2017-03-24          1  bratislava        Slovakia   \n",
              "264  2017-03-24          2      zagreb         Croatia   \n",
              "265  2017-03-31          2     antwerp         Belgium   \n",
              "\n",
              "     Official and national Languages  \n",
              "0                         Portuguese  \n",
              "1                            English  \n",
              "2                          Slovenian  \n",
              "3                            Italian  \n",
              "4                            Italian  \n",
              "..                               ...  \n",
              "261                          Italian  \n",
              "262  Spanish/Catalan/Galician/Basque  \n",
              "263                           Slovak  \n",
              "264                         Croatian  \n",
              "265              Dutch/French/German  \n",
              "\n",
              "[266 rows x 8 columns]"
            ],
            "text/html": [
              "\n",
              "  <div id=\"df-ce832a51-a17f-48c8-bf5d-28c19e91b678\" class=\"colab-df-container\">\n",
              "    <div>\n",
              "<style scoped>\n",
              "    .dataframe tbody tr th:only-of-type {\n",
              "        vertical-align: middle;\n",
              "    }\n",
              "\n",
              "    .dataframe tbody tr th {\n",
              "        vertical-align: top;\n",
              "    }\n",
              "\n",
              "    .dataframe thead th {\n",
              "        text-align: right;\n",
              "    }\n",
              "</style>\n",
              "<table border=\"1\" class=\"dataframe\">\n",
              "  <thead>\n",
              "    <tr style=\"text-align: right;\">\n",
              "      <th></th>\n",
              "      <th>index</th>\n",
              "      <th>CourseName</th>\n",
              "      <th>DateFrom</th>\n",
              "      <th>DateTo</th>\n",
              "      <th>Attendees</th>\n",
              "      <th>city</th>\n",
              "      <th>country</th>\n",
              "      <th>Official and national Languages</th>\n",
              "    </tr>\n",
              "  </thead>\n",
              "  <tbody>\n",
              "    <tr>\n",
              "      <th>0</th>\n",
              "      <td>0</td>\n",
              "      <td>Risk Assessment (Pest)</td>\n",
              "      <td>2015-01-12</td>\n",
              "      <td>2015-01-16</td>\n",
              "      <td>1</td>\n",
              "      <td>lisbon</td>\n",
              "      <td>Portugal</td>\n",
              "      <td>Portuguese</td>\n",
              "    </tr>\n",
              "    <tr>\n",
              "      <th>1</th>\n",
              "      <td>1</td>\n",
              "      <td>Organic Farming</td>\n",
              "      <td>2015-01-19</td>\n",
              "      <td>2015-01-22</td>\n",
              "      <td>2</td>\n",
              "      <td>bristol</td>\n",
              "      <td>United Kingdom</td>\n",
              "      <td>English</td>\n",
              "    </tr>\n",
              "    <tr>\n",
              "      <th>2</th>\n",
              "      <td>2</td>\n",
              "      <td>Prevention Control and Eradication of Transmis...</td>\n",
              "      <td>2015-01-20</td>\n",
              "      <td>2015-01-23</td>\n",
              "      <td>2</td>\n",
              "      <td>ljubljana</td>\n",
              "      <td>Slovenia</td>\n",
              "      <td>Slovenian</td>\n",
              "    </tr>\n",
              "    <tr>\n",
              "      <th>3</th>\n",
              "      <td>3</td>\n",
              "      <td>Contingency Planning</td>\n",
              "      <td>2015-01-26</td>\n",
              "      <td>2015-01-30</td>\n",
              "      <td>2</td>\n",
              "      <td>padua</td>\n",
              "      <td>Italy</td>\n",
              "      <td>Italian</td>\n",
              "    </tr>\n",
              "    <tr>\n",
              "      <th>4</th>\n",
              "      <td>4</td>\n",
              "      <td>HACCP</td>\n",
              "      <td>2015-02-02</td>\n",
              "      <td>2015-02-06</td>\n",
              "      <td>2</td>\n",
              "      <td>rome</td>\n",
              "      <td>Italy</td>\n",
              "      <td>Italian</td>\n",
              "    </tr>\n",
              "    <tr>\n",
              "      <th>...</th>\n",
              "      <td>...</td>\n",
              "      <td>...</td>\n",
              "      <td>...</td>\n",
              "      <td>...</td>\n",
              "      <td>...</td>\n",
              "      <td>...</td>\n",
              "      <td>...</td>\n",
              "      <td>...</td>\n",
              "    </tr>\n",
              "    <tr>\n",
              "      <th>261</th>\n",
              "      <td>111</td>\n",
              "      <td>Contingency Planning</td>\n",
              "      <td>2017-03-06</td>\n",
              "      <td>2017-03-10</td>\n",
              "      <td>3</td>\n",
              "      <td>venice</td>\n",
              "      <td>Italy</td>\n",
              "      <td>Italian</td>\n",
              "    </tr>\n",
              "    <tr>\n",
              "      <th>262</th>\n",
              "      <td>112</td>\n",
              "      <td>Audit B1 - Standard Level</td>\n",
              "      <td>2017-03-06</td>\n",
              "      <td>2017-03-10</td>\n",
              "      <td>2</td>\n",
              "      <td>valencia</td>\n",
              "      <td>Spain</td>\n",
              "      <td>Spanish/Catalan/Galician/Basque</td>\n",
              "    </tr>\n",
              "    <tr>\n",
              "      <th>263</th>\n",
              "      <td>113</td>\n",
              "      <td>Audit A</td>\n",
              "      <td>2017-03-20</td>\n",
              "      <td>2017-03-24</td>\n",
              "      <td>1</td>\n",
              "      <td>bratislava</td>\n",
              "      <td>Slovakia</td>\n",
              "      <td>Slovak</td>\n",
              "    </tr>\n",
              "    <tr>\n",
              "      <th>264</th>\n",
              "      <td>114</td>\n",
              "      <td>Food Hygiene and Flexibility</td>\n",
              "      <td>2017-03-20</td>\n",
              "      <td>2017-03-24</td>\n",
              "      <td>2</td>\n",
              "      <td>zagreb</td>\n",
              "      <td>Croatia</td>\n",
              "      <td>Croatian</td>\n",
              "    </tr>\n",
              "    <tr>\n",
              "      <th>265</th>\n",
              "      <td>115</td>\n",
              "      <td>Animal Health and Disease Prevention for Bees ...</td>\n",
              "      <td>2017-03-28</td>\n",
              "      <td>2017-03-31</td>\n",
              "      <td>2</td>\n",
              "      <td>antwerp</td>\n",
              "      <td>Belgium</td>\n",
              "      <td>Dutch/French/German</td>\n",
              "    </tr>\n",
              "  </tbody>\n",
              "</table>\n",
              "<p>266 rows × 8 columns</p>\n",
              "</div>\n",
              "    <div class=\"colab-df-buttons\">\n",
              "\n",
              "  <div class=\"colab-df-container\">\n",
              "    <button class=\"colab-df-convert\" onclick=\"convertToInteractive('df-ce832a51-a17f-48c8-bf5d-28c19e91b678')\"\n",
              "            title=\"Convert this dataframe to an interactive table.\"\n",
              "            style=\"display:none;\">\n",
              "\n",
              "  <svg xmlns=\"http://www.w3.org/2000/svg\" height=\"24px\" viewBox=\"0 -960 960 960\">\n",
              "    <path d=\"M120-120v-720h720v720H120Zm60-500h600v-160H180v160Zm220 220h160v-160H400v160Zm0 220h160v-160H400v160ZM180-400h160v-160H180v160Zm440 0h160v-160H620v160ZM180-180h160v-160H180v160Zm440 0h160v-160H620v160Z\"/>\n",
              "  </svg>\n",
              "    </button>\n",
              "\n",
              "  <style>\n",
              "    .colab-df-container {\n",
              "      display:flex;\n",
              "      gap: 12px;\n",
              "    }\n",
              "\n",
              "    .colab-df-convert {\n",
              "      background-color: #E8F0FE;\n",
              "      border: none;\n",
              "      border-radius: 50%;\n",
              "      cursor: pointer;\n",
              "      display: none;\n",
              "      fill: #1967D2;\n",
              "      height: 32px;\n",
              "      padding: 0 0 0 0;\n",
              "      width: 32px;\n",
              "    }\n",
              "\n",
              "    .colab-df-convert:hover {\n",
              "      background-color: #E2EBFA;\n",
              "      box-shadow: 0px 1px 2px rgba(60, 64, 67, 0.3), 0px 1px 3px 1px rgba(60, 64, 67, 0.15);\n",
              "      fill: #174EA6;\n",
              "    }\n",
              "\n",
              "    .colab-df-buttons div {\n",
              "      margin-bottom: 4px;\n",
              "    }\n",
              "\n",
              "    [theme=dark] .colab-df-convert {\n",
              "      background-color: #3B4455;\n",
              "      fill: #D2E3FC;\n",
              "    }\n",
              "\n",
              "    [theme=dark] .colab-df-convert:hover {\n",
              "      background-color: #434B5C;\n",
              "      box-shadow: 0px 1px 3px 1px rgba(0, 0, 0, 0.15);\n",
              "      filter: drop-shadow(0px 1px 2px rgba(0, 0, 0, 0.3));\n",
              "      fill: #FFFFFF;\n",
              "    }\n",
              "  </style>\n",
              "\n",
              "    <script>\n",
              "      const buttonEl =\n",
              "        document.querySelector('#df-ce832a51-a17f-48c8-bf5d-28c19e91b678 button.colab-df-convert');\n",
              "      buttonEl.style.display =\n",
              "        google.colab.kernel.accessAllowed ? 'block' : 'none';\n",
              "\n",
              "      async function convertToInteractive(key) {\n",
              "        const element = document.querySelector('#df-ce832a51-a17f-48c8-bf5d-28c19e91b678');\n",
              "        const dataTable =\n",
              "          await google.colab.kernel.invokeFunction('convertToInteractive',\n",
              "                                                    [key], {});\n",
              "        if (!dataTable) return;\n",
              "\n",
              "        const docLinkHtml = 'Like what you see? Visit the ' +\n",
              "          '<a target=\"_blank\" href=https://colab.research.google.com/notebooks/data_table.ipynb>data table notebook</a>'\n",
              "          + ' to learn more about interactive tables.';\n",
              "        element.innerHTML = '';\n",
              "        dataTable['output_type'] = 'display_data';\n",
              "        await google.colab.output.renderOutput(dataTable, element);\n",
              "        const docLink = document.createElement('div');\n",
              "        docLink.innerHTML = docLinkHtml;\n",
              "        element.appendChild(docLink);\n",
              "      }\n",
              "    </script>\n",
              "  </div>\n",
              "\n",
              "\n",
              "    <div id=\"df-ea4929a0-dbcf-4b0e-9b75-765e3b02e9c5\">\n",
              "      <button class=\"colab-df-quickchart\" onclick=\"quickchart('df-ea4929a0-dbcf-4b0e-9b75-765e3b02e9c5')\"\n",
              "                title=\"Suggest charts\"\n",
              "                style=\"display:none;\">\n",
              "\n",
              "<svg xmlns=\"http://www.w3.org/2000/svg\" height=\"24px\"viewBox=\"0 0 24 24\"\n",
              "     width=\"24px\">\n",
              "    <g>\n",
              "        <path d=\"M19 3H5c-1.1 0-2 .9-2 2v14c0 1.1.9 2 2 2h14c1.1 0 2-.9 2-2V5c0-1.1-.9-2-2-2zM9 17H7v-7h2v7zm4 0h-2V7h2v10zm4 0h-2v-4h2v4z\"/>\n",
              "    </g>\n",
              "</svg>\n",
              "      </button>\n",
              "\n",
              "<style>\n",
              "  .colab-df-quickchart {\n",
              "      --bg-color: #E8F0FE;\n",
              "      --fill-color: #1967D2;\n",
              "      --hover-bg-color: #E2EBFA;\n",
              "      --hover-fill-color: #174EA6;\n",
              "      --disabled-fill-color: #AAA;\n",
              "      --disabled-bg-color: #DDD;\n",
              "  }\n",
              "\n",
              "  [theme=dark] .colab-df-quickchart {\n",
              "      --bg-color: #3B4455;\n",
              "      --fill-color: #D2E3FC;\n",
              "      --hover-bg-color: #434B5C;\n",
              "      --hover-fill-color: #FFFFFF;\n",
              "      --disabled-bg-color: #3B4455;\n",
              "      --disabled-fill-color: #666;\n",
              "  }\n",
              "\n",
              "  .colab-df-quickchart {\n",
              "    background-color: var(--bg-color);\n",
              "    border: none;\n",
              "    border-radius: 50%;\n",
              "    cursor: pointer;\n",
              "    display: none;\n",
              "    fill: var(--fill-color);\n",
              "    height: 32px;\n",
              "    padding: 0;\n",
              "    width: 32px;\n",
              "  }\n",
              "\n",
              "  .colab-df-quickchart:hover {\n",
              "    background-color: var(--hover-bg-color);\n",
              "    box-shadow: 0 1px 2px rgba(60, 64, 67, 0.3), 0 1px 3px 1px rgba(60, 64, 67, 0.15);\n",
              "    fill: var(--button-hover-fill-color);\n",
              "  }\n",
              "\n",
              "  .colab-df-quickchart-complete:disabled,\n",
              "  .colab-df-quickchart-complete:disabled:hover {\n",
              "    background-color: var(--disabled-bg-color);\n",
              "    fill: var(--disabled-fill-color);\n",
              "    box-shadow: none;\n",
              "  }\n",
              "\n",
              "  .colab-df-spinner {\n",
              "    border: 2px solid var(--fill-color);\n",
              "    border-color: transparent;\n",
              "    border-bottom-color: var(--fill-color);\n",
              "    animation:\n",
              "      spin 1s steps(1) infinite;\n",
              "  }\n",
              "\n",
              "  @keyframes spin {\n",
              "    0% {\n",
              "      border-color: transparent;\n",
              "      border-bottom-color: var(--fill-color);\n",
              "      border-left-color: var(--fill-color);\n",
              "    }\n",
              "    20% {\n",
              "      border-color: transparent;\n",
              "      border-left-color: var(--fill-color);\n",
              "      border-top-color: var(--fill-color);\n",
              "    }\n",
              "    30% {\n",
              "      border-color: transparent;\n",
              "      border-left-color: var(--fill-color);\n",
              "      border-top-color: var(--fill-color);\n",
              "      border-right-color: var(--fill-color);\n",
              "    }\n",
              "    40% {\n",
              "      border-color: transparent;\n",
              "      border-right-color: var(--fill-color);\n",
              "      border-top-color: var(--fill-color);\n",
              "    }\n",
              "    60% {\n",
              "      border-color: transparent;\n",
              "      border-right-color: var(--fill-color);\n",
              "    }\n",
              "    80% {\n",
              "      border-color: transparent;\n",
              "      border-right-color: var(--fill-color);\n",
              "      border-bottom-color: var(--fill-color);\n",
              "    }\n",
              "    90% {\n",
              "      border-color: transparent;\n",
              "      border-bottom-color: var(--fill-color);\n",
              "    }\n",
              "  }\n",
              "</style>\n",
              "\n",
              "      <script>\n",
              "        async function quickchart(key) {\n",
              "          const quickchartButtonEl =\n",
              "            document.querySelector('#' + key + ' button');\n",
              "          quickchartButtonEl.disabled = true;  // To prevent multiple clicks.\n",
              "          quickchartButtonEl.classList.add('colab-df-spinner');\n",
              "          try {\n",
              "            const charts = await google.colab.kernel.invokeFunction(\n",
              "                'suggestCharts', [key], {});\n",
              "          } catch (error) {\n",
              "            console.error('Error during call to suggestCharts:', error);\n",
              "          }\n",
              "          quickchartButtonEl.classList.remove('colab-df-spinner');\n",
              "          quickchartButtonEl.classList.add('colab-df-quickchart-complete');\n",
              "        }\n",
              "        (() => {\n",
              "          let quickchartButtonEl =\n",
              "            document.querySelector('#df-ea4929a0-dbcf-4b0e-9b75-765e3b02e9c5 button');\n",
              "          quickchartButtonEl.style.display =\n",
              "            google.colab.kernel.accessAllowed ? 'block' : 'none';\n",
              "        })();\n",
              "      </script>\n",
              "    </div>\n",
              "\n",
              "    </div>\n",
              "  </div>\n"
            ],
            "application/vnd.google.colaboratory.intrinsic+json": {
              "type": "dataframe",
              "summary": "{\n  \"name\": \"df\",\n  \"rows\": 266,\n  \"fields\": [\n    {\n      \"column\": \"index\",\n      \"properties\": {\n        \"dtype\": \"number\",\n        \"std\": 35,\n        \"min\": 0,\n        \"max\": 121,\n        \"num_unique_values\": 122,\n        \"samples\": [\n          18,\n          45,\n          47\n        ],\n        \"semantic_type\": \"\",\n        \"description\": \"\"\n      }\n    },\n    {\n      \"column\": \"CourseName\",\n      \"properties\": {\n        \"dtype\": \"category\",\n        \"num_unique_values\": 70,\n        \"samples\": [\n          \"Food Composition and Information\",\n          \"Risk Assessment (Pest)\",\n          \"Post-slaughter traceability of Meat (FVO)\"\n        ],\n        \"semantic_type\": \"\",\n        \"description\": \"\"\n      }\n    },\n    {\n      \"column\": \"DateFrom\",\n      \"properties\": {\n        \"dtype\": \"object\",\n        \"num_unique_values\": 138,\n        \"samples\": [\n          \"2016-05-16\",\n          \"2016-09-05\",\n          \"2015-03-16\"\n        ],\n        \"semantic_type\": \"\",\n        \"description\": \"\"\n      }\n    },\n    {\n      \"column\": \"DateTo\",\n      \"properties\": {\n        \"dtype\": \"object\",\n        \"num_unique_values\": 114,\n        \"samples\": [\n          \"2016-06-10\",\n          \"2015-02-06\",\n          \"2015-09-17\"\n        ],\n        \"semantic_type\": \"\",\n        \"description\": \"\"\n      }\n    },\n    {\n      \"column\": \"Attendees\",\n      \"properties\": {\n        \"dtype\": \"number\",\n        \"std\": 1,\n        \"min\": 1,\n        \"max\": 13,\n        \"num_unique_values\": 7,\n        \"samples\": [\n          1,\n          2,\n          6\n        ],\n        \"semantic_type\": \"\",\n        \"description\": \"\"\n      }\n    },\n    {\n      \"column\": \"city\",\n      \"properties\": {\n        \"dtype\": \"category\",\n        \"num_unique_values\": 63,\n        \"samples\": [\n          \"leipzig\",\n          \"turin\",\n          \"lisbon\"\n        ],\n        \"semantic_type\": \"\",\n        \"description\": \"\"\n      }\n    },\n    {\n      \"column\": \"country\",\n      \"properties\": {\n        \"dtype\": \"category\",\n        \"num_unique_values\": 24,\n        \"samples\": [\n          \"Poland\",\n          \"Croatia\",\n          \"Portugal\"\n        ],\n        \"semantic_type\": \"\",\n        \"description\": \"\"\n      }\n    },\n    {\n      \"column\": \"Official and national Languages\",\n      \"properties\": {\n        \"dtype\": \"category\",\n        \"num_unique_values\": 24,\n        \"samples\": [\n          \"Polish\",\n          \"Croatian\",\n          \"Portuguese\"\n        ],\n        \"semantic_type\": \"\",\n        \"description\": \"\"\n      }\n    }\n  ]\n}"
            }
          },
          "metadata": {},
          "execution_count": 307
        }
      ],
      "source": [
        "df = df.drop(axis = 1, labels = 'Country')"
      ]
    },
    {
      "cell_type": "code",
      "execution_count": 308,
      "metadata": {
        "id": "pCgX_l0hYkLV",
        "outputId": "1c61add2-742f-4121-c1d7-3f8c6d33a1f1",
        "colab": {
          "base_uri": "https://localhost:8080/"
        }
      },
      "outputs": [
        {
          "output_type": "stream",
          "name": "stdout",
          "text": [
            "df = df.drop(\"Country\", axis=1)\n",
            "\n",
            "# N.B. You can only run this cell once! If you try run it again, it will throw an error!\n",
            "#      Why? Because if you drop the Country column, it will be removed...so you can't\n",
            "#      drop it a second time as the column isn't there to drop!"
          ]
        }
      ],
      "source": [
        "!cat ../solutions/05_38.py"
      ]
    },
    {
      "cell_type": "markdown",
      "metadata": {
        "id": "vopZWeKGYkLV"
      },
      "source": [
        "---\n",
        "\n",
        "<div class=\"alert alert-block alert-warning\" style=\"padding: 0px; padding-left: 20px; padding-top: 5px;\"><h2 style=\"color: #301E40\">\n",
        "Date time\n",
        "</h2><br>\n",
        "</div>"
      ]
    },
    {
      "cell_type": "markdown",
      "metadata": {
        "id": "d6n00SbmYkLV"
      },
      "source": [
        ">Check the dtype of the ***DateFrom***."
      ]
    },
    {
      "cell_type": "code",
      "execution_count": 309,
      "metadata": {
        "jupyter": {
          "outputs_hidden": false
        },
        "id": "VskTILrMYkLV",
        "outputId": "632e29ae-5a22-4d60-dc3b-ae2fa65dc757",
        "colab": {
          "base_uri": "https://localhost:8080/"
        }
      },
      "outputs": [
        {
          "output_type": "stream",
          "name": "stdout",
          "text": [
            "<class 'pandas.core.series.Series'>\n",
            "RangeIndex: 266 entries, 0 to 265\n",
            "Series name: DateFrom\n",
            "Non-Null Count  Dtype \n",
            "--------------  ----- \n",
            "266 non-null    object\n",
            "dtypes: object(1)\n",
            "memory usage: 2.2+ KB\n"
          ]
        }
      ],
      "source": [
        "df['DateFrom'].info()"
      ]
    },
    {
      "cell_type": "code",
      "source": [
        "df['DateFrom'].dtype"
      ],
      "metadata": {
        "id": "VEWZgS-IJ3wJ",
        "outputId": "d260b9b4-447a-4740-dfb1-3a916c75a65f",
        "colab": {
          "base_uri": "https://localhost:8080/"
        }
      },
      "execution_count": 313,
      "outputs": [
        {
          "output_type": "execute_result",
          "data": {
            "text/plain": [
              "dtype('O')"
            ]
          },
          "metadata": {},
          "execution_count": 313
        }
      ]
    },
    {
      "cell_type": "code",
      "execution_count": 310,
      "metadata": {
        "jupyter": {
          "outputs_hidden": false
        },
        "id": "i8DxJ6iVYkLV",
        "outputId": "0538b34f-ce4a-4ac5-dd76-bee84ece8400",
        "colab": {
          "base_uri": "https://localhost:8080/"
        }
      },
      "outputs": [
        {
          "output_type": "stream",
          "name": "stdout",
          "text": [
            "df[\"DateFrom\"].dtype"
          ]
        }
      ],
      "source": [
        "!cat ../solutions/05_39.py"
      ]
    },
    {
      "cell_type": "markdown",
      "metadata": {
        "id": "xAgA6511YkLW"
      },
      "source": [
        "***DateFrom*** and ***DateTo*** are objects.  \n",
        ">Convert these two columns to ***datetime*** format."
      ]
    },
    {
      "cell_type": "code",
      "execution_count": 314,
      "metadata": {
        "jupyter": {
          "outputs_hidden": false
        },
        "id": "D6yRhj8FYkLW",
        "outputId": "103407e0-078c-4bd2-ae27-6391792782f7",
        "colab": {
          "base_uri": "https://localhost:8080/",
          "height": 141
        }
      },
      "outputs": [
        {
          "output_type": "error",
          "ename": "TypeError",
          "evalue": "'Series' object cannot be interpreted as an integer",
          "traceback": [
            "\u001b[0;31m---------------------------------------------------------------------------\u001b[0m",
            "\u001b[0;31mTypeError\u001b[0m                                 Traceback (most recent call last)",
            "\u001b[0;32m<ipython-input-314-f6b860963996>\u001b[0m in \u001b[0;36m<cell line: 0>\u001b[0;34m()\u001b[0m\n\u001b[0;32m----> 1\u001b[0;31m \u001b[0mdf\u001b[0m\u001b[0;34m[\u001b[0m\u001b[0;34m'DateFrom'\u001b[0m\u001b[0;34m]\u001b[0m \u001b[0;34m=\u001b[0m \u001b[0mdatetime\u001b[0m\u001b[0;34m.\u001b[0m\u001b[0mdatetime\u001b[0m\u001b[0;34m(\u001b[0m\u001b[0mdf\u001b[0m\u001b[0;34m[\u001b[0m\u001b[0;34m'DateFrom'\u001b[0m\u001b[0;34m]\u001b[0m\u001b[0;34m)\u001b[0m\u001b[0;34m\u001b[0m\u001b[0;34m\u001b[0m\u001b[0m\n\u001b[0m",
            "\u001b[0;31mTypeError\u001b[0m: 'Series' object cannot be interpreted as an integer"
          ]
        }
      ],
      "source": [
        "df['DateFrom'] = datetime.datetime(df['DateFrom'])"
      ]
    },
    {
      "cell_type": "code",
      "source": [
        "import datetime"
      ],
      "metadata": {
        "id": "s1PVkfycKLxR"
      },
      "execution_count": 316,
      "outputs": []
    },
    {
      "cell_type": "code",
      "source": [
        "df['DateFrom'] = pd.to_datetime(df['DateFrom'])\n",
        "df['DateTo'] = pd.to_datetime(df['DateTo'])"
      ],
      "metadata": {
        "id": "Wc6CJwbOKOQH"
      },
      "execution_count": 320,
      "outputs": []
    },
    {
      "cell_type": "code",
      "source": [
        "df['DateFrom']"
      ],
      "metadata": {
        "id": "eRs8qbgBNANp",
        "outputId": "f7ccc3cd-b204-4a10-e8a9-6c6d516252cf",
        "colab": {
          "base_uri": "https://localhost:8080/",
          "height": 458
        }
      },
      "execution_count": 337,
      "outputs": [
        {
          "output_type": "execute_result",
          "data": {
            "text/plain": [
              "0     2015-01-12\n",
              "1     2015-01-19\n",
              "2     2015-01-20\n",
              "3     2015-01-26\n",
              "4     2015-02-02\n",
              "         ...    \n",
              "261   2017-03-06\n",
              "262   2017-03-06\n",
              "263   2017-03-20\n",
              "264   2017-03-20\n",
              "265   2017-03-28\n",
              "Name: DateFrom, Length: 266, dtype: datetime64[ns]"
            ],
            "text/html": [
              "<div>\n",
              "<style scoped>\n",
              "    .dataframe tbody tr th:only-of-type {\n",
              "        vertical-align: middle;\n",
              "    }\n",
              "\n",
              "    .dataframe tbody tr th {\n",
              "        vertical-align: top;\n",
              "    }\n",
              "\n",
              "    .dataframe thead th {\n",
              "        text-align: right;\n",
              "    }\n",
              "</style>\n",
              "<table border=\"1\" class=\"dataframe\">\n",
              "  <thead>\n",
              "    <tr style=\"text-align: right;\">\n",
              "      <th></th>\n",
              "      <th>DateFrom</th>\n",
              "    </tr>\n",
              "  </thead>\n",
              "  <tbody>\n",
              "    <tr>\n",
              "      <th>0</th>\n",
              "      <td>2015-01-12</td>\n",
              "    </tr>\n",
              "    <tr>\n",
              "      <th>1</th>\n",
              "      <td>2015-01-19</td>\n",
              "    </tr>\n",
              "    <tr>\n",
              "      <th>2</th>\n",
              "      <td>2015-01-20</td>\n",
              "    </tr>\n",
              "    <tr>\n",
              "      <th>3</th>\n",
              "      <td>2015-01-26</td>\n",
              "    </tr>\n",
              "    <tr>\n",
              "      <th>4</th>\n",
              "      <td>2015-02-02</td>\n",
              "    </tr>\n",
              "    <tr>\n",
              "      <th>...</th>\n",
              "      <td>...</td>\n",
              "    </tr>\n",
              "    <tr>\n",
              "      <th>261</th>\n",
              "      <td>2017-03-06</td>\n",
              "    </tr>\n",
              "    <tr>\n",
              "      <th>262</th>\n",
              "      <td>2017-03-06</td>\n",
              "    </tr>\n",
              "    <tr>\n",
              "      <th>263</th>\n",
              "      <td>2017-03-20</td>\n",
              "    </tr>\n",
              "    <tr>\n",
              "      <th>264</th>\n",
              "      <td>2017-03-20</td>\n",
              "    </tr>\n",
              "    <tr>\n",
              "      <th>265</th>\n",
              "      <td>2017-03-28</td>\n",
              "    </tr>\n",
              "  </tbody>\n",
              "</table>\n",
              "<p>266 rows × 1 columns</p>\n",
              "</div><br><label><b>dtype:</b> datetime64[ns]</label>"
            ]
          },
          "metadata": {},
          "execution_count": 337
        }
      ]
    },
    {
      "cell_type": "code",
      "source": [
        "df['DateTo']"
      ],
      "metadata": {
        "id": "kWL3hDa0NBwl",
        "outputId": "de72c4c1-698e-46a4-ab16-d6102aa0d6ea",
        "colab": {
          "base_uri": "https://localhost:8080/",
          "height": 458
        }
      },
      "execution_count": 338,
      "outputs": [
        {
          "output_type": "execute_result",
          "data": {
            "text/plain": [
              "0     2015-01-16\n",
              "1     2015-01-22\n",
              "2     2015-01-23\n",
              "3     2015-01-30\n",
              "4     2015-02-06\n",
              "         ...    \n",
              "261   2017-03-10\n",
              "262   2017-03-10\n",
              "263   2017-03-24\n",
              "264   2017-03-24\n",
              "265   2017-03-31\n",
              "Name: DateTo, Length: 266, dtype: datetime64[ns]"
            ],
            "text/html": [
              "<div>\n",
              "<style scoped>\n",
              "    .dataframe tbody tr th:only-of-type {\n",
              "        vertical-align: middle;\n",
              "    }\n",
              "\n",
              "    .dataframe tbody tr th {\n",
              "        vertical-align: top;\n",
              "    }\n",
              "\n",
              "    .dataframe thead th {\n",
              "        text-align: right;\n",
              "    }\n",
              "</style>\n",
              "<table border=\"1\" class=\"dataframe\">\n",
              "  <thead>\n",
              "    <tr style=\"text-align: right;\">\n",
              "      <th></th>\n",
              "      <th>DateTo</th>\n",
              "    </tr>\n",
              "  </thead>\n",
              "  <tbody>\n",
              "    <tr>\n",
              "      <th>0</th>\n",
              "      <td>2015-01-16</td>\n",
              "    </tr>\n",
              "    <tr>\n",
              "      <th>1</th>\n",
              "      <td>2015-01-22</td>\n",
              "    </tr>\n",
              "    <tr>\n",
              "      <th>2</th>\n",
              "      <td>2015-01-23</td>\n",
              "    </tr>\n",
              "    <tr>\n",
              "      <th>3</th>\n",
              "      <td>2015-01-30</td>\n",
              "    </tr>\n",
              "    <tr>\n",
              "      <th>4</th>\n",
              "      <td>2015-02-06</td>\n",
              "    </tr>\n",
              "    <tr>\n",
              "      <th>...</th>\n",
              "      <td>...</td>\n",
              "    </tr>\n",
              "    <tr>\n",
              "      <th>261</th>\n",
              "      <td>2017-03-10</td>\n",
              "    </tr>\n",
              "    <tr>\n",
              "      <th>262</th>\n",
              "      <td>2017-03-10</td>\n",
              "    </tr>\n",
              "    <tr>\n",
              "      <th>263</th>\n",
              "      <td>2017-03-24</td>\n",
              "    </tr>\n",
              "    <tr>\n",
              "      <th>264</th>\n",
              "      <td>2017-03-24</td>\n",
              "    </tr>\n",
              "    <tr>\n",
              "      <th>265</th>\n",
              "      <td>2017-03-31</td>\n",
              "    </tr>\n",
              "  </tbody>\n",
              "</table>\n",
              "<p>266 rows × 1 columns</p>\n",
              "</div><br><label><b>dtype:</b> datetime64[ns]</label>"
            ]
          },
          "metadata": {},
          "execution_count": 338
        }
      ]
    },
    {
      "cell_type": "code",
      "execution_count": 321,
      "metadata": {
        "jupyter": {
          "outputs_hidden": false
        },
        "id": "KS7dQCnWYkLW",
        "outputId": "3f1e51fa-d340-4235-fdcb-7890c2555102",
        "colab": {
          "base_uri": "https://localhost:8080/"
        }
      },
      "outputs": [
        {
          "output_type": "stream",
          "name": "stdout",
          "text": [
            "df[\"DateFrom\"] = pd.to_datetime(df[\"DateFrom\"], format=\"%Y-%m-%d\")\n",
            "df[\"DateTo\"] = pd.to_datetime(df[\"DateTo\"], format=\"%Y-%m-%d\")"
          ]
        }
      ],
      "source": [
        "!cat ../solutions/05_40.py"
      ]
    },
    {
      "cell_type": "markdown",
      "metadata": {
        "id": "wdhQzfggYkLW"
      },
      "source": [
        "Note: We could have used the parameter *parse_dates* when loading data.  \n",
        "We can now use these columns to filter or do some calculation.\n",
        ">Display the rows where the training started after the first February 2017."
      ]
    },
    {
      "cell_type": "code",
      "source": [],
      "metadata": {
        "id": "6k_e04l0LrH2"
      },
      "execution_count": null,
      "outputs": []
    },
    {
      "cell_type": "code",
      "source": [],
      "metadata": {
        "id": "RyJZ4MSdLrbB"
      },
      "execution_count": null,
      "outputs": []
    },
    {
      "cell_type": "code",
      "execution_count": 322,
      "metadata": {
        "jupyter": {
          "outputs_hidden": false
        },
        "id": "_tF3xIMhYkLW",
        "outputId": "221d7ac6-f869-4a5f-e040-e434038ad810",
        "colab": {
          "base_uri": "https://localhost:8080/",
          "height": 578
        }
      },
      "outputs": [
        {
          "output_type": "execute_result",
          "data": {
            "text/plain": [
              "     index                                         CourseName   DateFrom  \\\n",
              "258    108                       Food Hygiene and Flexibility 2017-02-06   \n",
              "259    109               Auditing Plastic Recycling Processes 2017-02-07   \n",
              "260    110  CONTROL OF ZOONOSES AND PREVENTION AND MONITOR... 2017-02-13   \n",
              "261    111                               Contingency Planning 2017-03-06   \n",
              "262    112                          Audit B1 - Standard Level 2017-03-06   \n",
              "263    113                                            Audit A 2017-03-20   \n",
              "264    114                       Food Hygiene and Flexibility 2017-03-20   \n",
              "265    115  Animal Health and Disease Prevention for Bees ... 2017-03-28   \n",
              "\n",
              "        DateTo  Attendees        city   country   Country  \\\n",
              "258 2017-02-10          1   barcelona     Spain     Spain   \n",
              "259 2017-02-10          2     treviso     Italy     Italy   \n",
              "260 2017-02-16          1      venice     Italy     Italy   \n",
              "261 2017-03-10          3      venice     Italy     Italy   \n",
              "262 2017-03-10          2    valencia     Spain     Spain   \n",
              "263 2017-03-24          1  bratislava  Slovakia  Slovakia   \n",
              "264 2017-03-24          2      zagreb   Croatia   Croatia   \n",
              "265 2017-03-31          2     antwerp   Belgium   Belgium   \n",
              "\n",
              "     Official and national Languages  \n",
              "258  Spanish/Catalan/Galician/Basque  \n",
              "259                          Italian  \n",
              "260                          Italian  \n",
              "261                          Italian  \n",
              "262  Spanish/Catalan/Galician/Basque  \n",
              "263                           Slovak  \n",
              "264                         Croatian  \n",
              "265              Dutch/French/German  "
            ],
            "text/html": [
              "\n",
              "  <div id=\"df-4922daad-9730-41e1-8c5c-938b80618cda\" class=\"colab-df-container\">\n",
              "    <div>\n",
              "<style scoped>\n",
              "    .dataframe tbody tr th:only-of-type {\n",
              "        vertical-align: middle;\n",
              "    }\n",
              "\n",
              "    .dataframe tbody tr th {\n",
              "        vertical-align: top;\n",
              "    }\n",
              "\n",
              "    .dataframe thead th {\n",
              "        text-align: right;\n",
              "    }\n",
              "</style>\n",
              "<table border=\"1\" class=\"dataframe\">\n",
              "  <thead>\n",
              "    <tr style=\"text-align: right;\">\n",
              "      <th></th>\n",
              "      <th>index</th>\n",
              "      <th>CourseName</th>\n",
              "      <th>DateFrom</th>\n",
              "      <th>DateTo</th>\n",
              "      <th>Attendees</th>\n",
              "      <th>city</th>\n",
              "      <th>country</th>\n",
              "      <th>Country</th>\n",
              "      <th>Official and national Languages</th>\n",
              "    </tr>\n",
              "  </thead>\n",
              "  <tbody>\n",
              "    <tr>\n",
              "      <th>258</th>\n",
              "      <td>108</td>\n",
              "      <td>Food Hygiene and Flexibility</td>\n",
              "      <td>2017-02-06</td>\n",
              "      <td>2017-02-10</td>\n",
              "      <td>1</td>\n",
              "      <td>barcelona</td>\n",
              "      <td>Spain</td>\n",
              "      <td>Spain</td>\n",
              "      <td>Spanish/Catalan/Galician/Basque</td>\n",
              "    </tr>\n",
              "    <tr>\n",
              "      <th>259</th>\n",
              "      <td>109</td>\n",
              "      <td>Auditing Plastic Recycling Processes</td>\n",
              "      <td>2017-02-07</td>\n",
              "      <td>2017-02-10</td>\n",
              "      <td>2</td>\n",
              "      <td>treviso</td>\n",
              "      <td>Italy</td>\n",
              "      <td>Italy</td>\n",
              "      <td>Italian</td>\n",
              "    </tr>\n",
              "    <tr>\n",
              "      <th>260</th>\n",
              "      <td>110</td>\n",
              "      <td>CONTROL OF ZOONOSES AND PREVENTION AND MONITOR...</td>\n",
              "      <td>2017-02-13</td>\n",
              "      <td>2017-02-16</td>\n",
              "      <td>1</td>\n",
              "      <td>venice</td>\n",
              "      <td>Italy</td>\n",
              "      <td>Italy</td>\n",
              "      <td>Italian</td>\n",
              "    </tr>\n",
              "    <tr>\n",
              "      <th>261</th>\n",
              "      <td>111</td>\n",
              "      <td>Contingency Planning</td>\n",
              "      <td>2017-03-06</td>\n",
              "      <td>2017-03-10</td>\n",
              "      <td>3</td>\n",
              "      <td>venice</td>\n",
              "      <td>Italy</td>\n",
              "      <td>Italy</td>\n",
              "      <td>Italian</td>\n",
              "    </tr>\n",
              "    <tr>\n",
              "      <th>262</th>\n",
              "      <td>112</td>\n",
              "      <td>Audit B1 - Standard Level</td>\n",
              "      <td>2017-03-06</td>\n",
              "      <td>2017-03-10</td>\n",
              "      <td>2</td>\n",
              "      <td>valencia</td>\n",
              "      <td>Spain</td>\n",
              "      <td>Spain</td>\n",
              "      <td>Spanish/Catalan/Galician/Basque</td>\n",
              "    </tr>\n",
              "    <tr>\n",
              "      <th>263</th>\n",
              "      <td>113</td>\n",
              "      <td>Audit A</td>\n",
              "      <td>2017-03-20</td>\n",
              "      <td>2017-03-24</td>\n",
              "      <td>1</td>\n",
              "      <td>bratislava</td>\n",
              "      <td>Slovakia</td>\n",
              "      <td>Slovakia</td>\n",
              "      <td>Slovak</td>\n",
              "    </tr>\n",
              "    <tr>\n",
              "      <th>264</th>\n",
              "      <td>114</td>\n",
              "      <td>Food Hygiene and Flexibility</td>\n",
              "      <td>2017-03-20</td>\n",
              "      <td>2017-03-24</td>\n",
              "      <td>2</td>\n",
              "      <td>zagreb</td>\n",
              "      <td>Croatia</td>\n",
              "      <td>Croatia</td>\n",
              "      <td>Croatian</td>\n",
              "    </tr>\n",
              "    <tr>\n",
              "      <th>265</th>\n",
              "      <td>115</td>\n",
              "      <td>Animal Health and Disease Prevention for Bees ...</td>\n",
              "      <td>2017-03-28</td>\n",
              "      <td>2017-03-31</td>\n",
              "      <td>2</td>\n",
              "      <td>antwerp</td>\n",
              "      <td>Belgium</td>\n",
              "      <td>Belgium</td>\n",
              "      <td>Dutch/French/German</td>\n",
              "    </tr>\n",
              "  </tbody>\n",
              "</table>\n",
              "</div>\n",
              "    <div class=\"colab-df-buttons\">\n",
              "\n",
              "  <div class=\"colab-df-container\">\n",
              "    <button class=\"colab-df-convert\" onclick=\"convertToInteractive('df-4922daad-9730-41e1-8c5c-938b80618cda')\"\n",
              "            title=\"Convert this dataframe to an interactive table.\"\n",
              "            style=\"display:none;\">\n",
              "\n",
              "  <svg xmlns=\"http://www.w3.org/2000/svg\" height=\"24px\" viewBox=\"0 -960 960 960\">\n",
              "    <path d=\"M120-120v-720h720v720H120Zm60-500h600v-160H180v160Zm220 220h160v-160H400v160Zm0 220h160v-160H400v160ZM180-400h160v-160H180v160Zm440 0h160v-160H620v160ZM180-180h160v-160H180v160Zm440 0h160v-160H620v160Z\"/>\n",
              "  </svg>\n",
              "    </button>\n",
              "\n",
              "  <style>\n",
              "    .colab-df-container {\n",
              "      display:flex;\n",
              "      gap: 12px;\n",
              "    }\n",
              "\n",
              "    .colab-df-convert {\n",
              "      background-color: #E8F0FE;\n",
              "      border: none;\n",
              "      border-radius: 50%;\n",
              "      cursor: pointer;\n",
              "      display: none;\n",
              "      fill: #1967D2;\n",
              "      height: 32px;\n",
              "      padding: 0 0 0 0;\n",
              "      width: 32px;\n",
              "    }\n",
              "\n",
              "    .colab-df-convert:hover {\n",
              "      background-color: #E2EBFA;\n",
              "      box-shadow: 0px 1px 2px rgba(60, 64, 67, 0.3), 0px 1px 3px 1px rgba(60, 64, 67, 0.15);\n",
              "      fill: #174EA6;\n",
              "    }\n",
              "\n",
              "    .colab-df-buttons div {\n",
              "      margin-bottom: 4px;\n",
              "    }\n",
              "\n",
              "    [theme=dark] .colab-df-convert {\n",
              "      background-color: #3B4455;\n",
              "      fill: #D2E3FC;\n",
              "    }\n",
              "\n",
              "    [theme=dark] .colab-df-convert:hover {\n",
              "      background-color: #434B5C;\n",
              "      box-shadow: 0px 1px 3px 1px rgba(0, 0, 0, 0.15);\n",
              "      filter: drop-shadow(0px 1px 2px rgba(0, 0, 0, 0.3));\n",
              "      fill: #FFFFFF;\n",
              "    }\n",
              "  </style>\n",
              "\n",
              "    <script>\n",
              "      const buttonEl =\n",
              "        document.querySelector('#df-4922daad-9730-41e1-8c5c-938b80618cda button.colab-df-convert');\n",
              "      buttonEl.style.display =\n",
              "        google.colab.kernel.accessAllowed ? 'block' : 'none';\n",
              "\n",
              "      async function convertToInteractive(key) {\n",
              "        const element = document.querySelector('#df-4922daad-9730-41e1-8c5c-938b80618cda');\n",
              "        const dataTable =\n",
              "          await google.colab.kernel.invokeFunction('convertToInteractive',\n",
              "                                                    [key], {});\n",
              "        if (!dataTable) return;\n",
              "\n",
              "        const docLinkHtml = 'Like what you see? Visit the ' +\n",
              "          '<a target=\"_blank\" href=https://colab.research.google.com/notebooks/data_table.ipynb>data table notebook</a>'\n",
              "          + ' to learn more about interactive tables.';\n",
              "        element.innerHTML = '';\n",
              "        dataTable['output_type'] = 'display_data';\n",
              "        await google.colab.output.renderOutput(dataTable, element);\n",
              "        const docLink = document.createElement('div');\n",
              "        docLink.innerHTML = docLinkHtml;\n",
              "        element.appendChild(docLink);\n",
              "      }\n",
              "    </script>\n",
              "  </div>\n",
              "\n",
              "\n",
              "    <div id=\"df-8c895a53-5493-4348-bd99-048637690a2d\">\n",
              "      <button class=\"colab-df-quickchart\" onclick=\"quickchart('df-8c895a53-5493-4348-bd99-048637690a2d')\"\n",
              "                title=\"Suggest charts\"\n",
              "                style=\"display:none;\">\n",
              "\n",
              "<svg xmlns=\"http://www.w3.org/2000/svg\" height=\"24px\"viewBox=\"0 0 24 24\"\n",
              "     width=\"24px\">\n",
              "    <g>\n",
              "        <path d=\"M19 3H5c-1.1 0-2 .9-2 2v14c0 1.1.9 2 2 2h14c1.1 0 2-.9 2-2V5c0-1.1-.9-2-2-2zM9 17H7v-7h2v7zm4 0h-2V7h2v10zm4 0h-2v-4h2v4z\"/>\n",
              "    </g>\n",
              "</svg>\n",
              "      </button>\n",
              "\n",
              "<style>\n",
              "  .colab-df-quickchart {\n",
              "      --bg-color: #E8F0FE;\n",
              "      --fill-color: #1967D2;\n",
              "      --hover-bg-color: #E2EBFA;\n",
              "      --hover-fill-color: #174EA6;\n",
              "      --disabled-fill-color: #AAA;\n",
              "      --disabled-bg-color: #DDD;\n",
              "  }\n",
              "\n",
              "  [theme=dark] .colab-df-quickchart {\n",
              "      --bg-color: #3B4455;\n",
              "      --fill-color: #D2E3FC;\n",
              "      --hover-bg-color: #434B5C;\n",
              "      --hover-fill-color: #FFFFFF;\n",
              "      --disabled-bg-color: #3B4455;\n",
              "      --disabled-fill-color: #666;\n",
              "  }\n",
              "\n",
              "  .colab-df-quickchart {\n",
              "    background-color: var(--bg-color);\n",
              "    border: none;\n",
              "    border-radius: 50%;\n",
              "    cursor: pointer;\n",
              "    display: none;\n",
              "    fill: var(--fill-color);\n",
              "    height: 32px;\n",
              "    padding: 0;\n",
              "    width: 32px;\n",
              "  }\n",
              "\n",
              "  .colab-df-quickchart:hover {\n",
              "    background-color: var(--hover-bg-color);\n",
              "    box-shadow: 0 1px 2px rgba(60, 64, 67, 0.3), 0 1px 3px 1px rgba(60, 64, 67, 0.15);\n",
              "    fill: var(--button-hover-fill-color);\n",
              "  }\n",
              "\n",
              "  .colab-df-quickchart-complete:disabled,\n",
              "  .colab-df-quickchart-complete:disabled:hover {\n",
              "    background-color: var(--disabled-bg-color);\n",
              "    fill: var(--disabled-fill-color);\n",
              "    box-shadow: none;\n",
              "  }\n",
              "\n",
              "  .colab-df-spinner {\n",
              "    border: 2px solid var(--fill-color);\n",
              "    border-color: transparent;\n",
              "    border-bottom-color: var(--fill-color);\n",
              "    animation:\n",
              "      spin 1s steps(1) infinite;\n",
              "  }\n",
              "\n",
              "  @keyframes spin {\n",
              "    0% {\n",
              "      border-color: transparent;\n",
              "      border-bottom-color: var(--fill-color);\n",
              "      border-left-color: var(--fill-color);\n",
              "    }\n",
              "    20% {\n",
              "      border-color: transparent;\n",
              "      border-left-color: var(--fill-color);\n",
              "      border-top-color: var(--fill-color);\n",
              "    }\n",
              "    30% {\n",
              "      border-color: transparent;\n",
              "      border-left-color: var(--fill-color);\n",
              "      border-top-color: var(--fill-color);\n",
              "      border-right-color: var(--fill-color);\n",
              "    }\n",
              "    40% {\n",
              "      border-color: transparent;\n",
              "      border-right-color: var(--fill-color);\n",
              "      border-top-color: var(--fill-color);\n",
              "    }\n",
              "    60% {\n",
              "      border-color: transparent;\n",
              "      border-right-color: var(--fill-color);\n",
              "    }\n",
              "    80% {\n",
              "      border-color: transparent;\n",
              "      border-right-color: var(--fill-color);\n",
              "      border-bottom-color: var(--fill-color);\n",
              "    }\n",
              "    90% {\n",
              "      border-color: transparent;\n",
              "      border-bottom-color: var(--fill-color);\n",
              "    }\n",
              "  }\n",
              "</style>\n",
              "\n",
              "      <script>\n",
              "        async function quickchart(key) {\n",
              "          const quickchartButtonEl =\n",
              "            document.querySelector('#' + key + ' button');\n",
              "          quickchartButtonEl.disabled = true;  // To prevent multiple clicks.\n",
              "          quickchartButtonEl.classList.add('colab-df-spinner');\n",
              "          try {\n",
              "            const charts = await google.colab.kernel.invokeFunction(\n",
              "                'suggestCharts', [key], {});\n",
              "          } catch (error) {\n",
              "            console.error('Error during call to suggestCharts:', error);\n",
              "          }\n",
              "          quickchartButtonEl.classList.remove('colab-df-spinner');\n",
              "          quickchartButtonEl.classList.add('colab-df-quickchart-complete');\n",
              "        }\n",
              "        (() => {\n",
              "          let quickchartButtonEl =\n",
              "            document.querySelector('#df-8c895a53-5493-4348-bd99-048637690a2d button');\n",
              "          quickchartButtonEl.style.display =\n",
              "            google.colab.kernel.accessAllowed ? 'block' : 'none';\n",
              "        })();\n",
              "      </script>\n",
              "    </div>\n",
              "\n",
              "    </div>\n",
              "  </div>\n"
            ],
            "application/vnd.google.colaboratory.intrinsic+json": {
              "type": "dataframe",
              "summary": "{\n  \"name\": \"df\",\n  \"rows\": 8,\n  \"fields\": [\n    {\n      \"column\": \"index\",\n      \"properties\": {\n        \"dtype\": \"number\",\n        \"std\": 2,\n        \"min\": 108,\n        \"max\": 115,\n        \"num_unique_values\": 8,\n        \"samples\": [\n          109,\n          113,\n          108\n        ],\n        \"semantic_type\": \"\",\n        \"description\": \"\"\n      }\n    },\n    {\n      \"column\": \"CourseName\",\n      \"properties\": {\n        \"dtype\": \"string\",\n        \"num_unique_values\": 7,\n        \"samples\": [\n          \"Food Hygiene and Flexibility\",\n          \"Auditing Plastic Recycling Processes\",\n          \"Audit A\"\n        ],\n        \"semantic_type\": \"\",\n        \"description\": \"\"\n      }\n    },\n    {\n      \"column\": \"DateFrom\",\n      \"properties\": {\n        \"dtype\": \"date\",\n        \"min\": \"2017-02-06 00:00:00\",\n        \"max\": \"2017-03-28 00:00:00\",\n        \"num_unique_values\": 6,\n        \"samples\": [\n          \"2017-02-06 00:00:00\",\n          \"2017-02-07 00:00:00\",\n          \"2017-03-28 00:00:00\"\n        ],\n        \"semantic_type\": \"\",\n        \"description\": \"\"\n      }\n    },\n    {\n      \"column\": \"DateTo\",\n      \"properties\": {\n        \"dtype\": \"date\",\n        \"min\": \"2017-02-10 00:00:00\",\n        \"max\": \"2017-03-31 00:00:00\",\n        \"num_unique_values\": 5,\n        \"samples\": [\n          \"2017-02-16 00:00:00\",\n          \"2017-03-31 00:00:00\",\n          \"2017-03-10 00:00:00\"\n        ],\n        \"semantic_type\": \"\",\n        \"description\": \"\"\n      }\n    },\n    {\n      \"column\": \"Attendees\",\n      \"properties\": {\n        \"dtype\": \"number\",\n        \"std\": 0,\n        \"min\": 1,\n        \"max\": 3,\n        \"num_unique_values\": 3,\n        \"samples\": [\n          1,\n          2,\n          3\n        ],\n        \"semantic_type\": \"\",\n        \"description\": \"\"\n      }\n    },\n    {\n      \"column\": \"city\",\n      \"properties\": {\n        \"dtype\": \"string\",\n        \"num_unique_values\": 7,\n        \"samples\": [\n          \"barcelona\",\n          \"treviso\",\n          \"zagreb\"\n        ],\n        \"semantic_type\": \"\",\n        \"description\": \"\"\n      }\n    },\n    {\n      \"column\": \"country\",\n      \"properties\": {\n        \"dtype\": \"string\",\n        \"num_unique_values\": 5,\n        \"samples\": [\n          \"Italy\",\n          \"Belgium\",\n          \"Slovakia\"\n        ],\n        \"semantic_type\": \"\",\n        \"description\": \"\"\n      }\n    },\n    {\n      \"column\": \"Country\",\n      \"properties\": {\n        \"dtype\": \"string\",\n        \"num_unique_values\": 5,\n        \"samples\": [\n          \"Italy\",\n          \"Belgium\",\n          \"Slovakia\"\n        ],\n        \"semantic_type\": \"\",\n        \"description\": \"\"\n      }\n    },\n    {\n      \"column\": \"Official and national Languages\",\n      \"properties\": {\n        \"dtype\": \"string\",\n        \"num_unique_values\": 5,\n        \"samples\": [\n          \"Italian\",\n          \"Dutch/French/German\",\n          \"Slovak\"\n        ],\n        \"semantic_type\": \"\",\n        \"description\": \"\"\n      }\n    }\n  ]\n}"
            }
          },
          "metadata": {},
          "execution_count": 322
        }
      ],
      "source": [
        "df.loc[df['DateFrom'] > datetime.datetime(2017, 2, 1)]"
      ]
    },
    {
      "cell_type": "code",
      "source": [
        "df['DateFrom'].info()"
      ],
      "metadata": {
        "id": "YJL_FouTLv5h",
        "outputId": "03f1b7cf-ab32-4373-c2e2-30aa2772fb77",
        "colab": {
          "base_uri": "https://localhost:8080/"
        }
      },
      "execution_count": 325,
      "outputs": [
        {
          "output_type": "stream",
          "name": "stdout",
          "text": [
            "<class 'pandas.core.series.Series'>\n",
            "RangeIndex: 266 entries, 0 to 265\n",
            "Series name: DateFrom\n",
            "Non-Null Count  Dtype         \n",
            "--------------  -----         \n",
            "266 non-null    datetime64[ns]\n",
            "dtypes: datetime64[ns](1)\n",
            "memory usage: 2.2 KB\n"
          ]
        }
      ]
    },
    {
      "cell_type": "code",
      "execution_count": 323,
      "metadata": {
        "jupyter": {
          "outputs_hidden": false
        },
        "id": "vEBPnjtHYkLW",
        "outputId": "9882d096-fc26-45c0-9a5a-e8fe9b4551dd",
        "colab": {
          "base_uri": "https://localhost:8080/"
        }
      },
      "outputs": [
        {
          "output_type": "stream",
          "name": "stdout",
          "text": [
            "df[df[\"DateFrom\"] > \"2017-02-01\"]"
          ]
        }
      ],
      "source": [
        " !cat ../solutions/05_41.py"
      ]
    },
    {
      "cell_type": "markdown",
      "metadata": {
        "id": "wbe9OtE8YkLW"
      },
      "source": [
        ">Create a ***duration*** column with the duration of the training."
      ]
    },
    {
      "cell_type": "code",
      "execution_count": 326,
      "metadata": {
        "jupyter": {
          "outputs_hidden": false
        },
        "id": "V-G3cVMlYkLW"
      },
      "outputs": [],
      "source": [
        "df['duration'] = df['DateTo'] - df['DateFrom']"
      ]
    },
    {
      "cell_type": "code",
      "execution_count": 327,
      "metadata": {
        "jupyter": {
          "outputs_hidden": false
        },
        "id": "Mk6oi9c7YkLW",
        "outputId": "96dee416-f035-46d3-b7d2-3b7dc4b9d403",
        "colab": {
          "base_uri": "https://localhost:8080/"
        }
      },
      "outputs": [
        {
          "output_type": "stream",
          "name": "stdout",
          "text": [
            "df[\"duration\"] = df[\"DateTo\"] - df[\"DateFrom\"] + datetime.timedelta(days=1)"
          ]
        }
      ],
      "source": [
        " !cat ../solutions/05_42.py"
      ]
    },
    {
      "cell_type": "markdown",
      "metadata": {
        "id": "y88Cruf3YkLW"
      },
      "source": [
        ">Create a ***month*** column indicating which month the training started.  \n",
        ">Plot an histogram of the ***month*** column."
      ]
    },
    {
      "cell_type": "code",
      "execution_count": 343,
      "metadata": {
        "jupyter": {
          "outputs_hidden": false
        },
        "id": "3l-Jg4FBYkLW",
        "outputId": "020cab90-1817-4326-d8e2-9cc2a59062dd",
        "colab": {
          "base_uri": "https://localhost:8080/",
          "height": 263
        }
      },
      "outputs": [
        {
          "output_type": "error",
          "ename": "AttributeError",
          "evalue": "'Series' object has no attribute 'month'",
          "traceback": [
            "\u001b[0;31m---------------------------------------------------------------------------\u001b[0m",
            "\u001b[0;31mAttributeError\u001b[0m                            Traceback (most recent call last)",
            "\u001b[0;32m<ipython-input-343-6cc1264602d0>\u001b[0m in \u001b[0;36m<cell line: 0>\u001b[0;34m()\u001b[0m\n\u001b[0;32m----> 1\u001b[0;31m \u001b[0mdf\u001b[0m\u001b[0;34m[\u001b[0m\u001b[0;34m'month'\u001b[0m\u001b[0;34m]\u001b[0m \u001b[0;34m=\u001b[0m \u001b[0mdf\u001b[0m\u001b[0;34m[\u001b[0m\u001b[0;34m'DateFrom'\u001b[0m\u001b[0;34m]\u001b[0m\u001b[0;34m.\u001b[0m\u001b[0mmonth\u001b[0m\u001b[0;34m\u001b[0m\u001b[0;34m\u001b[0m\u001b[0m\n\u001b[0m",
            "\u001b[0;32m/usr/local/lib/python3.11/dist-packages/pandas/core/generic.py\u001b[0m in \u001b[0;36m__getattr__\u001b[0;34m(self, name)\u001b[0m\n\u001b[1;32m   6297\u001b[0m         ):\n\u001b[1;32m   6298\u001b[0m             \u001b[0;32mreturn\u001b[0m \u001b[0mself\u001b[0m\u001b[0;34m[\u001b[0m\u001b[0mname\u001b[0m\u001b[0;34m]\u001b[0m\u001b[0;34m\u001b[0m\u001b[0;34m\u001b[0m\u001b[0m\n\u001b[0;32m-> 6299\u001b[0;31m         \u001b[0;32mreturn\u001b[0m \u001b[0mobject\u001b[0m\u001b[0;34m.\u001b[0m\u001b[0m__getattribute__\u001b[0m\u001b[0;34m(\u001b[0m\u001b[0mself\u001b[0m\u001b[0;34m,\u001b[0m \u001b[0mname\u001b[0m\u001b[0;34m)\u001b[0m\u001b[0;34m\u001b[0m\u001b[0;34m\u001b[0m\u001b[0m\n\u001b[0m\u001b[1;32m   6300\u001b[0m \u001b[0;34m\u001b[0m\u001b[0m\n\u001b[1;32m   6301\u001b[0m     \u001b[0;34m@\u001b[0m\u001b[0mfinal\u001b[0m\u001b[0;34m\u001b[0m\u001b[0;34m\u001b[0m\u001b[0m\n",
            "\u001b[0;31mAttributeError\u001b[0m: 'Series' object has no attribute 'month'"
          ]
        }
      ],
      "source": [
        "df['month'] = df['DateFrom'].month"
      ]
    },
    {
      "cell_type": "code",
      "source": [],
      "metadata": {
        "id": "aBhSlnIyNUlO",
        "outputId": "e68ce114-a124-4de7-e447-cdfdbe8155f8",
        "colab": {
          "base_uri": "https://localhost:8080/",
          "height": 141
        }
      },
      "execution_count": 346,
      "outputs": [
        {
          "output_type": "error",
          "ename": "TypeError",
          "evalue": "'Series' object cannot be interpreted as an integer",
          "traceback": [
            "\u001b[0;31m---------------------------------------------------------------------------\u001b[0m",
            "\u001b[0;31mTypeError\u001b[0m                                 Traceback (most recent call last)",
            "\u001b[0;32m<ipython-input-346-c12a91523f88>\u001b[0m in \u001b[0;36m<cell line: 0>\u001b[0;34m()\u001b[0m\n\u001b[0;32m----> 1\u001b[0;31m \u001b[0mdatetime\u001b[0m\u001b[0;34m.\u001b[0m\u001b[0mdatetime\u001b[0m\u001b[0;34m(\u001b[0m\u001b[0mdf\u001b[0m\u001b[0;34m[\u001b[0m\u001b[0;34m'DateFrom'\u001b[0m\u001b[0;34m]\u001b[0m\u001b[0;34m)\u001b[0m\u001b[0;34m.\u001b[0m\u001b[0mmonth\u001b[0m\u001b[0;34m\u001b[0m\u001b[0;34m\u001b[0m\u001b[0m\n\u001b[0m",
            "\u001b[0;31mTypeError\u001b[0m: 'Series' object cannot be interpreted as an integer"
          ]
        }
      ]
    },
    {
      "cell_type": "code",
      "source": [
        "datetime.date.month('2019-01-01')"
      ],
      "metadata": {
        "id": "lBPVcnkJMpd7",
        "outputId": "eebc071f-0dc1-4590-c5fe-6bd8661f68e7",
        "colab": {
          "base_uri": "https://localhost:8080/",
          "height": 141
        }
      },
      "execution_count": 339,
      "outputs": [
        {
          "output_type": "error",
          "ename": "TypeError",
          "evalue": "'getset_descriptor' object is not callable",
          "traceback": [
            "\u001b[0;31m---------------------------------------------------------------------------\u001b[0m",
            "\u001b[0;31mTypeError\u001b[0m                                 Traceback (most recent call last)",
            "\u001b[0;32m<ipython-input-339-c03de3d889b5>\u001b[0m in \u001b[0;36m<cell line: 0>\u001b[0;34m()\u001b[0m\n\u001b[0;32m----> 1\u001b[0;31m \u001b[0mdatetime\u001b[0m\u001b[0;34m.\u001b[0m\u001b[0mdate\u001b[0m\u001b[0;34m.\u001b[0m\u001b[0mmonth\u001b[0m\u001b[0;34m(\u001b[0m\u001b[0;34m'2019-01-01'\u001b[0m\u001b[0;34m)\u001b[0m\u001b[0;34m\u001b[0m\u001b[0;34m\u001b[0m\u001b[0m\n\u001b[0m",
            "\u001b[0;31mTypeError\u001b[0m: 'getset_descriptor' object is not callable"
          ]
        }
      ]
    },
    {
      "cell_type": "code",
      "source": [
        "df['month'] = df['DateFrom'].dt.month"
      ],
      "metadata": {
        "id": "m7Evasp8NHG2"
      },
      "execution_count": 347,
      "outputs": []
    },
    {
      "cell_type": "code",
      "execution_count": null,
      "metadata": {
        "jupyter": {
          "outputs_hidden": false
        },
        "id": "RvBG2e_wYkLW"
      },
      "outputs": [],
      "source": [
        "# !cat ../solutions/05_43.py"
      ]
    },
    {
      "cell_type": "code",
      "source": [
        "df['month']"
      ],
      "metadata": {
        "id": "fzZggAk-NuDq",
        "outputId": "c121711f-0b82-4ee5-e0c3-be497133a42c",
        "colab": {
          "base_uri": "https://localhost:8080/",
          "height": 458
        }
      },
      "execution_count": 348,
      "outputs": [
        {
          "output_type": "execute_result",
          "data": {
            "text/plain": [
              "0      1\n",
              "1      1\n",
              "2      1\n",
              "3      1\n",
              "4      2\n",
              "      ..\n",
              "261    3\n",
              "262    3\n",
              "263    3\n",
              "264    3\n",
              "265    3\n",
              "Name: month, Length: 266, dtype: int32"
            ],
            "text/html": [
              "<div>\n",
              "<style scoped>\n",
              "    .dataframe tbody tr th:only-of-type {\n",
              "        vertical-align: middle;\n",
              "    }\n",
              "\n",
              "    .dataframe tbody tr th {\n",
              "        vertical-align: top;\n",
              "    }\n",
              "\n",
              "    .dataframe thead th {\n",
              "        text-align: right;\n",
              "    }\n",
              "</style>\n",
              "<table border=\"1\" class=\"dataframe\">\n",
              "  <thead>\n",
              "    <tr style=\"text-align: right;\">\n",
              "      <th></th>\n",
              "      <th>month</th>\n",
              "    </tr>\n",
              "  </thead>\n",
              "  <tbody>\n",
              "    <tr>\n",
              "      <th>0</th>\n",
              "      <td>1</td>\n",
              "    </tr>\n",
              "    <tr>\n",
              "      <th>1</th>\n",
              "      <td>1</td>\n",
              "    </tr>\n",
              "    <tr>\n",
              "      <th>2</th>\n",
              "      <td>1</td>\n",
              "    </tr>\n",
              "    <tr>\n",
              "      <th>3</th>\n",
              "      <td>1</td>\n",
              "    </tr>\n",
              "    <tr>\n",
              "      <th>4</th>\n",
              "      <td>2</td>\n",
              "    </tr>\n",
              "    <tr>\n",
              "      <th>...</th>\n",
              "      <td>...</td>\n",
              "    </tr>\n",
              "    <tr>\n",
              "      <th>261</th>\n",
              "      <td>3</td>\n",
              "    </tr>\n",
              "    <tr>\n",
              "      <th>262</th>\n",
              "      <td>3</td>\n",
              "    </tr>\n",
              "    <tr>\n",
              "      <th>263</th>\n",
              "      <td>3</td>\n",
              "    </tr>\n",
              "    <tr>\n",
              "      <th>264</th>\n",
              "      <td>3</td>\n",
              "    </tr>\n",
              "    <tr>\n",
              "      <th>265</th>\n",
              "      <td>3</td>\n",
              "    </tr>\n",
              "  </tbody>\n",
              "</table>\n",
              "<p>266 rows × 1 columns</p>\n",
              "</div><br><label><b>dtype:</b> int32</label>"
            ]
          },
          "metadata": {},
          "execution_count": 348
        }
      ]
    },
    {
      "cell_type": "code",
      "source": [
        "df['DateTo'].dt"
      ],
      "metadata": {
        "id": "QjBrqFArNvqo",
        "outputId": "dbfa64a0-acde-4f74-f1c7-7856ece55310",
        "colab": {
          "base_uri": "https://localhost:8080/"
        }
      },
      "execution_count": 350,
      "outputs": [
        {
          "output_type": "execute_result",
          "data": {
            "text/plain": [
              "<pandas.core.indexes.accessors.DatetimeProperties object at 0x7c339d46a8d0>"
            ]
          },
          "metadata": {},
          "execution_count": 350
        }
      ]
    },
    {
      "cell_type": "markdown",
      "metadata": {
        "id": "J7-Ioo3ZYkLW"
      },
      "source": [
        "---\n",
        "\n",
        "<div class=\"alert alert-block alert-warning\" style=\"padding: 0px; padding-left: 20px; padding-top: 5px;\"><h2 style=\"color: #301E40\">\n",
        "Sorting values\n",
        "</h2><br>\n",
        "</div>"
      ]
    },
    {
      "cell_type": "markdown",
      "metadata": {
        "id": "Hq_DS5eYYkLW"
      },
      "source": [
        ">Sort df in alphabetical order of ***cities***."
      ]
    },
    {
      "cell_type": "code",
      "execution_count": 352,
      "metadata": {
        "jupyter": {
          "outputs_hidden": false
        },
        "id": "250L-unsYkLW",
        "outputId": "e7df282c-55c0-45c2-bf03-9724ac39e0a4",
        "colab": {
          "base_uri": "https://localhost:8080/",
          "height": 982
        }
      },
      "outputs": [
        {
          "output_type": "execute_result",
          "data": {
            "text/plain": [
              "     index                                         CourseName   DateFrom  \\\n",
              "223     73                 Animal Welfare (In Pig Production) 2016-09-27   \n",
              "175     25                  Animal Welfare (During Transport) 2016-05-17   \n",
              "118     90        Food Hygiene at Primary Production (Plants) 2015-11-16   \n",
              "154      4  Traces (USE AT IMPORT OF LIVE ANIMALS AND PROD... 2016-04-05   \n",
              "168     18          EU Feed Hygiene Rules and HACCP auditing  2016-05-10   \n",
              "..     ...                                                ...        ...   \n",
              "217     67  Animal identification registration and traceab... 2016-09-19   \n",
              "127     99                          Movement of Cats and Dogs 2015-12-15   \n",
              "37       9                          Movement of Cats and Dogs 2015-04-21   \n",
              "264    114                       Food Hygiene and Flexibility 2017-03-20   \n",
              "134    106                          Movement of Cats and Dogs 2016-01-19   \n",
              "\n",
              "        DateTo  Attendees             city      country      Country  \\\n",
              "223 2016-09-30          3  NullCityDenmark          NaN          NaN   \n",
              "175 2016-05-20          1   NullCityPoland       Poland       Poland   \n",
              "118 2015-11-20          1         alicante        Spain        Spain   \n",
              "154 2016-04-08          1         alicante        Spain        Spain   \n",
              "168 2016-05-13          2        amsterdam  Netherlands  Netherlands   \n",
              "..         ...        ...              ...          ...          ...   \n",
              "217 2016-09-23          1           warsaw       Poland       Poland   \n",
              "127 2015-12-18          1           zagreb      Croatia      Croatia   \n",
              "37  2015-04-24          1           zagreb      Croatia      Croatia   \n",
              "264 2017-03-24          2           zagreb      Croatia      Croatia   \n",
              "134 2016-01-22          1           zagreb      Croatia      Croatia   \n",
              "\n",
              "     Official and national Languages duration  month  \n",
              "223                              NaN   3 days      9  \n",
              "175                           Polish   3 days      5  \n",
              "118  Spanish/Catalan/Galician/Basque   4 days     11  \n",
              "154  Spanish/Catalan/Galician/Basque   3 days      4  \n",
              "168                    Dutch/Frisian   3 days      5  \n",
              "..                               ...      ...    ...  \n",
              "217                           Polish   4 days      9  \n",
              "127                         Croatian   3 days     12  \n",
              "37                          Croatian   3 days      4  \n",
              "264                         Croatian   4 days      3  \n",
              "134                         Croatian   3 days      1  \n",
              "\n",
              "[266 rows x 11 columns]"
            ],
            "text/html": [
              "\n",
              "  <div id=\"df-666dfc4b-7773-4021-a268-d1172ae66b77\" class=\"colab-df-container\">\n",
              "    <div>\n",
              "<style scoped>\n",
              "    .dataframe tbody tr th:only-of-type {\n",
              "        vertical-align: middle;\n",
              "    }\n",
              "\n",
              "    .dataframe tbody tr th {\n",
              "        vertical-align: top;\n",
              "    }\n",
              "\n",
              "    .dataframe thead th {\n",
              "        text-align: right;\n",
              "    }\n",
              "</style>\n",
              "<table border=\"1\" class=\"dataframe\">\n",
              "  <thead>\n",
              "    <tr style=\"text-align: right;\">\n",
              "      <th></th>\n",
              "      <th>index</th>\n",
              "      <th>CourseName</th>\n",
              "      <th>DateFrom</th>\n",
              "      <th>DateTo</th>\n",
              "      <th>Attendees</th>\n",
              "      <th>city</th>\n",
              "      <th>country</th>\n",
              "      <th>Country</th>\n",
              "      <th>Official and national Languages</th>\n",
              "      <th>duration</th>\n",
              "      <th>month</th>\n",
              "    </tr>\n",
              "  </thead>\n",
              "  <tbody>\n",
              "    <tr>\n",
              "      <th>223</th>\n",
              "      <td>73</td>\n",
              "      <td>Animal Welfare (In Pig Production)</td>\n",
              "      <td>2016-09-27</td>\n",
              "      <td>2016-09-30</td>\n",
              "      <td>3</td>\n",
              "      <td>NullCityDenmark</td>\n",
              "      <td>NaN</td>\n",
              "      <td>NaN</td>\n",
              "      <td>NaN</td>\n",
              "      <td>3 days</td>\n",
              "      <td>9</td>\n",
              "    </tr>\n",
              "    <tr>\n",
              "      <th>175</th>\n",
              "      <td>25</td>\n",
              "      <td>Animal Welfare (During Transport)</td>\n",
              "      <td>2016-05-17</td>\n",
              "      <td>2016-05-20</td>\n",
              "      <td>1</td>\n",
              "      <td>NullCityPoland</td>\n",
              "      <td>Poland</td>\n",
              "      <td>Poland</td>\n",
              "      <td>Polish</td>\n",
              "      <td>3 days</td>\n",
              "      <td>5</td>\n",
              "    </tr>\n",
              "    <tr>\n",
              "      <th>118</th>\n",
              "      <td>90</td>\n",
              "      <td>Food Hygiene at Primary Production (Plants)</td>\n",
              "      <td>2015-11-16</td>\n",
              "      <td>2015-11-20</td>\n",
              "      <td>1</td>\n",
              "      <td>alicante</td>\n",
              "      <td>Spain</td>\n",
              "      <td>Spain</td>\n",
              "      <td>Spanish/Catalan/Galician/Basque</td>\n",
              "      <td>4 days</td>\n",
              "      <td>11</td>\n",
              "    </tr>\n",
              "    <tr>\n",
              "      <th>154</th>\n",
              "      <td>4</td>\n",
              "      <td>Traces (USE AT IMPORT OF LIVE ANIMALS AND PROD...</td>\n",
              "      <td>2016-04-05</td>\n",
              "      <td>2016-04-08</td>\n",
              "      <td>1</td>\n",
              "      <td>alicante</td>\n",
              "      <td>Spain</td>\n",
              "      <td>Spain</td>\n",
              "      <td>Spanish/Catalan/Galician/Basque</td>\n",
              "      <td>3 days</td>\n",
              "      <td>4</td>\n",
              "    </tr>\n",
              "    <tr>\n",
              "      <th>168</th>\n",
              "      <td>18</td>\n",
              "      <td>EU Feed Hygiene Rules and HACCP auditing</td>\n",
              "      <td>2016-05-10</td>\n",
              "      <td>2016-05-13</td>\n",
              "      <td>2</td>\n",
              "      <td>amsterdam</td>\n",
              "      <td>Netherlands</td>\n",
              "      <td>Netherlands</td>\n",
              "      <td>Dutch/Frisian</td>\n",
              "      <td>3 days</td>\n",
              "      <td>5</td>\n",
              "    </tr>\n",
              "    <tr>\n",
              "      <th>...</th>\n",
              "      <td>...</td>\n",
              "      <td>...</td>\n",
              "      <td>...</td>\n",
              "      <td>...</td>\n",
              "      <td>...</td>\n",
              "      <td>...</td>\n",
              "      <td>...</td>\n",
              "      <td>...</td>\n",
              "      <td>...</td>\n",
              "      <td>...</td>\n",
              "      <td>...</td>\n",
              "    </tr>\n",
              "    <tr>\n",
              "      <th>217</th>\n",
              "      <td>67</td>\n",
              "      <td>Animal identification registration and traceab...</td>\n",
              "      <td>2016-09-19</td>\n",
              "      <td>2016-09-23</td>\n",
              "      <td>1</td>\n",
              "      <td>warsaw</td>\n",
              "      <td>Poland</td>\n",
              "      <td>Poland</td>\n",
              "      <td>Polish</td>\n",
              "      <td>4 days</td>\n",
              "      <td>9</td>\n",
              "    </tr>\n",
              "    <tr>\n",
              "      <th>127</th>\n",
              "      <td>99</td>\n",
              "      <td>Movement of Cats and Dogs</td>\n",
              "      <td>2015-12-15</td>\n",
              "      <td>2015-12-18</td>\n",
              "      <td>1</td>\n",
              "      <td>zagreb</td>\n",
              "      <td>Croatia</td>\n",
              "      <td>Croatia</td>\n",
              "      <td>Croatian</td>\n",
              "      <td>3 days</td>\n",
              "      <td>12</td>\n",
              "    </tr>\n",
              "    <tr>\n",
              "      <th>37</th>\n",
              "      <td>9</td>\n",
              "      <td>Movement of Cats and Dogs</td>\n",
              "      <td>2015-04-21</td>\n",
              "      <td>2015-04-24</td>\n",
              "      <td>1</td>\n",
              "      <td>zagreb</td>\n",
              "      <td>Croatia</td>\n",
              "      <td>Croatia</td>\n",
              "      <td>Croatian</td>\n",
              "      <td>3 days</td>\n",
              "      <td>4</td>\n",
              "    </tr>\n",
              "    <tr>\n",
              "      <th>264</th>\n",
              "      <td>114</td>\n",
              "      <td>Food Hygiene and Flexibility</td>\n",
              "      <td>2017-03-20</td>\n",
              "      <td>2017-03-24</td>\n",
              "      <td>2</td>\n",
              "      <td>zagreb</td>\n",
              "      <td>Croatia</td>\n",
              "      <td>Croatia</td>\n",
              "      <td>Croatian</td>\n",
              "      <td>4 days</td>\n",
              "      <td>3</td>\n",
              "    </tr>\n",
              "    <tr>\n",
              "      <th>134</th>\n",
              "      <td>106</td>\n",
              "      <td>Movement of Cats and Dogs</td>\n",
              "      <td>2016-01-19</td>\n",
              "      <td>2016-01-22</td>\n",
              "      <td>1</td>\n",
              "      <td>zagreb</td>\n",
              "      <td>Croatia</td>\n",
              "      <td>Croatia</td>\n",
              "      <td>Croatian</td>\n",
              "      <td>3 days</td>\n",
              "      <td>1</td>\n",
              "    </tr>\n",
              "  </tbody>\n",
              "</table>\n",
              "<p>266 rows × 11 columns</p>\n",
              "</div>\n",
              "    <div class=\"colab-df-buttons\">\n",
              "\n",
              "  <div class=\"colab-df-container\">\n",
              "    <button class=\"colab-df-convert\" onclick=\"convertToInteractive('df-666dfc4b-7773-4021-a268-d1172ae66b77')\"\n",
              "            title=\"Convert this dataframe to an interactive table.\"\n",
              "            style=\"display:none;\">\n",
              "\n",
              "  <svg xmlns=\"http://www.w3.org/2000/svg\" height=\"24px\" viewBox=\"0 -960 960 960\">\n",
              "    <path d=\"M120-120v-720h720v720H120Zm60-500h600v-160H180v160Zm220 220h160v-160H400v160Zm0 220h160v-160H400v160ZM180-400h160v-160H180v160Zm440 0h160v-160H620v160ZM180-180h160v-160H180v160Zm440 0h160v-160H620v160Z\"/>\n",
              "  </svg>\n",
              "    </button>\n",
              "\n",
              "  <style>\n",
              "    .colab-df-container {\n",
              "      display:flex;\n",
              "      gap: 12px;\n",
              "    }\n",
              "\n",
              "    .colab-df-convert {\n",
              "      background-color: #E8F0FE;\n",
              "      border: none;\n",
              "      border-radius: 50%;\n",
              "      cursor: pointer;\n",
              "      display: none;\n",
              "      fill: #1967D2;\n",
              "      height: 32px;\n",
              "      padding: 0 0 0 0;\n",
              "      width: 32px;\n",
              "    }\n",
              "\n",
              "    .colab-df-convert:hover {\n",
              "      background-color: #E2EBFA;\n",
              "      box-shadow: 0px 1px 2px rgba(60, 64, 67, 0.3), 0px 1px 3px 1px rgba(60, 64, 67, 0.15);\n",
              "      fill: #174EA6;\n",
              "    }\n",
              "\n",
              "    .colab-df-buttons div {\n",
              "      margin-bottom: 4px;\n",
              "    }\n",
              "\n",
              "    [theme=dark] .colab-df-convert {\n",
              "      background-color: #3B4455;\n",
              "      fill: #D2E3FC;\n",
              "    }\n",
              "\n",
              "    [theme=dark] .colab-df-convert:hover {\n",
              "      background-color: #434B5C;\n",
              "      box-shadow: 0px 1px 3px 1px rgba(0, 0, 0, 0.15);\n",
              "      filter: drop-shadow(0px 1px 2px rgba(0, 0, 0, 0.3));\n",
              "      fill: #FFFFFF;\n",
              "    }\n",
              "  </style>\n",
              "\n",
              "    <script>\n",
              "      const buttonEl =\n",
              "        document.querySelector('#df-666dfc4b-7773-4021-a268-d1172ae66b77 button.colab-df-convert');\n",
              "      buttonEl.style.display =\n",
              "        google.colab.kernel.accessAllowed ? 'block' : 'none';\n",
              "\n",
              "      async function convertToInteractive(key) {\n",
              "        const element = document.querySelector('#df-666dfc4b-7773-4021-a268-d1172ae66b77');\n",
              "        const dataTable =\n",
              "          await google.colab.kernel.invokeFunction('convertToInteractive',\n",
              "                                                    [key], {});\n",
              "        if (!dataTable) return;\n",
              "\n",
              "        const docLinkHtml = 'Like what you see? Visit the ' +\n",
              "          '<a target=\"_blank\" href=https://colab.research.google.com/notebooks/data_table.ipynb>data table notebook</a>'\n",
              "          + ' to learn more about interactive tables.';\n",
              "        element.innerHTML = '';\n",
              "        dataTable['output_type'] = 'display_data';\n",
              "        await google.colab.output.renderOutput(dataTable, element);\n",
              "        const docLink = document.createElement('div');\n",
              "        docLink.innerHTML = docLinkHtml;\n",
              "        element.appendChild(docLink);\n",
              "      }\n",
              "    </script>\n",
              "  </div>\n",
              "\n",
              "\n",
              "    <div id=\"df-143ee802-231e-45e5-a447-8ddd05e7d953\">\n",
              "      <button class=\"colab-df-quickchart\" onclick=\"quickchart('df-143ee802-231e-45e5-a447-8ddd05e7d953')\"\n",
              "                title=\"Suggest charts\"\n",
              "                style=\"display:none;\">\n",
              "\n",
              "<svg xmlns=\"http://www.w3.org/2000/svg\" height=\"24px\"viewBox=\"0 0 24 24\"\n",
              "     width=\"24px\">\n",
              "    <g>\n",
              "        <path d=\"M19 3H5c-1.1 0-2 .9-2 2v14c0 1.1.9 2 2 2h14c1.1 0 2-.9 2-2V5c0-1.1-.9-2-2-2zM9 17H7v-7h2v7zm4 0h-2V7h2v10zm4 0h-2v-4h2v4z\"/>\n",
              "    </g>\n",
              "</svg>\n",
              "      </button>\n",
              "\n",
              "<style>\n",
              "  .colab-df-quickchart {\n",
              "      --bg-color: #E8F0FE;\n",
              "      --fill-color: #1967D2;\n",
              "      --hover-bg-color: #E2EBFA;\n",
              "      --hover-fill-color: #174EA6;\n",
              "      --disabled-fill-color: #AAA;\n",
              "      --disabled-bg-color: #DDD;\n",
              "  }\n",
              "\n",
              "  [theme=dark] .colab-df-quickchart {\n",
              "      --bg-color: #3B4455;\n",
              "      --fill-color: #D2E3FC;\n",
              "      --hover-bg-color: #434B5C;\n",
              "      --hover-fill-color: #FFFFFF;\n",
              "      --disabled-bg-color: #3B4455;\n",
              "      --disabled-fill-color: #666;\n",
              "  }\n",
              "\n",
              "  .colab-df-quickchart {\n",
              "    background-color: var(--bg-color);\n",
              "    border: none;\n",
              "    border-radius: 50%;\n",
              "    cursor: pointer;\n",
              "    display: none;\n",
              "    fill: var(--fill-color);\n",
              "    height: 32px;\n",
              "    padding: 0;\n",
              "    width: 32px;\n",
              "  }\n",
              "\n",
              "  .colab-df-quickchart:hover {\n",
              "    background-color: var(--hover-bg-color);\n",
              "    box-shadow: 0 1px 2px rgba(60, 64, 67, 0.3), 0 1px 3px 1px rgba(60, 64, 67, 0.15);\n",
              "    fill: var(--button-hover-fill-color);\n",
              "  }\n",
              "\n",
              "  .colab-df-quickchart-complete:disabled,\n",
              "  .colab-df-quickchart-complete:disabled:hover {\n",
              "    background-color: var(--disabled-bg-color);\n",
              "    fill: var(--disabled-fill-color);\n",
              "    box-shadow: none;\n",
              "  }\n",
              "\n",
              "  .colab-df-spinner {\n",
              "    border: 2px solid var(--fill-color);\n",
              "    border-color: transparent;\n",
              "    border-bottom-color: var(--fill-color);\n",
              "    animation:\n",
              "      spin 1s steps(1) infinite;\n",
              "  }\n",
              "\n",
              "  @keyframes spin {\n",
              "    0% {\n",
              "      border-color: transparent;\n",
              "      border-bottom-color: var(--fill-color);\n",
              "      border-left-color: var(--fill-color);\n",
              "    }\n",
              "    20% {\n",
              "      border-color: transparent;\n",
              "      border-left-color: var(--fill-color);\n",
              "      border-top-color: var(--fill-color);\n",
              "    }\n",
              "    30% {\n",
              "      border-color: transparent;\n",
              "      border-left-color: var(--fill-color);\n",
              "      border-top-color: var(--fill-color);\n",
              "      border-right-color: var(--fill-color);\n",
              "    }\n",
              "    40% {\n",
              "      border-color: transparent;\n",
              "      border-right-color: var(--fill-color);\n",
              "      border-top-color: var(--fill-color);\n",
              "    }\n",
              "    60% {\n",
              "      border-color: transparent;\n",
              "      border-right-color: var(--fill-color);\n",
              "    }\n",
              "    80% {\n",
              "      border-color: transparent;\n",
              "      border-right-color: var(--fill-color);\n",
              "      border-bottom-color: var(--fill-color);\n",
              "    }\n",
              "    90% {\n",
              "      border-color: transparent;\n",
              "      border-bottom-color: var(--fill-color);\n",
              "    }\n",
              "  }\n",
              "</style>\n",
              "\n",
              "      <script>\n",
              "        async function quickchart(key) {\n",
              "          const quickchartButtonEl =\n",
              "            document.querySelector('#' + key + ' button');\n",
              "          quickchartButtonEl.disabled = true;  // To prevent multiple clicks.\n",
              "          quickchartButtonEl.classList.add('colab-df-spinner');\n",
              "          try {\n",
              "            const charts = await google.colab.kernel.invokeFunction(\n",
              "                'suggestCharts', [key], {});\n",
              "          } catch (error) {\n",
              "            console.error('Error during call to suggestCharts:', error);\n",
              "          }\n",
              "          quickchartButtonEl.classList.remove('colab-df-spinner');\n",
              "          quickchartButtonEl.classList.add('colab-df-quickchart-complete');\n",
              "        }\n",
              "        (() => {\n",
              "          let quickchartButtonEl =\n",
              "            document.querySelector('#df-143ee802-231e-45e5-a447-8ddd05e7d953 button');\n",
              "          quickchartButtonEl.style.display =\n",
              "            google.colab.kernel.accessAllowed ? 'block' : 'none';\n",
              "        })();\n",
              "      </script>\n",
              "    </div>\n",
              "\n",
              "    </div>\n",
              "  </div>\n"
            ],
            "application/vnd.google.colaboratory.intrinsic+json": {
              "type": "dataframe",
              "summary": "{\n  \"name\": \"df\",\n  \"rows\": 266,\n  \"fields\": [\n    {\n      \"column\": \"index\",\n      \"properties\": {\n        \"dtype\": \"number\",\n        \"std\": 35,\n        \"min\": 0,\n        \"max\": 121,\n        \"num_unique_values\": 122,\n        \"samples\": [\n          93,\n          85,\n          74\n        ],\n        \"semantic_type\": \"\",\n        \"description\": \"\"\n      }\n    },\n    {\n      \"column\": \"CourseName\",\n      \"properties\": {\n        \"dtype\": \"category\",\n        \"num_unique_values\": 70,\n        \"samples\": [\n          \"Audit B2 - Advanced Level\",\n          \"Animal Welfare (In Pig Production)\",\n          \"Risk Assessment (Animal Health)\"\n        ],\n        \"semantic_type\": \"\",\n        \"description\": \"\"\n      }\n    },\n    {\n      \"column\": \"DateFrom\",\n      \"properties\": {\n        \"dtype\": \"date\",\n        \"min\": \"2015-01-12 00:00:00\",\n        \"max\": \"2017-03-28 00:00:00\",\n        \"num_unique_values\": 138,\n        \"samples\": [\n          \"2015-05-11 00:00:00\",\n          \"2015-05-26 00:00:00\",\n          \"2017-03-28 00:00:00\"\n        ],\n        \"semantic_type\": \"\",\n        \"description\": \"\"\n      }\n    },\n    {\n      \"column\": \"DateTo\",\n      \"properties\": {\n        \"dtype\": \"date\",\n        \"min\": \"2015-01-16 00:00:00\",\n        \"max\": \"2017-03-31 00:00:00\",\n        \"num_unique_values\": 114,\n        \"samples\": [\n          \"2015-09-04 00:00:00\",\n          \"2016-05-13 00:00:00\",\n          \"2016-10-28 00:00:00\"\n        ],\n        \"semantic_type\": \"\",\n        \"description\": \"\"\n      }\n    },\n    {\n      \"column\": \"Attendees\",\n      \"properties\": {\n        \"dtype\": \"number\",\n        \"std\": 1,\n        \"min\": 1,\n        \"max\": 13,\n        \"num_unique_values\": 7,\n        \"samples\": [\n          3,\n          1,\n          6\n        ],\n        \"semantic_type\": \"\",\n        \"description\": \"\"\n      }\n    },\n    {\n      \"column\": \"city\",\n      \"properties\": {\n        \"dtype\": \"category\",\n        \"num_unique_values\": 63,\n        \"samples\": [\n          \"warsaw\",\n          \"valencia\",\n          \"NullCityDenmark\"\n        ],\n        \"semantic_type\": \"\",\n        \"description\": \"\"\n      }\n    },\n    {\n      \"column\": \"country\",\n      \"properties\": {\n        \"dtype\": \"category\",\n        \"num_unique_values\": 24,\n        \"samples\": [\n          \"Hungary\",\n          \"Slovenia\",\n          \"Poland\"\n        ],\n        \"semantic_type\": \"\",\n        \"description\": \"\"\n      }\n    },\n    {\n      \"column\": \"Country\",\n      \"properties\": {\n        \"dtype\": \"category\",\n        \"num_unique_values\": 24,\n        \"samples\": [\n          \"Hungary\",\n          \"Slovenia\",\n          \"Poland\"\n        ],\n        \"semantic_type\": \"\",\n        \"description\": \"\"\n      }\n    },\n    {\n      \"column\": \"Official and national Languages\",\n      \"properties\": {\n        \"dtype\": \"category\",\n        \"num_unique_values\": 24,\n        \"samples\": [\n          \"Hungarian\",\n          \"Slovenian\",\n          \"Polish\"\n        ],\n        \"semantic_type\": \"\",\n        \"description\": \"\"\n      }\n    },\n    {\n      \"column\": \"duration\",\n      \"properties\": {\n        \"dtype\": \"timedelta64[ns]\",\n        \"num_unique_values\": 10,\n        \"samples\": [\n          \"0 days 00:00:00\",\n          \"4 days 00:00:00\",\n          \"-364 days +00:00:00\"\n        ],\n        \"semantic_type\": \"\",\n        \"description\": \"\"\n      }\n    },\n    {\n      \"column\": \"month\",\n      \"properties\": {\n        \"dtype\": \"int32\",\n        \"num_unique_values\": 12,\n        \"samples\": [\n          8,\n          12,\n          9\n        ],\n        \"semantic_type\": \"\",\n        \"description\": \"\"\n      }\n    }\n  ]\n}"
            }
          },
          "metadata": {},
          "execution_count": 352
        }
      ],
      "source": [
        "df.sort_values('city')"
      ]
    },
    {
      "cell_type": "code",
      "execution_count": 353,
      "metadata": {
        "jupyter": {
          "outputs_hidden": false
        },
        "id": "HXzLyoftYkLW",
        "outputId": "b6774251-a612-4dc9-e4ce-912154cbac68",
        "colab": {
          "base_uri": "https://localhost:8080/"
        }
      },
      "outputs": [
        {
          "output_type": "stream",
          "name": "stdout",
          "text": [
            "df.sort_values(\"city\")"
          ]
        }
      ],
      "source": [
        "!cat ../solutions/05_44.py"
      ]
    },
    {
      "cell_type": "markdown",
      "metadata": {
        "id": "P2PoiSJNYkLW"
      },
      "source": [
        ">Sort df by ascending ***duration*** and descending number of ***Attendees***."
      ]
    },
    {
      "cell_type": "code",
      "execution_count": 356,
      "metadata": {
        "jupyter": {
          "outputs_hidden": false
        },
        "id": "2HS-Z55nYkLW",
        "outputId": "fdf30352-06fc-4fa7-fa9f-d48506c31608",
        "colab": {
          "base_uri": "https://localhost:8080/",
          "height": 826
        }
      },
      "outputs": [
        {
          "output_type": "execute_result",
          "data": {
            "text/plain": [
              "     index                                         CourseName   DateFrom  \\\n",
              "252    102                 Workshop on Fishery Products (FVO) 2016-12-01   \n",
              "163     13                 Foodborne Outbreaks Investigations 2016-04-29   \n",
              "67      39                                     Food Additives 2015-06-22   \n",
              "62      34                             Risk Assessment (Pest) 2015-06-15   \n",
              "125     97          Post-slaughter traceability of Meat (FVO) 2015-12-08   \n",
              "..     ...                                                ...        ...   \n",
              "19      19                       Food Hygiene and Flexibility 2015-03-08   \n",
              "61      33                       Food Hygiene and Flexibility 2015-06-14   \n",
              "116     88                       Food Hygiene and Flexibility 2015-11-08   \n",
              "149    121          EU Feed Hygiene Rules and HACCP auditing  2016-03-31   \n",
              "69      41  Food Hygiene at Primary Production (Aquatic An... 2015-06-28   \n",
              "\n",
              "        DateTo  Attendees       city    country    Country  \\\n",
              "252 2015-12-03          3     grange    Ireland    Ireland   \n",
              "163 2016-03-04          2     lisbon   Portugal   Portugal   \n",
              "67  2015-06-22          2       trim    Ireland    Ireland   \n",
              "62  2015-06-16          1    tallinn    Estonia    Estonia   \n",
              "125 2015-12-10          3     grange    Ireland    Ireland   \n",
              "..         ...        ...        ...        ...        ...   \n",
              "19  2015-03-13          1       graz    Austria    Austria   \n",
              "61  2015-06-19          1    vilnius  Lithuania  Lithuania   \n",
              "116 2015-11-13          1  barcelona      Spain      Spain   \n",
              "149 2016-06-03          2  barcelona      Spain      Spain   \n",
              "69  2015-10-02          1     venice      Italy      Italy   \n",
              "\n",
              "       Official and national Languages  duration  month  \n",
              "252                      Irish/English -364 days     12  \n",
              "163                         Portuguese  -56 days      4  \n",
              "67                       Irish/English    0 days      6  \n",
              "62                            Estonian    1 days      6  \n",
              "125                      Irish/English    2 days     12  \n",
              "..                                 ...       ...    ...  \n",
              "19   German/Slovene/Croatian/Hungarian    5 days      3  \n",
              "61                          Lithuanian    5 days      6  \n",
              "116    Spanish/Catalan/Galician/Basque    5 days     11  \n",
              "149    Spanish/Catalan/Galician/Basque   64 days      3  \n",
              "69                             Italian   96 days      6  \n",
              "\n",
              "[266 rows x 11 columns]"
            ],
            "text/html": [
              "\n",
              "  <div id=\"df-357352f1-2063-48b5-afe5-374faf3076bf\" class=\"colab-df-container\">\n",
              "    <div>\n",
              "<style scoped>\n",
              "    .dataframe tbody tr th:only-of-type {\n",
              "        vertical-align: middle;\n",
              "    }\n",
              "\n",
              "    .dataframe tbody tr th {\n",
              "        vertical-align: top;\n",
              "    }\n",
              "\n",
              "    .dataframe thead th {\n",
              "        text-align: right;\n",
              "    }\n",
              "</style>\n",
              "<table border=\"1\" class=\"dataframe\">\n",
              "  <thead>\n",
              "    <tr style=\"text-align: right;\">\n",
              "      <th></th>\n",
              "      <th>index</th>\n",
              "      <th>CourseName</th>\n",
              "      <th>DateFrom</th>\n",
              "      <th>DateTo</th>\n",
              "      <th>Attendees</th>\n",
              "      <th>city</th>\n",
              "      <th>country</th>\n",
              "      <th>Country</th>\n",
              "      <th>Official and national Languages</th>\n",
              "      <th>duration</th>\n",
              "      <th>month</th>\n",
              "    </tr>\n",
              "  </thead>\n",
              "  <tbody>\n",
              "    <tr>\n",
              "      <th>252</th>\n",
              "      <td>102</td>\n",
              "      <td>Workshop on Fishery Products (FVO)</td>\n",
              "      <td>2016-12-01</td>\n",
              "      <td>2015-12-03</td>\n",
              "      <td>3</td>\n",
              "      <td>grange</td>\n",
              "      <td>Ireland</td>\n",
              "      <td>Ireland</td>\n",
              "      <td>Irish/English</td>\n",
              "      <td>-364 days</td>\n",
              "      <td>12</td>\n",
              "    </tr>\n",
              "    <tr>\n",
              "      <th>163</th>\n",
              "      <td>13</td>\n",
              "      <td>Foodborne Outbreaks Investigations</td>\n",
              "      <td>2016-04-29</td>\n",
              "      <td>2016-03-04</td>\n",
              "      <td>2</td>\n",
              "      <td>lisbon</td>\n",
              "      <td>Portugal</td>\n",
              "      <td>Portugal</td>\n",
              "      <td>Portuguese</td>\n",
              "      <td>-56 days</td>\n",
              "      <td>4</td>\n",
              "    </tr>\n",
              "    <tr>\n",
              "      <th>67</th>\n",
              "      <td>39</td>\n",
              "      <td>Food Additives</td>\n",
              "      <td>2015-06-22</td>\n",
              "      <td>2015-06-22</td>\n",
              "      <td>2</td>\n",
              "      <td>trim</td>\n",
              "      <td>Ireland</td>\n",
              "      <td>Ireland</td>\n",
              "      <td>Irish/English</td>\n",
              "      <td>0 days</td>\n",
              "      <td>6</td>\n",
              "    </tr>\n",
              "    <tr>\n",
              "      <th>62</th>\n",
              "      <td>34</td>\n",
              "      <td>Risk Assessment (Pest)</td>\n",
              "      <td>2015-06-15</td>\n",
              "      <td>2015-06-16</td>\n",
              "      <td>1</td>\n",
              "      <td>tallinn</td>\n",
              "      <td>Estonia</td>\n",
              "      <td>Estonia</td>\n",
              "      <td>Estonian</td>\n",
              "      <td>1 days</td>\n",
              "      <td>6</td>\n",
              "    </tr>\n",
              "    <tr>\n",
              "      <th>125</th>\n",
              "      <td>97</td>\n",
              "      <td>Post-slaughter traceability of Meat (FVO)</td>\n",
              "      <td>2015-12-08</td>\n",
              "      <td>2015-12-10</td>\n",
              "      <td>3</td>\n",
              "      <td>grange</td>\n",
              "      <td>Ireland</td>\n",
              "      <td>Ireland</td>\n",
              "      <td>Irish/English</td>\n",
              "      <td>2 days</td>\n",
              "      <td>12</td>\n",
              "    </tr>\n",
              "    <tr>\n",
              "      <th>...</th>\n",
              "      <td>...</td>\n",
              "      <td>...</td>\n",
              "      <td>...</td>\n",
              "      <td>...</td>\n",
              "      <td>...</td>\n",
              "      <td>...</td>\n",
              "      <td>...</td>\n",
              "      <td>...</td>\n",
              "      <td>...</td>\n",
              "      <td>...</td>\n",
              "      <td>...</td>\n",
              "    </tr>\n",
              "    <tr>\n",
              "      <th>19</th>\n",
              "      <td>19</td>\n",
              "      <td>Food Hygiene and Flexibility</td>\n",
              "      <td>2015-03-08</td>\n",
              "      <td>2015-03-13</td>\n",
              "      <td>1</td>\n",
              "      <td>graz</td>\n",
              "      <td>Austria</td>\n",
              "      <td>Austria</td>\n",
              "      <td>German/Slovene/Croatian/Hungarian</td>\n",
              "      <td>5 days</td>\n",
              "      <td>3</td>\n",
              "    </tr>\n",
              "    <tr>\n",
              "      <th>61</th>\n",
              "      <td>33</td>\n",
              "      <td>Food Hygiene and Flexibility</td>\n",
              "      <td>2015-06-14</td>\n",
              "      <td>2015-06-19</td>\n",
              "      <td>1</td>\n",
              "      <td>vilnius</td>\n",
              "      <td>Lithuania</td>\n",
              "      <td>Lithuania</td>\n",
              "      <td>Lithuanian</td>\n",
              "      <td>5 days</td>\n",
              "      <td>6</td>\n",
              "    </tr>\n",
              "    <tr>\n",
              "      <th>116</th>\n",
              "      <td>88</td>\n",
              "      <td>Food Hygiene and Flexibility</td>\n",
              "      <td>2015-11-08</td>\n",
              "      <td>2015-11-13</td>\n",
              "      <td>1</td>\n",
              "      <td>barcelona</td>\n",
              "      <td>Spain</td>\n",
              "      <td>Spain</td>\n",
              "      <td>Spanish/Catalan/Galician/Basque</td>\n",
              "      <td>5 days</td>\n",
              "      <td>11</td>\n",
              "    </tr>\n",
              "    <tr>\n",
              "      <th>149</th>\n",
              "      <td>121</td>\n",
              "      <td>EU Feed Hygiene Rules and HACCP auditing</td>\n",
              "      <td>2016-03-31</td>\n",
              "      <td>2016-06-03</td>\n",
              "      <td>2</td>\n",
              "      <td>barcelona</td>\n",
              "      <td>Spain</td>\n",
              "      <td>Spain</td>\n",
              "      <td>Spanish/Catalan/Galician/Basque</td>\n",
              "      <td>64 days</td>\n",
              "      <td>3</td>\n",
              "    </tr>\n",
              "    <tr>\n",
              "      <th>69</th>\n",
              "      <td>41</td>\n",
              "      <td>Food Hygiene at Primary Production (Aquatic An...</td>\n",
              "      <td>2015-06-28</td>\n",
              "      <td>2015-10-02</td>\n",
              "      <td>1</td>\n",
              "      <td>venice</td>\n",
              "      <td>Italy</td>\n",
              "      <td>Italy</td>\n",
              "      <td>Italian</td>\n",
              "      <td>96 days</td>\n",
              "      <td>6</td>\n",
              "    </tr>\n",
              "  </tbody>\n",
              "</table>\n",
              "<p>266 rows × 11 columns</p>\n",
              "</div>\n",
              "    <div class=\"colab-df-buttons\">\n",
              "\n",
              "  <div class=\"colab-df-container\">\n",
              "    <button class=\"colab-df-convert\" onclick=\"convertToInteractive('df-357352f1-2063-48b5-afe5-374faf3076bf')\"\n",
              "            title=\"Convert this dataframe to an interactive table.\"\n",
              "            style=\"display:none;\">\n",
              "\n",
              "  <svg xmlns=\"http://www.w3.org/2000/svg\" height=\"24px\" viewBox=\"0 -960 960 960\">\n",
              "    <path d=\"M120-120v-720h720v720H120Zm60-500h600v-160H180v160Zm220 220h160v-160H400v160Zm0 220h160v-160H400v160ZM180-400h160v-160H180v160Zm440 0h160v-160H620v160ZM180-180h160v-160H180v160Zm440 0h160v-160H620v160Z\"/>\n",
              "  </svg>\n",
              "    </button>\n",
              "\n",
              "  <style>\n",
              "    .colab-df-container {\n",
              "      display:flex;\n",
              "      gap: 12px;\n",
              "    }\n",
              "\n",
              "    .colab-df-convert {\n",
              "      background-color: #E8F0FE;\n",
              "      border: none;\n",
              "      border-radius: 50%;\n",
              "      cursor: pointer;\n",
              "      display: none;\n",
              "      fill: #1967D2;\n",
              "      height: 32px;\n",
              "      padding: 0 0 0 0;\n",
              "      width: 32px;\n",
              "    }\n",
              "\n",
              "    .colab-df-convert:hover {\n",
              "      background-color: #E2EBFA;\n",
              "      box-shadow: 0px 1px 2px rgba(60, 64, 67, 0.3), 0px 1px 3px 1px rgba(60, 64, 67, 0.15);\n",
              "      fill: #174EA6;\n",
              "    }\n",
              "\n",
              "    .colab-df-buttons div {\n",
              "      margin-bottom: 4px;\n",
              "    }\n",
              "\n",
              "    [theme=dark] .colab-df-convert {\n",
              "      background-color: #3B4455;\n",
              "      fill: #D2E3FC;\n",
              "    }\n",
              "\n",
              "    [theme=dark] .colab-df-convert:hover {\n",
              "      background-color: #434B5C;\n",
              "      box-shadow: 0px 1px 3px 1px rgba(0, 0, 0, 0.15);\n",
              "      filter: drop-shadow(0px 1px 2px rgba(0, 0, 0, 0.3));\n",
              "      fill: #FFFFFF;\n",
              "    }\n",
              "  </style>\n",
              "\n",
              "    <script>\n",
              "      const buttonEl =\n",
              "        document.querySelector('#df-357352f1-2063-48b5-afe5-374faf3076bf button.colab-df-convert');\n",
              "      buttonEl.style.display =\n",
              "        google.colab.kernel.accessAllowed ? 'block' : 'none';\n",
              "\n",
              "      async function convertToInteractive(key) {\n",
              "        const element = document.querySelector('#df-357352f1-2063-48b5-afe5-374faf3076bf');\n",
              "        const dataTable =\n",
              "          await google.colab.kernel.invokeFunction('convertToInteractive',\n",
              "                                                    [key], {});\n",
              "        if (!dataTable) return;\n",
              "\n",
              "        const docLinkHtml = 'Like what you see? Visit the ' +\n",
              "          '<a target=\"_blank\" href=https://colab.research.google.com/notebooks/data_table.ipynb>data table notebook</a>'\n",
              "          + ' to learn more about interactive tables.';\n",
              "        element.innerHTML = '';\n",
              "        dataTable['output_type'] = 'display_data';\n",
              "        await google.colab.output.renderOutput(dataTable, element);\n",
              "        const docLink = document.createElement('div');\n",
              "        docLink.innerHTML = docLinkHtml;\n",
              "        element.appendChild(docLink);\n",
              "      }\n",
              "    </script>\n",
              "  </div>\n",
              "\n",
              "\n",
              "    <div id=\"df-52cbefb5-70f6-4343-937d-c8c3827d1284\">\n",
              "      <button class=\"colab-df-quickchart\" onclick=\"quickchart('df-52cbefb5-70f6-4343-937d-c8c3827d1284')\"\n",
              "                title=\"Suggest charts\"\n",
              "                style=\"display:none;\">\n",
              "\n",
              "<svg xmlns=\"http://www.w3.org/2000/svg\" height=\"24px\"viewBox=\"0 0 24 24\"\n",
              "     width=\"24px\">\n",
              "    <g>\n",
              "        <path d=\"M19 3H5c-1.1 0-2 .9-2 2v14c0 1.1.9 2 2 2h14c1.1 0 2-.9 2-2V5c0-1.1-.9-2-2-2zM9 17H7v-7h2v7zm4 0h-2V7h2v10zm4 0h-2v-4h2v4z\"/>\n",
              "    </g>\n",
              "</svg>\n",
              "      </button>\n",
              "\n",
              "<style>\n",
              "  .colab-df-quickchart {\n",
              "      --bg-color: #E8F0FE;\n",
              "      --fill-color: #1967D2;\n",
              "      --hover-bg-color: #E2EBFA;\n",
              "      --hover-fill-color: #174EA6;\n",
              "      --disabled-fill-color: #AAA;\n",
              "      --disabled-bg-color: #DDD;\n",
              "  }\n",
              "\n",
              "  [theme=dark] .colab-df-quickchart {\n",
              "      --bg-color: #3B4455;\n",
              "      --fill-color: #D2E3FC;\n",
              "      --hover-bg-color: #434B5C;\n",
              "      --hover-fill-color: #FFFFFF;\n",
              "      --disabled-bg-color: #3B4455;\n",
              "      --disabled-fill-color: #666;\n",
              "  }\n",
              "\n",
              "  .colab-df-quickchart {\n",
              "    background-color: var(--bg-color);\n",
              "    border: none;\n",
              "    border-radius: 50%;\n",
              "    cursor: pointer;\n",
              "    display: none;\n",
              "    fill: var(--fill-color);\n",
              "    height: 32px;\n",
              "    padding: 0;\n",
              "    width: 32px;\n",
              "  }\n",
              "\n",
              "  .colab-df-quickchart:hover {\n",
              "    background-color: var(--hover-bg-color);\n",
              "    box-shadow: 0 1px 2px rgba(60, 64, 67, 0.3), 0 1px 3px 1px rgba(60, 64, 67, 0.15);\n",
              "    fill: var(--button-hover-fill-color);\n",
              "  }\n",
              "\n",
              "  .colab-df-quickchart-complete:disabled,\n",
              "  .colab-df-quickchart-complete:disabled:hover {\n",
              "    background-color: var(--disabled-bg-color);\n",
              "    fill: var(--disabled-fill-color);\n",
              "    box-shadow: none;\n",
              "  }\n",
              "\n",
              "  .colab-df-spinner {\n",
              "    border: 2px solid var(--fill-color);\n",
              "    border-color: transparent;\n",
              "    border-bottom-color: var(--fill-color);\n",
              "    animation:\n",
              "      spin 1s steps(1) infinite;\n",
              "  }\n",
              "\n",
              "  @keyframes spin {\n",
              "    0% {\n",
              "      border-color: transparent;\n",
              "      border-bottom-color: var(--fill-color);\n",
              "      border-left-color: var(--fill-color);\n",
              "    }\n",
              "    20% {\n",
              "      border-color: transparent;\n",
              "      border-left-color: var(--fill-color);\n",
              "      border-top-color: var(--fill-color);\n",
              "    }\n",
              "    30% {\n",
              "      border-color: transparent;\n",
              "      border-left-color: var(--fill-color);\n",
              "      border-top-color: var(--fill-color);\n",
              "      border-right-color: var(--fill-color);\n",
              "    }\n",
              "    40% {\n",
              "      border-color: transparent;\n",
              "      border-right-color: var(--fill-color);\n",
              "      border-top-color: var(--fill-color);\n",
              "    }\n",
              "    60% {\n",
              "      border-color: transparent;\n",
              "      border-right-color: var(--fill-color);\n",
              "    }\n",
              "    80% {\n",
              "      border-color: transparent;\n",
              "      border-right-color: var(--fill-color);\n",
              "      border-bottom-color: var(--fill-color);\n",
              "    }\n",
              "    90% {\n",
              "      border-color: transparent;\n",
              "      border-bottom-color: var(--fill-color);\n",
              "    }\n",
              "  }\n",
              "</style>\n",
              "\n",
              "      <script>\n",
              "        async function quickchart(key) {\n",
              "          const quickchartButtonEl =\n",
              "            document.querySelector('#' + key + ' button');\n",
              "          quickchartButtonEl.disabled = true;  // To prevent multiple clicks.\n",
              "          quickchartButtonEl.classList.add('colab-df-spinner');\n",
              "          try {\n",
              "            const charts = await google.colab.kernel.invokeFunction(\n",
              "                'suggestCharts', [key], {});\n",
              "          } catch (error) {\n",
              "            console.error('Error during call to suggestCharts:', error);\n",
              "          }\n",
              "          quickchartButtonEl.classList.remove('colab-df-spinner');\n",
              "          quickchartButtonEl.classList.add('colab-df-quickchart-complete');\n",
              "        }\n",
              "        (() => {\n",
              "          let quickchartButtonEl =\n",
              "            document.querySelector('#df-52cbefb5-70f6-4343-937d-c8c3827d1284 button');\n",
              "          quickchartButtonEl.style.display =\n",
              "            google.colab.kernel.accessAllowed ? 'block' : 'none';\n",
              "        })();\n",
              "      </script>\n",
              "    </div>\n",
              "\n",
              "    </div>\n",
              "  </div>\n"
            ],
            "application/vnd.google.colaboratory.intrinsic+json": {
              "type": "dataframe",
              "summary": "{\n  \"name\": \"df\",\n  \"rows\": 266,\n  \"fields\": [\n    {\n      \"column\": \"index\",\n      \"properties\": {\n        \"dtype\": \"number\",\n        \"std\": 35,\n        \"min\": 0,\n        \"max\": 121,\n        \"num_unique_values\": 122,\n        \"samples\": [\n          118,\n          12,\n          23\n        ],\n        \"semantic_type\": \"\",\n        \"description\": \"\"\n      }\n    },\n    {\n      \"column\": \"CourseName\",\n      \"properties\": {\n        \"dtype\": \"category\",\n        \"num_unique_values\": 70,\n        \"samples\": [\n          \"Microbiological Criteria\",\n          \"Workshop on Fishery Products (FVO)\",\n          \"Feed Law\"\n        ],\n        \"semantic_type\": \"\",\n        \"description\": \"\"\n      }\n    },\n    {\n      \"column\": \"DateFrom\",\n      \"properties\": {\n        \"dtype\": \"date\",\n        \"min\": \"2015-01-12 00:00:00\",\n        \"max\": \"2017-03-28 00:00:00\",\n        \"num_unique_values\": 138,\n        \"samples\": [\n          \"2016-09-26 00:00:00\",\n          \"2015-09-28 00:00:00\",\n          \"2016-06-14 00:00:00\"\n        ],\n        \"semantic_type\": \"\",\n        \"description\": \"\"\n      }\n    },\n    {\n      \"column\": \"DateTo\",\n      \"properties\": {\n        \"dtype\": \"date\",\n        \"min\": \"2015-01-16 00:00:00\",\n        \"max\": \"2017-03-31 00:00:00\",\n        \"num_unique_values\": 114,\n        \"samples\": [\n          \"2016-04-08 00:00:00\",\n          \"2015-12-10 00:00:00\",\n          \"2015-05-07 00:00:00\"\n        ],\n        \"semantic_type\": \"\",\n        \"description\": \"\"\n      }\n    },\n    {\n      \"column\": \"Attendees\",\n      \"properties\": {\n        \"dtype\": \"number\",\n        \"std\": 1,\n        \"min\": 1,\n        \"max\": 13,\n        \"num_unique_values\": 7,\n        \"samples\": [\n          3,\n          2,\n          5\n        ],\n        \"semantic_type\": \"\",\n        \"description\": \"\"\n      }\n    },\n    {\n      \"column\": \"city\",\n      \"properties\": {\n        \"dtype\": \"category\",\n        \"num_unique_values\": 63,\n        \"samples\": [\n          \"graz\",\n          \"coimbra\",\n          \"grange\"\n        ],\n        \"semantic_type\": \"\",\n        \"description\": \"\"\n      }\n    },\n    {\n      \"column\": \"country\",\n      \"properties\": {\n        \"dtype\": \"category\",\n        \"num_unique_values\": 24,\n        \"samples\": [\n          \"Czech Republic\",\n          \"Poland\",\n          \"Ireland\"\n        ],\n        \"semantic_type\": \"\",\n        \"description\": \"\"\n      }\n    },\n    {\n      \"column\": \"Country\",\n      \"properties\": {\n        \"dtype\": \"category\",\n        \"num_unique_values\": 24,\n        \"samples\": [\n          \"Czech Republic\",\n          \"Poland\",\n          \"Ireland\"\n        ],\n        \"semantic_type\": \"\",\n        \"description\": \"\"\n      }\n    },\n    {\n      \"column\": \"Official and national Languages\",\n      \"properties\": {\n        \"dtype\": \"category\",\n        \"num_unique_values\": 24,\n        \"samples\": [\n          \"Czech\",\n          \"Polish\",\n          \"Irish/English\"\n        ],\n        \"semantic_type\": \"\",\n        \"description\": \"\"\n      }\n    },\n    {\n      \"column\": \"duration\",\n      \"properties\": {\n        \"dtype\": \"timedelta64[ns]\",\n        \"num_unique_values\": 10,\n        \"samples\": [\n          \"64 days 00:00:00\",\n          \"-56 days +00:00:00\",\n          \"3 days 00:00:00\"\n        ],\n        \"semantic_type\": \"\",\n        \"description\": \"\"\n      }\n    },\n    {\n      \"column\": \"month\",\n      \"properties\": {\n        \"dtype\": \"int32\",\n        \"num_unique_values\": 12,\n        \"samples\": [\n          7,\n          1,\n          12\n        ],\n        \"semantic_type\": \"\",\n        \"description\": \"\"\n      }\n    }\n  ]\n}"
            }
          },
          "metadata": {},
          "execution_count": 356
        }
      ],
      "source": [
        "df.sort_values(by = ['duration', 'Attendees'], ascending = [True, False])"
      ]
    },
    {
      "cell_type": "code",
      "execution_count": 357,
      "metadata": {
        "jupyter": {
          "outputs_hidden": false
        },
        "id": "M4xghNNKYkLW",
        "outputId": "36c2a1a2-2c56-4c33-9816-bb4f5c6ef474",
        "colab": {
          "base_uri": "https://localhost:8080/"
        }
      },
      "outputs": [
        {
          "output_type": "stream",
          "name": "stdout",
          "text": [
            "df.sort_values([\"duration\", \"Attendees\"], ascending=[True, False])"
          ]
        }
      ],
      "source": [
        "!cat ../solutions/05_45.py"
      ]
    },
    {
      "cell_type": "markdown",
      "metadata": {
        "id": "vvKh5TKCYkLX"
      },
      "source": [
        "We can see that there was a couple of issues with dates data entry..."
      ]
    },
    {
      "cell_type": "markdown",
      "metadata": {
        "id": "oYc8uMEoYkLX"
      },
      "source": [
        "---\n",
        "\n",
        "<div class=\"alert alert-block alert-warning\" style=\"padding: 0px; padding-left: 20px; padding-top: 5px;\"><h2 style=\"color: #301E40\">\n",
        "Group By\n",
        "</h2><br>\n",
        "</div>"
      ]
    },
    {
      "cell_type": "markdown",
      "metadata": {
        "id": "M4gjvoBTYkLX"
      },
      "source": [
        ">Group df by ***city***. Assign the grouped data to df_gr."
      ]
    },
    {
      "cell_type": "code",
      "execution_count": 358,
      "metadata": {
        "jupyter": {
          "outputs_hidden": false
        },
        "id": "jvJSdLu-YkLX"
      },
      "outputs": [],
      "source": [
        "df_gr = df.groupby('city')"
      ]
    },
    {
      "cell_type": "code",
      "execution_count": 359,
      "metadata": {
        "jupyter": {
          "outputs_hidden": false
        },
        "id": "t38LLHffYkLX",
        "outputId": "5993a15c-acf8-47b0-e819-bf2b15a1dc60",
        "colab": {
          "base_uri": "https://localhost:8080/"
        }
      },
      "outputs": [
        {
          "output_type": "stream",
          "name": "stdout",
          "text": [
            "df_gr = df.groupby(\"city\")"
          ]
        }
      ],
      "source": [
        "!cat ../solutions/05_46.py"
      ]
    },
    {
      "cell_type": "markdown",
      "metadata": {
        "id": "sjsaDk3-YkLX"
      },
      "source": [
        ">Get the mean number of ***Attendees*** for the grouped data."
      ]
    },
    {
      "cell_type": "code",
      "execution_count": 362,
      "metadata": {
        "jupyter": {
          "outputs_hidden": false
        },
        "id": "A8rpmkYWYkLX",
        "outputId": "7a6e7810-e4c3-413a-da30-9abeb2559559",
        "colab": {
          "base_uri": "https://localhost:8080/",
          "height": 141
        }
      },
      "outputs": [
        {
          "output_type": "error",
          "ename": "NameError",
          "evalue": "name 'average' is not defined",
          "traceback": [
            "\u001b[0;31m---------------------------------------------------------------------------\u001b[0m",
            "\u001b[0;31mNameError\u001b[0m                                 Traceback (most recent call last)",
            "\u001b[0;32m<ipython-input-362-c7ed9eab58a7>\u001b[0m in \u001b[0;36m<cell line: 0>\u001b[0;34m()\u001b[0m\n\u001b[0;32m----> 1\u001b[0;31m \u001b[0mdf_gr\u001b[0m\u001b[0;34m[\u001b[0m\u001b[0;34m'Attendees'\u001b[0m\u001b[0;34m]\u001b[0m\u001b[0;34m.\u001b[0m\u001b[0mapply\u001b[0m\u001b[0;34m(\u001b[0m\u001b[0mf\u001b[0m \u001b[0;34m=\u001b[0m \u001b[0maverage\u001b[0m\u001b[0;34m)\u001b[0m\u001b[0;34m\u001b[0m\u001b[0;34m\u001b[0m\u001b[0m\n\u001b[0m",
            "\u001b[0;31mNameError\u001b[0m: name 'average' is not defined"
          ]
        }
      ],
      "source": [
        "df_gr['Attendees'].apply(f = average)"
      ]
    },
    {
      "cell_type": "code",
      "source": [
        "df_gr['Attendees'].agg(func = 'mean')"
      ],
      "metadata": {
        "id": "ZX3BdNxeO1Bs",
        "outputId": "e664b89c-f5a8-4276-a05b-b3c33feea297",
        "colab": {
          "base_uri": "https://localhost:8080/",
          "height": 490
        }
      },
      "execution_count": 366,
      "outputs": [
        {
          "output_type": "execute_result",
          "data": {
            "text/plain": [
              "city\n",
              "NullCityDenmark    3.000000\n",
              "NullCityPoland     1.000000\n",
              "alicante           1.000000\n",
              "amsterdam          1.666667\n",
              "antwerp            1.666667\n",
              "                     ...   \n",
              "venice             1.700000\n",
              "vienna             2.750000\n",
              "vilnius            2.000000\n",
              "warsaw             2.000000\n",
              "zagreb             1.250000\n",
              "Name: Attendees, Length: 63, dtype: float64"
            ],
            "text/html": [
              "<div>\n",
              "<style scoped>\n",
              "    .dataframe tbody tr th:only-of-type {\n",
              "        vertical-align: middle;\n",
              "    }\n",
              "\n",
              "    .dataframe tbody tr th {\n",
              "        vertical-align: top;\n",
              "    }\n",
              "\n",
              "    .dataframe thead th {\n",
              "        text-align: right;\n",
              "    }\n",
              "</style>\n",
              "<table border=\"1\" class=\"dataframe\">\n",
              "  <thead>\n",
              "    <tr style=\"text-align: right;\">\n",
              "      <th></th>\n",
              "      <th>Attendees</th>\n",
              "    </tr>\n",
              "    <tr>\n",
              "      <th>city</th>\n",
              "      <th></th>\n",
              "    </tr>\n",
              "  </thead>\n",
              "  <tbody>\n",
              "    <tr>\n",
              "      <th>NullCityDenmark</th>\n",
              "      <td>3.000000</td>\n",
              "    </tr>\n",
              "    <tr>\n",
              "      <th>NullCityPoland</th>\n",
              "      <td>1.000000</td>\n",
              "    </tr>\n",
              "    <tr>\n",
              "      <th>alicante</th>\n",
              "      <td>1.000000</td>\n",
              "    </tr>\n",
              "    <tr>\n",
              "      <th>amsterdam</th>\n",
              "      <td>1.666667</td>\n",
              "    </tr>\n",
              "    <tr>\n",
              "      <th>antwerp</th>\n",
              "      <td>1.666667</td>\n",
              "    </tr>\n",
              "    <tr>\n",
              "      <th>...</th>\n",
              "      <td>...</td>\n",
              "    </tr>\n",
              "    <tr>\n",
              "      <th>venice</th>\n",
              "      <td>1.700000</td>\n",
              "    </tr>\n",
              "    <tr>\n",
              "      <th>vienna</th>\n",
              "      <td>2.750000</td>\n",
              "    </tr>\n",
              "    <tr>\n",
              "      <th>vilnius</th>\n",
              "      <td>2.000000</td>\n",
              "    </tr>\n",
              "    <tr>\n",
              "      <th>warsaw</th>\n",
              "      <td>2.000000</td>\n",
              "    </tr>\n",
              "    <tr>\n",
              "      <th>zagreb</th>\n",
              "      <td>1.250000</td>\n",
              "    </tr>\n",
              "  </tbody>\n",
              "</table>\n",
              "<p>63 rows × 1 columns</p>\n",
              "</div><br><label><b>dtype:</b> float64</label>"
            ]
          },
          "metadata": {},
          "execution_count": 366
        }
      ]
    },
    {
      "cell_type": "code",
      "execution_count": 367,
      "metadata": {
        "jupyter": {
          "outputs_hidden": false
        },
        "id": "ZT_Iw0y9YkLX",
        "outputId": "08651c93-3373-45f6-a916-fb85aecf7f04",
        "colab": {
          "base_uri": "https://localhost:8080/"
        }
      },
      "outputs": [
        {
          "output_type": "stream",
          "name": "stdout",
          "text": [
            "df_gr[\"Attendees\"].mean()"
          ]
        }
      ],
      "source": [
        "!cat ../solutions/05_47.py\n"
      ]
    }
  ],
  "metadata": {
    "kernelspec": {
      "display_name": "Python 3 (system-wide)",
      "language": "python",
      "name": "python3"
    },
    "language_info": {
      "codemirror_mode": {
        "name": "ipython",
        "version": 3
      },
      "file_extension": ".py",
      "mimetype": "text/x-python",
      "name": "python",
      "nbconvert_exporter": "python",
      "pygments_lexer": "ipython3",
      "version": "3.8.5"
    },
    "colab": {
      "provenance": []
    }
  },
  "nbformat": 4,
  "nbformat_minor": 0
}