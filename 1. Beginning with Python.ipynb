{
  "cells": [
    {
      "cell_type": "markdown",
      "metadata": {
        "id": "ZQYkrjBb0MaS"
      },
      "source": [
        "<div class=\"alert alert-block alert-info\" style=\"background-color: #301E40; border: 0px; -moz-border-radius: 10px; -webkit-border-radius: 10px;\">\n",
        "<br/><br/>\n",
        "<h1 style=\"font-size: 45px; color: white; align: center;\"><center>\n",
        "<img src=\"https://raw.githubusercontent.com/HumbleData/beginners-data-workshop/master/media/humble-data-logo-white-transparent.png\" width=\"250px\" /><br/><br/>\n",
        "Introduction to Python\n",
        "</center></h1>\n",
        "</div>"
      ]
    },
    {
      "cell_type": "markdown",
      "metadata": {
        "id": "ifkTGZr40MaW"
      },
      "source": [
        "## Welcome to learning Python!\n",
        "\n",
        "These notebooks contain a mix of text and code. This makes it easy to experiment with code and keep documentation like this in the same place. Another nice thing about these notebooks is that you can execute each cell individually and therefore work incrementally with your code. If you want to execute a cell, you can press the \"►\" button above when you have highlighted the cell. Alternatively, you can hit **Shift + Enter** to execute and progress to next cell or alternatively **Ctrl + Enter** (Win) or **Cmd + Enter** (Mac).\n",
        "\n",
        "We will walk you through different aspects of the Python language interactively. Take your time to experiment with it if you like and don't hesitate to ask or Google things. One of the first lessons in programming is using the documentation and information shared by other programmers. Jupyter has another trick, where you can put your cursor into the brackets of a function call such as `print()` and hit **Shift + Tab**. This will let you see the documentation of a function directly in the notebook (*pro-tip*: you can hit it up to four times for different effects).\n",
        "\n",
        "As for Python itself, one of the big strengths of Python is the extensibility. It has a surprising amount of functionality directly within the core language, however, you can `import` almost arbitrary code others make available as libraries. Below you can see a special import that shows you the \"Zen of Python\" a set of guidelines that could guide your programming journey.\""
      ]
    },
    {
      "metadata": {
        "colab": {
          "base_uri": "https://localhost:8080/"
        },
        "id": "B1luKDnh0MaX",
        "outputId": "f6d19e1a-bb4d-4a66-ecd6-02a29f716562"
      },
      "cell_type": "code",
      "outputs": [
        {
          "output_type": "stream",
          "name": "stdout",
          "text": [
            "The Zen of Python, by Tim Peters\n",
            "\n",
            "Beautiful is better than ugly.\n",
            "Explicit is better than implicit.\n",
            "Simple is better than complex.\n",
            "Complex is better than complicated.\n",
            "Flat is better than nested.\n",
            "Sparse is better than dense.\n",
            "Readability counts.\n",
            "Special cases aren't special enough to break the rules.\n",
            "Although practicality beats purity.\n",
            "Errors should never pass silently.\n",
            "Unless explicitly silenced.\n",
            "In the face of ambiguity, refuse the temptation to guess.\n",
            "There should be one-- and preferably only one --obvious way to do it.\n",
            "Although that way may not be obvious at first unless you're Dutch.\n",
            "Now is better than never.\n",
            "Although never is often better than *right* now.\n",
            "If the implementation is hard to explain, it's a bad idea.\n",
            "If the implementation is easy to explain, it may be a good idea.\n",
            "Namespaces are one honking great idea -- let's do more of those!\n"
          ]
        }
      ],
      "execution_count": 1,
      "source": [
        "# We can use comments to document our code in a coding cell.\n",
        "import this  # Zen of Python"
      ]
    },
    {
      "cell_type": "code",
      "source": [
        "!git clone https://github.com/HumbleData/beginners-data-workshop.git\n",
        "!cp -r beginners-data-workshop/media/ .\n",
        "!cp -r beginners-data-workshop/data/ .\n",
        "!cp -r beginners-data-workshop/solutions/ .\n",
        "!rm -r beginners-data-workshop/"
      ],
      "metadata": {
        "colab": {
          "base_uri": "https://localhost:8080/"
        },
        "id": "qrbakows2Vth",
        "outputId": "a93bc936-de3d-41a3-d3e4-1444c8a49e56"
      },
      "execution_count": 14,
      "outputs": [
        {
          "output_type": "stream",
          "name": "stdout",
          "text": [
            "Cloning into 'beginners-data-workshop'...\n",
            "remote: Enumerating objects: 947, done.\u001b[K\n",
            "remote: Counting objects: 100% (939/939), done.\u001b[K\n",
            "remote: Compressing objects: 100% (370/370), done.\u001b[K\n",
            "remote: Total 947 (delta 432), reused 868 (delta 389), pack-reused 8 (from 1)\u001b[K\n",
            "Receiving objects: 100% (947/947), 4.58 MiB | 23.33 MiB/s, done.\n",
            "Resolving deltas: 100% (432/432), done.\n"
          ]
        }
      ]
    },
    {
      "metadata": {
        "id": "CDuX8dk-0Mab"
      },
      "cell_type": "markdown",
      "source": [
        "**--> Simple is better than complex.**  \n",
        "It is really easy to print ***Hello World*** in Python:"
      ]
    },
    {
      "metadata": {
        "colab": {
          "base_uri": "https://localhost:8080/"
        },
        "id": "Si74ilPD0Mad",
        "outputId": "74522edc-3655-44ab-8ce3-b0a543f3a76a"
      },
      "cell_type": "code",
      "outputs": [
        {
          "output_type": "stream",
          "name": "stdout",
          "text": [
            "Hello World!\n"
          ]
        }
      ],
      "execution_count": 2,
      "source": [
        "print('Hello World!')"
      ]
    },
    {
      "metadata": {
        "id": "EnFszSnE0Maf"
      },
      "cell_type": "markdown",
      "source": [
        "**PEP 8** is Python's style guide. You can find it here:\n",
        "https://www.python.org/dev/peps/pep-0008/\n",
        "\n",
        "It is good to know about, but when you become a professional programmer there are programs called a \"linter\" that will help you adhere to PEP 8."
      ]
    },
    {
      "metadata": {
        "id": "eTHCq78_0Mah"
      },
      "cell_type": "markdown",
      "source": [
        "<div class=\"alert alert-block alert-warning\" style=\"padding: 0px; padding-left: 20px; padding-top: 5px;\"><h2 style=\"color: #301E40\">\n",
        "Variables\n",
        "</h2><br>\n",
        "</div>"
      ]
    },
    {
      "metadata": {
        "id": "ZQMK9Pki0Maj"
      },
      "cell_type": "markdown",
      "source": [
        "In programming it's very useful to store values. Accessing values through names is called a variable. Python is very user-friendly in that it will let you store most things in a variable, without making space in the computer's space explicitly. Moreover, computers need to differentiate between the type of data, such as, `5` being an integer and `'Hello'` being a string, but Python attempts to handle these intuitively for you. You will learn about the different types in the following sections!\n",
        "\n",
        "**Python is an object oriented programming language. You do not need to declare variables (or their types) before using them as every variable in Python is an object.**"
      ]
    },
    {
      "metadata": {
        "id": "xQF81EF90Mak"
      },
      "cell_type": "code",
      "outputs": [],
      "execution_count": 3,
      "source": [
        "name = 'Sandrine'"
      ]
    },
    {
      "metadata": {
        "colab": {
          "base_uri": "https://localhost:8080/"
        },
        "id": "KjlO2D050Mal",
        "outputId": "3401b848-06a5-44d7-9992-5e75e9104b00"
      },
      "cell_type": "code",
      "outputs": [
        {
          "output_type": "stream",
          "name": "stdout",
          "text": [
            "Sandrine\n"
          ]
        }
      ],
      "execution_count": 4,
      "source": [
        "print(name)"
      ]
    },
    {
      "metadata": {
        "id": "gtulj_MT0Mal"
      },
      "cell_type": "markdown",
      "source": [
        "Moreover, variables can easily be updated. Try it out below!"
      ]
    },
    {
      "metadata": {
        "id": "2x1iUMFw0Mam"
      },
      "cell_type": "markdown",
      "source": [
        "---\n",
        "\n",
        "***Note***: when you see cells that starts with `# !cat` means that it is a cell that can give you ***a*** solution. Remember there can be more than one solution to a problem in programming!\n",
        "\n",
        "If you would like to see the solution, you will have to remove the `#` using **Ctrl + /** (Windows) or **Cmd + /** (macOS) and then run the cell.\n",
        "\n",
        "Try solving it yourself before getting the solution.\n",
        "\n",
        "\n",
        "---"
      ]
    },
    {
      "metadata": {
        "id": "iCAyg8OE0Mam"
      },
      "cell_type": "markdown",
      "source": [
        ">Assign another string to the variable 'name' and print this variable"
      ]
    },
    {
      "metadata": {
        "colab": {
          "base_uri": "https://localhost:8080/"
        },
        "id": "17Qc-dNF0Mam",
        "outputId": "ce73f362-fb49-4e5d-9ff4-2bcfd95dfbb7"
      },
      "cell_type": "code",
      "outputs": [
        {
          "output_type": "stream",
          "name": "stdout",
          "text": [
            "pycon\n"
          ]
        }
      ],
      "execution_count": 6,
      "source": [
        "name = \"pycon\"\n",
        "print(name)"
      ]
    },
    {
      "metadata": {
        "colab": {
          "base_uri": "https://localhost:8080/"
        },
        "id": "99ZLsucU0Mam",
        "outputId": "75d67cbe-2cc6-4fb3-f056-76c82b88e29c"
      },
      "cell_type": "code",
      "outputs": [
        {
          "output_type": "stream",
          "name": "stdout",
          "text": [
            "cat: solutions/01_01.py: No such file or directory\n"
          ]
        }
      ],
      "execution_count": 12,
      "source": [
        "!cat solutions/01_01.py"
      ]
    },
    {
      "metadata": {
        "id": "axvFFigK0Mam"
      },
      "cell_type": "markdown",
      "source": [
        "**!!! Variable can change type when re-assigned.**"
      ]
    },
    {
      "metadata": {
        "id": "E_ZiEInY0Mam"
      },
      "cell_type": "markdown",
      "source": [
        ">Assign a number (without quotes) to the variable 'name' and print this variable"
      ]
    },
    {
      "metadata": {
        "colab": {
          "base_uri": "https://localhost:8080/"
        },
        "id": "L_oR49H_0Man",
        "outputId": "5ba516f8-7b39-4834-a7f0-8a0176d19db8"
      },
      "cell_type": "code",
      "outputs": [
        {
          "output_type": "stream",
          "name": "stdout",
          "text": [
            "2\n"
          ]
        }
      ],
      "execution_count": 8,
      "source": [
        "name = 2\n",
        "print(name)"
      ]
    },
    {
      "metadata": {
        "colab": {
          "base_uri": "https://localhost:8080/"
        },
        "id": "OGen9YvZ0Man",
        "outputId": "c42d5dde-bde3-4e29-a41e-059a93b512ab"
      },
      "cell_type": "code",
      "outputs": [
        {
          "output_type": "stream",
          "name": "stdout",
          "text": [
            "name = 8\n",
            "print(name)"
          ]
        }
      ],
      "execution_count": 15,
      "source": [
        "!cat solutions/01_02.py"
      ]
    },
    {
      "metadata": {
        "id": "1QKqveF80Man"
      },
      "cell_type": "markdown",
      "source": [
        "---"
      ]
    },
    {
      "metadata": {
        "id": "d0Ab2Yt00Man"
      },
      "cell_type": "markdown",
      "source": [
        "<div class=\"alert alert-block alert-warning\" style=\"padding: 0px; padding-left: 20px; padding-top: 5px;\"><h2 style=\"color: #301E40\">\n",
        "Strings\n",
        "</h2><br>\n",
        "</div>"
      ]
    },
    {
      "metadata": {
        "id": "MnibboA80Man"
      },
      "cell_type": "markdown",
      "source": [
        "A string always begins and ends with a single ( ' ) or double ( \\\" ) quotes. There is no difference, except if there is an apostrophe ( ' ) inside the string."
      ]
    },
    {
      "metadata": {
        "colab": {
          "base_uri": "https://localhost:8080/",
          "height": 35
        },
        "id": "bZVsW2gz0Man",
        "outputId": "e13555e7-1aa4-4c78-ac82-82c625438b97"
      },
      "cell_type": "code",
      "outputs": [
        {
          "output_type": "execute_result",
          "data": {
            "text/plain": [
              "'Beginners Data Workshop'"
            ],
            "application/vnd.google.colaboratory.intrinsic+json": {
              "type": "string"
            }
          },
          "metadata": {},
          "execution_count": 16
        }
      ],
      "execution_count": 16,
      "source": [
        "'Beginners Data Workshop'"
      ]
    },
    {
      "metadata": {
        "colab": {
          "base_uri": "https://localhost:8080/",
          "height": 35
        },
        "id": "rs2JXWbj0Man",
        "outputId": "c58e83ad-b6da-497a-b181-fc29a953201b"
      },
      "cell_type": "code",
      "outputs": [
        {
          "output_type": "execute_result",
          "data": {
            "text/plain": [
              "\"Beginner's Data Workshop\""
            ],
            "application/vnd.google.colaboratory.intrinsic+json": {
              "type": "string"
            }
          },
          "metadata": {},
          "execution_count": 17
        }
      ],
      "execution_count": 17,
      "source": [
        "\"Beginner's Data Workshop\""
      ]
    },
    {
      "metadata": {
        "id": "XaVz7Cei0Man"
      },
      "cell_type": "markdown",
      "source": [
        ">Write *I'm enjoying this workshop!* using double quotes, and then single quotes."
      ]
    },
    {
      "metadata": {
        "colab": {
          "base_uri": "https://localhost:8080/",
          "height": 35
        },
        "id": "87gBCKy-0Mao",
        "outputId": "1b88b76f-fe54-4e44-a6a8-3bc851c09a47"
      },
      "cell_type": "code",
      "outputs": [
        {
          "output_type": "execute_result",
          "data": {
            "text/plain": [
              "\"While I'md enjoying this workshop! using double quotes, and then single quotes.\""
            ],
            "application/vnd.google.colaboratory.intrinsic+json": {
              "type": "string"
            }
          },
          "metadata": {},
          "execution_count": 18
        }
      ],
      "execution_count": 18,
      "source": [
        "# double quotes\n",
        "\"I'm enjoying this workshop! using double quotes, and then single quotes.\"\n"
      ]
    },
    {
      "metadata": {
        "colab": {
          "base_uri": "https://localhost:8080/"
        },
        "id": "QlcXseKe0Mao",
        "outputId": "076635b4-2223-4d96-95dd-f8f43aeeba29"
      },
      "cell_type": "code",
      "outputs": [
        {
          "output_type": "stream",
          "name": "stdout",
          "text": [
            "\"I'm enjoying this workshop!\""
          ]
        }
      ],
      "execution_count": 19,
      "source": [
        "!cat solutions/01_03.py"
      ]
    },
    {
      "metadata": {
        "colab": {
          "base_uri": "https://localhost:8080/",
          "height": 106
        },
        "id": "aaj9vRJz0Mao",
        "outputId": "5fa16d37-54fa-4c7c-8798-9b825f85ba3f"
      },
      "cell_type": "code",
      "outputs": [
        {
          "output_type": "error",
          "ename": "SyntaxError",
          "evalue": "unterminated string literal (detected at line 2) (<ipython-input-25-bb21c8cd95f0>, line 2)",
          "traceback": [
            "\u001b[0;36m  File \u001b[0;32m\"<ipython-input-25-bb21c8cd95f0>\"\u001b[0;36m, line \u001b[0;32m2\u001b[0m\n\u001b[0;31m    'I'm enjoying the workshop!'\u001b[0m\n\u001b[0m                               ^\u001b[0m\n\u001b[0;31mSyntaxError\u001b[0m\u001b[0;31m:\u001b[0m unterminated string literal (detected at line 2)\n"
          ]
        }
      ],
      "execution_count": 25,
      "source": [
        "# single quotes\n",
        "'I'm enjoying the workshop!'"
      ]
    },
    {
      "metadata": {
        "colab": {
          "base_uri": "https://localhost:8080/"
        },
        "id": "R0-X2Tii0Mao",
        "outputId": "35b39620-6558-47e7-dd4b-79704d0f5e09"
      },
      "cell_type": "code",
      "outputs": [
        {
          "output_type": "stream",
          "name": "stdout",
          "text": [
            "'I'm enjoying this workshop!'"
          ]
        }
      ],
      "execution_count": 21,
      "source": [
        "!cat solutions/01_04.py"
      ]
    },
    {
      "metadata": {
        "id": "upKGdZAn0Mao"
      },
      "cell_type": "markdown",
      "source": [
        "**Oh no, an error!** Errors are nothing to be afraid of. Think of them as friendly messages trying to help you understand what's gone wrong. Here's how to read this:\n",
        "- Read errors backwards, so start at the bottom! It's a \"SyntaxError\" which means there's something wrong with our Python code.\n",
        "- There's a tiny arrow `^` pointing to what went wrong. Something near the m of `I'm`\n",
        "- On the top line, it says the error was on \"line 2\". This is often helpful when trying to fix (or \"debug\") broken code.\n",
        "\n",
        "**It turns out, if you want to use single quotes inside single quotes, you need to \"escape\" the quote with a backslash ( \\\\ ).**\n",
        "\n",
        ">Let's try that!"
      ]
    },
    {
      "metadata": {
        "colab": {
          "base_uri": "https://localhost:8080/",
          "height": 35
        },
        "id": "zib6NJgr0Mao",
        "outputId": "0e47f652-5e11-4253-b9f0-b26c112c5ac5"
      },
      "cell_type": "code",
      "outputs": [
        {
          "output_type": "execute_result",
          "data": {
            "text/plain": [
              "\"I'm enjoying this workshop!\""
            ],
            "application/vnd.google.colaboratory.intrinsic+json": {
              "type": "string"
            }
          },
          "metadata": {},
          "execution_count": 26
        }
      ],
      "execution_count": 26,
      "source": [
        "# single quotes, second try\n",
        "'I\\'m enjoying this workshop!'"
      ]
    },
    {
      "metadata": {
        "colab": {
          "base_uri": "https://localhost:8080/"
        },
        "id": "i7PHWx0x0Mao",
        "outputId": "37556521-e91d-41bd-efef-4e3915fe4810"
      },
      "cell_type": "code",
      "outputs": [
        {
          "output_type": "stream",
          "name": "stdout",
          "text": [
            "'I\\'m enjoying this workshop!'"
          ]
        }
      ],
      "execution_count": 27,
      "source": [
        "!cat solutions/01_05.py"
      ]
    },
    {
      "metadata": {
        "id": "G_9wyRiO0Mao"
      },
      "cell_type": "markdown",
      "source": [
        "As mentioned before, Python tries to handle everything as intuitively as possible. That means strings can be added together."
      ]
    },
    {
      "metadata": {
        "colab": {
          "base_uri": "https://localhost:8080/",
          "height": 35
        },
        "id": "psKrHQaA0Map",
        "outputId": "eb66f26e-6794-4bc5-aaa2-180da4c70873"
      },
      "cell_type": "code",
      "outputs": [
        {
          "output_type": "execute_result",
          "data": {
            "text/plain": [
              "'We are everywhere around the world.'"
            ],
            "application/vnd.google.colaboratory.intrinsic+json": {
              "type": "string"
            }
          },
          "metadata": {},
          "execution_count": 28
        }
      ],
      "execution_count": 28,
      "source": [
        "'We are ' + 'everywhere around the world.'"
      ]
    },
    {
      "metadata": {
        "id": "-1Zgva6k0Map"
      },
      "cell_type": "markdown",
      "source": [
        "Also, strings can even be multiplied by a number."
      ]
    },
    {
      "metadata": {
        "colab": {
          "base_uri": "https://localhost:8080/",
          "height": 35
        },
        "id": "uZz4tkfh0Map",
        "outputId": "39e7cc25-84b0-4e15-9ab8-fa8c02e72f12"
      },
      "cell_type": "code",
      "outputs": [
        {
          "output_type": "execute_result",
          "data": {
            "text/plain": [
              "'Great! 🎉Great! 🎉Great! 🎉'"
            ],
            "application/vnd.google.colaboratory.intrinsic+json": {
              "type": "string"
            }
          },
          "metadata": {},
          "execution_count": 29
        }
      ],
      "execution_count": 29,
      "source": [
        "'Great! 🎉' * 3"
      ]
    },
    {
      "metadata": {
        "colab": {
          "base_uri": "https://localhost:8080/",
          "height": 52
        },
        "id": "hGh_irWA0Map",
        "outputId": "cb368a9b-c72b-484f-8452-f2b87472bdad"
      },
      "cell_type": "code",
      "outputs": [
        {
          "output_type": "execute_result",
          "data": {
            "text/plain": [
              "'😂😂😂😂😂😂😂😂😂😂😂😂😂😂😂😂😂😂😂😂😂😂😂😂😂😂😂😂😂😂😂😂😂😂😂😂😂😂😂😂😂😂😂😂😂😂😂😂😂😂'"
            ],
            "application/vnd.google.colaboratory.intrinsic+json": {
              "type": "string"
            }
          },
          "metadata": {},
          "execution_count": 30
        }
      ],
      "execution_count": 30,
      "source": [
        "'😂' * 50"
      ]
    },
    {
      "metadata": {
        "id": "mjUh-Ed70Map"
      },
      "cell_type": "markdown",
      "source": [
        "We can access parts of strings by slicing the string. A character of a string (which is considered as a string of length 1 by Python) using slice, and a substring using slice range. Something important to note:\n",
        "\n",
        "**!!! Like birthdays, Python starts counting from 0! (It is \"zero-indexed\")**\n",
        "\n",
        "(If you're interested why, here's a historical [letter from Dijkstra](https://www.cs.utexas.edu/users/EWD/transcriptions/EWD08xx/EWD831.html) about it.)"
      ]
    },
    {
      "metadata": {
        "id": "guF-00uG0Map"
      },
      "cell_type": "markdown",
      "source": [
        "![image.png](attachment:image.png)"
      ]
    },
    {
      "metadata": {
        "id": "YdQgbfhX0MbJ"
      },
      "cell_type": "code",
      "outputs": [],
      "execution_count": 31,
      "source": [
        "s = 'I am a Pythonista.'"
      ]
    },
    {
      "metadata": {
        "id": "l4i_gkLB0MbK"
      },
      "cell_type": "markdown",
      "source": [
        "***Slice***  \n",
        "We can access characters of a string by referencing the position (\"index\") numbers within square brackets."
      ]
    },
    {
      "metadata": {
        "colab": {
          "base_uri": "https://localhost:8080/",
          "height": 35
        },
        "id": "P1kxWZw_0MbL",
        "outputId": "243d552e-cf81-499e-8a35-748f5715fccd"
      },
      "cell_type": "code",
      "outputs": [
        {
          "output_type": "execute_result",
          "data": {
            "text/plain": [
              "'I'"
            ],
            "application/vnd.google.colaboratory.intrinsic+json": {
              "type": "string"
            }
          },
          "metadata": {},
          "execution_count": 32
        }
      ],
      "execution_count": 32,
      "source": [
        "# Selecting the first character of the string s\n",
        "s[0]"
      ]
    },
    {
      "metadata": {
        "id": "RPXHcWe-0MbM"
      },
      "cell_type": "markdown",
      "source": [
        "> Select the last character of the string s"
      ]
    },
    {
      "metadata": {
        "colab": {
          "base_uri": "https://localhost:8080/",
          "height": 35
        },
        "id": "2KkFwZUB0MbN",
        "outputId": "f4f74dcc-737d-42f7-b44d-a1866af60822"
      },
      "cell_type": "code",
      "outputs": [
        {
          "output_type": "execute_result",
          "data": {
            "text/plain": [
              "'.'"
            ],
            "application/vnd.google.colaboratory.intrinsic+json": {
              "type": "string"
            }
          },
          "metadata": {},
          "execution_count": 33
        }
      ],
      "execution_count": 33,
      "source": [
        "s[-1]"
      ]
    },
    {
      "metadata": {
        "colab": {
          "base_uri": "https://localhost:8080/"
        },
        "id": "5z9xgvaJ0MbO",
        "outputId": "d02df835-bcab-4826-d3ee-9e2168197570"
      },
      "cell_type": "code",
      "outputs": [
        {
          "output_type": "stream",
          "name": "stdout",
          "text": [
            "s[-1]"
          ]
        }
      ],
      "execution_count": 34,
      "source": [
        "!cat solutions/01_06.py"
      ]
    },
    {
      "metadata": {
        "id": "zrbhR97Q0MbP"
      },
      "cell_type": "markdown",
      "source": [
        "***Slice range***  \n",
        "We can get a range of characters of a string by using a slicing range."
      ]
    },
    {
      "metadata": {
        "colab": {
          "base_uri": "https://localhost:8080/",
          "height": 35
        },
        "id": "U6mAsVdv0MbQ",
        "outputId": "df0b0d27-98be-486c-d635-03dae41ddc88"
      },
      "cell_type": "code",
      "outputs": [
        {
          "output_type": "execute_result",
          "data": {
            "text/plain": [
              "'am a'"
            ],
            "application/vnd.google.colaboratory.intrinsic+json": {
              "type": "string"
            }
          },
          "metadata": {},
          "execution_count": 35
        }
      ],
      "execution_count": 35,
      "source": [
        "# Select from position 2 up to but not including position 6 of the string s\n",
        "s[2:6]  # 6 is excluded"
      ]
    },
    {
      "metadata": {
        "id": "LcKL3hnM0MbR"
      },
      "cell_type": "markdown",
      "source": [
        "We can skip the start (resp. stop) number `s[:6]`. Then it start form index 0 (resp. end at the highest index)."
      ]
    },
    {
      "metadata": {
        "id": "ZK5fZrwD0MbS"
      },
      "cell_type": "markdown",
      "source": [
        ">Select the last 3 characters of the string s"
      ]
    },
    {
      "metadata": {
        "colab": {
          "base_uri": "https://localhost:8080/",
          "height": 35
        },
        "id": "XZvjQLKd0MbS",
        "outputId": "8c41e769-3cb4-4ecb-824a-e8454712b798"
      },
      "cell_type": "code",
      "outputs": [
        {
          "output_type": "execute_result",
          "data": {
            "text/plain": [
              "'ta.'"
            ],
            "application/vnd.google.colaboratory.intrinsic+json": {
              "type": "string"
            }
          },
          "metadata": {},
          "execution_count": 36
        }
      ],
      "execution_count": 36,
      "source": [
        "s[-3:]"
      ]
    },
    {
      "metadata": {
        "colab": {
          "base_uri": "https://localhost:8080/"
        },
        "id": "JDKRbOgX0MbS",
        "outputId": "6e0c2a5e-bb67-43ad-e374-e2cdfc5ce7ae"
      },
      "cell_type": "code",
      "outputs": [
        {
          "output_type": "stream",
          "name": "stdout",
          "text": [
            "s[-3:]"
          ]
        }
      ],
      "execution_count": 37,
      "source": [
        "!cat solutions/01_07.py"
      ]
    },
    {
      "metadata": {
        "id": "3RomxWL_0MbS"
      },
      "cell_type": "markdown",
      "source": [
        "We can check if a string contains another string inside of it (a \"substring\"), using *in* and *not in*.\n",
        "\n",
        "**!!! Python is case-sensitive! The string `'a'` is not equal to `'A'`***"
      ]
    },
    {
      "metadata": {
        "colab": {
          "base_uri": "https://localhost:8080/"
        },
        "id": "UYbCTBaF0MbT",
        "outputId": "b2bccf1d-ba32-4848-df0d-4bd5e3b690d3"
      },
      "cell_type": "code",
      "outputs": [
        {
          "output_type": "stream",
          "name": "stdout",
          "text": [
            "I am a Pythonista.\n"
          ]
        },
        {
          "output_type": "execute_result",
          "data": {
            "text/plain": [
              "False"
            ]
          },
          "metadata": {},
          "execution_count": 38
        }
      ],
      "execution_count": 38,
      "source": [
        "# Checking if s contains 'python'\n",
        "print(s)\n",
        "'python' in s"
      ]
    },
    {
      "metadata": {
        "id": "H1b3MgRI0MbT"
      },
      "cell_type": "markdown",
      "source": [
        "> Check if s does not contain 'I' (capital i)"
      ]
    },
    {
      "metadata": {
        "colab": {
          "base_uri": "https://localhost:8080/"
        },
        "id": "buHZZAxe0MbU",
        "outputId": "2bd69985-6d4c-4aff-9099-75c724be5269"
      },
      "cell_type": "code",
      "outputs": [
        {
          "output_type": "execute_result",
          "data": {
            "text/plain": [
              "False"
            ]
          },
          "metadata": {},
          "execution_count": 41
        }
      ],
      "execution_count": 41,
      "source": [
        "'I' not in s"
      ]
    },
    {
      "metadata": {
        "colab": {
          "base_uri": "https://localhost:8080/"
        },
        "id": "T2Whbexm0MbU",
        "outputId": "66948d40-f3a2-457d-c74d-4d5bb2d0e595"
      },
      "cell_type": "code",
      "outputs": [
        {
          "output_type": "stream",
          "name": "stdout",
          "text": [
            "\"I\" not in s"
          ]
        }
      ],
      "execution_count": 42,
      "source": [
        "!cat solutions/01_08.py"
      ]
    },
    {
      "metadata": {
        "id": "Ik5LdygM0MbV"
      },
      "cell_type": "markdown",
      "source": [
        "---\n",
        "\n",
        "<div class=\"alert alert-block alert-warning\" style=\"padding: 0px; padding-left: 20px; padding-top: 5px;\"><h2 style=\"color: #301E40\">\n",
        "Numbers\n",
        "</h2><br>\n",
        "</div>"
      ]
    },
    {
      "metadata": {
        "id": "2xa6TAmA0MbV"
      },
      "cell_type": "markdown",
      "source": [
        "Python has different numerical types. Two of which are used more often than others:\n",
        "- **Integers:** These are whole numbers, i.e. `1`, `2`, `-5`\n",
        "- **Floats:** \"Floating point\" numbers are those with a decimal point, i.e. `3.14158`, `2.5`, `0.1` and even `3.0`.\n",
        "\n",
        "Python attempts to deal with these numbers intuitively when integers and floats are mixed."
      ]
    },
    {
      "metadata": {
        "id": "M3hOxbK40MbV"
      },
      "cell_type": "markdown",
      "source": [
        "### Basic Operators"
      ]
    },
    {
      "metadata": {
        "id": "bcDi1EDk0MbW"
      },
      "cell_type": "markdown",
      "source": [
        "**Addition:**  \n",
        ">Try adding two numbers."
      ]
    },
    {
      "metadata": {
        "colab": {
          "base_uri": "https://localhost:8080/"
        },
        "id": "Ao_K9Re80MbW",
        "outputId": "7e06f098-b656-49e5-d7de-5772484a9ce9"
      },
      "cell_type": "code",
      "outputs": [
        {
          "output_type": "execute_result",
          "data": {
            "text/plain": [
              "3"
            ]
          },
          "metadata": {},
          "execution_count": 43
        }
      ],
      "execution_count": 43,
      "source": [
        "1 + 2"
      ]
    },
    {
      "metadata": {
        "colab": {
          "base_uri": "https://localhost:8080/"
        },
        "id": "teMDCXX80MbX",
        "outputId": "aa55d09d-b42e-48d0-e359-b18ba1bede81"
      },
      "cell_type": "code",
      "outputs": [
        {
          "output_type": "stream",
          "name": "stdout",
          "text": [
            "3 + 4"
          ]
        }
      ],
      "execution_count": 44,
      "source": [
        "!cat solutions/01_09.py"
      ]
    },
    {
      "metadata": {
        "id": "sPx166Yd0MbY"
      },
      "cell_type": "markdown",
      "source": [
        "**Subtraction:**\n",
        "> Try subtracting two numbers."
      ]
    },
    {
      "metadata": {
        "colab": {
          "base_uri": "https://localhost:8080/"
        },
        "id": "zgiki_VF0MbY",
        "outputId": "a1e76650-a242-47ed-a228-6c2edd4312d5"
      },
      "cell_type": "code",
      "outputs": [
        {
          "output_type": "execute_result",
          "data": {
            "text/plain": [
              "-7"
            ]
          },
          "metadata": {},
          "execution_count": 45
        }
      ],
      "execution_count": 45,
      "source": [
        "2 - 9"
      ]
    },
    {
      "metadata": {
        "colab": {
          "base_uri": "https://localhost:8080/"
        },
        "id": "fOqsm0et0MbY",
        "outputId": "605ea63b-c12a-4133-92c9-dace4a55a5b5"
      },
      "cell_type": "code",
      "outputs": [
        {
          "output_type": "stream",
          "name": "stdout",
          "text": [
            "10.0 - 6"
          ]
        }
      ],
      "execution_count": 46,
      "source": [
        "!cat solutions/01_10.py"
      ]
    },
    {
      "metadata": {
        "id": "BRzaRBed0MbZ"
      },
      "cell_type": "markdown",
      "source": [
        "**Multiplication:**  \n",
        "The sign for multiplication is *.  \n",
        ">Try multiplying two numbers."
      ]
    },
    {
      "metadata": {
        "colab": {
          "base_uri": "https://localhost:8080/"
        },
        "id": "scVeQ1hD0MbZ",
        "outputId": "1e41a084-071d-4dbf-c595-7186b5413c36"
      },
      "cell_type": "code",
      "outputs": [
        {
          "output_type": "execute_result",
          "data": {
            "text/plain": [
              "18"
            ]
          },
          "metadata": {},
          "execution_count": 47
        }
      ],
      "execution_count": 47,
      "source": [
        "2 * 9"
      ]
    },
    {
      "metadata": {
        "colab": {
          "base_uri": "https://localhost:8080/"
        },
        "id": "eUpGiSmI0Mba",
        "outputId": "d5604158-3c92-4bea-ae73-363e1c8f67ff"
      },
      "cell_type": "code",
      "outputs": [
        {
          "output_type": "stream",
          "name": "stdout",
          "text": [
            "15 * 12"
          ]
        }
      ],
      "execution_count": 48,
      "source": [
        "!cat solutions/01_11.py"
      ]
    },
    {
      "metadata": {
        "id": "fFyf-Uvl0Mba"
      },
      "cell_type": "markdown",
      "source": [
        "**Exponent:**  \n",
        "The sign for exponent (or power) is *`**`*.\n",
        "\n",
        "> Try the power of an integer."
      ]
    },
    {
      "metadata": {
        "colab": {
          "base_uri": "https://localhost:8080/"
        },
        "id": "ZfuPN66Z0Mba",
        "outputId": "8007f573-fe5e-4936-a4ae-a25f75350a91"
      },
      "cell_type": "code",
      "outputs": [
        {
          "output_type": "execute_result",
          "data": {
            "text/plain": [
              "512"
            ]
          },
          "metadata": {},
          "execution_count": 49
        }
      ],
      "execution_count": 49,
      "source": [
        "2 ** 9"
      ]
    },
    {
      "metadata": {
        "colab": {
          "base_uri": "https://localhost:8080/"
        },
        "id": "p3y03G4L0Mba",
        "outputId": "3849f8c6-74cd-4e9f-c99d-a7ca7bb72f88"
      },
      "cell_type": "code",
      "outputs": [
        {
          "output_type": "stream",
          "name": "stdout",
          "text": [
            "2**6"
          ]
        }
      ],
      "execution_count": 50,
      "source": [
        "!cat solutions/01_12.py"
      ]
    },
    {
      "metadata": {
        "id": "gTvQqEJR0Mba"
      },
      "cell_type": "markdown",
      "source": [
        ">Try the power of a float"
      ]
    },
    {
      "metadata": {
        "colab": {
          "base_uri": "https://localhost:8080/"
        },
        "id": "dohokyOg0Mba",
        "outputId": "d1ddb071-55e2-4409-fbcc-d098c28f5629"
      },
      "cell_type": "code",
      "outputs": [
        {
          "output_type": "execute_result",
          "data": {
            "text/plain": [
              "32.0"
            ]
          },
          "metadata": {},
          "execution_count": 51
        }
      ],
      "execution_count": 51,
      "source": [
        "2.0 ** 5"
      ]
    },
    {
      "metadata": {
        "colab": {
          "base_uri": "https://localhost:8080/"
        },
        "id": "IKKWVa3l0Mba",
        "outputId": "017d00d2-cefa-4d72-bb35-1e586619d7c6"
      },
      "cell_type": "code",
      "outputs": [
        {
          "output_type": "stream",
          "name": "stdout",
          "text": [
            "3.1**2"
          ]
        }
      ],
      "execution_count": 52,
      "source": [
        "!cat solutions/01_13.py"
      ]
    },
    {
      "metadata": {
        "id": "j5b96wzL0Mba"
      },
      "cell_type": "markdown",
      "source": [
        ">Try the power of an integer written as a float (e.g. 12.0)"
      ]
    },
    {
      "metadata": {
        "colab": {
          "base_uri": "https://localhost:8080/"
        },
        "id": "Owyd6q0k0Mbb",
        "outputId": "984fb7a3-6e84-4085-a120-ca12b943e13e"
      },
      "cell_type": "code",
      "outputs": [
        {
          "output_type": "execute_result",
          "data": {
            "text/plain": [
              "144.0"
            ]
          },
          "metadata": {},
          "execution_count": 53
        }
      ],
      "execution_count": 53,
      "source": [
        "12.0 ** 2"
      ]
    },
    {
      "metadata": {
        "colab": {
          "base_uri": "https://localhost:8080/"
        },
        "id": "GJEwtLqP0Mbb",
        "outputId": "1bf4f5f0-4199-458b-edbb-233787f829a3"
      },
      "cell_type": "code",
      "outputs": [
        {
          "output_type": "stream",
          "name": "stdout",
          "text": [
            "5.0**2"
          ]
        }
      ],
      "execution_count": 54,
      "source": [
        "!cat solutions/01_14.py"
      ]
    },
    {
      "metadata": {
        "id": "VWyduflo0Mbb"
      },
      "cell_type": "markdown",
      "source": [
        "**Division and modulo**\n",
        "- The sign for division is **`/`**.\n",
        "- The sign for floor division is **`//`**. It returns the \"quotient\" of a division - how many times one number goes into another. (\"If a carton holds six eggs, and we have 99 eggs, how many cartons can we fill?\")\n",
        "- The **`%`** sign is the [modulo](https://en.wikipedia.org/wiki/Modulo_operation), which returns the \"remainder\" after division."
      ]
    },
    {
      "metadata": {
        "id": "-ZpkT2570Mbb"
      },
      "cell_type": "markdown",
      "source": [
        ">Divide 6 by 2"
      ]
    },
    {
      "metadata": {
        "colab": {
          "base_uri": "https://localhost:8080/"
        },
        "id": "D1r6pw0p0Mbb",
        "outputId": "d38079da-1524-4bbf-80e4-3d8580facd0f"
      },
      "cell_type": "code",
      "outputs": [
        {
          "output_type": "execute_result",
          "data": {
            "text/plain": [
              "3.0"
            ]
          },
          "metadata": {},
          "execution_count": 55
        }
      ],
      "execution_count": 55,
      "source": [
        "6/2"
      ]
    },
    {
      "metadata": {
        "colab": {
          "base_uri": "https://localhost:8080/"
        },
        "id": "cX6W6gB30Mbb",
        "outputId": "0796a549-f5bc-4a92-f47e-e530b9a3a2a9"
      },
      "cell_type": "code",
      "outputs": [
        {
          "output_type": "stream",
          "name": "stdout",
          "text": [
            "6 / 2"
          ]
        }
      ],
      "execution_count": 56,
      "source": [
        "!cat solutions/01_15.py"
      ]
    },
    {
      "metadata": {
        "id": "VoU744wU0Mbc"
      },
      "cell_type": "markdown",
      "source": [
        ">Try the floor division of 6 by 2"
      ]
    },
    {
      "metadata": {
        "colab": {
          "base_uri": "https://localhost:8080/"
        },
        "id": "LTlkyeAk0Mbc",
        "outputId": "01e59594-a41c-49af-dffc-adc6d28031f1"
      },
      "cell_type": "code",
      "outputs": [
        {
          "output_type": "execute_result",
          "data": {
            "text/plain": [
              "3"
            ]
          },
          "metadata": {},
          "execution_count": 57
        }
      ],
      "execution_count": 57,
      "source": [
        "6//2"
      ]
    },
    {
      "metadata": {
        "colab": {
          "base_uri": "https://localhost:8080/"
        },
        "id": "lvaMfTh20Mbc",
        "outputId": "79f54806-62f7-4b7d-e315-50bbb258e3ba"
      },
      "cell_type": "code",
      "outputs": [
        {
          "output_type": "stream",
          "name": "stdout",
          "text": [
            "6 // 2"
          ]
        }
      ],
      "execution_count": 58,
      "source": [
        "!cat solutions/01_16.py"
      ]
    },
    {
      "metadata": {
        "id": "_VBUbpAv0Mbc"
      },
      "cell_type": "markdown",
      "source": [
        ">Divide 19 by 5"
      ]
    },
    {
      "metadata": {
        "colab": {
          "base_uri": "https://localhost:8080/"
        },
        "id": "1fikfBVo0Mbc",
        "outputId": "eefed6fd-7a0a-4b63-9c84-b79aae4bd9e5"
      },
      "cell_type": "code",
      "outputs": [
        {
          "output_type": "execute_result",
          "data": {
            "text/plain": [
              "3.8"
            ]
          },
          "metadata": {},
          "execution_count": 59
        }
      ],
      "execution_count": 59,
      "source": [
        "19/5"
      ]
    },
    {
      "metadata": {
        "colab": {
          "base_uri": "https://localhost:8080/"
        },
        "id": "JezNZsqc0Mbc",
        "outputId": "60d0d56e-9738-43c9-fadd-acb45c79d12c"
      },
      "cell_type": "code",
      "outputs": [
        {
          "output_type": "stream",
          "name": "stdout",
          "text": [
            "19 / 5"
          ]
        }
      ],
      "execution_count": 60,
      "source": [
        "!cat solutions/01_17.py"
      ]
    },
    {
      "metadata": {
        "id": "geI1SGvW0Mbd"
      },
      "cell_type": "markdown",
      "source": [
        "*Note*: division returns a float."
      ]
    },
    {
      "metadata": {
        "id": "DEtYoa1z0Mbd"
      },
      "cell_type": "markdown",
      "source": [
        "**The floor division returns an int, the non-fractional part.**  \n",
        ">Try the floor division of 19 by 5"
      ]
    },
    {
      "metadata": {
        "colab": {
          "base_uri": "https://localhost:8080/"
        },
        "id": "MjXllZ9C0Mbe",
        "outputId": "1b8e6cc1-4492-4aae-96c6-3d196ed7556a"
      },
      "cell_type": "code",
      "outputs": [
        {
          "output_type": "execute_result",
          "data": {
            "text/plain": [
              "3"
            ]
          },
          "metadata": {},
          "execution_count": 61
        }
      ],
      "execution_count": 61,
      "source": [
        "19//5"
      ]
    },
    {
      "metadata": {
        "colab": {
          "base_uri": "https://localhost:8080/"
        },
        "id": "p8ZTjNLL0Mbe",
        "outputId": "7eb06a0e-b6f3-4136-9a8a-dc79725e72b5"
      },
      "cell_type": "code",
      "outputs": [
        {
          "output_type": "stream",
          "name": "stdout",
          "text": [
            "19 // 5"
          ]
        }
      ],
      "execution_count": 62,
      "source": [
        "!cat solutions/01_18.py"
      ]
    },
    {
      "metadata": {
        "id": "mseJ6TrR0Mbe"
      },
      "cell_type": "markdown",
      "source": [
        "**Modulo returns the remainder of the division**"
      ]
    },
    {
      "metadata": {
        "id": "rmnlSbEg0Mbe"
      },
      "cell_type": "markdown",
      "source": [
        ">Calculate 19 modulo 5"
      ]
    },
    {
      "metadata": {
        "colab": {
          "base_uri": "https://localhost:8080/"
        },
        "id": "PDJuIPOi0Mbf",
        "outputId": "56cab7be-bf9d-410f-d5e5-0d637913f5f5"
      },
      "cell_type": "code",
      "outputs": [
        {
          "output_type": "execute_result",
          "data": {
            "text/plain": [
              "4"
            ]
          },
          "metadata": {},
          "execution_count": 63
        }
      ],
      "execution_count": 63,
      "source": [
        "19%5"
      ]
    },
    {
      "metadata": {
        "colab": {
          "base_uri": "https://localhost:8080/"
        },
        "id": "5YBYn0-t0Mbf",
        "outputId": "60667efa-5d12-4ff3-dc99-3e25c4c3847e"
      },
      "cell_type": "code",
      "outputs": [
        {
          "output_type": "stream",
          "name": "stdout",
          "text": [
            "19 % 5"
          ]
        }
      ],
      "execution_count": 64,
      "source": [
        "!cat solutions/01_19.py"
      ]
    },
    {
      "metadata": {
        "id": "8OQEmj4j0Mbf"
      },
      "cell_type": "markdown",
      "source": [
        "**--> 19 = 3 * 5 + 4**"
      ]
    },
    {
      "metadata": {
        "id": "acu3sdl_0Mbf"
      },
      "cell_type": "markdown",
      "source": [
        "---\n",
        "\n",
        "<div class=\"alert alert-block alert-warning\" style=\"padding: 0px; padding-left: 20px; padding-top: 5px;\"><h2 style=\"color: #301E40\">\n",
        "Order of operations\n",
        "</h2><br>\n",
        "</div>"
      ]
    },
    {
      "metadata": {
        "id": "Tdu57Sqt0Mbf"
      },
      "cell_type": "markdown",
      "source": [
        "The order of operations in Python respects the usual rules of mathematics (brackets -> powers -> division/multiplication -> add/subtract). **If in doubt, use brackets** to make it clear (to yourself, and anyone who might be reading your code) what you're trying to do."
      ]
    },
    {
      "metadata": {
        "colab": {
          "base_uri": "https://localhost:8080/"
        },
        "id": "aW5K6Yd_0Mbg",
        "outputId": "ec40fb9c-0956-4b92-c8f5-243722046f5f"
      },
      "cell_type": "code",
      "outputs": [
        {
          "output_type": "execute_result",
          "data": {
            "text/plain": [
              "65"
            ]
          },
          "metadata": {},
          "execution_count": 65
        }
      ],
      "execution_count": 65,
      "source": [
        "5 + 6 * 10"
      ]
    },
    {
      "metadata": {
        "colab": {
          "base_uri": "https://localhost:8080/"
        },
        "id": "KquoZNn10Mbg",
        "outputId": "36cd6287-840e-469b-ee51-19a805e4c935"
      },
      "cell_type": "code",
      "outputs": [
        {
          "output_type": "execute_result",
          "data": {
            "text/plain": [
              "110"
            ]
          },
          "metadata": {},
          "execution_count": 66
        }
      ],
      "execution_count": 66,
      "source": [
        "(5 + 6) * 10"
      ]
    },
    {
      "metadata": {
        "id": "XNQBnIK_0Mbg"
      },
      "cell_type": "markdown",
      "source": [
        "---\n",
        "\n",
        "<div class=\"alert alert-block alert-warning\" style=\"padding: 0px; padding-left: 20px; padding-top: 5px;\"><h2 style=\"color: #301E40\">\n",
        "Booleans\n",
        "</h2><br>\n",
        "</div>"
      ]
    },
    {
      "metadata": {
        "id": "LGcHecMw0Mbg"
      },
      "cell_type": "markdown",
      "source": [
        "Booleans are the two constant values `True` and `False`. The numerical value of 'True is '1' and the numerical value of 'False' is '0'. These values are especially important for comparisons, therefore, we'll also learn about a new operator:\n",
        "\n",
        "**`==`** is an equality operator,  different from **`=`** which is the assignment operator you used to assign variables."
      ]
    },
    {
      "metadata": {
        "colab": {
          "base_uri": "https://localhost:8080/"
        },
        "id": "NtXmY5C70Mbh",
        "outputId": "ec68642d-8aaa-4a96-91b8-bdd0fb3edccd"
      },
      "cell_type": "code",
      "outputs": [
        {
          "output_type": "execute_result",
          "data": {
            "text/plain": [
              "True"
            ]
          },
          "metadata": {},
          "execution_count": 67
        }
      ],
      "execution_count": 67,
      "source": [
        "True == 1  # '==' is an equality operator,  different from '=' which is an assignment operator"
      ]
    },
    {
      "metadata": {
        "colab": {
          "base_uri": "https://localhost:8080/"
        },
        "id": "Al9_X3WC0Mbh",
        "outputId": "a781bd69-9cb7-4a8e-d572-4384c4845deb"
      },
      "cell_type": "code",
      "outputs": [
        {
          "output_type": "execute_result",
          "data": {
            "text/plain": [
              "0"
            ]
          },
          "metadata": {},
          "execution_count": 68
        }
      ],
      "execution_count": 68,
      "source": [
        "False * 3"
      ]
    },
    {
      "metadata": {
        "id": "vXTIeeaC0Mbh"
      },
      "cell_type": "markdown",
      "source": [
        "Using **`!=`** , check if `False` is not equal to `2`."
      ]
    },
    {
      "metadata": {
        "colab": {
          "base_uri": "https://localhost:8080/"
        },
        "id": "n56WNSCh0Mbi",
        "outputId": "f74decce-5bbe-47d6-9d4a-4ed4267192d8"
      },
      "cell_type": "code",
      "outputs": [
        {
          "output_type": "execute_result",
          "data": {
            "text/plain": [
              "True"
            ]
          },
          "metadata": {},
          "execution_count": 69
        }
      ],
      "execution_count": 69,
      "source": [
        "False != 2"
      ]
    },
    {
      "metadata": {
        "id": "8x1r1r2s0Mbi"
      },
      "cell_type": "code",
      "outputs": [],
      "execution_count": null,
      "source": [
        "# !cat solutions/01_20.py"
      ]
    },
    {
      "metadata": {
        "id": "U4RxAgAu0Mbi"
      },
      "cell_type": "markdown",
      "source": [
        ">Check if the length of your name is greater than 8."
      ]
    },
    {
      "metadata": {
        "colab": {
          "base_uri": "https://localhost:8080/"
        },
        "id": "mjSrtBXg0Mbi",
        "outputId": "f2acff8c-5f22-46a6-ac1b-87095eace1e6"
      },
      "cell_type": "code",
      "outputs": [
        {
          "output_type": "execute_result",
          "data": {
            "text/plain": [
              "False"
            ]
          },
          "metadata": {},
          "execution_count": 70
        }
      ],
      "execution_count": 70,
      "source": [
        "len('zhongju li') < 8"
      ]
    },
    {
      "metadata": {
        "colab": {
          "base_uri": "https://localhost:8080/"
        },
        "id": "9WrAWdcO0Mbi",
        "outputId": "c78ab508-d617-4106-b70f-f50deac50f13"
      },
      "cell_type": "code",
      "outputs": [
        {
          "output_type": "stream",
          "name": "stdout",
          "text": [
            "len(\"Sandrine\") > 8"
          ]
        }
      ],
      "execution_count": 71,
      "source": [
        "!cat solutions/01_21.py"
      ]
    },
    {
      "metadata": {
        "id": "TOD8gLfe0Mbi"
      },
      "cell_type": "markdown",
      "source": [
        "We can use `and` and `or` operators with booleans in Python. Type them below and see how the color of the text changes, because Python recognises the keyword! These can be used to chain together multiple comparisons. These follow mathematical logic.\n",
        "\n",
        "| A     | B     | A and B | A or B |\n",
        "| :---  | :---  | :---    | :---   |\n",
        "| True  | True  | True    | True   |\n",
        "| True  | False | False   | True   |\n",
        "| False | True  | False   | True   |\n",
        "| False | False | False   | False  |\n",
        "\n",
        "> Check if the length of your name is greater than 5 and the length of your mentor's name is less than 7."
      ]
    },
    {
      "metadata": {
        "colab": {
          "base_uri": "https://localhost:8080/"
        },
        "id": "hHmwY9kn0Mbj",
        "outputId": "4b03c6e1-852c-4c13-e5d1-4c137db6fea7"
      },
      "cell_type": "code",
      "outputs": [
        {
          "output_type": "execute_result",
          "data": {
            "text/plain": [
              "True"
            ]
          },
          "metadata": {},
          "execution_count": 72
        }
      ],
      "execution_count": 72,
      "source": [
        "len('Zhongju Li') > 5 and len('Ramon') < 7"
      ]
    },
    {
      "metadata": {
        "id": "jVMtoEKy0Mbj"
      },
      "cell_type": "code",
      "outputs": [],
      "execution_count": null,
      "source": [
        "# !cat solutions/01_22.py"
      ]
    },
    {
      "metadata": {
        "id": "qAPmDxKH0Mbj"
      },
      "cell_type": "markdown",
      "source": [
        "---\n",
        "\n",
        "<div class=\"alert alert-block alert-warning\" style=\"padding: 0px; padding-left: 20px; padding-top: 5px;\"><h2 style=\"color: #301E40\">\n",
        "Lists\n",
        "</h2><br>\n",
        "</div>"
      ]
    },
    {
      "metadata": {
        "id": "igP1j9u-0Mbj"
      },
      "cell_type": "markdown",
      "source": [
        "A list is a list of comma-separated values between square brackets.\n",
        "\n",
        "The items of a list can have different types."
      ]
    },
    {
      "metadata": {
        "id": "1ml57EFs0Mbj"
      },
      "cell_type": "code",
      "outputs": [],
      "execution_count": 73,
      "source": [
        "list_greeting = ['Hallo', 'Bonjour', 10, 'Hello', 'Ciao', False]"
      ]
    },
    {
      "metadata": {
        "id": "BhtYvteh0Mbj"
      },
      "cell_type": "markdown",
      "source": [
        "We can access a single value using a slice, and several values using slice range. Check the \"string slicing\" section above for this."
      ]
    },
    {
      "metadata": {
        "id": "A1A4FWK70Mbj"
      },
      "cell_type": "markdown",
      "source": [
        ">Get the first item of the list."
      ]
    },
    {
      "metadata": {
        "colab": {
          "base_uri": "https://localhost:8080/",
          "height": 35
        },
        "id": "M8VL5jzF0Mbj",
        "outputId": "52693a98-69fb-4138-c09e-3ddde5d9aaa6"
      },
      "cell_type": "code",
      "outputs": [
        {
          "output_type": "execute_result",
          "data": {
            "text/plain": [
              "'Hallo'"
            ],
            "application/vnd.google.colaboratory.intrinsic+json": {
              "type": "string"
            }
          },
          "metadata": {},
          "execution_count": 74
        }
      ],
      "execution_count": 74,
      "source": [
        "list_greeting[0]"
      ]
    },
    {
      "metadata": {
        "colab": {
          "base_uri": "https://localhost:8080/"
        },
        "id": "elUW67zq0Mbj",
        "outputId": "d3e56bf0-2dad-4f9e-8caa-d0f009416aa7"
      },
      "cell_type": "code",
      "outputs": [
        {
          "output_type": "stream",
          "name": "stdout",
          "text": [
            "list_greeting[0]"
          ]
        }
      ],
      "execution_count": 75,
      "source": [
        "!cat solutions/01_23.py"
      ]
    },
    {
      "metadata": {
        "id": "MLMN1Lqo0Mbj"
      },
      "cell_type": "markdown",
      "source": [
        "Get every the items from the list, starting with the 4th one.\n",
        "\n",
        "Note that there is no need to put a number after the colon when when want to select until the end of the list."
      ]
    },
    {
      "metadata": {
        "id": "7El8I_590Mbk"
      },
      "cell_type": "markdown",
      "source": [
        ">Get the items starting with the one with index 3 until the end of the list."
      ]
    },
    {
      "metadata": {
        "colab": {
          "base_uri": "https://localhost:8080/"
        },
        "id": "2OBT12wZ0Mbk",
        "outputId": "125e2821-73a9-408f-db56-bd624ee2d074"
      },
      "cell_type": "code",
      "outputs": [
        {
          "output_type": "execute_result",
          "data": {
            "text/plain": [
              "['Hello', 'Ciao', False]"
            ]
          },
          "metadata": {},
          "execution_count": 78
        }
      ],
      "execution_count": 78,
      "source": [
        "list_greeting[3:]"
      ]
    },
    {
      "metadata": {
        "colab": {
          "base_uri": "https://localhost:8080/"
        },
        "id": "yqBA81Rs0Mbk",
        "outputId": "62d7b8f9-a307-4751-a79f-6f4ec5b4e6fd"
      },
      "cell_type": "code",
      "outputs": [
        {
          "output_type": "stream",
          "name": "stdout",
          "text": [
            "list_greeting[3:]"
          ]
        }
      ],
      "execution_count": 77,
      "source": [
        "!cat solutions/01_24.py"
      ]
    },
    {
      "metadata": {
        "id": "ddnoKFrT0Mbk"
      },
      "cell_type": "markdown",
      "source": [
        "**Get the items from the list until the 4th one.**"
      ]
    },
    {
      "metadata": {
        "id": "Oo2lQrR40Mbk"
      },
      "cell_type": "markdown",
      "source": [
        ">Get the items from the beginning of the list until the value with index 4 (index 4 is excluded)."
      ]
    },
    {
      "metadata": {
        "colab": {
          "base_uri": "https://localhost:8080/"
        },
        "id": "Fp8DJW4Z0Mbk",
        "outputId": "41a7205b-fe4e-49dd-cfc2-997dfe199542"
      },
      "cell_type": "code",
      "outputs": [
        {
          "output_type": "execute_result",
          "data": {
            "text/plain": [
              "['Hallo', 'Bonjour', 10, 'Hello']"
            ]
          },
          "metadata": {},
          "execution_count": 79
        }
      ],
      "execution_count": 79,
      "source": [
        "list_greeting[:4]"
      ]
    },
    {
      "metadata": {
        "colab": {
          "base_uri": "https://localhost:8080/"
        },
        "id": "6pI0B7Qt0Mbl",
        "outputId": "c464a5e8-d0bc-4ef5-c89a-2e9f172eb665"
      },
      "cell_type": "code",
      "outputs": [
        {
          "output_type": "stream",
          "name": "stdout",
          "text": [
            "list_greeting[:4]"
          ]
        }
      ],
      "execution_count": 80,
      "source": [
        "!cat solutions/01_25.py"
      ]
    },
    {
      "metadata": {
        "id": "qiw-fInQ0Mbl"
      },
      "cell_type": "markdown",
      "source": [
        "**Advanced slicing allows us to set how the list's index will increment between the start/stop indexes we select.**  \n",
        "The slicing then looks like this: [start:stop:step]  \n",
        "For example, if we want to select every third items of a list, we will set the step as 3."
      ]
    },
    {
      "metadata": {
        "id": "I6DF8vOq0Mbl"
      },
      "cell_type": "markdown",
      "source": [
        ">Get every other items from the list of greetings"
      ]
    },
    {
      "metadata": {
        "colab": {
          "base_uri": "https://localhost:8080/"
        },
        "id": "wIJUX9PE0Mbl",
        "outputId": "fb3b9fea-30c1-40e1-dbf0-d91ceed7c7bb"
      },
      "cell_type": "code",
      "outputs": [
        {
          "output_type": "execute_result",
          "data": {
            "text/plain": [
              "['Hallo', 'Bonjour', 10]"
            ]
          },
          "metadata": {},
          "execution_count": 83
        }
      ],
      "execution_count": 83,
      "source": [
        "list_greeting[:3:]\n"
      ]
    },
    {
      "cell_type": "code",
      "source": [
        "list_greeting[::2]"
      ],
      "metadata": {
        "colab": {
          "base_uri": "https://localhost:8080/"
        },
        "id": "VZD84C1BBu9H",
        "outputId": "7edc03f5-29cc-4213-aaf4-fac9b641a1b2"
      },
      "execution_count": 84,
      "outputs": [
        {
          "output_type": "execute_result",
          "data": {
            "text/plain": [
              "['Hallo', 10, 'Ciao']"
            ]
          },
          "metadata": {},
          "execution_count": 84
        }
      ]
    },
    {
      "cell_type": "code",
      "source": [
        "list_greeting"
      ],
      "metadata": {
        "colab": {
          "base_uri": "https://localhost:8080/"
        },
        "id": "8guGBx5LBz_w",
        "outputId": "644fa878-ac2a-4618-b019-0515769a2f71"
      },
      "execution_count": 85,
      "outputs": [
        {
          "output_type": "execute_result",
          "data": {
            "text/plain": [
              "['Hallo', 'Bonjour', 10, 'Hello', 'Ciao', False]"
            ]
          },
          "metadata": {},
          "execution_count": 85
        }
      ]
    },
    {
      "metadata": {
        "colab": {
          "base_uri": "https://localhost:8080/"
        },
        "id": "KqJcz6WQ0Mbl",
        "outputId": "5486a7c7-abda-4c82-cc7c-95a20e5b360f"
      },
      "cell_type": "code",
      "outputs": [
        {
          "output_type": "stream",
          "name": "stdout",
          "text": [
            "list_greeting[::2]"
          ]
        }
      ],
      "execution_count": 82,
      "source": [
        "!cat solutions/01_26.py"
      ]
    },
    {
      "metadata": {
        "id": "GwOqrM4a0Mbm"
      },
      "cell_type": "markdown",
      "source": [
        "**We can update a list by re-assigning a value selected using a slice.**  \n",
        "For example, we can replace False with 'Ave' in list_greeting."
      ]
    },
    {
      "metadata": {
        "colab": {
          "base_uri": "https://localhost:8080/"
        },
        "id": "S452EaQh0Mbm",
        "outputId": "c3c5aff8-2d3c-4fef-9558-284ebd170a89"
      },
      "cell_type": "code",
      "outputs": [
        {
          "output_type": "stream",
          "name": "stdout",
          "text": [
            "['Hallo', 'Bonjour', 10, 'Hello', 'Ciao', 'Ave']\n"
          ]
        }
      ],
      "execution_count": 86,
      "source": [
        "list_greeting[-1] = 'Ave'\n",
        "print(list_greeting)"
      ]
    },
    {
      "metadata": {
        "id": "7mqaO9vP0Mbm"
      },
      "cell_type": "markdown",
      "source": [
        ">Replace 10 with Hola in list_greetings, then print list_greeting to check it."
      ]
    },
    {
      "metadata": {
        "colab": {
          "base_uri": "https://localhost:8080/"
        },
        "id": "FyFg1YfD0Mbm",
        "outputId": "36309ffc-3fe1-4659-d1ac-439553d414b6"
      },
      "cell_type": "code",
      "outputs": [
        {
          "output_type": "stream",
          "name": "stdout",
          "text": [
            "['Hallo', 'Bonjour', 'Hola', 'Hello', 'Ciao', 'Ave']\n"
          ]
        }
      ],
      "execution_count": 87,
      "source": [
        "list_greeting[2] = 'Hola'\n",
        "print(list_greeting)"
      ]
    },
    {
      "metadata": {
        "colab": {
          "base_uri": "https://localhost:8080/"
        },
        "id": "Tc_MOOqD0Mbn",
        "outputId": "7fabe97f-5fa7-4e44-fd54-e115600dece0"
      },
      "cell_type": "code",
      "outputs": [
        {
          "output_type": "stream",
          "name": "stdout",
          "text": [
            "list_greeting[2] = \"Ola\"\n",
            "print(list_greeting)"
          ]
        }
      ],
      "execution_count": 88,
      "source": [
        "!cat solutions/01_27.py"
      ]
    },
    {
      "metadata": {
        "id": "FiX3Iv4B0Mbn"
      },
      "cell_type": "markdown",
      "source": [
        "We can have lists inside a list, these are often called \"nested lists\":"
      ]
    },
    {
      "metadata": {
        "id": "o5XdHLdU0Mbn"
      },
      "cell_type": "code",
      "outputs": [],
      "execution_count": 89,
      "source": [
        "list_of_lists = [[1, 2, 3], [4, 5]]"
      ]
    },
    {
      "metadata": {
        "colab": {
          "base_uri": "https://localhost:8080/"
        },
        "id": "wsJwLwG70Mbo",
        "outputId": "e2eeeb0f-1bfd-41d7-e3f6-481f4c7a8a49"
      },
      "cell_type": "code",
      "outputs": [
        {
          "output_type": "execute_result",
          "data": {
            "text/plain": [
              "[1, 2, 3]"
            ]
          },
          "metadata": {},
          "execution_count": 90
        }
      ],
      "execution_count": 90,
      "source": [
        "list_of_lists[0]  # access the first element of the list, which is a list."
      ]
    },
    {
      "metadata": {
        "colab": {
          "base_uri": "https://localhost:8080/"
        },
        "id": "GYKN_Z-50Mbp",
        "outputId": "504cd9f9-a67e-4e9e-fd98-256ce14838d1"
      },
      "cell_type": "code",
      "outputs": [
        {
          "output_type": "execute_result",
          "data": {
            "text/plain": [
              "3"
            ]
          },
          "metadata": {},
          "execution_count": 91
        }
      ],
      "execution_count": 91,
      "source": [
        "list_of_lists[0][-1]  # access the last element of the first list."
      ]
    },
    {
      "metadata": {
        "id": "RJ-OHamV0Mbp"
      },
      "cell_type": "markdown",
      "source": [
        "We can concatenate lists using ' + '."
      ]
    },
    {
      "metadata": {
        "colab": {
          "base_uri": "https://localhost:8080/"
        },
        "id": "39zWP0p20Mbp",
        "outputId": "1bb93d43-05a2-43e7-895c-34a1ee8f10ec"
      },
      "cell_type": "code",
      "outputs": [
        {
          "output_type": "execute_result",
          "data": {
            "text/plain": [
              "[1, 2, 3, 4, 5, 6]"
            ]
          },
          "metadata": {},
          "execution_count": 92
        }
      ],
      "execution_count": 92,
      "source": [
        "[1, 2, 3] + [4, 5, 6]"
      ]
    },
    {
      "metadata": {
        "id": "pjpmzj2R0Mbq"
      },
      "cell_type": "markdown",
      "source": [
        "We can also use the multiplication to repeat values in a list (only works with integers)."
      ]
    },
    {
      "metadata": {
        "colab": {
          "base_uri": "https://localhost:8080/"
        },
        "id": "c7ztJaMd0Mbq",
        "outputId": "a803ce1b-a12e-43ef-f447-2946bb1fad7e"
      },
      "cell_type": "code",
      "outputs": [
        {
          "output_type": "execute_result",
          "data": {
            "text/plain": [
              "['Hey', 'Hey', 'Hey', 'Hey', 'Hey']"
            ]
          },
          "metadata": {},
          "execution_count": 93
        }
      ],
      "execution_count": 93,
      "source": [
        "['Hey'] * 5"
      ]
    },
    {
      "metadata": {
        "id": "CPshA-li0Mbq"
      },
      "cell_type": "markdown",
      "source": [
        "We can also use `in` / `not in` with lists."
      ]
    },
    {
      "metadata": {
        "id": "s5exLley0Mbq"
      },
      "cell_type": "markdown",
      "source": [
        ">Check if `10` is in `list_greeting`."
      ]
    },
    {
      "metadata": {
        "colab": {
          "base_uri": "https://localhost:8080/"
        },
        "id": "7QuaM7580Mbr",
        "outputId": "8fdb2604-bc8e-4545-efe4-b96c5272e356"
      },
      "cell_type": "code",
      "outputs": [
        {
          "output_type": "execute_result",
          "data": {
            "text/plain": [
              "False"
            ]
          },
          "metadata": {},
          "execution_count": 95
        }
      ],
      "execution_count": 95,
      "source": [
        "10 in list_greeting"
      ]
    },
    {
      "metadata": {
        "colab": {
          "base_uri": "https://localhost:8080/"
        },
        "id": "tWq3lDC00Mbr",
        "outputId": "c2b7fc86-896b-464c-d059-a243a71ddbdb"
      },
      "cell_type": "code",
      "outputs": [
        {
          "output_type": "stream",
          "name": "stdout",
          "text": [
            "10 in list_greeting"
          ]
        }
      ],
      "execution_count": 96,
      "source": [
        "!cat solutions/01_28.py"
      ]
    },
    {
      "metadata": {
        "id": "N807WkC80Mbr"
      },
      "cell_type": "markdown",
      "source": [
        ">Check if 'Ole' is not in list_greeting."
      ]
    },
    {
      "metadata": {
        "colab": {
          "base_uri": "https://localhost:8080/"
        },
        "id": "Y7XiLbAi0Mbr",
        "outputId": "1f54589e-5fc7-4929-f0ec-8d3778bbe934"
      },
      "cell_type": "code",
      "outputs": [
        {
          "output_type": "execute_result",
          "data": {
            "text/plain": [
              "True"
            ]
          },
          "metadata": {},
          "execution_count": 97
        }
      ],
      "execution_count": 97,
      "source": [
        "'Ole' not in list_greeting"
      ]
    },
    {
      "metadata": {
        "colab": {
          "base_uri": "https://localhost:8080/"
        },
        "id": "KSXcdRXL0Mbs",
        "outputId": "034d3040-d76b-4bb4-cb83-139685d19a66"
      },
      "cell_type": "code",
      "outputs": [
        {
          "output_type": "stream",
          "name": "stdout",
          "text": [
            "\"Ole\" not in list_greeting"
          ]
        }
      ],
      "execution_count": 98,
      "source": [
        "!cat solutions/01_29.py"
      ]
    },
    {
      "metadata": {
        "id": "68gGZQs90Mbs"
      },
      "cell_type": "markdown",
      "source": [
        "---\n",
        "\n",
        "<div class=\"alert alert-block alert-warning\" style=\"padding: 0px; padding-left: 20px; padding-top: 5px;\"><h2 style=\"color: #301E40\">\n",
        "Built-in functions\n",
        "</h2><br>\n",
        "</div>"
      ]
    },
    {
      "metadata": {
        "id": "kLt7TB-g0Mbs"
      },
      "cell_type": "markdown",
      "source": [
        "You've seen your first function at the very beginning of this notebook, i.e. `print(\"Hello World\")`. Functions are a way for you to write reusable code. In the case before `print()` is Python's way for you to show an output you provide. However, there are many other useful functions that Python comes with, that are provided by other libraries, or written by you yourself to save you from repeating some code.\n",
        "\n",
        "The functions that are always available in Python can be found here:\n",
        "https://docs.python.org/3/library/functions.html"
      ]
    },
    {
      "metadata": {
        "id": "pN2mCUVq0Mbs"
      },
      "cell_type": "markdown",
      "source": [
        ">Print *'Here we are!'*."
      ]
    },
    {
      "metadata": {
        "colab": {
          "base_uri": "https://localhost:8080/"
        },
        "id": "dO1fPMG-0Mbs",
        "outputId": "2d573001-c899-4271-bf57-a6b61b407723"
      },
      "cell_type": "code",
      "outputs": [
        {
          "output_type": "stream",
          "name": "stdout",
          "text": [
            "Here we are!\n"
          ]
        }
      ],
      "execution_count": 100,
      "source": [
        "print('Here we are!')"
      ]
    },
    {
      "metadata": {
        "colab": {
          "base_uri": "https://localhost:8080/"
        },
        "id": "e09DdHNv0Mbs",
        "outputId": "6ec64812-f2f1-4199-a444-b95e64042211"
      },
      "cell_type": "code",
      "outputs": [
        {
          "output_type": "stream",
          "name": "stdout",
          "text": [
            "print(\"Here we are!\")"
          ]
        }
      ],
      "execution_count": 101,
      "source": [
        "!cat solutions/01_30.py"
      ]
    },
    {
      "metadata": {
        "id": "9nGO2LbF0Mbt"
      },
      "cell_type": "markdown",
      "source": [
        ">Compute the length of the string variable `snakes`."
      ]
    },
    {
      "metadata": {
        "id": "MHX8HYea0Mbt"
      },
      "cell_type": "code",
      "outputs": [],
      "execution_count": 102,
      "source": [
        "snakes = \"🐍🐍🐍🐍🐍🐍🐍🐍🐍🐍🐍🐍🐍🐍🐍🐍🐍🐍🐍🐍🐍🐍🐍🐍🐍🐍🐍🐍🐍🐍🐍🐍🐍🐍🐍🐍🐍🐍🐍🐍🐍🐍\""
      ]
    },
    {
      "metadata": {
        "colab": {
          "base_uri": "https://localhost:8080/"
        },
        "id": "mb1kyJ5B0Mbt",
        "outputId": "2ed7c255-4e79-4063-bd0e-b43c3e3f03c6"
      },
      "cell_type": "code",
      "outputs": [
        {
          "output_type": "execute_result",
          "data": {
            "text/plain": [
              "42"
            ]
          },
          "metadata": {},
          "execution_count": 103
        }
      ],
      "execution_count": 103,
      "source": [
        "len(snakes)"
      ]
    },
    {
      "metadata": {
        "colab": {
          "base_uri": "https://localhost:8080/"
        },
        "id": "lYGVlLWU0Mbt",
        "outputId": "8c74bafb-fa43-4ed0-b78a-8d844878f576"
      },
      "cell_type": "code",
      "outputs": [
        {
          "output_type": "stream",
          "name": "stdout",
          "text": [
            "len(snakes)"
          ]
        }
      ],
      "execution_count": 104,
      "source": [
        "!cat solutions/01_31.py"
      ]
    },
    {
      "metadata": {
        "id": "yejPuzwh0Mbt"
      },
      "cell_type": "markdown",
      "source": [
        ">Compute the length of list_greeting."
      ]
    },
    {
      "metadata": {
        "colab": {
          "base_uri": "https://localhost:8080/"
        },
        "id": "V-7I95n50Mbt",
        "outputId": "ccb8a291-145a-44bd-bd0c-3e64e2c7f5bc"
      },
      "cell_type": "code",
      "outputs": [
        {
          "output_type": "execute_result",
          "data": {
            "text/plain": [
              "6"
            ]
          },
          "metadata": {},
          "execution_count": 105
        }
      ],
      "execution_count": 105,
      "source": [
        "len(list_greeting)"
      ]
    },
    {
      "metadata": {
        "colab": {
          "base_uri": "https://localhost:8080/"
        },
        "id": "rq5jIhYh0Mbu",
        "outputId": "43058015-1cb2-4339-d61e-232368a49a6e"
      },
      "cell_type": "code",
      "outputs": [
        {
          "output_type": "stream",
          "name": "stdout",
          "text": [
            "len(list_greeting)"
          ]
        }
      ],
      "execution_count": 106,
      "source": [
        "!cat solutions/01_32.py"
      ]
    },
    {
      "metadata": {
        "id": "GrhGl-vR0Mbu"
      },
      "cell_type": "markdown",
      "source": [
        ">Work out the maximum of 1, 2, 3, 4 and 5."
      ]
    },
    {
      "metadata": {
        "colab": {
          "base_uri": "https://localhost:8080/"
        },
        "id": "S_tyFI0F0Mbu",
        "outputId": "03988233-b5de-4228-8071-bcbde2731816"
      },
      "cell_type": "code",
      "outputs": [
        {
          "output_type": "execute_result",
          "data": {
            "text/plain": [
              "5"
            ]
          },
          "metadata": {},
          "execution_count": 107
        }
      ],
      "execution_count": 107,
      "source": [
        "max([1, 2, 3, 4, 5])"
      ]
    },
    {
      "metadata": {
        "colab": {
          "base_uri": "https://localhost:8080/"
        },
        "id": "h7D2ptuW0Mbu",
        "outputId": "ee459b2d-d047-4be8-dcbf-8e1772899cfc"
      },
      "cell_type": "code",
      "outputs": [
        {
          "output_type": "stream",
          "name": "stdout",
          "text": [
            "max(1, 2, 3, 4, 5)"
          ]
        }
      ],
      "execution_count": 108,
      "source": [
        "!cat solutions/01_33.py"
      ]
    },
    {
      "metadata": {
        "id": "694INalX0Mbu"
      },
      "cell_type": "markdown",
      "source": [
        ">Round the number 123.45 to the nearest integer."
      ]
    },
    {
      "metadata": {
        "colab": {
          "base_uri": "https://localhost:8080/"
        },
        "id": "cJPhhVJP0Mb2",
        "outputId": "07d88279-0ecf-4ab0-dfa8-b460f1ec61eb"
      },
      "cell_type": "code",
      "outputs": [
        {
          "output_type": "execute_result",
          "data": {
            "text/plain": [
              "123"
            ]
          },
          "metadata": {},
          "execution_count": 109
        }
      ],
      "execution_count": 109,
      "source": [
        "round(123.45)"
      ]
    },
    {
      "metadata": {
        "colab": {
          "base_uri": "https://localhost:8080/"
        },
        "id": "qqzfRy8R0Mb3",
        "outputId": "1144b0de-e579-4d61-d2c5-587cb2c1fa16"
      },
      "cell_type": "code",
      "outputs": [
        {
          "output_type": "stream",
          "name": "stdout",
          "text": [
            "round(123.45)"
          ]
        }
      ],
      "execution_count": 110,
      "source": [
        "!cat solutions/01_34.py"
      ]
    },
    {
      "metadata": {
        "id": "wUUYoDG_0Mb4"
      },
      "cell_type": "markdown",
      "source": [
        ">Round the number 123.45 to 1 decimal place."
      ]
    },
    {
      "metadata": {
        "colab": {
          "base_uri": "https://localhost:8080/"
        },
        "id": "pkDtdumh0Mb5",
        "outputId": "d457b42f-e412-4545-abdf-692643627b3d"
      },
      "cell_type": "code",
      "outputs": [
        {
          "output_type": "execute_result",
          "data": {
            "text/plain": [
              "123.5"
            ]
          },
          "metadata": {},
          "execution_count": 111
        }
      ],
      "execution_count": 111,
      "source": [
        "round(123.45, ndigits = 1)"
      ]
    },
    {
      "metadata": {
        "colab": {
          "base_uri": "https://localhost:8080/"
        },
        "id": "73C_Ghc30Mb5",
        "outputId": "8dabdec2-08b6-4d2f-b0d3-15120627b07b"
      },
      "cell_type": "code",
      "outputs": [
        {
          "output_type": "stream",
          "name": "stdout",
          "text": [
            "round(123.45, 1)"
          ]
        }
      ],
      "execution_count": 112,
      "source": [
        "!cat solutions/01_35.py"
      ]
    },
    {
      "metadata": {
        "id": "hw_hwp3J0Mb6"
      },
      "cell_type": "markdown",
      "source": [
        "---\n",
        "\n",
        "<div class=\"alert alert-block alert-warning\" style=\"padding: 0px; padding-left: 20px; padding-top: 5px;\"><h2 style=\"color: #301E40\">\n",
        "Methods\n",
        "</h2><br>\n",
        "</div>"
      ]
    },
    {
      "metadata": {
        "id": "B96rPK830Mb6"
      },
      "cell_type": "markdown",
      "source": [
        "A method is a function associated to an object. Basically, it provides a way for an object to know functions about themselves.\n",
        "\n",
        "For example, we can change the string `s` to upper case using the `.upper()` method."
      ]
    },
    {
      "metadata": {
        "colab": {
          "base_uri": "https://localhost:8080/",
          "height": 35
        },
        "id": "2sNOZsdZ0Mb6",
        "outputId": "7921e1e0-aa31-42e8-d74d-26072d61cccc"
      },
      "cell_type": "code",
      "outputs": [
        {
          "output_type": "execute_result",
          "data": {
            "text/plain": [
              "'I AM A PYTHONISTA.'"
            ],
            "application/vnd.google.colaboratory.intrinsic+json": {
              "type": "string"
            }
          },
          "metadata": {},
          "execution_count": 113
        }
      ],
      "execution_count": 113,
      "source": [
        "s.upper()"
      ]
    },
    {
      "metadata": {
        "id": "rU6Kocrb0Mb6"
      },
      "cell_type": "markdown",
      "source": [
        ">Using the append method, add 'Aloha' to list_greeting."
      ]
    },
    {
      "metadata": {
        "id": "OhuP5aSj0Mb6"
      },
      "cell_type": "code",
      "outputs": [],
      "execution_count": 115,
      "source": [
        "list_greeting.append('Aloha')"
      ]
    },
    {
      "metadata": {
        "colab": {
          "base_uri": "https://localhost:8080/"
        },
        "id": "mRxlEtkU0Mb6",
        "outputId": "83f7bf2d-6a24-429f-cdc4-4c6e174ef9bf"
      },
      "cell_type": "code",
      "outputs": [
        {
          "output_type": "stream",
          "name": "stdout",
          "text": [
            "list_greeting.append(\"Aloha\")"
          ]
        }
      ],
      "execution_count": 116,
      "source": [
        "!cat solutions/01_36.py"
      ]
    },
    {
      "metadata": {
        "id": "-fEyHe9d0Mb6"
      },
      "cell_type": "markdown",
      "source": [
        "---\n",
        "\n",
        "<div class=\"alert alert-block alert-warning\" style=\"padding: 0px; padding-left: 20px; padding-top: 5px;\"><h2 style=\"color: #301E40\">\n",
        "Importing modules\n",
        "</h2><br>\n",
        "</div>"
      ]
    },
    {
      "metadata": {
        "id": "gCUNweT50Mb7"
      },
      "cell_type": "markdown",
      "source": [
        "We can import modules (Python code that can define functions, classes and variables).\n",
        "\n",
        "Usually, we write all the imports at the beginning of a Python program or notebook."
      ]
    },
    {
      "metadata": {
        "id": "wHoJH9o40Mb7"
      },
      "cell_type": "markdown",
      "source": [
        "**A small warning**  \n",
        "Ensure you trust the packages you're installing!\n",
        "\n",
        "Ask:\n",
        "1. Who wrote this code?\n",
        "2. Do I trust giving their code access to my computer?\n",
        "3. `pip install` especially can be a little more dangerous, anyone can upload something to the Python Package Index (\"PyPI\" for short), which is where `pip` installs from. So be very careful especially as the smallest typo can be a security risk!\n",
        "4. `conda install` is more of a walled garden and as such better positioned for enterprise usage."
      ]
    },
    {
      "metadata": {
        "id": "d3Sbnutr0Mb7"
      },
      "cell_type": "markdown",
      "source": [
        "> From the **math** library, import **sqrt** to work out the square root of **24 336**."
      ]
    },
    {
      "metadata": {
        "colab": {
          "base_uri": "https://localhost:8080/"
        },
        "id": "NJl4DmMQ0Mb7",
        "outputId": "c508a1b6-ff07-419b-d72b-3d1d1e9ccb92"
      },
      "cell_type": "code",
      "outputs": [
        {
          "output_type": "execute_result",
          "data": {
            "text/plain": [
              "156.0"
            ]
          },
          "metadata": {},
          "execution_count": 117
        }
      ],
      "execution_count": 117,
      "source": [
        "from math import sqrt\n",
        "sqrt(24336)"
      ]
    },
    {
      "metadata": {
        "colab": {
          "base_uri": "https://localhost:8080/"
        },
        "id": "HJsleelF0Mb7",
        "outputId": "68939ef2-672c-46ae-bf3c-7e46dbb974c3"
      },
      "cell_type": "code",
      "outputs": [
        {
          "output_type": "stream",
          "name": "stdout",
          "text": [
            "from math import sqrt\n",
            "\n",
            "sqrt(24336)"
          ]
        }
      ],
      "execution_count": 118,
      "source": [
        "!cat solutions/01_37.py"
      ]
    },
    {
      "metadata": {
        "id": "86HGkoHt0Mb7"
      },
      "cell_type": "markdown",
      "source": [
        "Python programmers really are lazy! (Or obsessive about productivity, take your pick!)\n",
        "\n",
        "Hence, you can define aliases for imports. The `as np` is two characters long, whereas `numpy` is five. It's less to type, when you write long programs.\n",
        "\n",
        "> Import `numpy as np` and try **`np.sin(np.pi/4)`**."
      ]
    },
    {
      "metadata": {
        "colab": {
          "base_uri": "https://localhost:8080/"
        },
        "id": "Y7eyIqYf0Mb7",
        "outputId": "d603d0d6-a8f8-4bfc-a401-d137672c81b4"
      },
      "cell_type": "code",
      "outputs": [
        {
          "output_type": "execute_result",
          "data": {
            "text/plain": [
              "np.float64(0.7071067811865475)"
            ]
          },
          "metadata": {},
          "execution_count": 119
        }
      ],
      "execution_count": 119,
      "source": [
        "import numpy as np\n",
        "np.sin(np.pi/4)"
      ]
    },
    {
      "metadata": {
        "colab": {
          "base_uri": "https://localhost:8080/"
        },
        "id": "gbiwPFsb0Mb7",
        "outputId": "3017d044-e383-4c4a-df3e-27637139dca6"
      },
      "cell_type": "code",
      "outputs": [
        {
          "output_type": "stream",
          "name": "stdout",
          "text": [
            "import numpy as np\n",
            "\n",
            "np.sin(np.pi / 4)"
          ]
        }
      ],
      "execution_count": 120,
      "source": [
        "!cat solutions/01_38.py"
      ]
    },
    {
      "cell_type": "markdown",
      "metadata": {
        "id": "Tvvai-jc0Mb7"
      },
      "source": [
        "---\n",
        "\n",
        "# 🎉 Congratulations, you made it to the end of Notebook 1! 🎉\n",
        "Take a well deserved break, brew a relaxing beverage of your choice or go have a snack, maybe share a picture of your snack/drink in the #random channel, we love to see pictures from everyone attending around the world. ☕️\n",
        "\n",
        "![](https://media0.giphy.com/media/3otPoS81loriI9sO8o/200.gif)\n"
      ]
    }
  ],
  "metadata": {
    "kernelspec": {
      "display_name": "Python (beginners-data-workshop)",
      "language": "python",
      "name": "beginners-data-workshop"
    },
    "language_info": {
      "codemirror_mode": {
        "name": "ipython",
        "version": 3
      },
      "file_extension": ".py",
      "mimetype": "text/x-python",
      "name": "python",
      "nbconvert_exporter": "python",
      "pygments_lexer": "ipython3",
      "version": "3.12.3"
    },
    "colab": {
      "provenance": []
    }
  },
  "nbformat": 4,
  "nbformat_minor": 0
}