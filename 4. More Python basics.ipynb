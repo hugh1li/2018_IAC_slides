{
  "cells": [
    {
      "cell_type": "markdown",
      "metadata": {
        "id": "uQ0ygKv0vc71"
      },
      "source": [
        "<div class=\"alert alert-block alert-info\" style=\"background-color: #301E40; border: 0px; -moz-border-radius: 10px; -webkit-border-radius: 10px;\">\n",
        "<br/><br/>\n",
        "<h1 style=\"font-size: 45px; color: white; align: center;\"><center>\n",
        "<img src=\"https://raw.githubusercontent.com/HumbleData/beginners-data-workshop/master/media/humble-data-logo-white-transparent.png\" width=\"250px\" /><br/><br/>\n",
        "More Python\n",
        "</center></h1>\n",
        "</div>"
      ]
    },
    {
      "cell_type": "markdown",
      "metadata": {
        "id": "XziTamcBvc7_"
      },
      "source": [
        "***Note***: This notebook contains solution cells with (a) solution. Remember there is not only one solution to a problem!  \n",
        "You will recognise these cells as they start with **# %**.  \n",
        "If you would like to see the solution, you will have to remove the **#** (which can be done by using **Ctrl** and **?**) and run the cell. If you want to run the solution code, you will have to run the cell again."
      ]
    },
    {
      "cell_type": "code",
      "source": [
        "!git clone https://github.com/HumbleData/beginners-data-workshop.git\n",
        "!cp -r beginners-data-workshop/media/ .\n",
        "!cp -r beginners-data-workshop/data/ .\n",
        "!cp -r beginners-data-workshop/solutions/ .\n",
        "!rm -r beginners-data-workshop/"
      ],
      "metadata": {
        "id": "JvP859UVvjd6",
        "outputId": "a43dcfa9-5fcc-46f7-cb66-9a324c3c9712",
        "colab": {
          "base_uri": "https://localhost:8080/"
        }
      },
      "execution_count": 1,
      "outputs": [
        {
          "output_type": "stream",
          "name": "stdout",
          "text": [
            "Cloning into 'beginners-data-workshop'...\n",
            "remote: Enumerating objects: 951, done.\u001b[K\n",
            "remote: Counting objects: 100% (943/943), done.\u001b[K\n",
            "remote: Compressing objects: 100% (372/372), done.\u001b[K\n",
            "remote: Total 951 (delta 434), reused 871 (delta 391), pack-reused 8 (from 1)\u001b[K\n",
            "Receiving objects: 100% (951/951), 4.58 MiB | 17.38 MiB/s, done.\n",
            "Resolving deltas: 100% (434/434), done.\n"
          ]
        }
      ]
    },
    {
      "cell_type": "markdown",
      "metadata": {
        "id": "Ugjvn8S9vc8A"
      },
      "source": [
        "---\n",
        "\n",
        "<div class=\"alert alert-block alert-warning\" style=\"padding: 0px; padding-left: 20px; padding-top: 5px;\"><h2 style=\"color: #301E40\">\n",
        "Dictionaries\n",
        "</h2><br>\n",
        "</div>"
      ]
    },
    {
      "cell_type": "markdown",
      "metadata": {
        "id": "FZRIq1y2vc8B"
      },
      "source": [
        "**A dictionary is formed of value-key pairs, separated by commas, enclosed in curly brackets ( {} ).  \n",
        "The key and the value are separated by a column ( : ), i.e. key:value.**"
      ]
    },
    {
      "cell_type": "code",
      "execution_count": 2,
      "metadata": {
        "id": "weWz2TZUvc8D"
      },
      "outputs": [],
      "source": [
        "dict_greeting = {'Namibia':'Hallo', 'France':'Bonjour', 'Spain':'Ola', 'UK':'Hello', 'Italy':'Ciao'}"
      ]
    },
    {
      "cell_type": "code",
      "execution_count": 3,
      "metadata": {
        "id": "9Upe9Evgvc8G",
        "outputId": "2b70cb3a-848f-4677-e4f8-286d58addfa6",
        "colab": {
          "base_uri": "https://localhost:8080/"
        }
      },
      "outputs": [
        {
          "output_type": "execute_result",
          "data": {
            "text/plain": [
              "{'Namibia': 'Hallo',\n",
              " 'France': 'Bonjour',\n",
              " 'Spain': 'Ola',\n",
              " 'UK': 'Hello',\n",
              " 'Italy': 'Ciao'}"
            ]
          },
          "metadata": {},
          "execution_count": 3
        }
      ],
      "source": [
        "dict_greeting   # there is no order in a dictionary"
      ]
    },
    {
      "cell_type": "markdown",
      "metadata": {
        "id": "H_XlmXWKvc8H"
      },
      "source": [
        "**We can access values using the keys between square brackets.**  \n",
        ">Get the greeting from Italy (use square brackets)."
      ]
    },
    {
      "cell_type": "code",
      "execution_count": 4,
      "metadata": {
        "id": "9v01i476vc8I",
        "outputId": "226d0b63-68a2-45d9-9dfb-0782038a1db4",
        "colab": {
          "base_uri": "https://localhost:8080/",
          "height": 35
        }
      },
      "outputs": [
        {
          "output_type": "execute_result",
          "data": {
            "text/plain": [
              "'Ciao'"
            ],
            "application/vnd.google.colaboratory.intrinsic+json": {
              "type": "string"
            }
          },
          "metadata": {},
          "execution_count": 4
        }
      ],
      "source": [
        "dict_greeting['Italy']"
      ]
    },
    {
      "cell_type": "code",
      "execution_count": 4,
      "metadata": {
        "id": "GBlalSzovc8K",
        "outputId": "35047e8f-2682-49f8-8603-1f5e0999e41d",
        "colab": {
          "base_uri": "https://localhost:8080/"
        }
      },
      "outputs": [
        {
          "output_type": "stream",
          "name": "stdout",
          "text": [
            "dict_greeting[\"Italy\"]"
          ]
        }
      ],
      "source": [
        "!cat solutions/04_01.py"
      ]
    },
    {
      "cell_type": "markdown",
      "metadata": {
        "id": "tQhu-q0Tvc8K"
      },
      "source": [
        "**Keys are immutables (i.e. can't be changed) but values can be updated.**  \n",
        ">Replace the UK greeting with 'Good Morning'.  \n",
        ">Print the dictionary."
      ]
    },
    {
      "cell_type": "code",
      "execution_count": 5,
      "metadata": {
        "id": "wREodUurvc8L",
        "outputId": "6e9f1653-702a-4e0b-bc20-4c203711562a",
        "colab": {
          "base_uri": "https://localhost:8080/"
        }
      },
      "outputs": [
        {
          "output_type": "stream",
          "name": "stdout",
          "text": [
            "{'Namibia': 'Hallo', 'France': 'Bonjour', 'Spain': 'Ola', 'UK': 'Good Morning', 'Italy': 'Ciao'}\n"
          ]
        }
      ],
      "source": [
        "dict_greeting['UK'] = \"Good Morning\"\n",
        "print(dict_greeting)"
      ]
    },
    {
      "cell_type": "code",
      "execution_count": 10,
      "metadata": {
        "id": "YgUYuVdJvc8L",
        "outputId": "5ad02170-38ec-4275-dc45-438b2e4a7b3b",
        "colab": {
          "base_uri": "https://localhost:8080/"
        }
      },
      "outputs": [
        {
          "output_type": "stream",
          "name": "stdout",
          "text": [
            "dict_greeting[\"UK\"] = \"Good Morning\"\n",
            "print(dict_greeting)"
          ]
        }
      ],
      "source": [
        "!cat solutions/04_02.py"
      ]
    },
    {
      "cell_type": "markdown",
      "metadata": {
        "id": "OWgeou6vvc8L"
      },
      "source": [
        "**We can also add new key-value pairs.**  \n",
        ">Add the greeting of 'Hawaii' as 'Aloha'"
      ]
    },
    {
      "cell_type": "code",
      "execution_count": 6,
      "metadata": {
        "id": "kauw1JEovc8L",
        "outputId": "9695ac64-5a5b-41b6-f7b5-e27d5fabf2c3",
        "colab": {
          "base_uri": "https://localhost:8080/"
        }
      },
      "outputs": [
        {
          "output_type": "stream",
          "name": "stdout",
          "text": [
            "{'Namibia': 'Hallo', 'France': 'Bonjour', 'Spain': 'Ola', 'UK': 'Good Morning', 'Italy': 'Ciao', 'Hawaii': 'Aloha'}\n"
          ]
        }
      ],
      "source": [
        "dict_greeting['Hawaii'] = \"Aloha\"\n",
        "print(dict_greeting)"
      ]
    },
    {
      "cell_type": "code",
      "execution_count": 7,
      "metadata": {
        "id": "RDKUgpMgvc8L",
        "outputId": "22461c3e-fd98-404e-d0b4-1c7a1dd23d79",
        "colab": {
          "base_uri": "https://localhost:8080/"
        }
      },
      "outputs": [
        {
          "output_type": "stream",
          "name": "stdout",
          "text": [
            "dict_greeting[\"Hawaii\"] = \"Aloha\"\n",
            "print(dict_greeting)"
          ]
        }
      ],
      "source": [
        "!cat solutions/04_03.py"
      ]
    },
    {
      "cell_type": "markdown",
      "metadata": {
        "id": "c5_-qMvNvc8M"
      },
      "source": [
        "---\n",
        "\n",
        "<div class=\"alert alert-block alert-warning\" style=\"padding: 0px; padding-left: 20px; padding-top: 5px;\"><h2 style=\"color: #301E40\">\n",
        "Sets\n",
        "</h2><br>\n",
        "</div>"
      ]
    },
    {
      "cell_type": "markdown",
      "metadata": {
        "id": "EoZXvUDBvc8M"
      },
      "source": [
        "**A set is a collection of unique, unordered and un-indexed elements.**"
      ]
    },
    {
      "cell_type": "code",
      "execution_count": 3,
      "metadata": {
        "id": "D5gdxd9xvc8M",
        "outputId": "d4e95c79-5100-48da-d2f8-3b6a200b316d",
        "colab": {
          "base_uri": "https://localhost:8080/"
        }
      },
      "outputs": [
        {
          "output_type": "execute_result",
          "data": {
            "text/plain": [
              "{'I', 'me', 'myself'}"
            ]
          },
          "metadata": {},
          "execution_count": 3
        }
      ],
      "source": [
        "important_set = set(['me','myself', 'me', 'I'])\n",
        "important_set"
      ]
    },
    {
      "cell_type": "markdown",
      "metadata": {
        "id": "B2vBdVuZvc8M"
      },
      "source": [
        "We can add an item to a set using the ***add*** method..."
      ]
    },
    {
      "cell_type": "code",
      "execution_count": 4,
      "metadata": {
        "id": "hadT1SBHvc8M",
        "outputId": "ccdc130c-6ded-43f1-96dd-11d004cc2a1c",
        "colab": {
          "base_uri": "https://localhost:8080/"
        }
      },
      "outputs": [
        {
          "output_type": "execute_result",
          "data": {
            "text/plain": [
              "{'I', 'me', 'myself', 'you'}"
            ]
          },
          "metadata": {},
          "execution_count": 4
        }
      ],
      "source": [
        "important_set.add('you')\n",
        "important_set"
      ]
    },
    {
      "cell_type": "markdown",
      "metadata": {
        "id": "phynTIn3vc8M"
      },
      "source": [
        "...or multiple items using the ***update*** method."
      ]
    },
    {
      "cell_type": "code",
      "execution_count": 5,
      "metadata": {
        "id": "YbxS5qU0vc8M",
        "outputId": "23d9bc7a-4564-4c8e-f39c-f37e74749211",
        "colab": {
          "base_uri": "https://localhost:8080/"
        }
      },
      "outputs": [
        {
          "output_type": "execute_result",
          "data": {
            "text/plain": [
              "{'I', 'all of you', 'me', 'myself', 'other people', 'you'}"
            ]
          },
          "metadata": {},
          "execution_count": 5
        }
      ],
      "source": [
        "other_set = {'me', 'all of you', 'other people'}\n",
        "important_set.update(other_set)\n",
        "important_set"
      ]
    },
    {
      "cell_type": "markdown",
      "metadata": {
        "id": "pD6WSZKevc8N"
      },
      "source": [
        "You can find the methods for set [here](https://docs.python.org/2/library/sets.html).  \n",
        "For example, you can get the intersection of two sets."
      ]
    },
    {
      "cell_type": "code",
      "execution_count": 6,
      "metadata": {
        "id": "n_69_VQtvc8N",
        "outputId": "fa381179-0135-4544-dbe8-83f128a91e3e",
        "colab": {
          "base_uri": "https://localhost:8080/"
        }
      },
      "outputs": [
        {
          "output_type": "execute_result",
          "data": {
            "text/plain": [
              "{15, 30}"
            ]
          },
          "metadata": {},
          "execution_count": 6
        }
      ],
      "source": [
        "set_1 = {3, 6, 9, 12, 15, 18, 21, 24, 27, 30}\n",
        "set_2 = {5, 10, 15, 20, 25, 30}\n",
        "set_3 = set_1.intersection(set_2)\n",
        "set_3"
      ]
    },
    {
      "cell_type": "markdown",
      "metadata": {
        "id": "5Z9kdRsOvc8N"
      },
      "source": [
        "---\n",
        "\n",
        "<div class=\"alert alert-block alert-warning\" style=\"padding: 0px; padding-left: 20px; padding-top: 5px;\"><h2 style=\"color: #301E40\">\n",
        "If - Elif - Else\n",
        "</h2><br>\n",
        "</div>"
      ]
    },
    {
      "cell_type": "markdown",
      "metadata": {
        "id": "g7thDLrZvc8N"
      },
      "source": [
        "\n",
        "Let's write a short program with an ***if*** statement to help us decide if a name is long or not (6 is completely arbitrary ;-)).  \n",
        "We have to respect blocks  of codes / indentation."
      ]
    },
    {
      "cell_type": "code",
      "execution_count": null,
      "metadata": {
        "id": "vUCze1Pevc8N"
      },
      "outputs": [],
      "source": [
        "name = input('What is your name? ')\n",
        "\n",
        "if len(name) > 6:\n",
        "    print('You have a long name.')\n",
        "else:\n",
        "    print('You have a short name.')"
      ]
    },
    {
      "cell_type": "markdown",
      "metadata": {
        "id": "iqiTK2vuvc8N"
      },
      "source": [
        ">Write an ***If - Elif - Else*** statement printing 'Python' if x is positive, else 'sunshine' if y is equal to 2, else 'data' if z is a multiple of 3, else 'Why?'.   \n",
        "You can test it with different values of x, y and z."
      ]
    },
    {
      "cell_type": "code",
      "execution_count": 8,
      "metadata": {
        "id": "TTfnG70lvc8O",
        "outputId": "9d5cbac1-c22b-4b50-ff18-a73960233284",
        "colab": {
          "base_uri": "https://localhost:8080/",
          "height": 106
        }
      },
      "outputs": [
        {
          "output_type": "error",
          "ename": "SyntaxError",
          "evalue": "invalid syntax (<ipython-input-8-c38b9083056e>, line 7)",
          "traceback": [
            "\u001b[0;36m  File \u001b[0;32m\"<ipython-input-8-c38b9083056e>\"\u001b[0;36m, line \u001b[0;32m7\u001b[0m\n\u001b[0;31m    elif y == 2:\u001b[0m\n\u001b[0m    ^\u001b[0m\n\u001b[0;31mSyntaxError\u001b[0m\u001b[0;31m:\u001b[0m invalid syntax\n"
          ]
        }
      ],
      "source": [
        "x= 10\n",
        "y= 20\n",
        "z= 30\n",
        "\n",
        "if x > 0:\n",
        "  print('Python')\n",
        "  elif y == 2:\n",
        "    print('sunshine')\n",
        "    elif z%3 == 0:\n",
        "      print('data')\n",
        "      else:\n",
        "        print('Why')\n",
        "\n",
        "\n"
      ]
    },
    {
      "cell_type": "code",
      "execution_count": null,
      "metadata": {
        "id": "ZMEqU6gnvc8O"
      },
      "outputs": [],
      "source": [
        "# !cat solutions/04_04.py"
      ]
    },
    {
      "cell_type": "markdown",
      "metadata": {
        "id": "nFC1tJ3Cvc8O"
      },
      "source": [
        "---\n",
        "\n",
        "<div class=\"alert alert-block alert-warning\" style=\"padding: 0px; padding-left: 20px; padding-top: 5px;\"><h2 style=\"color: #301E40\">\n",
        "Using \"and\" to check for None\n",
        "</h2><br>\n",
        "</div>"
      ]
    },
    {
      "cell_type": "markdown",
      "metadata": {
        "id": "tvD5zyDnvc8O"
      },
      "source": [
        "Sometimes we have missing data (which is None or np.nan) and will cause error in the check condition. e.g. age > 18 while age is missing or NaN) However, there's a trick. Since in the `and` operation, the second argument will not be checked if the 1st one is False (the result will be False anyway) so by checking if the 1st argument is valid or not we can avoid the error. For example:"
      ]
    },
    {
      "cell_type": "code",
      "execution_count": null,
      "metadata": {
        "id": "zDTHb8GDvc8O"
      },
      "outputs": [],
      "source": [
        "age = None\n",
        "age > 18 # you will get an error"
      ]
    },
    {
      "cell_type": "code",
      "execution_count": null,
      "metadata": {
        "id": "zi3g6bNZvc8O"
      },
      "outputs": [],
      "source": [
        "age = None\n",
        "(age is not None) and (age > 18) # no error"
      ]
    },
    {
      "cell_type": "markdown",
      "metadata": {
        "id": "8R5JTWn3vc8O"
      },
      "source": [
        "The advantage of doing it this way is that we will have simpler code and a less indented `if` structure"
      ]
    },
    {
      "cell_type": "code",
      "execution_count": null,
      "metadata": {
        "id": "hWzqz5O0vc8O"
      },
      "outputs": [],
      "source": [
        "if age is not None:\n",
        "    if age > 18:\n",
        "        print(\"have beer\")\n",
        "\n",
        "# which is not as good as\n",
        "\n",
        "if (age is not None) and (age > 18):\n",
        "    print(\"have beer\")"
      ]
    },
    {
      "cell_type": "markdown",
      "metadata": {
        "id": "ouWjrerxvc8O"
      },
      "source": [
        "---\n",
        "\n",
        "<div class=\"alert alert-block alert-warning\" style=\"padding: 0px; padding-left: 20px; padding-top: 5px;\"><h2 style=\"color: #301E40\">\n",
        "Functions\n",
        "</h2><br>\n",
        "</div>"
      ]
    },
    {
      "cell_type": "markdown",
      "metadata": {
        "id": "-tRci0QQvc8O"
      },
      "source": [
        "**We can define our own functions with the keyword \"def\" followed by the name of the function and by parentheses with the parameter(s) inside.**  \n",
        "\n",
        "Using the list **list_greeting**, we can define a **is_greeting** function which will decide if a string is a greeting or not."
      ]
    },
    {
      "cell_type": "code",
      "execution_count": null,
      "metadata": {
        "id": "-BzMt3Rfvc8O"
      },
      "outputs": [],
      "source": [
        "list_greeting = ['Hallo', 'Bonjour', 'Ola', 'Hello', 'Ciao', 'Ave']\n",
        "\n",
        "def is_greeting(s):\n",
        "    \"\"\"Returns True if s is in list_greeting, else False.\"\"\"\n",
        "    if s in list_greeting:\n",
        "        return True\n",
        "    else:\n",
        "        return False"
      ]
    },
    {
      "cell_type": "markdown",
      "metadata": {
        "id": "kaCn7ZhMvc8V"
      },
      "source": [
        "We can now check if **Ola** and **Yo** are greetings."
      ]
    },
    {
      "cell_type": "code",
      "execution_count": null,
      "metadata": {
        "id": "0Zp4I7KMvc8V"
      },
      "outputs": [],
      "source": [
        "is_greeting('Ola')"
      ]
    },
    {
      "cell_type": "code",
      "execution_count": null,
      "metadata": {
        "id": "nTUeIav1vc8V"
      },
      "outputs": [],
      "source": [
        "is_greeting('Yo')"
      ]
    },
    {
      "cell_type": "markdown",
      "metadata": {
        "id": "qNtXRk0Pvc8V"
      },
      "source": [
        ">Get the documentation for the is_greeting function."
      ]
    },
    {
      "cell_type": "code",
      "execution_count": null,
      "metadata": {
        "id": "EJ3gmGFSvc8V"
      },
      "outputs": [],
      "source": []
    },
    {
      "cell_type": "code",
      "execution_count": null,
      "metadata": {
        "id": "kuagkU9Hvc8W"
      },
      "outputs": [],
      "source": [
        "# !cat solutions/04_05.py"
      ]
    },
    {
      "cell_type": "markdown",
      "metadata": {
        "id": "aMjXeL5avc8W"
      },
      "source": [
        ">Write a function that returns the input multiplied by 3 and increased by 10.\n",
        "\n",
        "Note: we call these inputs arguments."
      ]
    },
    {
      "cell_type": "code",
      "execution_count": null,
      "metadata": {
        "id": "V4aJWHSyvc8W"
      },
      "outputs": [],
      "source": []
    },
    {
      "cell_type": "code",
      "execution_count": null,
      "metadata": {
        "id": "lpSyxiKfvc8W"
      },
      "outputs": [],
      "source": [
        "# !cat solutions/04_06.py\n"
      ]
    }
  ],
  "metadata": {
    "kernelspec": {
      "display_name": "Python 3 (system-wide)",
      "language": "python",
      "name": "python3"
    },
    "language_info": {
      "codemirror_mode": {
        "name": "ipython",
        "version": 3
      },
      "file_extension": ".py",
      "mimetype": "text/x-python",
      "name": "python",
      "nbconvert_exporter": "python",
      "pygments_lexer": "ipython3",
      "version": "3.8.5"
    },
    "colab": {
      "provenance": []
    }
  },
  "nbformat": 4,
  "nbformat_minor": 0
}